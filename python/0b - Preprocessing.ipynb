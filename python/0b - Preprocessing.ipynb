{
 "cells": [
  {
   "cell_type": "code",
   "execution_count": 1,
   "metadata": {},
   "outputs": [],
   "source": [
    "from commons import *"
   ]
  },
  {
   "cell_type": "code",
   "execution_count": 2,
   "metadata": {},
   "outputs": [],
   "source": [
    "FILE_CLASSIFIERS_DEFAULT = \"data/rawruntimes/classifierresults-default.csv\"\n",
    "FILE_CLASSIFIERS_PARAMETRIZED = \"data/rawruntimes/classifierresults-parametrized.csv\"\n",
    "FILE_PREPROCESSORS_DEFAULT = \"data/rawruntimes/preprocessorresults-default.csv\"\n",
    "FILE_PREPROCESSORS_PARAMETRIZED = \"data/rawruntimes/preprocessorresults-parametrized.csv\"\n",
    "FILE_METAFEATURES = \"data/metafeatures.csv\"\n",
    "FILE_DATASETS = \"data/datasets.csv\""
   ]
  },
  {
   "cell_type": "markdown",
   "metadata": {},
   "source": [
    "# Read the Data Source Files"
   ]
  },
  {
   "cell_type": "code",
   "execution_count": 3,
   "metadata": {},
   "outputs": [],
   "source": [
    "dfDatasets = pd.read_csv(FILE_DATASETS)\n",
    "dfMetafeatures = pd.read_csv(FILE_METAFEATURES, delimiter=\";\")\n",
    "datasets = list(dfDatasets[\"openmlid\"].values)"
   ]
  },
  {
   "cell_type": "code",
   "execution_count": 4,
   "metadata": {},
   "outputs": [],
   "source": [
    "dfDefaultClassifiers = pd.read_csv(FILE_CLASSIFIERS_DEFAULT, delimiter=\";\")\n",
    "dfDefaultPreprocessors = pd.DataFrame([], columns=dfDefaultClassifiers.columns)#pd.read_csv(FILE_PREPROCESSORS_DEFAULT, delimiter=\";\")\n",
    "dfConfiguredClassifiers = pd.read_csv(FILE_CLASSIFIERS_PARAMETRIZED, delimiter=\";\")\n",
    "dfConfiguredPreprocessors = pd.DataFrame([], columns=dfDefaultClassifiers.columns)#pd.read_csv(FILE_PREPROCESSORS_PARAMETRIZED, delimiter=\";\")"
   ]
  },
  {
   "cell_type": "code",
   "execution_count": 5,
   "metadata": {},
   "outputs": [],
   "source": [
    "dfConfiguredClassifiers = dfConfiguredClassifiers[dfConfiguredClassifiers[\"algorithm\"] != \"naivebayes\"]"
   ]
  },
  {
   "cell_type": "code",
   "execution_count": 16,
   "metadata": {},
   "outputs": [
    {
     "data": {
      "text/html": [
       "<div>\n",
       "<style scoped>\n",
       "    .dataframe tbody tr th:only-of-type {\n",
       "        vertical-align: middle;\n",
       "    }\n",
       "\n",
       "    .dataframe tbody tr th {\n",
       "        vertical-align: top;\n",
       "    }\n",
       "\n",
       "    .dataframe thead th {\n",
       "        text-align: right;\n",
       "    }\n",
       "</style>\n",
       "<table border=\"1\" class=\"dataframe\">\n",
       "  <thead>\n",
       "    <tr style=\"text-align: right;\">\n",
       "      <th></th>\n",
       "      <th>openmlid</th>\n",
       "      <th>totalsize</th>\n",
       "      <th>fitsize</th>\n",
       "      <th>fitattributes</th>\n",
       "      <th>applicationsize</th>\n",
       "      <th>seed</th>\n",
       "      <th>algorithm</th>\n",
       "      <th>algorithmoptions</th>\n",
       "      <th>numattributes</th>\n",
       "      <th>numberofcategories</th>\n",
       "      <th>...</th>\n",
       "      <th>numsymbolicattributes</th>\n",
       "      <th>attributestocover50pctvariance</th>\n",
       "      <th>attributestocover90pctvariance</th>\n",
       "      <th>attributestocover95pctvariance</th>\n",
       "      <th>attributestocover99pctvariance</th>\n",
       "      <th>totalvariance</th>\n",
       "      <th>fittime</th>\n",
       "      <th>applicationtime</th>\n",
       "      <th>stdinpredictiontimeminms</th>\n",
       "      <th>exception</th>\n",
       "    </tr>\n",
       "  </thead>\n",
       "  <tbody>\n",
       "    <tr>\n",
       "      <th>0</th>\n",
       "      <td>3</td>\n",
       "      <td>1600.0</td>\n",
       "      <td>100</td>\n",
       "      <td>100</td>\n",
       "      <td>1500.0</td>\n",
       "      <td>0</td>\n",
       "      <td>bayesnet</td>\n",
       "      <td>-D -Q weka.classifiers.bayes.net.search.local.K2</td>\n",
       "      <td>100.0</td>\n",
       "      <td>74.0</td>\n",
       "      <td>...</td>\n",
       "      <td>36.0</td>\n",
       "      <td>31.0</td>\n",
       "      <td>69.0</td>\n",
       "      <td>75.0</td>\n",
       "      <td>79.0</td>\n",
       "      <td>8.029755</td>\n",
       "      <td>26628.0</td>\n",
       "      <td>494.0</td>\n",
       "      <td>5.0</td>\n",
       "      <td>NaN</td>\n",
       "    </tr>\n",
       "    <tr>\n",
       "      <th>1</th>\n",
       "      <td>3</td>\n",
       "      <td>2000.0</td>\n",
       "      <td>500</td>\n",
       "      <td>100</td>\n",
       "      <td>1500.0</td>\n",
       "      <td>0</td>\n",
       "      <td>bayesnet</td>\n",
       "      <td>-D -Q weka.classifiers.bayes.net.search.local.K2</td>\n",
       "      <td>100.0</td>\n",
       "      <td>74.0</td>\n",
       "      <td>...</td>\n",
       "      <td>36.0</td>\n",
       "      <td>32.0</td>\n",
       "      <td>75.0</td>\n",
       "      <td>81.0</td>\n",
       "      <td>86.0</td>\n",
       "      <td>8.953533</td>\n",
       "      <td>3322.0</td>\n",
       "      <td>337.0</td>\n",
       "      <td>1.0</td>\n",
       "      <td>NaN</td>\n",
       "    </tr>\n",
       "    <tr>\n",
       "      <th>2</th>\n",
       "      <td>3</td>\n",
       "      <td>2000.0</td>\n",
       "      <td>500</td>\n",
       "      <td>100</td>\n",
       "      <td>1500.0</td>\n",
       "      <td>0</td>\n",
       "      <td>bayesnet</td>\n",
       "      <td>-Q weka.classifiers.bayes.net.search.local.Sim...</td>\n",
       "      <td>100.0</td>\n",
       "      <td>74.0</td>\n",
       "      <td>...</td>\n",
       "      <td>36.0</td>\n",
       "      <td>32.0</td>\n",
       "      <td>75.0</td>\n",
       "      <td>81.0</td>\n",
       "      <td>86.0</td>\n",
       "      <td>8.953533</td>\n",
       "      <td>761527.0</td>\n",
       "      <td>366.0</td>\n",
       "      <td>0.0</td>\n",
       "      <td>NaN</td>\n",
       "    </tr>\n",
       "    <tr>\n",
       "      <th>3</th>\n",
       "      <td>3</td>\n",
       "      <td>1600.0</td>\n",
       "      <td>100</td>\n",
       "      <td>2000</td>\n",
       "      <td>1500.0</td>\n",
       "      <td>0</td>\n",
       "      <td>bayesnet</td>\n",
       "      <td>-D -Q weka.classifiers.bayes.net.search.local.K2</td>\n",
       "      <td>2000.0</td>\n",
       "      <td>74.0</td>\n",
       "      <td>...</td>\n",
       "      <td>36.0</td>\n",
       "      <td>911.0</td>\n",
       "      <td>1745.0</td>\n",
       "      <td>1859.0</td>\n",
       "      <td>1954.0</td>\n",
       "      <td>166.625988</td>\n",
       "      <td>34764.0</td>\n",
       "      <td>24719.0</td>\n",
       "      <td>74.0</td>\n",
       "      <td>NaN</td>\n",
       "    </tr>\n",
       "    <tr>\n",
       "      <th>4</th>\n",
       "      <td>3</td>\n",
       "      <td>2500.0</td>\n",
       "      <td>1000</td>\n",
       "      <td>100</td>\n",
       "      <td>1500.0</td>\n",
       "      <td>0</td>\n",
       "      <td>bayesnet</td>\n",
       "      <td>-D -Q weka.classifiers.bayes.net.search.local.K2</td>\n",
       "      <td>100.0</td>\n",
       "      <td>74.0</td>\n",
       "      <td>...</td>\n",
       "      <td>36.0</td>\n",
       "      <td>32.0</td>\n",
       "      <td>82.0</td>\n",
       "      <td>89.0</td>\n",
       "      <td>96.0</td>\n",
       "      <td>10.446808</td>\n",
       "      <td>1018.0</td>\n",
       "      <td>341.0</td>\n",
       "      <td>0.0</td>\n",
       "      <td>NaN</td>\n",
       "    </tr>\n",
       "    <tr>\n",
       "      <th>...</th>\n",
       "      <td>...</td>\n",
       "      <td>...</td>\n",
       "      <td>...</td>\n",
       "      <td>...</td>\n",
       "      <td>...</td>\n",
       "      <td>...</td>\n",
       "      <td>...</td>\n",
       "      <td>...</td>\n",
       "      <td>...</td>\n",
       "      <td>...</td>\n",
       "      <td>...</td>\n",
       "      <td>...</td>\n",
       "      <td>...</td>\n",
       "      <td>...</td>\n",
       "      <td>...</td>\n",
       "      <td>...</td>\n",
       "      <td>...</td>\n",
       "      <td>...</td>\n",
       "      <td>...</td>\n",
       "      <td>...</td>\n",
       "      <td>...</td>\n",
       "    </tr>\n",
       "    <tr>\n",
       "      <th>391544</th>\n",
       "      <td>40497</td>\n",
       "      <td>3500.0</td>\n",
       "      <td>2000</td>\n",
       "      <td>100</td>\n",
       "      <td>1500.0</td>\n",
       "      <td>0</td>\n",
       "      <td>multilayerperceptron</td>\n",
       "      <td>-C -B -L 0.6 -M 0.2 -H t</td>\n",
       "      <td>100.0</td>\n",
       "      <td>0.0</td>\n",
       "      <td>...</td>\n",
       "      <td>0.0</td>\n",
       "      <td>42.0</td>\n",
       "      <td>77.0</td>\n",
       "      <td>81.0</td>\n",
       "      <td>88.0</td>\n",
       "      <td>7.258328</td>\n",
       "      <td>156833.0</td>\n",
       "      <td>205.0</td>\n",
       "      <td>0.0</td>\n",
       "      <td>NaN</td>\n",
       "    </tr>\n",
       "    <tr>\n",
       "      <th>391545</th>\n",
       "      <td>41064</td>\n",
       "      <td>NaN</td>\n",
       "      <td>500</td>\n",
       "      <td>10000</td>\n",
       "      <td>NaN</td>\n",
       "      <td>0</td>\n",
       "      <td>multilayerperceptron</td>\n",
       "      <td>-D -R -B -L 0.3 -M 0.7 -H a</td>\n",
       "      <td>NaN</td>\n",
       "      <td>NaN</td>\n",
       "      <td>...</td>\n",
       "      <td>NaN</td>\n",
       "      <td>NaN</td>\n",
       "      <td>NaN</td>\n",
       "      <td>NaN</td>\n",
       "      <td>NaN</td>\n",
       "      <td>NaN</td>\n",
       "      <td>NaN</td>\n",
       "      <td>NaN</td>\n",
       "      <td>NaN</td>\n",
       "      <td>\\\\n\\tError class: org.api4.java.ai.ml.core.dat...</td>\n",
       "    </tr>\n",
       "    <tr>\n",
       "      <th>391546</th>\n",
       "      <td>1166</td>\n",
       "      <td>NaN</td>\n",
       "      <td>4000</td>\n",
       "      <td>18000</td>\n",
       "      <td>NaN</td>\n",
       "      <td>0</td>\n",
       "      <td>multilayerperceptron</td>\n",
       "      <td>-D -C -R -L 0.8 -M 0.5 -H t</td>\n",
       "      <td>NaN</td>\n",
       "      <td>NaN</td>\n",
       "      <td>...</td>\n",
       "      <td>NaN</td>\n",
       "      <td>NaN</td>\n",
       "      <td>NaN</td>\n",
       "      <td>NaN</td>\n",
       "      <td>NaN</td>\n",
       "      <td>NaN</td>\n",
       "      <td>NaN</td>\n",
       "      <td>NaN</td>\n",
       "      <td>NaN</td>\n",
       "      <td>\\\\n\\tError class: java.lang.IllegalArgumentExc...</td>\n",
       "    </tr>\n",
       "    <tr>\n",
       "      <th>391547</th>\n",
       "      <td>1457</td>\n",
       "      <td>NaN</td>\n",
       "      <td>100</td>\n",
       "      <td>100000</td>\n",
       "      <td>NaN</td>\n",
       "      <td>0</td>\n",
       "      <td>multilayerperceptron</td>\n",
       "      <td>-C -R -L 0.8 -M 1.0 -H i</td>\n",
       "      <td>NaN</td>\n",
       "      <td>NaN</td>\n",
       "      <td>...</td>\n",
       "      <td>NaN</td>\n",
       "      <td>NaN</td>\n",
       "      <td>NaN</td>\n",
       "      <td>NaN</td>\n",
       "      <td>NaN</td>\n",
       "      <td>NaN</td>\n",
       "      <td>NaN</td>\n",
       "      <td>NaN</td>\n",
       "      <td>NaN</td>\n",
       "      <td>\\\\n\\tError class: java.lang.IllegalArgumentExc...</td>\n",
       "    </tr>\n",
       "    <tr>\n",
       "      <th>391548</th>\n",
       "      <td>41066</td>\n",
       "      <td>NaN</td>\n",
       "      <td>100</td>\n",
       "      <td>18000</td>\n",
       "      <td>NaN</td>\n",
       "      <td>0</td>\n",
       "      <td>multilayerperceptron</td>\n",
       "      <td>-R -B -L 0.4 -M 0.7 -H i</td>\n",
       "      <td>NaN</td>\n",
       "      <td>NaN</td>\n",
       "      <td>...</td>\n",
       "      <td>NaN</td>\n",
       "      <td>NaN</td>\n",
       "      <td>NaN</td>\n",
       "      <td>NaN</td>\n",
       "      <td>NaN</td>\n",
       "      <td>NaN</td>\n",
       "      <td>NaN</td>\n",
       "      <td>NaN</td>\n",
       "      <td>NaN</td>\n",
       "      <td>\\\\n\\tError class: org.api4.java.ai.ml.core.dat...</td>\n",
       "    </tr>\n",
       "  </tbody>\n",
       "</table>\n",
       "<p>391549 rows × 23 columns</p>\n",
       "</div>"
      ],
      "text/plain": [
       "        openmlid  totalsize  fitsize  fitattributes  applicationsize  seed  \\\n",
       "0              3     1600.0      100            100           1500.0     0   \n",
       "1              3     2000.0      500            100           1500.0     0   \n",
       "2              3     2000.0      500            100           1500.0     0   \n",
       "3              3     1600.0      100           2000           1500.0     0   \n",
       "4              3     2500.0     1000            100           1500.0     0   \n",
       "...          ...        ...      ...            ...              ...   ...   \n",
       "391544     40497     3500.0     2000            100           1500.0     0   \n",
       "391545     41064        NaN      500          10000              NaN     0   \n",
       "391546      1166        NaN     4000          18000              NaN     0   \n",
       "391547      1457        NaN      100         100000              NaN     0   \n",
       "391548     41066        NaN      100          18000              NaN     0   \n",
       "\n",
       "                   algorithm  \\\n",
       "0                   bayesnet   \n",
       "1                   bayesnet   \n",
       "2                   bayesnet   \n",
       "3                   bayesnet   \n",
       "4                   bayesnet   \n",
       "...                      ...   \n",
       "391544  multilayerperceptron   \n",
       "391545  multilayerperceptron   \n",
       "391546  multilayerperceptron   \n",
       "391547  multilayerperceptron   \n",
       "391548  multilayerperceptron   \n",
       "\n",
       "                                         algorithmoptions  numattributes  \\\n",
       "0        -D -Q weka.classifiers.bayes.net.search.local.K2          100.0   \n",
       "1        -D -Q weka.classifiers.bayes.net.search.local.K2          100.0   \n",
       "2       -Q weka.classifiers.bayes.net.search.local.Sim...          100.0   \n",
       "3        -D -Q weka.classifiers.bayes.net.search.local.K2         2000.0   \n",
       "4        -D -Q weka.classifiers.bayes.net.search.local.K2          100.0   \n",
       "...                                                   ...            ...   \n",
       "391544                           -C -B -L 0.6 -M 0.2 -H t          100.0   \n",
       "391545                        -D -R -B -L 0.3 -M 0.7 -H a            NaN   \n",
       "391546                        -D -C -R -L 0.8 -M 0.5 -H t            NaN   \n",
       "391547                           -C -R -L 0.8 -M 1.0 -H i            NaN   \n",
       "391548                           -R -B -L 0.4 -M 0.7 -H i            NaN   \n",
       "\n",
       "        numberofcategories  ...  numsymbolicattributes  \\\n",
       "0                     74.0  ...                   36.0   \n",
       "1                     74.0  ...                   36.0   \n",
       "2                     74.0  ...                   36.0   \n",
       "3                     74.0  ...                   36.0   \n",
       "4                     74.0  ...                   36.0   \n",
       "...                    ...  ...                    ...   \n",
       "391544                 0.0  ...                    0.0   \n",
       "391545                 NaN  ...                    NaN   \n",
       "391546                 NaN  ...                    NaN   \n",
       "391547                 NaN  ...                    NaN   \n",
       "391548                 NaN  ...                    NaN   \n",
       "\n",
       "        attributestocover50pctvariance  attributestocover90pctvariance  \\\n",
       "0                                 31.0                            69.0   \n",
       "1                                 32.0                            75.0   \n",
       "2                                 32.0                            75.0   \n",
       "3                                911.0                          1745.0   \n",
       "4                                 32.0                            82.0   \n",
       "...                                ...                             ...   \n",
       "391544                            42.0                            77.0   \n",
       "391545                             NaN                             NaN   \n",
       "391546                             NaN                             NaN   \n",
       "391547                             NaN                             NaN   \n",
       "391548                             NaN                             NaN   \n",
       "\n",
       "        attributestocover95pctvariance  attributestocover99pctvariance  \\\n",
       "0                                 75.0                            79.0   \n",
       "1                                 81.0                            86.0   \n",
       "2                                 81.0                            86.0   \n",
       "3                               1859.0                          1954.0   \n",
       "4                                 89.0                            96.0   \n",
       "...                                ...                             ...   \n",
       "391544                            81.0                            88.0   \n",
       "391545                             NaN                             NaN   \n",
       "391546                             NaN                             NaN   \n",
       "391547                             NaN                             NaN   \n",
       "391548                             NaN                             NaN   \n",
       "\n",
       "        totalvariance   fittime  applicationtime  stdinpredictiontimeminms  \\\n",
       "0            8.029755   26628.0            494.0                       5.0   \n",
       "1            8.953533    3322.0            337.0                       1.0   \n",
       "2            8.953533  761527.0            366.0                       0.0   \n",
       "3          166.625988   34764.0          24719.0                      74.0   \n",
       "4           10.446808    1018.0            341.0                       0.0   \n",
       "...               ...       ...              ...                       ...   \n",
       "391544       7.258328  156833.0            205.0                       0.0   \n",
       "391545            NaN       NaN              NaN                       NaN   \n",
       "391546            NaN       NaN              NaN                       NaN   \n",
       "391547            NaN       NaN              NaN                       NaN   \n",
       "391548            NaN       NaN              NaN                       NaN   \n",
       "\n",
       "                                                exception  \n",
       "0                                                     NaN  \n",
       "1                                                     NaN  \n",
       "2                                                     NaN  \n",
       "3                                                     NaN  \n",
       "4                                                     NaN  \n",
       "...                                                   ...  \n",
       "391544                                                NaN  \n",
       "391545  \\\\n\\tError class: org.api4.java.ai.ml.core.dat...  \n",
       "391546  \\\\n\\tError class: java.lang.IllegalArgumentExc...  \n",
       "391547  \\\\n\\tError class: java.lang.IllegalArgumentExc...  \n",
       "391548  \\\\n\\tError class: org.api4.java.ai.ml.core.dat...  \n",
       "\n",
       "[391549 rows x 23 columns]"
      ]
     },
     "execution_count": 16,
     "metadata": {},
     "output_type": "execute_result"
    }
   ],
   "source": [
    "dfConfiguredClassifiers"
   ]
  },
  {
   "cell_type": "markdown",
   "metadata": {},
   "source": [
    "# Check Data Availability"
   ]
  },
  {
   "cell_type": "markdown",
   "metadata": {},
   "source": [
    "## Availability of Atomic Algorithm Default Runs "
   ]
  },
  {
   "cell_type": "code",
   "execution_count": 6,
   "metadata": {
    "scrolled": true
   },
   "outputs": [
    {
     "data": {
      "application/vnd.jupyter.widget-view+json": {
       "model_id": "e688fcced4da4a49add33a151bd5f36f",
       "version_major": 2,
       "version_minor": 0
      },
      "text/plain": [
       "HBox(children=(FloatProgress(value=0.0, max=5220.0), HTML(value='')))"
      ]
     },
     "metadata": {},
     "output_type": "display_data"
    },
    {
     "name": "stdout",
     "output_type": "stream",
     "text": [
      "\n"
     ]
    },
    {
     "data": {
      "image/png": "[encoded data removed]",
      "text/plain": [
       "<Figure size 2160x1152 with 2 Axes>"
      ]
     },
     "metadata": {
      "needs_background": "light"
     },
     "output_type": "display_data"
    },
    {
     "name": "stdout",
     "output_type": "stream",
     "text": [
      "bestfirst_cfssubseteval: [3, 6, 12, 14, 16, 18, 21, 22, 23, 24, 26, 28, 30, 31, 32, 36, 38, 44, 46, 57, 60, 179, 180, 181, 182, 183, 184, 185, 273, 293, 300, 351, 354, 357, 389, 390, 391, 392, 393, 395, 396, 398, 399, 401, 554, 679, 715, 718, 720, 722, 723, 727, 728, 734, 735, 737, 740, 741, 743, 751, 752, 761, 772, 797, 799, 803, 806, 807, 813, 816, 819, 821, 822, 823, 833, 837, 843, 845, 846, 847, 849, 866, 871, 881, 897, 901, 903, 904, 910, 912, 913, 914, 917, 923, 930, 934, 953, 958, 959, 962, 966, 971, 976, 977, 978, 979, 980, 991, 993, 995, 1000, 1002, 1018, 1019, 1020, 1021, 1036, 1037, 1039, 1040, 1041, 1042, 1049, 1050, 1053, 1059, 1067, 1068, 1069, 1111, 1112, 1114, 1116, 1119, 1120, 1128, 1130, 1134, 1138, 1139, 1142, 1146, 1161, 1166, 1216, 1242, 1457, 1485, 1486, 1501, 1569, 4136, 4137, 4541, 4552, 23380, 23512, 40497, 40685, 40691, 40900, 40926, 40927, 40971, 40975, 41026, 41064, 41065, 41066, 41143, 41146, 41164, 41946, 41991]\n",
      "greedystepwise_cfssubseteval: [3, 6, 12, 14, 16, 18, 21, 22, 23, 24, 26, 28, 30, 31, 32, 36, 38, 44, 46, 57, 60, 179, 180, 181, 182, 183, 184, 185, 273, 293, 300, 351, 354, 357, 389, 390, 391, 392, 393, 395, 396, 398, 399, 401, 554, 679, 715, 718, 720, 722, 723, 727, 728, 734, 735, 737, 740, 741, 743, 751, 752, 761, 772, 797, 799, 803, 806, 807, 813, 816, 819, 821, 822, 823, 833, 837, 843, 845, 846, 847, 849, 866, 871, 881, 897, 901, 903, 904, 910, 912, 913, 914, 917, 923, 930, 934, 953, 958, 959, 962, 966, 971, 976, 977, 978, 979, 980, 991, 993, 995, 1000, 1002, 1018, 1019, 1020, 1021, 1036, 1037, 1039, 1040, 1041, 1042, 1049, 1050, 1053, 1059, 1067, 1068, 1069, 1111, 1112, 1114, 1116, 1119, 1120, 1128, 1130, 1134, 1138, 1139, 1142, 1146, 1161, 1166, 1216, 1242, 1457, 1485, 1486, 1501, 1569, 4136, 4137, 4541, 4552, 23380, 23512, 40497, 40685, 40691, 40900, 40926, 40927, 40971, 40975, 41026, 41064, 41065, 41066, 41143, 41146, 41164, 41946, 41991]\n",
      "ranker_correlationattributeeval: [3, 6, 12, 14, 16, 18, 21, 22, 23, 24, 26, 28, 30, 31, 32, 36, 38, 44, 46, 57, 60, 179, 180, 181, 182, 183, 184, 185, 273, 293, 300, 351, 354, 357, 389, 390, 391, 392, 393, 395, 396, 398, 399, 401, 554, 679, 715, 718, 720, 722, 723, 727, 728, 734, 735, 737, 740, 741, 743, 751, 752, 761, 772, 797, 799, 803, 806, 807, 813, 816, 819, 821, 822, 823, 833, 837, 843, 845, 846, 847, 849, 866, 871, 881, 897, 901, 903, 904, 910, 912, 913, 914, 917, 923, 930, 934, 953, 958, 959, 962, 966, 971, 976, 977, 978, 979, 980, 991, 993, 995, 1000, 1002, 1018, 1019, 1020, 1021, 1036, 1037, 1039, 1040, 1041, 1042, 1049, 1050, 1053, 1059, 1067, 1068, 1069, 1111, 1112, 1114, 1116, 1119, 1120, 1128, 1130, 1134, 1138, 1139, 1142, 1146, 1161, 1166, 1216, 1242, 1457, 1485, 1486, 1501, 1569, 4136, 4137, 4541, 4552, 23380, 23512, 40497, 40685, 40691, 40900, 40926, 40927, 40971, 40975, 41026, 41064, 41065, 41066, 41143, 41146, 41164, 41946, 41991]\n",
      "ranker_gainratioattributeeval: [3, 6, 12, 14, 16, 18, 21, 22, 23, 24, 26, 28, 30, 31, 32, 36, 38, 44, 46, 57, 60, 179, 180, 181, 182, 183, 184, 185, 273, 293, 300, 351, 354, 357, 389, 390, 391, 392, 393, 395, 396, 398, 399, 401, 554, 679, 715, 718, 720, 722, 723, 727, 728, 734, 735, 737, 740, 741, 743, 751, 752, 761, 772, 797, 799, 803, 806, 807, 813, 816, 819, 821, 822, 823, 833, 837, 843, 845, 846, 847, 849, 866, 871, 881, 897, 901, 903, 904, 910, 912, 913, 914, 917, 923, 930, 934, 953, 958, 959, 962, 966, 971, 976, 977, 978, 979, 980, 991, 993, 995, 1000, 1002, 1018, 1019, 1020, 1021, 1036, 1037, 1039, 1040, 1041, 1042, 1049, 1050, 1053, 1059, 1067, 1068, 1069, 1111, 1112, 1114, 1116, 1119, 1120, 1128, 1130, 1134, 1138, 1139, 1142, 1146, 1161, 1166, 1216, 1242, 1457, 1485, 1486, 1501, 1569, 4136, 4137, 4541, 4552, 23380, 23512, 40497, 40685, 40691, 40900, 40926, 40927, 40971, 40975, 41026, 41064, 41065, 41066, 41143, 41146, 41164, 41946, 41991]\n",
      "ranker_infogainattributeeval: [3, 6, 12, 14, 16, 18, 21, 22, 23, 24, 26, 28, 30, 31, 32, 36, 38, 44, 46, 57, 60, 179, 180, 181, 182, 183, 184, 185, 273, 293, 300, 351, 354, 357, 389, 390, 391, 392, 393, 395, 396, 398, 399, 401, 554, 679, 715, 718, 720, 722, 723, 727, 728, 734, 735, 737, 740, 741, 743, 751, 752, 761, 772, 797, 799, 803, 806, 807, 813, 816, 819, 821, 822, 823, 833, 837, 843, 845, 846, 847, 849, 866, 871, 881, 897, 901, 903, 904, 910, 912, 913, 914, 917, 923, 930, 934, 953, 958, 959, 962, 966, 971, 976, 977, 978, 979, 980, 991, 993, 995, 1000, 1002, 1018, 1019, 1020, 1021, 1036, 1037, 1039, 1040, 1041, 1042, 1049, 1050, 1053, 1059, 1067, 1068, 1069, 1111, 1112, 1114, 1116, 1119, 1120, 1128, 1130, 1134, 1138, 1139, 1142, 1146, 1161, 1166, 1216, 1242, 1457, 1485, 1486, 1501, 1569, 4136, 4137, 4541, 4552, 23380, 23512, 40497, 40685, 40691, 40900, 40926, 40927, 40971, 40975, 41026, 41064, 41065, 41066, 41143, 41146, 41164, 41946, 41991]\n",
      "ranker_onerattributeeval: [3, 6, 12, 14, 16, 18, 21, 22, 23, 24, 26, 28, 30, 31, 32, 36, 38, 44, 46, 57, 60, 179, 180, 181, 182, 183, 184, 185, 273, 293, 300, 351, 354, 357, 389, 390, 391, 392, 393, 395, 396, 398, 399, 401, 554, 679, 715, 718, 720, 722, 723, 727, 728, 734, 735, 737, 740, 741, 743, 751, 752, 761, 772, 797, 799, 803, 806, 807, 813, 816, 819, 821, 822, 823, 833, 837, 843, 845, 846, 847, 849, 866, 871, 881, 897, 901, 903, 904, 910, 912, 913, 914, 917, 923, 930, 934, 953, 958, 959, 962, 966, 971, 976, 977, 978, 979, 980, 991, 993, 995, 1000, 1002, 1018, 1019, 1020, 1021, 1036, 1037, 1039, 1040, 1041, 1042, 1049, 1050, 1053, 1059, 1067, 1068, 1069, 1111, 1112, 1114, 1116, 1119, 1120, 1128, 1130, 1134, 1138, 1139, 1142, 1146, 1161, 1166, 1216, 1242, 1457, 1485, 1486, 1501, 1569, 4136, 4137, 4541, 4552, 23380, 23512, 40497, 40685, 40691, 40900, 40926, 40927, 40971, 40975, 41026, 41064, 41065, 41066, 41143, 41146, 41164, 41946, 41991]\n",
      "ranker_principalcomponents: [3, 6, 12, 14, 16, 18, 21, 22, 23, 24, 26, 28, 30, 31, 32, 36, 38, 44, 46, 57, 60, 179, 180, 181, 182, 183, 184, 185, 273, 293, 300, 351, 354, 357, 389, 390, 391, 392, 393, 395, 396, 398, 399, 401, 554, 679, 715, 718, 720, 722, 723, 727, 728, 734, 735, 737, 740, 741, 743, 751, 752, 761, 772, 797, 799, 803, 806, 807, 813, 816, 819, 821, 822, 823, 833, 837, 843, 845, 846, 847, 849, 866, 871, 881, 897, 901, 903, 904, 910, 912, 913, 914, 917, 923, 930, 934, 953, 958, 959, 962, 966, 971, 976, 977, 978, 979, 980, 991, 993, 995, 1000, 1002, 1018, 1019, 1020, 1021, 1036, 1037, 1039, 1040, 1041, 1042, 1049, 1050, 1053, 1059, 1067, 1068, 1069, 1111, 1112, 1114, 1116, 1119, 1120, 1128, 1130, 1134, 1138, 1139, 1142, 1146, 1161, 1166, 1216, 1242, 1457, 1485, 1486, 1501, 1569, 4136, 4137, 4541, 4552, 23380, 23512, 40497, 40685, 40691, 40900, 40926, 40927, 40971, 40975, 41026, 41064, 41065, 41066, 41143, 41146, 41164, 41946, 41991]\n",
      "ranker_relieffattributeeval: [3, 6, 12, 14, 16, 18, 21, 22, 23, 24, 26, 28, 30, 31, 32, 36, 38, 44, 46, 57, 60, 179, 180, 181, 182, 183, 184, 185, 273, 293, 300, 351, 354, 357, 389, 390, 391, 392, 393, 395, 396, 398, 399, 401, 554, 679, 715, 718, 720, 722, 723, 727, 728, 734, 735, 737, 740, 741, 743, 751, 752, 761, 772, 797, 799, 803, 806, 807, 813, 816, 819, 821, 822, 823, 833, 837, 843, 845, 846, 847, 849, 866, 871, 881, 897, 901, 903, 904, 910, 912, 913, 914, 917, 923, 930, 934, 953, 958, 959, 962, 966, 971, 976, 977, 978, 979, 980, 991, 993, 995, 1000, 1002, 1018, 1019, 1020, 1021, 1036, 1037, 1039, 1040, 1041, 1042, 1049, 1050, 1053, 1059, 1067, 1068, 1069, 1111, 1112, 1114, 1116, 1119, 1120, 1128, 1130, 1134, 1138, 1139, 1142, 1146, 1161, 1166, 1216, 1242, 1457, 1485, 1486, 1501, 1569, 4136, 4137, 4541, 4552, 23380, 23512, 40497, 40685, 40691, 40900, 40926, 40927, 40971, 40975, 41026, 41064, 41065, 41066, 41143, 41146, 41164, 41946, 41991]\n",
      "ranker_symmetricaluncertattributeeval: [3, 6, 12, 14, 16, 18, 21, 22, 23, 24, 26, 28, 30, 31, 32, 36, 38, 44, 46, 57, 60, 179, 180, 181, 182, 183, 184, 185, 273, 293, 300, 351, 354, 357, 389, 390, 391, 392, 393, 395, 396, 398, 399, 401, 554, 679, 715, 718, 720, 722, 723, 727, 728, 734, 735, 737, 740, 741, 743, 751, 752, 761, 772, 797, 799, 803, 806, 807, 813, 816, 819, 821, 822, 823, 833, 837, 843, 845, 846, 847, 849, 866, 871, 881, 897, 901, 903, 904, 910, 912, 913, 914, 917, 923, 930, 934, 953, 958, 959, 962, 966, 971, 976, 977, 978, 979, 980, 991, 993, 995, 1000, 1002, 1018, 1019, 1020, 1021, 1036, 1037, 1039, 1040, 1041, 1042, 1049, 1050, 1053, 1059, 1067, 1068, 1069, 1111, 1112, 1114, 1116, 1119, 1120, 1128, 1130, 1134, 1138, 1139, 1142, 1146, 1161, 1166, 1216, 1242, 1457, 1485, 1486, 1501, 1569, 4136, 4137, 4541, 4552, 23380, 23512, 40497, 40685, 40691, 40900, 40926, 40927, 40971, 40975, 41026, 41064, 41065, 41066, 41143, 41146, 41164, 41946, 41991]\n",
      "zeror: [1501, 1569, 4136, 4137, 4541, 4552, 23380, 23512, 40497, 40685, 40691, 40900, 40926, 40927, 40971, 40975, 41026, 41064, 41065, 41066, 41143, 41146, 41164, 41946, 41991]\n"
     ]
    }
   ],
   "source": [
    "dfDefault = pd.concat([dfDefaultClassifiers[['openmlid', 'algorithm', 'fittime', 'exception']], dfDefaultPreprocessors[['openmlid', 'algorithm', 'fittime', 'exception']]])\n",
    "datasets = pd.unique(dfDefault[\"openmlid\"])\n",
    "algorithms = classifiers + preprocessors\n",
    "T = np.zeros((len(datasets), len(algorithms)))\n",
    "S = np.zeros((len(datasets), len(algorithms)))\n",
    "pbar = tqdm(total = T.size)\n",
    "missingReport = {}\n",
    "for i,d in enumerate(datasets):\n",
    "    dsDF = dfDefault[dfDefault[\"openmlid\"] == d]\n",
    "    for j, a in enumerate(algorithms):\n",
    "        isClassifier = a in classifiers\n",
    "        if isClassifier:\n",
    "            expectedT = 181 * 1 # 181 legal fit sizes (inst-attribute-combos <= threshold) * 1 seed\n",
    "        else:\n",
    "            expectedT = np.inf # 340 * 10 seeds\n",
    "        expectedS = expectedT - len(dsDF[(dsDF[\"algorithm\"] == a) & (dsDF[\"exception\"].notnull())])\n",
    "            \n",
    "        seenT = len(dsDF[dsDF[\"algorithm\"] == a])\n",
    "        seenS = len(dsDF[(dsDF[\"algorithm\"] == a) & (dsDF[\"exception\"].isnull()) & (dsDF[\"fittime\"].notnull())])\n",
    "        T[i,j] = seenT / expectedT\n",
    "        S[i,j] = seenS / expectedS if expectedS > 0 else 1\n",
    "        if seenT == 0:\n",
    "            if not a in missingReport:\n",
    "                missingReport[a] = []\n",
    "            missingReport[a].append(d)\n",
    "        pbar.update(1)\n",
    "pbar.close()\n",
    "fig, ax = plt.subplots(2, 1, figsize=(30,16), sharex=True)\n",
    "a = ax[0]\n",
    "a.imshow((1 - T).T, cmap='seismic', vmin=0, vmax=1, aspect=\"auto\")\n",
    "a.set_yticks(np.arange(len(algorithms) - 1))\n",
    "a.set_yticklabels(algorithms)\n",
    "a = ax[1]\n",
    "a.imshow((1 - S).T, cmap='seismic', vmin=0, vmax=1, aspect=\"auto\")\n",
    "a.set_yticks(np.arange(len(algorithms) - 1))\n",
    "a.set_yticklabels(algorithms)\n",
    "a.set_xticks(np.arange(len(datasets)))\n",
    "a.set_xticklabels(datasets, rotation=90)\n",
    "plt.show()\n",
    "\n",
    "for a in missingReport:\n",
    "    print(a + \": \" + str(missingReport[a]))"
   ]
  },
  {
   "cell_type": "markdown",
   "metadata": {},
   "source": [
    "## Availability of data for PARAMETRIZED atomic algorithms"
   ]
  },
  {
   "cell_type": "code",
   "execution_count": 7,
   "metadata": {},
   "outputs": [
    {
     "data": {
      "application/vnd.jupyter.widget-view+json": {
       "model_id": "40050ef303354820a364afaf02c0aaa6",
       "version_major": 2,
       "version_minor": 0
      },
      "text/plain": [
       "HBox(children=(FloatProgress(value=0.0, max=870.0), HTML(value='')))"
      ]
     },
     "metadata": {},
     "output_type": "display_data"
    },
    {
     "name": "stdout",
     "output_type": "stream",
     "text": [
      "\n"
     ]
    },
    {
     "data": {
      "image/png": "[encoded data removed]",
      "text/plain": [
       "<Figure size 2160x1152 with 2 Axes>"
      ]
     },
     "metadata": {
      "needs_background": "light"
     },
     "output_type": "display_data"
    },
    {
     "name": "stdout",
     "output_type": "stream",
     "text": [
      "bayesnet: [40900, 40691, 40926, 41064, 40971, 41065, 41026, 40975, 40927, 41066, 41991, 41146, 41164, 41143, 41946]\n"
     ]
    }
   ],
   "source": [
    "dfConfigured = pd.concat([dfConfiguredClassifiers[['openmlid', 'algorithm', 'algorithmoptions', 'fitsize', 'fittime', 'exception']], dfConfiguredPreprocessors[['openmlid', 'algorithm', 'algorithmoptions', 'fitsize', 'fittime', 'exception']]])\n",
    "datasets = pd.unique(dfConfigured[\"openmlid\"])\n",
    "algorithms = pd.unique(dfConfigured[\"algorithm\"])\n",
    "T = np.zeros((len(datasets), len(algorithms)))\n",
    "S = np.zeros((len(datasets), len(algorithms)))\n",
    "pbar = tqdm(total = T.size)\n",
    "missingReport = {}\n",
    "for j, a in enumerate(algorithms):\n",
    "    dfAlgo = dfConfigured[dfConfigured[\"algorithm\"] == a]\n",
    "    parametrizations = len(pd.unique(dfAlgo[\"algorithmoptions\"]))\n",
    "    fitsizes = len(pd.unique(dfConfigured[dfConfigured[\"algorithm\"] == a][\"fitsize\"]))\n",
    "    for i,d in enumerate(datasets):\n",
    "        dsDF = dfAlgo[dfAlgo[\"openmlid\"] == d]\n",
    "        expectedT = 100000 / len(datasets) # we expect 10000 evaluations for each parametrized base learner\n",
    "        expectedS = expectedT - len(dsDF[(dsDF[\"algorithm\"] == a) & (dsDF[\"exception\"].notnull())])\n",
    "            \n",
    "        seenT = len(dsDF[dsDF[\"algorithm\"] == a])\n",
    "        seenS = len(dsDF[(dsDF[\"algorithm\"] == a) & (dsDF[\"exception\"].isnull()) & (dsDF[\"fittime\"].notnull())])\n",
    "        T[i,j] = seenT / expectedT\n",
    "        S[i,j] = seenS / expectedS if expectedS > 0 else 1\n",
    "        if seenT == 0:\n",
    "            if not a in missingReport:\n",
    "                missingReport[a] = []\n",
    "            missingReport[a].append(d)\n",
    "        pbar.update(1)\n",
    "pbar.close()\n",
    "fig, ax = plt.subplots(2, 1, figsize=(30,16), sharex=True)\n",
    "a = ax[0]\n",
    "a.imshow((1 - T).T, cmap='seismic', vmin=0, vmax=1, aspect=\"auto\")\n",
    "a.set_yticks(np.arange(len(algorithms) - 1))\n",
    "a.set_yticklabels(algorithms)\n",
    "a.set_title(\"Available Observations per Dataset compared to expected in total.\")\n",
    "a = ax[1]\n",
    "a.imshow((1 - S).T, cmap='seismic', vmin=0, vmax=1, aspect=\"auto\")\n",
    "a.set_yticks(np.arange(len(algorithms) - 1))\n",
    "a.set_yticklabels(algorithms)\n",
    "a.set_xticks(np.arange(len(datasets)))\n",
    "a.set_xticklabels(datasets, rotation=90)\n",
    "a.set_title(\"Available Observations per Dataset compared to expected after subtracting exceptions in total.\")\n",
    "plt.show()\n",
    "\n",
    "for a in missingReport:\n",
    "    print(a + \": \" + str(missingReport[a]))"
   ]
  },
  {
   "cell_type": "markdown",
   "metadata": {},
   "source": [
    "## Availability of Meta-Features for the Observations "
   ]
  },
  {
   "cell_type": "code",
   "execution_count": 8,
   "metadata": {
    "scrolled": true
   },
   "outputs": [
    {
     "name": "stderr",
     "output_type": "stream",
     "text": [
      "/home/felix/anaconda3/lib/python3.7/site-packages/ipykernel_launcher.py:7: TqdmDeprecationWarning: This function will be removed in tqdm==5.0.0\n",
      "Please use `tqdm.notebook.tqdm` instead of `tqdm.tqdm_notebook`\n",
      "  import sys\n"
     ]
    },
    {
     "data": {
      "application/vnd.jupyter.widget-view+json": {
       "model_id": "773162ff9617445ebfdeb349d1cf4daa",
       "version_major": 2,
       "version_minor": 0
      },
      "text/plain": [
       "HBox(children=(FloatProgress(value=0.0, max=9054.0), HTML(value='')))"
      ]
     },
     "metadata": {},
     "output_type": "display_data"
    },
    {
     "ename": "KeyboardInterrupt",
     "evalue": "",
     "output_type": "error",
     "traceback": [
      "\u001b[0;31m---------------------------------------------------------------------------\u001b[0m",
      "\u001b[0;31mKeyError\u001b[0m                                  Traceback (most recent call last)",
      "\u001b[0;32m~/anaconda3/lib/python3.7/site-packages/numexpr/necompiler.py\u001b[0m in \u001b[0;36mevaluate\u001b[0;34m(ex, local_dict, global_dict, out, order, casting, **kwargs)\u001b[0m\n\u001b[1;32m    826\u001b[0m     \u001b[0;32mtry\u001b[0m\u001b[0;34m:\u001b[0m\u001b[0;34m\u001b[0m\u001b[0;34m\u001b[0m\u001b[0m\n\u001b[0;32m--> 827\u001b[0;31m         \u001b[0mcompiled_ex\u001b[0m \u001b[0;34m=\u001b[0m \u001b[0m_numexpr_cache\u001b[0m\u001b[0;34m[\u001b[0m\u001b[0mnumexpr_key\u001b[0m\u001b[0;34m]\u001b[0m\u001b[0;34m\u001b[0m\u001b[0;34m\u001b[0m\u001b[0m\n\u001b[0m\u001b[1;32m    828\u001b[0m     \u001b[0;32mexcept\u001b[0m \u001b[0mKeyError\u001b[0m\u001b[0;34m:\u001b[0m\u001b[0;34m\u001b[0m\u001b[0;34m\u001b[0m\u001b[0m\n",
      "\u001b[0;31mKeyError\u001b[0m: ('(((openmlid) == (16)) & ((datapoints_fold1) == (60000))) & ((seed) == (0))', (('optimization', 'aggressive'), ('truediv', False)), (('datapoints_fold1', <class 'numpy.int64'>), ('openmlid', <class 'numpy.int64'>), ('seed', <class 'numpy.int64'>)))",
      "\nDuring handling of the above exception, another exception occurred:\n",
      "\u001b[0;31mKeyboardInterrupt\u001b[0m                         Traceback (most recent call last)",
      "\u001b[0;32m<ipython-input-8-eeae894b685e>\u001b[0m in \u001b[0;36m<module>\u001b[0;34m\u001b[0m\n\u001b[1;32m     12\u001b[0m     \u001b[0mpbar\u001b[0m\u001b[0;34m.\u001b[0m\u001b[0mclose\u001b[0m\u001b[0;34m(\u001b[0m\u001b[0;34m)\u001b[0m\u001b[0;34m\u001b[0m\u001b[0;34m\u001b[0m\u001b[0m\n\u001b[1;32m     13\u001b[0m     \u001b[0;32mreturn\u001b[0m \u001b[0mmDF\u001b[0m\u001b[0;34m\u001b[0m\u001b[0;34m\u001b[0m\u001b[0m\n\u001b[0;32m---> 14\u001b[0;31m \u001b[0mmDF\u001b[0m \u001b[0;34m=\u001b[0m \u001b[0mgetRuntimesObservationsForWhichNoMetaFeaturesAreKnown\u001b[0m\u001b[0;34m(\u001b[0m\u001b[0mdfDefaultClassifiers\u001b[0m\u001b[0;34m,\u001b[0m \u001b[0mdfMetafeatures\u001b[0m\u001b[0;34m)\u001b[0m\u001b[0;34m\u001b[0m\u001b[0;34m\u001b[0m\u001b[0m\n\u001b[0m",
      "\u001b[0;32m<ipython-input-8-eeae894b685e>\u001b[0m in \u001b[0;36mgetRuntimesObservationsForWhichNoMetaFeaturesAreKnown\u001b[0;34m(dfClassifiers, dfMetafeatures)\u001b[0m\n\u001b[1;32m      8\u001b[0m     \u001b[0;32mfor\u001b[0m \u001b[0mindex\u001b[0m\u001b[0;34m,\u001b[0m \u001b[0mobs\u001b[0m \u001b[0;32min\u001b[0m \u001b[0mdfClassifiers\u001b[0m\u001b[0;34m.\u001b[0m\u001b[0miterrows\u001b[0m\u001b[0;34m(\u001b[0m\u001b[0;34m)\u001b[0m\u001b[0;34m:\u001b[0m\u001b[0;34m\u001b[0m\u001b[0;34m\u001b[0m\u001b[0m\n\u001b[1;32m      9\u001b[0m         \u001b[0mpbar\u001b[0m\u001b[0;34m.\u001b[0m\u001b[0mupdate\u001b[0m\u001b[0;34m(\u001b[0m\u001b[0;36m1\u001b[0m\u001b[0;34m)\u001b[0m\u001b[0;34m\u001b[0m\u001b[0;34m\u001b[0m\u001b[0m\n\u001b[0;32m---> 10\u001b[0;31m         \u001b[0;32mif\u001b[0m \u001b[0mlen\u001b[0m\u001b[0;34m(\u001b[0m\u001b[0mdfMetafeatures\u001b[0m\u001b[0;34m.\u001b[0m\u001b[0mquery\u001b[0m\u001b[0;34m(\u001b[0m\u001b[0;34m\"openmlid == \"\u001b[0m \u001b[0;34m+\u001b[0m \u001b[0mstr\u001b[0m\u001b[0;34m(\u001b[0m\u001b[0mobs\u001b[0m\u001b[0;34m[\u001b[0m\u001b[0;34m\"openmlid\"\u001b[0m\u001b[0;34m]\u001b[0m\u001b[0;34m)\u001b[0m \u001b[0;34m+\u001b[0m \u001b[0;34m\" and datapoints_fold1 == \"\u001b[0m \u001b[0;34m+\u001b[0m \u001b[0mstr\u001b[0m\u001b[0;34m(\u001b[0m\u001b[0mobs\u001b[0m\u001b[0;34m[\u001b[0m\u001b[0;34m\"fitsize\"\u001b[0m\u001b[0;34m]\u001b[0m\u001b[0;34m)\u001b[0m \u001b[0;34m+\u001b[0m \u001b[0;34m\" and seed == \"\u001b[0m \u001b[0;34m+\u001b[0m \u001b[0mstr\u001b[0m\u001b[0;34m(\u001b[0m\u001b[0mobs\u001b[0m\u001b[0;34m[\u001b[0m\u001b[0;34m\"seed\"\u001b[0m\u001b[0;34m]\u001b[0m\u001b[0;34m)\u001b[0m\u001b[0;34m)\u001b[0m\u001b[0;34m)\u001b[0m \u001b[0;34m==\u001b[0m \u001b[0;36m0\u001b[0m\u001b[0;34m:\u001b[0m\u001b[0;34m\u001b[0m\u001b[0;34m\u001b[0m\u001b[0m\n\u001b[0m\u001b[1;32m     11\u001b[0m             \u001b[0mmDF\u001b[0m\u001b[0;34m.\u001b[0m\u001b[0mloc\u001b[0m\u001b[0;34m[\u001b[0m\u001b[0mlen\u001b[0m\u001b[0;34m(\u001b[0m\u001b[0mmDF\u001b[0m\u001b[0;34m)\u001b[0m\u001b[0;34m]\u001b[0m \u001b[0;34m=\u001b[0m \u001b[0mobs\u001b[0m\u001b[0;34m[\u001b[0m\u001b[0mrAtts\u001b[0m\u001b[0;34m]\u001b[0m\u001b[0;34m\u001b[0m\u001b[0;34m\u001b[0m\u001b[0m\n\u001b[1;32m     12\u001b[0m     \u001b[0mpbar\u001b[0m\u001b[0;34m.\u001b[0m\u001b[0mclose\u001b[0m\u001b[0;34m(\u001b[0m\u001b[0;34m)\u001b[0m\u001b[0;34m\u001b[0m\u001b[0;34m\u001b[0m\u001b[0m\n",
      "\u001b[0;32m~/anaconda3/lib/python3.7/site-packages/pandas/core/frame.py\u001b[0m in \u001b[0;36mquery\u001b[0;34m(self, expr, inplace, **kwargs)\u001b[0m\n\u001b[1;32m   3229\u001b[0m         \u001b[0mkwargs\u001b[0m\u001b[0;34m[\u001b[0m\u001b[0;34m\"level\"\u001b[0m\u001b[0;34m]\u001b[0m \u001b[0;34m=\u001b[0m \u001b[0mkwargs\u001b[0m\u001b[0;34m.\u001b[0m\u001b[0mpop\u001b[0m\u001b[0;34m(\u001b[0m\u001b[0;34m\"level\"\u001b[0m\u001b[0;34m,\u001b[0m \u001b[0;36m0\u001b[0m\u001b[0;34m)\u001b[0m \u001b[0;34m+\u001b[0m \u001b[0;36m1\u001b[0m\u001b[0;34m\u001b[0m\u001b[0;34m\u001b[0m\u001b[0m\n\u001b[1;32m   3230\u001b[0m         \u001b[0mkwargs\u001b[0m\u001b[0;34m[\u001b[0m\u001b[0;34m\"target\"\u001b[0m\u001b[0;34m]\u001b[0m \u001b[0;34m=\u001b[0m \u001b[0;32mNone\u001b[0m\u001b[0;34m\u001b[0m\u001b[0;34m\u001b[0m\u001b[0m\n\u001b[0;32m-> 3231\u001b[0;31m         \u001b[0mres\u001b[0m \u001b[0;34m=\u001b[0m \u001b[0mself\u001b[0m\u001b[0;34m.\u001b[0m\u001b[0meval\u001b[0m\u001b[0;34m(\u001b[0m\u001b[0mexpr\u001b[0m\u001b[0;34m,\u001b[0m \u001b[0;34m**\u001b[0m\u001b[0mkwargs\u001b[0m\u001b[0;34m)\u001b[0m\u001b[0;34m\u001b[0m\u001b[0;34m\u001b[0m\u001b[0m\n\u001b[0m\u001b[1;32m   3232\u001b[0m \u001b[0;34m\u001b[0m\u001b[0m\n\u001b[1;32m   3233\u001b[0m         \u001b[0;32mtry\u001b[0m\u001b[0;34m:\u001b[0m\u001b[0;34m\u001b[0m\u001b[0;34m\u001b[0m\u001b[0m\n",
      "\u001b[0;32m~/anaconda3/lib/python3.7/site-packages/pandas/core/frame.py\u001b[0m in \u001b[0;36meval\u001b[0;34m(self, expr, inplace, **kwargs)\u001b[0m\n\u001b[1;32m   3344\u001b[0m         \u001b[0mkwargs\u001b[0m\u001b[0;34m[\u001b[0m\u001b[0;34m\"resolvers\"\u001b[0m\u001b[0;34m]\u001b[0m \u001b[0;34m=\u001b[0m \u001b[0mkwargs\u001b[0m\u001b[0;34m.\u001b[0m\u001b[0mget\u001b[0m\u001b[0;34m(\u001b[0m\u001b[0;34m\"resolvers\"\u001b[0m\u001b[0;34m,\u001b[0m \u001b[0;34m(\u001b[0m\u001b[0;34m)\u001b[0m\u001b[0;34m)\u001b[0m \u001b[0;34m+\u001b[0m \u001b[0mtuple\u001b[0m\u001b[0;34m(\u001b[0m\u001b[0mresolvers\u001b[0m\u001b[0;34m)\u001b[0m\u001b[0;34m\u001b[0m\u001b[0;34m\u001b[0m\u001b[0m\n\u001b[1;32m   3345\u001b[0m \u001b[0;34m\u001b[0m\u001b[0m\n\u001b[0;32m-> 3346\u001b[0;31m         \u001b[0;32mreturn\u001b[0m \u001b[0m_eval\u001b[0m\u001b[0;34m(\u001b[0m\u001b[0mexpr\u001b[0m\u001b[0;34m,\u001b[0m \u001b[0minplace\u001b[0m\u001b[0;34m=\u001b[0m\u001b[0minplace\u001b[0m\u001b[0;34m,\u001b[0m \u001b[0;34m**\u001b[0m\u001b[0mkwargs\u001b[0m\u001b[0;34m)\u001b[0m\u001b[0;34m\u001b[0m\u001b[0;34m\u001b[0m\u001b[0m\n\u001b[0m\u001b[1;32m   3347\u001b[0m \u001b[0;34m\u001b[0m\u001b[0m\n\u001b[1;32m   3348\u001b[0m     \u001b[0;32mdef\u001b[0m \u001b[0mselect_dtypes\u001b[0m\u001b[0;34m(\u001b[0m\u001b[0mself\u001b[0m\u001b[0;34m,\u001b[0m \u001b[0minclude\u001b[0m\u001b[0;34m=\u001b[0m\u001b[0;32mNone\u001b[0m\u001b[0;34m,\u001b[0m \u001b[0mexclude\u001b[0m\u001b[0;34m=\u001b[0m\u001b[0;32mNone\u001b[0m\u001b[0;34m)\u001b[0m \u001b[0;34m->\u001b[0m \u001b[0;34m\"DataFrame\"\u001b[0m\u001b[0;34m:\u001b[0m\u001b[0;34m\u001b[0m\u001b[0;34m\u001b[0m\u001b[0m\n",
      "\u001b[0;32m~/anaconda3/lib/python3.7/site-packages/pandas/core/computation/eval.py\u001b[0m in \u001b[0;36meval\u001b[0;34m(expr, parser, engine, truediv, local_dict, global_dict, resolvers, level, target, inplace)\u001b[0m\n\u001b[1;32m    335\u001b[0m         \u001b[0meng\u001b[0m \u001b[0;34m=\u001b[0m \u001b[0m_engines\u001b[0m\u001b[0;34m[\u001b[0m\u001b[0mengine\u001b[0m\u001b[0;34m]\u001b[0m\u001b[0;34m\u001b[0m\u001b[0;34m\u001b[0m\u001b[0m\n\u001b[1;32m    336\u001b[0m         \u001b[0meng_inst\u001b[0m \u001b[0;34m=\u001b[0m \u001b[0meng\u001b[0m\u001b[0;34m(\u001b[0m\u001b[0mparsed_expr\u001b[0m\u001b[0;34m)\u001b[0m\u001b[0;34m\u001b[0m\u001b[0;34m\u001b[0m\u001b[0m\n\u001b[0;32m--> 337\u001b[0;31m         \u001b[0mret\u001b[0m \u001b[0;34m=\u001b[0m \u001b[0meng_inst\u001b[0m\u001b[0;34m.\u001b[0m\u001b[0mevaluate\u001b[0m\u001b[0;34m(\u001b[0m\u001b[0;34m)\u001b[0m\u001b[0;34m\u001b[0m\u001b[0;34m\u001b[0m\u001b[0m\n\u001b[0m\u001b[1;32m    338\u001b[0m \u001b[0;34m\u001b[0m\u001b[0m\n\u001b[1;32m    339\u001b[0m         \u001b[0;32mif\u001b[0m \u001b[0mparsed_expr\u001b[0m\u001b[0;34m.\u001b[0m\u001b[0massigner\u001b[0m \u001b[0;32mis\u001b[0m \u001b[0;32mNone\u001b[0m\u001b[0;34m:\u001b[0m\u001b[0;34m\u001b[0m\u001b[0;34m\u001b[0m\u001b[0m\n",
      "\u001b[0;32m~/anaconda3/lib/python3.7/site-packages/pandas/core/computation/engines.py\u001b[0m in \u001b[0;36mevaluate\u001b[0;34m(self)\u001b[0m\n\u001b[1;32m     71\u001b[0m \u001b[0;34m\u001b[0m\u001b[0m\n\u001b[1;32m     72\u001b[0m         \u001b[0;31m# make sure no names in resolvers and locals/globals clash\u001b[0m\u001b[0;34m\u001b[0m\u001b[0;34m\u001b[0m\u001b[0;34m\u001b[0m\u001b[0m\n\u001b[0;32m---> 73\u001b[0;31m         \u001b[0mres\u001b[0m \u001b[0;34m=\u001b[0m \u001b[0mself\u001b[0m\u001b[0;34m.\u001b[0m\u001b[0m_evaluate\u001b[0m\u001b[0;34m(\u001b[0m\u001b[0;34m)\u001b[0m\u001b[0;34m\u001b[0m\u001b[0;34m\u001b[0m\u001b[0m\n\u001b[0m\u001b[1;32m     74\u001b[0m         return reconstruct_object(\n\u001b[1;32m     75\u001b[0m             \u001b[0mself\u001b[0m\u001b[0;34m.\u001b[0m\u001b[0mresult_type\u001b[0m\u001b[0;34m,\u001b[0m \u001b[0mres\u001b[0m\u001b[0;34m,\u001b[0m \u001b[0mself\u001b[0m\u001b[0;34m.\u001b[0m\u001b[0maligned_axes\u001b[0m\u001b[0;34m,\u001b[0m \u001b[0mself\u001b[0m\u001b[0;34m.\u001b[0m\u001b[0mexpr\u001b[0m\u001b[0;34m.\u001b[0m\u001b[0mterms\u001b[0m\u001b[0;34m.\u001b[0m\u001b[0mreturn_type\u001b[0m\u001b[0;34m\u001b[0m\u001b[0;34m\u001b[0m\u001b[0m\n",
      "\u001b[0;32m~/anaconda3/lib/python3.7/site-packages/pandas/core/computation/engines.py\u001b[0m in \u001b[0;36m_evaluate\u001b[0;34m(self)\u001b[0m\n\u001b[1;32m    112\u001b[0m         \u001b[0mscope\u001b[0m \u001b[0;34m=\u001b[0m \u001b[0menv\u001b[0m\u001b[0;34m.\u001b[0m\u001b[0mfull_scope\u001b[0m\u001b[0;34m\u001b[0m\u001b[0;34m\u001b[0m\u001b[0m\n\u001b[1;32m    113\u001b[0m         \u001b[0m_check_ne_builtin_clash\u001b[0m\u001b[0;34m(\u001b[0m\u001b[0mself\u001b[0m\u001b[0;34m.\u001b[0m\u001b[0mexpr\u001b[0m\u001b[0;34m)\u001b[0m\u001b[0;34m\u001b[0m\u001b[0;34m\u001b[0m\u001b[0m\n\u001b[0;32m--> 114\u001b[0;31m         \u001b[0;32mreturn\u001b[0m \u001b[0mne\u001b[0m\u001b[0;34m.\u001b[0m\u001b[0mevaluate\u001b[0m\u001b[0;34m(\u001b[0m\u001b[0ms\u001b[0m\u001b[0;34m,\u001b[0m \u001b[0mlocal_dict\u001b[0m\u001b[0;34m=\u001b[0m\u001b[0mscope\u001b[0m\u001b[0;34m)\u001b[0m\u001b[0;34m\u001b[0m\u001b[0;34m\u001b[0m\u001b[0m\n\u001b[0m\u001b[1;32m    115\u001b[0m \u001b[0;34m\u001b[0m\u001b[0m\n\u001b[1;32m    116\u001b[0m \u001b[0;34m\u001b[0m\u001b[0m\n",
      "\u001b[0;32m~/anaconda3/lib/python3.7/site-packages/numexpr/necompiler.py\u001b[0m in \u001b[0;36mevaluate\u001b[0;34m(ex, local_dict, global_dict, out, order, casting, **kwargs)\u001b[0m\n\u001b[1;32m    827\u001b[0m         \u001b[0mcompiled_ex\u001b[0m \u001b[0;34m=\u001b[0m \u001b[0m_numexpr_cache\u001b[0m\u001b[0;34m[\u001b[0m\u001b[0mnumexpr_key\u001b[0m\u001b[0;34m]\u001b[0m\u001b[0;34m\u001b[0m\u001b[0;34m\u001b[0m\u001b[0m\n\u001b[1;32m    828\u001b[0m     \u001b[0;32mexcept\u001b[0m \u001b[0mKeyError\u001b[0m\u001b[0;34m:\u001b[0m\u001b[0;34m\u001b[0m\u001b[0;34m\u001b[0m\u001b[0m\n\u001b[0;32m--> 829\u001b[0;31m         \u001b[0mcompiled_ex\u001b[0m \u001b[0;34m=\u001b[0m \u001b[0m_numexpr_cache\u001b[0m\u001b[0;34m[\u001b[0m\u001b[0mnumexpr_key\u001b[0m\u001b[0;34m]\u001b[0m \u001b[0;34m=\u001b[0m \u001b[0mNumExpr\u001b[0m\u001b[0;34m(\u001b[0m\u001b[0mex\u001b[0m\u001b[0;34m,\u001b[0m \u001b[0msignature\u001b[0m\u001b[0;34m,\u001b[0m \u001b[0;34m**\u001b[0m\u001b[0mcontext\u001b[0m\u001b[0;34m)\u001b[0m\u001b[0;34m\u001b[0m\u001b[0;34m\u001b[0m\u001b[0m\n\u001b[0m\u001b[1;32m    830\u001b[0m     kwargs = {'out': out, 'order': order, 'casting': casting,\n\u001b[1;32m    831\u001b[0m               'ex_uses_vml': ex_uses_vml}\n",
      "\u001b[0;32m~/anaconda3/lib/python3.7/site-packages/numexpr/necompiler.py\u001b[0m in \u001b[0;36mNumExpr\u001b[0;34m(ex, signature, **kwargs)\u001b[0m\n\u001b[1;32m    624\u001b[0m \u001b[0;34m\u001b[0m\u001b[0m\n\u001b[1;32m    625\u001b[0m     \u001b[0mcontext\u001b[0m \u001b[0;34m=\u001b[0m \u001b[0mgetContext\u001b[0m\u001b[0;34m(\u001b[0m\u001b[0mkwargs\u001b[0m\u001b[0;34m,\u001b[0m \u001b[0mframe_depth\u001b[0m\u001b[0;34m=\u001b[0m\u001b[0;36m1\u001b[0m\u001b[0;34m)\u001b[0m\u001b[0;34m\u001b[0m\u001b[0;34m\u001b[0m\u001b[0m\n\u001b[0;32m--> 626\u001b[0;31m     \u001b[0mthreeAddrProgram\u001b[0m\u001b[0;34m,\u001b[0m \u001b[0minputsig\u001b[0m\u001b[0;34m,\u001b[0m \u001b[0mtempsig\u001b[0m\u001b[0;34m,\u001b[0m \u001b[0mconstants\u001b[0m\u001b[0;34m,\u001b[0m \u001b[0minput_names\u001b[0m \u001b[0;34m=\u001b[0m \u001b[0mprecompile\u001b[0m\u001b[0;34m(\u001b[0m\u001b[0mex\u001b[0m\u001b[0;34m,\u001b[0m \u001b[0msignature\u001b[0m\u001b[0;34m,\u001b[0m \u001b[0mcontext\u001b[0m\u001b[0;34m)\u001b[0m\u001b[0;34m\u001b[0m\u001b[0;34m\u001b[0m\u001b[0m\n\u001b[0m\u001b[1;32m    627\u001b[0m     \u001b[0mprogram\u001b[0m \u001b[0;34m=\u001b[0m \u001b[0mcompileThreeAddrForm\u001b[0m\u001b[0;34m(\u001b[0m\u001b[0mthreeAddrProgram\u001b[0m\u001b[0;34m)\u001b[0m\u001b[0;34m\u001b[0m\u001b[0;34m\u001b[0m\u001b[0m\n\u001b[1;32m    628\u001b[0m     return interpreter.NumExpr(inputsig.encode('ascii'),\n",
      "\u001b[0;32m~/anaconda3/lib/python3.7/site-packages/numexpr/necompiler.py\u001b[0m in \u001b[0;36mprecompile\u001b[0;34m(ex, signature, context)\u001b[0m\n\u001b[1;32m    569\u001b[0m         \u001b[0mast\u001b[0m \u001b[0;34m=\u001b[0m \u001b[0mASTNode\u001b[0m\u001b[0;34m(\u001b[0m\u001b[0;34m'op'\u001b[0m\u001b[0;34m,\u001b[0m \u001b[0mvalue\u001b[0m\u001b[0;34m=\u001b[0m\u001b[0;34m'copy'\u001b[0m\u001b[0;34m,\u001b[0m \u001b[0mastKind\u001b[0m\u001b[0;34m=\u001b[0m\u001b[0mex\u001b[0m\u001b[0;34m.\u001b[0m\u001b[0mastKind\u001b[0m\u001b[0;34m,\u001b[0m \u001b[0mchildren\u001b[0m\u001b[0;34m=\u001b[0m\u001b[0;34m(\u001b[0m\u001b[0mast\u001b[0m\u001b[0;34m,\u001b[0m\u001b[0;34m)\u001b[0m\u001b[0;34m)\u001b[0m\u001b[0;34m\u001b[0m\u001b[0;34m\u001b[0m\u001b[0m\n\u001b[1;32m    570\u001b[0m \u001b[0;34m\u001b[0m\u001b[0m\n\u001b[0;32m--> 571\u001b[0;31m     \u001b[0mast\u001b[0m \u001b[0;34m=\u001b[0m \u001b[0mtypeCompileAst\u001b[0m\u001b[0;34m(\u001b[0m\u001b[0mast\u001b[0m\u001b[0;34m)\u001b[0m\u001b[0;34m\u001b[0m\u001b[0;34m\u001b[0m\u001b[0m\n\u001b[0m\u001b[1;32m    572\u001b[0m \u001b[0;34m\u001b[0m\u001b[0m\n\u001b[1;32m    573\u001b[0m     \u001b[0maliases\u001b[0m \u001b[0;34m=\u001b[0m \u001b[0mcollapseDuplicateSubtrees\u001b[0m\u001b[0;34m(\u001b[0m\u001b[0mast\u001b[0m\u001b[0;34m)\u001b[0m\u001b[0;34m\u001b[0m\u001b[0;34m\u001b[0m\u001b[0m\n",
      "\u001b[0;32m~/anaconda3/lib/python3.7/site-packages/numexpr/necompiler.py\u001b[0m in \u001b[0;36mtypeCompileAst\u001b[0;34m(ast)\u001b[0m\n\u001b[1;32m    226\u001b[0m         \u001b[0mchildren\u001b[0m \u001b[0;34m=\u001b[0m \u001b[0mast\u001b[0m\u001b[0;34m.\u001b[0m\u001b[0mchildren\u001b[0m\u001b[0;34m\u001b[0m\u001b[0;34m\u001b[0m\u001b[0m\n\u001b[1;32m    227\u001b[0m     return ASTNode(ast.astType, ast.astKind, value,\n\u001b[0;32m--> 228\u001b[0;31m                    [typeCompileAst(c) for c in children])\n\u001b[0m\u001b[1;32m    229\u001b[0m \u001b[0;34m\u001b[0m\u001b[0m\n\u001b[1;32m    230\u001b[0m \u001b[0;34m\u001b[0m\u001b[0m\n",
      "\u001b[0;32m~/anaconda3/lib/python3.7/site-packages/numexpr/necompiler.py\u001b[0m in \u001b[0;36m<listcomp>\u001b[0;34m(.0)\u001b[0m\n\u001b[1;32m    226\u001b[0m         \u001b[0mchildren\u001b[0m \u001b[0;34m=\u001b[0m \u001b[0mast\u001b[0m\u001b[0;34m.\u001b[0m\u001b[0mchildren\u001b[0m\u001b[0;34m\u001b[0m\u001b[0;34m\u001b[0m\u001b[0m\n\u001b[1;32m    227\u001b[0m     return ASTNode(ast.astType, ast.astKind, value,\n\u001b[0;32m--> 228\u001b[0;31m                    [typeCompileAst(c) for c in children])\n\u001b[0m\u001b[1;32m    229\u001b[0m \u001b[0;34m\u001b[0m\u001b[0m\n\u001b[1;32m    230\u001b[0m \u001b[0;34m\u001b[0m\u001b[0m\n",
      "\u001b[0;32m~/anaconda3/lib/python3.7/site-packages/numexpr/necompiler.py\u001b[0m in \u001b[0;36mtypeCompileAst\u001b[0;34m(ast)\u001b[0m\n\u001b[1;32m    226\u001b[0m         \u001b[0mchildren\u001b[0m \u001b[0;34m=\u001b[0m \u001b[0mast\u001b[0m\u001b[0;34m.\u001b[0m\u001b[0mchildren\u001b[0m\u001b[0;34m\u001b[0m\u001b[0;34m\u001b[0m\u001b[0m\n\u001b[1;32m    227\u001b[0m     return ASTNode(ast.astType, ast.astKind, value,\n\u001b[0;32m--> 228\u001b[0;31m                    [typeCompileAst(c) for c in children])\n\u001b[0m\u001b[1;32m    229\u001b[0m \u001b[0;34m\u001b[0m\u001b[0m\n\u001b[1;32m    230\u001b[0m \u001b[0;34m\u001b[0m\u001b[0m\n",
      "\u001b[0;32m~/anaconda3/lib/python3.7/site-packages/numexpr/necompiler.py\u001b[0m in \u001b[0;36m<listcomp>\u001b[0;34m(.0)\u001b[0m\n\u001b[1;32m    226\u001b[0m         \u001b[0mchildren\u001b[0m \u001b[0;34m=\u001b[0m \u001b[0mast\u001b[0m\u001b[0;34m.\u001b[0m\u001b[0mchildren\u001b[0m\u001b[0;34m\u001b[0m\u001b[0;34m\u001b[0m\u001b[0m\n\u001b[1;32m    227\u001b[0m     return ASTNode(ast.astType, ast.astKind, value,\n\u001b[0;32m--> 228\u001b[0;31m                    [typeCompileAst(c) for c in children])\n\u001b[0m\u001b[1;32m    229\u001b[0m \u001b[0;34m\u001b[0m\u001b[0m\n\u001b[1;32m    230\u001b[0m \u001b[0;34m\u001b[0m\u001b[0m\n",
      "\u001b[0;31mKeyboardInterrupt\u001b[0m: "
     ]
    }
   ],
   "source": [
    "def getRuntimesObservationsForWhichNoMetaFeaturesAreKnown(dfClassifiers, dfMetafeatures):\n",
    "    rAtts = [\"openmlid\", \"fitsize\", \"seed\"]\n",
    "    mDF = pd.DataFrame([], columns=rAtts)\n",
    "    dfClassifiers = dfClassifiers[dfClassifiers[\"exception\"].isnull()][rAtts].drop_duplicates()\n",
    "    datasets = pd.unique(dfClassifiers[\"openmlid\"])\n",
    "\n",
    "    pbar = tqdm(total=len(dfClassifiers))\n",
    "    for index, obs in dfClassifiers.iterrows():\n",
    "        pbar.update(1)\n",
    "        if len(dfMetafeatures.query(\"openmlid == \" + str(obs[\"openmlid\"]) + \" and datapoints_fold1 == \" + str(obs[\"fitsize\"]) + \" and seed == \" + str(obs[\"seed\"]))) == 0:\n",
    "            mDF.loc[len(mDF)] = obs[rAtts]\n",
    "    pbar.close()\n",
    "    return mDF\n",
    "mDF = getRuntimesObservationsForWhichNoMetaFeaturesAreKnown(dfDefaultClassifiers, dfMetafeatures)"
   ]
  },
  {
   "cell_type": "code",
   "execution_count": null,
   "metadata": {},
   "outputs": [],
   "source": [
    "print(\"Format: <openmlid>: [(<fitsize>,<seed>)...]\")\n",
    "for ds, group in mDF.groupby(\"openmlid\"):\n",
    "    print (str(ds) + \": \" + str([(r[\"fitsize\"], r[\"seed\"]) for i, r in group.iterrows()]))"
   ]
  },
  {
   "cell_type": "markdown",
   "metadata": {},
   "source": [
    "# Prepare Work Data"
   ]
  },
  {
   "cell_type": "markdown",
   "metadata": {},
   "source": [
    "# Create a Single Runtime CSV for Atomic Algorithms"
   ]
  },
  {
   "cell_type": "code",
   "execution_count": 8,
   "metadata": {
    "scrolled": false
   },
   "outputs": [],
   "source": [
    "def resolveExceptions(df):\n",
    "    \n",
    "    # Set traintime to full traintime +1 (3601) if the exception is a timeout or is dominated by another one that timed out\n",
    "    print(\"Len of df is \" + str(len(df)))\n",
    "    timeoutsTrain = {}\n",
    "    timeoutsTest = {}\n",
    "    numTimeoutsTrain = 0\n",
    "    numTimeoutsTest = 0\n",
    "    failedRuns = df[df[\"exception\"].notnull()]\n",
    "    failedRunsWithTimeout = failedRuns[failedRuns[\"exception\"].str.contains(\"AlgorithmTimeouted\")]\n",
    "    pbar = tqdm(total=len(failedRunsWithTimeout))\n",
    "    for i, row in failedRunsWithTimeout.iterrows():\n",
    "        pbar.update(1)\n",
    "        exception = str(row[\"exception\"])\n",
    "        if exception != df.at[i, \"exception\"]:\n",
    "            raise Exception(\"The access via at does not seem to work correctly at index \" + str(i) + \"! Expected \" + str(exception) + \" and found \" + str(df.at[i, \"exception\"])  + \"\\n\\n\" + str(row) + \"\\n\\n\" + str(df.loc[i]) + \"\\n\\nSize of df: \" + str(len(df)))\n",
    "        \n",
    "        # add the timeout to the respective list, depending on whether it occured in the train or prediction phase\n",
    "        if \"Timeout\" in exception:\n",
    "            df.at[i, \"exception\"] = np.nan\n",
    "            isTimeoutDuringTraining = np.isnan(row[\"fittime\"]) or row[\"fittime\"] >= 3600\n",
    "            if isTimeoutDuringTraining:\n",
    "                df.at[i, \"fittime\"] = 3600\n",
    "                openmlid = row[\"openmlid\"]\n",
    "                algo = row[\"algorithm\"]\n",
    "                if not openmlid in timeoutsTrain:\n",
    "                    timeoutsTrain[openmlid] = {}\n",
    "                if not algo in timeoutsTrain[openmlid]:\n",
    "                    timeoutsTrain[openmlid][algo] = []\n",
    "                timeoutsTrain[openmlid][algo].append((row[\"openmlid\"], row[\"algorithm\"], row[\"algorithmoptions\"], row[\"fitsize\"], row[\"fitattributes\"], i))\n",
    "                numTimeoutsTrain += 1\n",
    "            else:\n",
    "                if not np.isnan(row[\"applicationtime\"]):\n",
    "                    raise Exception(\"There is a timeout but fittime < 3600 and there is an application time. This should not happen!\")\n",
    "                openmlid = row[\"openmlid\"]\n",
    "                algo = row[\"algorithm\"]\n",
    "                if not openmlid in timeoutsTest:\n",
    "                    timeoutsTest[openmlid] = {}\n",
    "                if not algo in timeoutsTest[openmlid]:\n",
    "                    timeoutsTest[openmlid][algo] = []\n",
    "                timeoutsTest[openmlid][algo].append((row[\"openmlid\"], row[\"algorithm\"], row[\"algorithmoptions\"], row[\"fitsize\"], row[\"fitattributes\"], i))\n",
    "                df.at[i, \"applicationtime\"] = 3600 # suppose that the test time for the given data is high (apprx by 1h)\n",
    "                numTimeoutsTest += 1\n",
    "    pbar.close()\n",
    "    print(\"Found \" + str(numTimeoutsTrain) + \" timeouts during training and \" + str(numTimeoutsTest) + \" timeouts during prediction. Len of df is \" + str(len(df)))\n",
    "    \n",
    "    # now iterate over all still failed rows\n",
    "    failedRuns = df[df[\"exception\"].notna()]\n",
    "    pbar = tqdm(total=len(failedRuns))\n",
    "    for i, row in failedRuns.iterrows():\n",
    "        exception = str(row[\"exception\"])\n",
    "        if exception != df.at[i, \"exception\"]:\n",
    "            raise Exception(\"The access via at does not seem to work correctly at index \" + str(i) + \"! Expected \" + str(exception) + \" and found \" + str(df.at[i, \"exception\"]) + \"\\n\\n\" + str(row) + \"\\n\\n\" + str(df.loc[i]) + \"\\n\\nSize of df: \" + str(len(df)))\n",
    "        pbar.update(1)\n",
    "\n",
    "        # if this is not a ExperimentFailurePredictionException, continue\n",
    "        if not \"ExperimentFailurePredictionException\" in exception:\n",
    "            continue\n",
    "\n",
    "        # check whether we have a timeout prediction exception. Then we can interpolate the values\n",
    "        if \"which failed due to a timeout\" in exception:\n",
    "            openmlid = row[\"openmlid\"]\n",
    "            algo = row[\"algorithm\"]\n",
    "            options = row[\"algorithmoptions\"]\n",
    "            t = (openmlid, algo, options, int(row[\"fitsize\"]), int(row[\"fitattributes\"]), i)\n",
    "\n",
    "            resolved = False\n",
    "\n",
    "            # check on dominance by train time\n",
    "            if openmlid in timeoutsTrain and algo in timeoutsTrain[openmlid]:\n",
    "                for t2 in timeoutsTrain[openmlid][algo]:\n",
    "                    # if the datapoint is dominated by another one due to a timeout, set the traintime to that time\n",
    "                    #if openmlid == 3:\n",
    "                    #    print(t2[3], t[3], t2[3] <= t[3])\n",
    "                    #    print(t2[4], t[4], t2[4] <= t[4])\n",
    "                    #    print(options, t2[2], str(options) == str(t2[2]))\n",
    "                    if t2[3] <= t[3] and t2[4] <= t[4] and str(t2[2]) == str(options):\n",
    "                        df.at[i, \"fittime\"] = 3601\n",
    "                        df.at[i, \"exception\"] = np.nan\n",
    "                        resolved = True\n",
    "                        timeoutsTrain[openmlid][algo].append(t)\n",
    "                        break\n",
    "\n",
    "            # check on dominance by prediction time\n",
    "            if not resolved and openmlid in timeoutsTest and algo in timeoutsTest[openmlid]:\n",
    "                for t2 in timeoutsTest[openmlid][algo]:\n",
    "                    # if the datapoint is dominated by another one due to a timeout, set the traintime to that time\n",
    "                    if t2[3] <= t[3] and t2[4] <= t[4] and str(t2[2]) == str(options):\n",
    "                        dominantedIndex = t2[5]\n",
    "                        #print(dominantedIndex, df.loc[dominantedIndex])\n",
    "                        #print(\"Replacing fittime \" + str(row[\"fittime\"]) + \" by \" + str(df.at[dominantedIndex, \"fittime\"]))\n",
    "                        df.at[i, \"fittime\"] = df.at[dominantedIndex, \"fittime\"]\n",
    "                        df.at[i, \"applicationtime\"] = 3601\n",
    "                        df.at[i, \"exception\"] = np.nan\n",
    "                        resolved = True\n",
    "                        timeoutsTest[openmlid][algo].append(t)\n",
    "                        break\n",
    "\n",
    "            # now make sure that the exception got resolved\n",
    "            if not resolved:\n",
    "                raise Exception(\"Could not resolve the timeout prediction exception on openmlid \" + str(openmlid) + \" and algorithm \" + str(algo) + \" with options '\" + str(options) + \"' for \" + str(row[\"fitsize\"]) + \" instances and \" + str(row[\"fitattributes\"]) + \" attributes. Here is the exception: \" + str(exception))\n",
    "\n",
    "    pbar.close()\n",
    "    \n",
    "    print(\"Removing lines with exceptions.\")\n",
    "    df = df[df[\"exception\"].isnull()]\n",
    "    df = df.drop(columns=[\"exception\"])\n",
    "    \n",
    "    print(\"Now removing lines where fittime is not available.\")\n",
    "    df = df[df[\"fittime\"].notnull()]\n",
    "    return df"
   ]
  },
  {
   "cell_type": "code",
   "execution_count": 9,
   "metadata": {},
   "outputs": [
    {
     "name": "stdout",
     "output_type": "stream",
     "text": [
      "Data frame for base learners ready. Stepping to pre-processors.\n"
     ]
    }
   ],
   "source": [
    "relevantTrainMetafeatures = ['fitsize', 'fitattributes', 'numattributes', 'numlabels', 'numnumericattributes', 'numsymbolicattributes', 'numberofcategories', 'numericattributesafterbinarization', 'totalvariance', 'attributestocover50pctvariance', 'attributestocover90pctvariance', 'attributestocover95pctvariance', 'attributestocover99pctvariance']\n",
    "\n",
    "# prepare classifier data frame\n",
    "dfClassifiers = pd.concat([dfDefaultClassifiers, dfConfiguredClassifiers], ignore_index = True, sort=False)\n",
    "allAttributes = ['openmlid', 'totalsize', 'algorithm', 'algorithmoptions', 'seed']\n",
    "allAttributes.extend([\"f1_\" + x for x in relevantTrainMetafeatures])\n",
    "allAttributes.extend(['applicationsize', 'fittime', 'applicationtime', 'exception'])\n",
    "renameDict = {}\n",
    "for a in relevantTrainMetafeatures:\n",
    "    if a != \"numattributes\":\n",
    "        renameDict[\"f1_\" + a] =  a\n",
    "dfClassifiersMod = dfClassifiers.rename(columns=renameDict)\n",
    "dfClassifiersMod = dfClassifiersMod[[x.replace(\"f1_\", \"\") for x in allAttributes]]\n",
    "print (\"Data frame for base learners ready. Stepping to pre-processors.\")\n",
    "\n",
    "# prepare pre-processor data frame\n",
    "#dfPreprocessors = pd.concat([dfDefaultPreprocessors, dfConfiguredPreprocessors], ignore_index = True, sort=False)\n",
    "#allAttributes = ['openmlid', 'totalsize', 'algorithm', 'algorithmoptions', 'seed']\n",
    "#allAttributes.extend([x + \"_before\" for x in relevantTrainMetafeatures])\n",
    "#allAttributes.extend(['applicationsize', 'fittime', 'applicationtime', 'exception'])\n",
    "#renameDict = {}\n",
    "#if len(dfPreprocessors.query(\"fitsize != numinstances_before\").dropna()) > 0:\n",
    "#    raise Exception(\"Number of instance before and number of instances of merge differ!\")\n",
    "#for a in relevantTrainMetafeatures:\n",
    "#    renameDict[a + \"_before\"] =  a\n",
    "#dfPreprocessorsMod = dfPreprocessors.rename(columns=renameDict)\n",
    "#dfPreprocessorsMod = dfPreprocessorsMod[[x.replace(\"_before\", \"\") for x in allAttributes]]\n",
    "#print (\"PP-Dateframe ready.\")"
   ]
  },
  {
   "cell_type": "code",
   "execution_count": 10,
   "metadata": {},
   "outputs": [],
   "source": [
    "# merge data frames\n",
    "#dfAtomic = pd.concat([dfClassifiersMod, dfPreprocessorsMod], sort=False, ignore_index = True)\n",
    "dfAtomic = dfClassifiersMod.copy()\n",
    "#dfAtomic = dfAtomic[(dfAtomic[\"algorithm\"] == \"ibk\") & (pd.notna(dfAtomic[\"algorithmoptions\"]))]\n",
    "#for i, row in dfAtomic.iterrows():\n",
    "    #print(row[\"exception\"])"
   ]
  },
  {
   "cell_type": "markdown",
   "metadata": {},
   "source": [
    "### Resolve Exceptions"
   ]
  },
  {
   "cell_type": "code",
   "execution_count": 11,
   "metadata": {
    "scrolled": false
   },
   "outputs": [
    {
     "name": "stdout",
     "output_type": "stream",
     "text": [
      "Len of df is 1205113\n"
     ]
    },
    {
     "data": {
      "application/vnd.jupyter.widget-view+json": {
       "model_id": "f14b334150624a70b72ded908b6db1d2",
       "version_major": 2,
       "version_minor": 0
      },
      "text/plain": [
       "HBox(children=(FloatProgress(value=0.0, max=67214.0), HTML(value='')))"
      ]
     },
     "metadata": {},
     "output_type": "display_data"
    },
    {
     "name": "stdout",
     "output_type": "stream",
     "text": [
      "\n",
      "Found 54976 timeouts during training and 12238 timeouts during prediction. Len of df is 1205113\n"
     ]
    },
    {
     "data": {
      "application/vnd.jupyter.widget-view+json": {
       "model_id": "6de7fee638f445e3a47291340ba8e951",
       "version_major": 2,
       "version_minor": 0
      },
      "text/plain": [
       "HBox(children=(FloatProgress(value=0.0, max=458329.0), HTML(value='')))"
      ]
     },
     "metadata": {},
     "output_type": "display_data"
    },
    {
     "name": "stdout",
     "output_type": "stream",
     "text": [
      "\n",
      "Removing lines with exceptions.\n",
      "Now removing lines where fittime is not available.\n",
      "Now removing lines where fitattributes is not available.\n",
      "Ready. Prepared clean dataset.\n"
     ]
    }
   ],
   "source": [
    "dfAtomic = resolveExceptions(dfAtomic)\n",
    "print(\"Now removing lines where fitattributes is not available.\")\n",
    "dfAtomic = dfAtomic[(dfAtomic[\"numattributes\"].notnull()) & (dfAtomic[\"fittime\"].notnull())]\n",
    "print(\"Ready. Prepared clean dataset.\")\n",
    "dfAtomic = dfAtomic.astype({\"numattributes\": int, \"fittime\": int})"
   ]
  },
  {
   "cell_type": "markdown",
   "metadata": {},
   "source": [
    "### Write Runtime File"
   ]
  },
  {
   "cell_type": "code",
   "execution_count": 12,
   "metadata": {},
   "outputs": [],
   "source": [
    "dfAtomic.to_csv(\"data/runtimes/runtimes_atomic.csv\", index=False)"
   ]
  },
  {
   "cell_type": "markdown",
   "metadata": {},
   "source": [
    "## Without Outliers"
   ]
  },
  {
   "cell_type": "code",
   "execution_count": 13,
   "metadata": {
    "scrolled": false
   },
   "outputs": [],
   "source": [
    "def removeOutliersFromBatches(df, groupfeatures, targets, maxIQRFactor = 1.5, minRangeToDrop = 30):\n",
    "    groups = df.groupby(groupfeatures)\n",
    "    effectiveNumberOfGroups = 0\n",
    "    for gIndex, group in groups:\n",
    "        effectiveNumberOfGroups += 1\n",
    "    pbar = tqdm(total = effectiveNumberOfGroups)\n",
    "    sizeAtStart = len(df)\n",
    "    droppedIndices = []\n",
    "    for gIndex, group in groups:\n",
    "        bef = len(group) + 1\n",
    "        cur = len(group)\n",
    "        while len(group) > 0 and bef != cur:\n",
    "            #if len(group) < 4:\n",
    "            #    dropFromGroup = group.index\n",
    "            #else:\n",
    "            dropFromGroup = []\n",
    "            for target in targets:\n",
    "                col = group[target]\n",
    "                q1 = np.quantile(col, 0.25)\n",
    "                q3 = np.quantile(col, 0.75) \n",
    "                iqr = q3 - q1\n",
    "                if np.max(col) - np.min(col) > minRangeToDrop:\n",
    "                    dropFromGroup.extend(group[group[target] > q3 + np.max([1, iqr]) * maxIQRFactor].index)\n",
    "                    dropFromGroup.extend(group[group[target] < q1 - np.max([1, iqr]) * maxIQRFactor].index)\n",
    "            droppedIndices.extend(set(dropFromGroup))\n",
    "            group = group.drop(index = dropFromGroup)\n",
    "            bef = cur\n",
    "            cur = len(group)\n",
    "        pbar.update(1)\n",
    "    pbar.close()\n",
    "    df = df.drop(index = set(droppedIndices))\n",
    "    sizeAtEnd = len(df)\n",
    "    print(\"Size after outlier removal: \" + str(sizeAtEnd) + \". Removed: \" + str(sizeAtStart - sizeAtEnd))\n",
    "    return df\n",
    "\n",
    "def dropStronglyDivergingMaximaFromBatches(df):\n",
    "    toDrop = []\n",
    "    groups = df.groupby([\"openmlid\", \"algorithm\", \"algorithmoptions\", \"fitsize\", \"numattributes\"])\n",
    "    numberOfGroups = 0\n",
    "    for gIndex, g in groups:\n",
    "        numberOfGroups += 1\n",
    "    \n",
    "    pbar = tqdm(total = numberOfGroups)\n",
    "    for ig, group in groups:\n",
    "        col = group[\"applicationtime\"]\n",
    "        col = col[~np.isnan(col)]\n",
    "        if len(col) == 0:\n",
    "            continue\n",
    "\n",
    "        median = np.quantile(col, 0.5, interpolation=\"lower\")\n",
    "        while median - np.min(col) < 120 and np.max(col) - median > 100:\n",
    "            toDropHere = col[col == np.max(col)].index\n",
    "            toDrop.extend(toDropHere)\n",
    "            group = group.drop(index = toDropHere)\n",
    "            col = group[\"applicationtime\"]\n",
    "            col = col[~np.isnan(col)]\n",
    "            median = np.quantile(col, 0.5, interpolation=\"lower\")\n",
    "\n",
    "        while np.max(col) - median > 60:\n",
    "            toDropHere = col[col == np.max(col)].index\n",
    "            toDrop.extend(toDropHere)\n",
    "            group = group.drop(index = toDropHere)\n",
    "            col = group[\"applicationtime\"]\n",
    "            col = col[~np.isnan(col)]\n",
    "            median = np.quantile(col, 0.5, interpolation=\"lower\")\n",
    "        pbar.update(1)\n",
    "    pbar.close()\n",
    "    print(\"Removing \" + str(len(toDrop)) + \" entries\")\n",
    "    return df.drop(index = toDrop)\n",
    "\n",
    "#dfBAWithoutOutliers = removeOutliersFromBatches(dfBA, [\"openmlid\", \"algorithm\", \"algorithmoptions\", \"fitsize\", \"numattributes\"], [\"fittime\", \"applicationtime\"])\n",
    "#dfBAWithoutOutliers = dropStronglyDivergingMaximaFromBatches(dfBAWithoutOutliers)\n",
    "#dfBAWithoutOutliers.to_csv(\"data/runtimes/runtimes_atomic_nooutliers.csv\", index=False)"
   ]
  },
  {
   "cell_type": "code",
   "execution_count": 14,
   "metadata": {},
   "outputs": [
    {
     "name": "stderr",
     "output_type": "stream",
     "text": [
      "/home/felix/anaconda3/lib/python3.7/site-packages/IPython/core/interactiveshell.py:3072: DtypeWarning: Columns (3) have mixed types.Specify dtype option on import or set low_memory=False.\n",
      "  interactivity=interactivity, compiler=compiler, result=result)\n"
     ]
    },
    {
     "ename": "KeyboardInterrupt",
     "evalue": "",
     "output_type": "error",
     "traceback": [
      "\u001b[0;31m---------------------------------------------------------------------------\u001b[0m",
      "\u001b[0;31mKeyboardInterrupt\u001b[0m                         Traceback (most recent call last)",
      "\u001b[0;32m<ipython-input-14-9b16d33aa97b>\u001b[0m in \u001b[0;36m<module>\u001b[0;34m\u001b[0m\n\u001b[1;32m      7\u001b[0m \u001b[0mdfWOODefault\u001b[0m \u001b[0;34m=\u001b[0m \u001b[0mdfDefault\u001b[0m\u001b[0;34m\u001b[0m\u001b[0;34m\u001b[0m\u001b[0m\n\u001b[1;32m      8\u001b[0m \u001b[0;32mwhile\u001b[0m \u001b[0;32mTrue\u001b[0m\u001b[0;34m:\u001b[0m\u001b[0;34m\u001b[0m\u001b[0;34m\u001b[0m\u001b[0m\n\u001b[0;32m----> 9\u001b[0;31m     \u001b[0mdfWOODefault\u001b[0m \u001b[0;34m=\u001b[0m \u001b[0mremoveOutliersFromBatches\u001b[0m\u001b[0;34m(\u001b[0m\u001b[0mdfWOODefault\u001b[0m\u001b[0;34m,\u001b[0m \u001b[0;34m[\u001b[0m\u001b[0;34m\"openmlid\"\u001b[0m\u001b[0;34m,\u001b[0m \u001b[0;34m\"algorithm\"\u001b[0m\u001b[0;34m,\u001b[0m \u001b[0;34m\"fitsize\"\u001b[0m\u001b[0;34m,\u001b[0m \u001b[0;34m\"numattributes\"\u001b[0m\u001b[0;34m]\u001b[0m\u001b[0;34m,\u001b[0m \u001b[0;34m[\u001b[0m\u001b[0;34m\"fittime\"\u001b[0m\u001b[0;34m,\u001b[0m \u001b[0;34m\"applicationtime\"\u001b[0m\u001b[0;34m]\u001b[0m\u001b[0;34m,\u001b[0m \u001b[0mmaxIQRFactor\u001b[0m \u001b[0;34m=\u001b[0m \u001b[0;36m.5\u001b[0m\u001b[0;34m)\u001b[0m\u001b[0;34m\u001b[0m\u001b[0;34m\u001b[0m\u001b[0m\n\u001b[0m\u001b[1;32m     10\u001b[0m     \u001b[0mbef\u001b[0m \u001b[0;34m=\u001b[0m \u001b[0mlen\u001b[0m\u001b[0;34m(\u001b[0m\u001b[0mdfWOODefault\u001b[0m\u001b[0;34m)\u001b[0m \u001b[0;31m# this outlier removal is idempotent\u001b[0m\u001b[0;34m\u001b[0m\u001b[0;34m\u001b[0m\u001b[0m\n\u001b[1;32m     11\u001b[0m     \u001b[0mdfWOODefault\u001b[0m \u001b[0;34m=\u001b[0m \u001b[0mdropStronglyDivergingMaximaFromBatches\u001b[0m\u001b[0;34m(\u001b[0m\u001b[0mdfWOODefault\u001b[0m\u001b[0;34m)\u001b[0m\u001b[0;34m\u001b[0m\u001b[0;34m\u001b[0m\u001b[0m\n",
      "\u001b[0;32m<ipython-input-13-a039fba726f3>\u001b[0m in \u001b[0;36mremoveOutliersFromBatches\u001b[0;34m(df, groupfeatures, targets, maxIQRFactor, minRangeToDrop)\u001b[0m\n\u001b[1;32m      3\u001b[0m     \u001b[0meffectiveNumberOfGroups\u001b[0m \u001b[0;34m=\u001b[0m \u001b[0;36m0\u001b[0m\u001b[0;34m\u001b[0m\u001b[0;34m\u001b[0m\u001b[0m\n\u001b[1;32m      4\u001b[0m     \u001b[0;32mfor\u001b[0m \u001b[0mgIndex\u001b[0m\u001b[0;34m,\u001b[0m \u001b[0mgroup\u001b[0m \u001b[0;32min\u001b[0m \u001b[0mgroups\u001b[0m\u001b[0;34m:\u001b[0m\u001b[0;34m\u001b[0m\u001b[0;34m\u001b[0m\u001b[0m\n\u001b[0;32m----> 5\u001b[0;31m         \u001b[0meffectiveNumberOfGroups\u001b[0m \u001b[0;34m+=\u001b[0m \u001b[0;36m1\u001b[0m\u001b[0;34m\u001b[0m\u001b[0;34m\u001b[0m\u001b[0m\n\u001b[0m\u001b[1;32m      6\u001b[0m     \u001b[0mpbar\u001b[0m \u001b[0;34m=\u001b[0m \u001b[0mtqdm\u001b[0m\u001b[0;34m(\u001b[0m\u001b[0mtotal\u001b[0m \u001b[0;34m=\u001b[0m \u001b[0meffectiveNumberOfGroups\u001b[0m\u001b[0;34m)\u001b[0m\u001b[0;34m\u001b[0m\u001b[0;34m\u001b[0m\u001b[0m\n\u001b[1;32m      7\u001b[0m     \u001b[0msizeAtStart\u001b[0m \u001b[0;34m=\u001b[0m \u001b[0mlen\u001b[0m\u001b[0;34m(\u001b[0m\u001b[0mdf\u001b[0m\u001b[0;34m)\u001b[0m\u001b[0;34m\u001b[0m\u001b[0;34m\u001b[0m\u001b[0m\n",
      "\u001b[0;31mKeyboardInterrupt\u001b[0m: "
     ]
    }
   ],
   "source": [
    "dfBA = pd.read_csv(\"data/runtimes/runtimes_atomic.csv\")\n",
    "\n",
    "dfDefault = dfBA[dfBA[\"algorithmoptions\"].isnull()]\n",
    "dfConfigured = dfBA[dfBA[\"algorithmoptions\"].notnull()]\n",
    "\n",
    "bef = len(dfDefault)\n",
    "dfWOODefault = dfDefault\n",
    "while True:\n",
    "    dfWOODefault = removeOutliersFromBatches(dfWOODefault, [\"openmlid\", \"algorithm\", \"fitsize\", \"numattributes\"], [\"fittime\", \"applicationtime\"], maxIQRFactor = .5)\n",
    "    bef = len(dfWOODefault) # this outlier removal is idempotent\n",
    "    dfWOODefault = dropStronglyDivergingMaximaFromBatches(dfWOODefault)\n",
    "    if len(dfWOODefault) == bef:\n",
    "        break\n",
    "    bef = len(dfWOODefault)\n",
    "\n",
    "bef = len(dfConfigured)\n",
    "dfWOOConfigured = dfConfigured\n",
    "while True:\n",
    "    dfWOOConfigured = removeOutliersFromBatches(dfWOOConfigured, [\"openmlid\", \"algorithm\", \"algorithmoptions\", \"fitsize\", \"numattributes\"], [\"fittime\", \"applicationtime\"], maxIQRFactor = .5)\n",
    "    bef = len(dfWOOConfigured) # this outlier removal is idempotent\n",
    "    dfWOOConfigured = dropStronglyDivergingMaximaFromBatches(dfWOOConfigured)\n",
    "    if len(dfWOOConfigured) == bef:\n",
    "        break\n",
    "    bef = len(dfWOOConfigured)\n",
    "\n",
    "dfWOO = pd.concat([dfWOODefault, dfWOOConfigured], sort=False, ignore_index = True)\n",
    "dfWOO.to_csv(\"data/runtimes/runtimes_atomic_nooutliers.csv\", index=False)"
   ]
  },
  {
   "cell_type": "code",
   "execution_count": 20,
   "metadata": {
    "scrolled": true
   },
   "outputs": [
    {
     "name": "stdout",
     "output_type": "stream",
     "text": [
      "(3, 100, 100) - fittime (n=5)\n",
      "iqr = 7.0\n",
      "max = 31.5\n",
      "TRUE MAX: 41\n"
     ]
    },
    {
     "data": {
      "image/png": "[encoded data removed]",
      "text/plain": [
       "<Figure size 432x288 with 1 Axes>"
      ]
     },
     "metadata": {
      "needs_background": "light"
     },
     "output_type": "display_data"
    },
    {
     "name": "stdout",
     "output_type": "stream",
     "text": [
      "(300, 100, 80000) - fittime (n=4)\n",
      "iqr = 7.0\n",
      "max = 153.25\n",
      "TRUE MAX: 160\n"
     ]
    },
    {
     "data": {
      "image/png": "[encoded data removed]",
      "text/plain": [
       "<Figure size 432x288 with 1 Axes>"
      ]
     },
     "metadata": {
      "needs_background": "light"
     },
     "output_type": "display_data"
    },
    {
     "name": "stdout",
     "output_type": "stream",
     "text": [
      "(803, 10000, 100) - fittime (n=4)\n",
      "iqr = 9.0\n",
      "max = 45.0\n",
      "TRUE MAX: 51\n"
     ]
    },
    {
     "data": {
      "image/png": "[encoded data removed]",
      "text/plain": [
       "<Figure size 432x288 with 1 Axes>"
      ]
     },
     "metadata": {
      "needs_background": "light"
     },
     "output_type": "display_data"
    },
    {
     "name": "stdout",
     "output_type": "stream",
     "text": [
      "(976, 100, 60000) - fittime (n=5)\n",
      "iqr = 7.0\n",
      "max = 104.5\n",
      "TRUE MAX: 115\n"
     ]
    },
    {
     "data": {
      "image/png": "[encoded data removed]",
      "text/plain": [
       "<Figure size 432x288 with 1 Axes>"
      ]
     },
     "metadata": {
      "needs_background": "light"
     },
     "output_type": "display_data"
    },
    {
     "name": "stdout",
     "output_type": "stream",
     "text": [
      "12.687535324653616\n"
     ]
    }
   ],
   "source": [
    "def getBatchesWithHighVariance(df, batchAttributes, targets, threshold):\n",
    "    \n",
    "    if type(targets) != list:\n",
    "        targets = [targets]\n",
    "    \n",
    "    # First compute dispersions\n",
    "    groups = df.groupby(batchAttributes)\n",
    "    maxM = 10000000\n",
    "    M = 0\n",
    "    stds = []\n",
    "    for j, subGroup in groups:\n",
    "        for target in targets:\n",
    "            std = np.nanstd(subGroup[target])\n",
    "            stds.append(std)\n",
    "            if std >= threshold:\n",
    "                q1 = np.quantile(subGroup[target], 0.25)\n",
    "                q3 = np.quantile(subGroup[target], 0.75)\n",
    "                iqr = q3 - q1\n",
    "                supposedMax = q3 + 1.5 * iqr\n",
    "                trueMax = np.max(subGroup[target])\n",
    "                if trueMax > supposedMax:\n",
    "                    print(str(j) + \" - \" + target + \" (n=\" + str(len(subGroup)) + \")\")\n",
    "                    print(\"iqr = \" + str(iqr))\n",
    "                    print(\"max = \" + str(supposedMax))\n",
    "                    print(\"TRUE MAX: \" + str(trueMax))\n",
    "                    plt.figure()\n",
    "                    plt.boxplot(subGroup[target])\n",
    "                    plt.show()\n",
    "                M += 1\n",
    "                if M == maxM:\n",
    "                    return\n",
    "    print(sp.stats.trim_mean(stds, 0.1))\n",
    "getBatchesWithHighVariance(dfWOODefault[dfWOODefault[\"algorithm\"] == \"ibk\"], [\"openmlid\", \"fitsize\", \"numattributes\"], [\"fittime\"], 10)"
   ]
  },
  {
   "cell_type": "code",
   "execution_count": 21,
   "metadata": {},
   "outputs": [
    {
     "ename": "NameError",
     "evalue": "name 'dfWOOConfigured2' is not defined",
     "output_type": "error",
     "traceback": [
      "\u001b[0;31m---------------------------------------------------------------------------\u001b[0m",
      "\u001b[0;31mNameError\u001b[0m                                 Traceback (most recent call last)",
      "\u001b[0;32m<ipython-input-21-4485b40e08ca>\u001b[0m in \u001b[0;36m<module>\u001b[0;34m\u001b[0m\n\u001b[0;32m----> 1\u001b[0;31m \u001b[0mdfWOOConfigured2\u001b[0m\u001b[0;34m.\u001b[0m\u001b[0mquery\u001b[0m\u001b[0;34m(\u001b[0m\u001b[0;34m\"algorithm == 'logistic' and algorithmoptions=='-R 0.000001' and openmlid == 179 and fitsize == 1000 and numattributes == 14\"\u001b[0m\u001b[0;34m)\u001b[0m\u001b[0;34m\u001b[0m\u001b[0;34m\u001b[0m\u001b[0m\n\u001b[0m",
      "\u001b[0;31mNameError\u001b[0m: name 'dfWOOConfigured2' is not defined"
     ]
    }
   ],
   "source": [
    "dfWOOConfigured2.query(\"algorithm == 'logistic' and algorithmoptions=='-R 0.000001' and openmlid == 179 and fitsize == 1000 and numattributes == 14\")"
   ]
  },
  {
   "cell_type": "markdown",
   "metadata": {},
   "source": [
    "# Files Relevant for Using the Approach in ML-Plan\n",
    "What follows after this is not relevant for the python-based analysis and can be skipped for the first phase."
   ]
  },
  {
   "cell_type": "markdown",
   "metadata": {},
   "source": [
    "## Create archive with all runtimes and the corresponding default runtimes"
   ]
  },
  {
   "cell_type": "code",
   "execution_count": 4,
   "metadata": {},
   "outputs": [],
   "source": [
    "dfBA = pd.read_csv(\"data/runtimes/runtimes_atomic_nooutliers.csv\")\n",
    "#dfBADefault = dfBA[dfBA[\"algorithmoptions\"].isnull()]\n",
    "#dfBACombined = dfBA.merge(dfBADefault, on=[\"openmlid\", \"algorithm\", \"seed\"], suffixes=(\"\", \"_def\"))"
   ]
  },
  {
   "cell_type": "code",
   "execution_count": null,
   "metadata": {},
   "outputs": [],
   "source": []
  },
  {
   "cell_type": "code",
   "execution_count": 5,
   "metadata": {},
   "outputs": [
    {
     "name": "stdout",
     "output_type": "stream",
     "text": [
      "2724011\n"
     ]
    }
   ],
   "source": [
    "print(len(dfBA))\n",
    "#print(len(dfBACombined))"
   ]
  },
  {
   "cell_type": "markdown",
   "metadata": {},
   "source": [
    "# Compile One CSV-File per Atomic Algorithm"
   ]
  },
  {
   "cell_type": "code",
   "execution_count": 4,
   "metadata": {},
   "outputs": [
    {
     "name": "stderr",
     "output_type": "stream",
     "text": [
      "/home/felix/anaconda3/lib/python3.7/site-packages/IPython/core/interactiveshell.py:3058: DtypeWarning: Columns (3) have mixed types. Specify dtype option on import or set low_memory=False.\n",
      "  interactivity=interactivity, compiler=compiler, result=result)\n"
     ]
    },
    {
     "data": {
      "application/vnd.jupyter.widget-view+json": {
       "model_id": "47c3def868ca4deba2bba26846824900",
       "version_major": 2,
       "version_minor": 0
      },
      "text/plain": [
       "HBox(children=(IntProgress(value=0, max=30), HTML(value='')))"
      ]
     },
     "metadata": {},
     "output_type": "display_data"
    },
    {
     "name": "stdout",
     "output_type": "stream",
     "text": [
      "bayesnet\n",
      "58105\n",
      "49883\n",
      "['openmlid', 'totalsize', 'fitsize', 'applicationsize', 'numattributes', 'seed', 'algorithm', 'algorithmoptions', 'fittime', 'applicationtime', 'fittime_def', 'applicationtime_def', 'D', 'Q']\n",
      "decisionstump\n",
      "decisiontable\n",
      "52556\n",
      "42030\n",
      "['openmlid', 'totalsize', 'fitsize', 'applicationsize', 'numattributes', 'seed', 'algorithm', 'algorithmoptions', 'fittime', 'applicationtime', 'fittime_def', 'applicationtime_def', 'I', 'X', 'E', 'S']\n",
      "ibk\n",
      "8865\n",
      "6511\n",
      "['openmlid', 'totalsize', 'fitsize', 'applicationsize', 'numattributes', 'seed', 'algorithm', 'algorithmoptions', 'fittime', 'applicationtime', 'fittime_def', 'applicationtime_def', 'I', 'F', 'E', 'X', 'K']\n",
      "kstar\n",
      "multilayerperceptron\n",
      "65849\n",
      "51025\n",
      "['openmlid', 'totalsize', 'fitsize', 'applicationsize', 'numattributes', 'seed', 'algorithm', 'algorithmoptions', 'fittime', 'applicationtime', 'fittime_def', 'applicationtime_def', 'B', 'R', 'C', 'D', 'L', 'M', 'H']\n",
      "naivebayes\n",
      "6003\n",
      "5102\n",
      "['openmlid', 'totalsize', 'fitsize', 'applicationsize', 'numattributes', 'seed', 'algorithm', 'algorithmoptions', 'fittime', 'applicationtime', 'fittime_def', 'applicationtime_def', 'K', 'D']\n",
      "oner\n",
      "21524\n",
      "18906\n",
      "['openmlid', 'totalsize', 'fitsize', 'applicationsize', 'numattributes', 'seed', 'algorithm', 'algorithmoptions', 'fittime', 'applicationtime', 'fittime_def', 'applicationtime_def', 'B']\n",
      "part\n",
      "7253\n",
      "5894\n",
      "['openmlid', 'totalsize', 'fitsize', 'applicationsize', 'numattributes', 'seed', 'algorithm', 'algorithmoptions', 'fittime', 'applicationtime', 'fittime_def', 'applicationtime_def', 'R', 'B', 'U', 'J', 'M', 'N']\n",
      "randomforest\n",
      "107229\n",
      "94563\n",
      "['openmlid', 'totalsize', 'fitsize', 'applicationsize', 'numattributes', 'seed', 'algorithm', 'algorithmoptions', 'fittime', 'applicationtime', 'fittime_def', 'applicationtime_def', 'B', 'I', 'K', 'M', 'V', 'N']\n",
      "randomtree\n",
      "11107\n",
      "9492\n",
      "['openmlid', 'totalsize', 'fitsize', 'applicationsize', 'numattributes', 'seed', 'algorithm', 'algorithmoptions', 'fittime', 'applicationtime', 'fittime_def', 'applicationtime_def', 'U', 'B', 'K', 'M', 'V', 'N']\n",
      "smo\n",
      "40074\n",
      "28060\n",
      "['openmlid', 'totalsize', 'fitsize', 'applicationsize', 'numattributes', 'seed', 'algorithm', 'algorithmoptions', 'fittime', 'applicationtime', 'fittime_def', 'applicationtime_def', 'C', 'N', 'L', 'P', 'V']\n",
      "votedperceptron\n",
      "2208\n",
      "1705\n",
      "['openmlid', 'totalsize', 'fitsize', 'applicationsize', 'numattributes', 'seed', 'algorithm', 'algorithmoptions', 'fittime', 'applicationtime', 'fittime_def', 'applicationtime_def', 'I', 'E', 'M']\n",
      "logistic\n",
      "20810\n",
      "11485\n",
      "['openmlid', 'totalsize', 'fitsize', 'applicationsize', 'numattributes', 'seed', 'algorithm', 'algorithmoptions', 'fittime', 'applicationtime', 'fittime_def', 'applicationtime_def', 'R']\n",
      "reptree\n",
      "12127\n",
      "10565\n",
      "['openmlid', 'totalsize', 'fitsize', 'applicationsize', 'numattributes', 'seed', 'algorithm', 'algorithmoptions', 'fittime', 'applicationtime', 'fittime_def', 'applicationtime_def', 'P', 'M', 'V', 'L', 'N']\n",
      "j48\n",
      "12510\n",
      "3728\n",
      "['openmlid', 'totalsize', 'fitsize', 'applicationsize', 'numattributes', 'seed', 'algorithm', 'algorithmoptions', 'fittime', 'applicationtime', 'fittime_def', 'applicationtime_def', 'O', 'U', 'B', 'S', 'A', 'C', 'M']\n",
      "lmt\n",
      "15527\n",
      "7339\n",
      "['openmlid', 'totalsize', 'fitsize', 'applicationsize', 'numattributes', 'seed', 'algorithm', 'algorithmoptions', 'fittime', 'applicationtime', 'fittime_def', 'applicationtime_def', 'B', 'R', 'C', 'P', 'A', 'M', 'W']\n",
      "jrip\n",
      "13376\n",
      "2088\n",
      "['openmlid', 'totalsize', 'fitsize', 'applicationsize', 'numattributes', 'seed', 'algorithm', 'algorithmoptions', 'fittime', 'applicationtime', 'fittime_def', 'applicationtime_def', 'E', 'P', 'F', 'N', 'O']\n",
      "simplelogistic\n",
      "13533\n",
      "10594\n",
      "['openmlid', 'totalsize', 'fitsize', 'applicationsize', 'numattributes', 'seed', 'algorithm', 'algorithmoptions', 'fittime', 'applicationtime', 'fittime_def', 'applicationtime_def', 'S', 'A', 'P', 'W', 'H', 'I', 'M']\n",
      "naivebayesmultinomial\n",
      "zeror\n",
      "bestfirst_cfssubseteval\n",
      "297041\n",
      "1957985\n",
      "['openmlid', 'totalsize', 'fitsize', 'applicationsize', 'numattributes', 'seed', 'algorithm', 'algorithmoptions', 'fittime', 'applicationtime', 'fittime_def', 'applicationtime_def', 'D', 'N', 'S', 'L', 'M', 'Z']\n",
      "greedystepwise_cfssubseteval\n",
      "76777\n",
      "387747\n",
      "['openmlid', 'totalsize', 'fitsize', 'applicationsize', 'numattributes', 'seed', 'algorithm', 'algorithmoptions', 'fittime', 'applicationtime', 'fittime_def', 'applicationtime_def', 'C', 'B', 'N', 'L', 'M', 'Z']\n",
      "ranker_correlationattributeeval\n",
      "31496\n",
      "157602\n",
      "['openmlid', 'totalsize', 'fitsize', 'applicationsize', 'numattributes', 'seed', 'algorithm', 'algorithmoptions', 'fittime', 'applicationtime', 'fittime_def', 'applicationtime_def', 'N']\n",
      "ranker_principalcomponents\n",
      "354111\n",
      "807762\n",
      "['openmlid', 'totalsize', 'fitsize', 'applicationsize', 'numattributes', 'seed', 'algorithm', 'algorithmoptions', 'fittime', 'applicationtime', 'fittime_def', 'applicationtime_def', 'N', 'A', 'R', 'C', 'O']\n",
      "ranker_relieffattributeeval\n",
      "93131\n",
      "505870\n",
      "['openmlid', 'totalsize', 'fitsize', 'applicationsize', 'numattributes', 'seed', 'algorithm', 'algorithmoptions', 'fittime', 'applicationtime', 'fittime_def', 'applicationtime_def', 'N', 'K', 'M', 'A', 'W']\n",
      "ranker_gainratioattributeeval\n",
      "31492\n",
      "133216\n",
      "['openmlid', 'totalsize', 'fitsize', 'applicationsize', 'numattributes', 'seed', 'algorithm', 'algorithmoptions', 'fittime', 'applicationtime', 'fittime_def', 'applicationtime_def', 'N']\n",
      "ranker_infogainattributeeval\n",
      "125860\n",
      "643916\n",
      "['openmlid', 'totalsize', 'fitsize', 'applicationsize', 'numattributes', 'seed', 'algorithm', 'algorithmoptions', 'fittime', 'applicationtime', 'fittime_def', 'applicationtime_def', 'N', 'M', 'B']\n",
      "ranker_symmetricaluncertattributeeval\n",
      "62946\n",
      "322290\n",
      "['openmlid', 'totalsize', 'fitsize', 'applicationsize', 'numattributes', 'seed', 'algorithm', 'algorithmoptions', 'fittime', 'applicationtime', 'fittime_def', 'applicationtime_def', 'N', 'M']\n",
      "ranker_onerattributeeval\n",
      "538647\n",
      "190\n",
      "['openmlid', 'totalsize', 'fitsize', 'applicationsize', 'numattributes', 'seed', 'algorithm', 'algorithmoptions', 'fittime', 'applicationtime', 'fittime_def', 'applicationtime_def', 'N', 'D', 'F', 'B']\n",
      "\n"
     ]
    }
   ],
   "source": [
    "df = pd.read_csv(\"data/runtimes/runtimes_atomic_nooutliers.csv\")\n",
    "algorithms = pd.unique(df[\"algorithm\"])\n",
    "for a in tqdm(algorithms):\n",
    "    print(a)\n",
    "    dfAlg = df[df[\"algorithm\"] == a]\n",
    "    dfAlgDefaults = dfAlg[dfAlg[\"algorithmoptions\"].isnull()]\n",
    "    dfAlgParametrized = dfAlg[dfAlg[\"algorithmoptions\"].notnull()]\n",
    "    if len(dfAlgParametrized) > 0:\n",
    "        print(len(dfAlgParametrized))\n",
    "        columns = [\"openmlid\", \"totalsize\", \"fitsize\", \"applicationsize\", \"numattributes\", \"seed\", \"algorithm\", \"algorithmoptions\", \"fittime\", \"applicationtime\"]\n",
    "        dfAlgParametrized = dfAlgParametrized.merge(dfAlgDefaults, on=[\"openmlid\", \"algorithm\", \"seed\", \"fitsize\"], suffixes=(\"\", \"_def\"))\n",
    "        print(len(dfAlgParametrized))\n",
    "        columns.append(\"fittime_def\")\n",
    "        columns.append(\"applicationtime_def\")\n",
    "        columnsbeforeExplosion = list(dfAlgParametrized.columns)\n",
    "        dfAlgParametrized = explodeAlgorithmOptions(dfAlgParametrized, False)\n",
    "        algoParams = [x for x in dfAlgParametrized.columns if not x in columnsbeforeExplosion]\n",
    "        for x in [\"searcheroptions\", \"evaloptions\"]:\n",
    "            if x in algoParams:\n",
    "                algoParams.remove(x)\n",
    "        columns.extend(algoParams)\n",
    "        print(columns)\n",
    "        dfAlgParametrized[columns].to_csv(\"data/runtimes/atomic/runtimes_\" + a + \"_parametrized.csv\", index=False)\n",
    "    if len(dfAlgDefaults) > 0:\n",
    "        dfAlgDefaults.to_csv(\"data/runtimes/atomic/runtimes_\" + a + \"_default.csv\", index=False)"
   ]
  },
  {
   "cell_type": "code",
   "execution_count": 9,
   "metadata": {},
   "outputs": [
    {
     "name": "stdout",
     "output_type": "stream",
     "text": [
      "Read in data\n",
      "Len of df is 45742\n"
     ]
    },
    {
     "data": {
      "application/vnd.jupyter.widget-view+json": {
       "model_id": "ebed436696804c0ea75d1876a05d2b0c",
       "version_major": 2,
       "version_minor": 0
      },
      "text/plain": [
       "HBox(children=(IntProgress(value=0, max=4240), HTML(value='')))"
      ]
     },
     "metadata": {},
     "output_type": "display_data"
    },
    {
     "name": "stdout",
     "output_type": "stream",
     "text": [
      "\n",
      "Found 1139 timeouts. Len of df is 45742\n"
     ]
    },
    {
     "data": {
      "application/vnd.jupyter.widget-view+json": {
       "model_id": "8768164ed6cf470e9cc1372d2ad30db6",
       "version_major": 2,
       "version_minor": 0
      },
      "text/plain": [
       "HBox(children=(IntProgress(value=0, max=3101), HTML(value='')))"
      ]
     },
     "metadata": {},
     "output_type": "display_data"
    },
    {
     "name": "stdout",
     "output_type": "stream",
     "text": [
      "\n",
      "Removing lines with exceptions.\n",
      "Now removing lines where fittime is not available.\n",
      "Now removing lines where fitattributes is not available.\n",
      "Ready. Prepared clean dataset.\n"
     ]
    }
   ],
   "source": [
    "def getAllMetalearnerRuntimesWithMetafeaturesForDefault():\n",
    "    \n",
    "    # read in basic datasets\n",
    "    print(\"Read in data\")\n",
    "    dfDatasets = pd.read_csv(\"data/datasets.csv\").rename(columns={\"numinstances\": \"totalsize\"})\n",
    "    dfMetafeatures = pd.read_csv(\"data/metafeatures.csv\", delimiter=\";\")\n",
    "    dfClassifiers = pd.read_csv(\"data/rawruntimes/runtimes_metalearners_default.csv\", delimiter=\";\")\n",
    "    dfClassifiers = dfClassifiers[~dfClassifiers[\"fittime\"].isnull()]\n",
    "    df = dfClassifiers.merge(dfMetafeatures, left_on=[\"openmlid\", \"fitsize\", \"seed\"], right_on=[\"openmlid\", \"datapoints_fold1\", \"seed\"])\n",
    "    df = df.merge(dfDatasets, on=[\"openmlid\"])\n",
    "    df[\"applicationsize\"] = df[\"totalsize\"] - df[\"fitsize\"]\n",
    "    df = df.rename(columns={\"f1_numericattributesafterbinarization\": \"fitattributes\"})\n",
    "    df = df[~df[\"fitattributes\"].isnull()]\n",
    "    df = df[['experiment_id', 'openmlid', 'totalsize', 'fitsize', 'applicationsize', 'fitattributes', 'seed', 'algorithm', 'baselearner', 'fittime', 'applicationtime', 'exception']]\n",
    "    \n",
    "    df = resolveExceptions(df)\n",
    "\n",
    "    print(\"Now removing lines where fitattributes is not available.\")\n",
    "    df = df[df[\"fitattributes\"].notnull()]\n",
    "    print(\"Ready. Prepared clean dataset.\")\n",
    "    return df.astype({\"fitattributes\": int, \"fittime\": int}).copy()\n",
    "\n",
    "df = getAllMetalearnerRuntimesWithMetafeaturesForDefault()\n",
    "df.to_csv(\"data/runtimes/runtimes_meta_default.csv\", index=False)"
   ]
  },
  {
   "cell_type": "markdown",
   "metadata": {},
   "source": [
    "# Create Complete META FEATURE TRANSFORMATION CSV"
   ]
  },
  {
   "cell_type": "code",
   "execution_count": 11,
   "metadata": {},
   "outputs": [],
   "source": [
    "# read in data\n",
    "df = pd.read_csv(FILE_PREPROCESSORS_PARAMETRIZED, delimiter=\";\").merge(dfDatasets, on='openmlid')\n",
    "df[['openmlid', 'algorithm', 'algorithmoptions',\n",
    "       'numinstances_before', 'numattributes_before',\n",
    "       'numlabels_before', 'numnumericattributes_before',\n",
    "       'numsymbolicattributes_before', 'numberofcategories_before',\n",
    "       'numericattributesafterbinarization_before',\n",
    "       'attributestocover50pctvariance_before',\n",
    "       'attributestocover90pctvariance_before',\n",
    "       'attributestocover95pctvariance_before',\n",
    "       'attributestocover99pctvariance_before', 'totalvariance_before', 'numinstances_after',\n",
    "       'numattributes_after', 'numlabels_after', 'numnumericattributes_after',\n",
    "       'numsymbolicattributes_after', 'numberofcategories_after',\n",
    "       'numericattributesafterbinarization_after',\n",
    "       'attributestocover50pctvariance_after',\n",
    "       'attributestocover90pctvariance_after',\n",
    "       'attributestocover95pctvariance_after',\n",
    "       'attributestocover99pctvariance_after', 'totalvariance_after']].dropna().to_csv(\"data/metafeaturetransformations.csv\", index=False)"
   ]
  },
  {
   "cell_type": "markdown",
   "metadata": {},
   "source": [
    "# Compose Meta-Learner Runtime Parameters From Observations"
   ]
  },
  {
   "cell_type": "code",
   "execution_count": 7,
   "metadata": {},
   "outputs": [
    {
     "data": {
      "application/vnd.jupyter.widget-view+json": {
       "model_id": "49062626a295490c96e5bfcf73231e6d",
       "version_major": 2,
       "version_minor": 0
      },
      "text/plain": [
       "HBox(children=(IntProgress(value=0, max=36420), HTML(value='')))"
      ]
     },
     "metadata": {},
     "output_type": "display_data"
    },
    {
     "name": "stdout",
     "output_type": "stream",
     "text": [
      "\n"
     ]
    }
   ],
   "source": [
    "bareCallFeatures = ['numberOfDistributionCalls', 'numberOfDistributionSCalls', 'numberOfClassifyInstanceCalls', 'numberOfBuildClassifierCalls']\n",
    "callFeatures = []\n",
    "callFeatures.extend([f + \"_training\" for f in bareCallFeatures])\n",
    "callFeatures.extend([f + \"_prediction\" for f in bareCallFeatures])\n",
    "relevantColsOfInfos = ['algorithm', 'experiment_id', 'datasetMetafeatures']\n",
    "relevantColsOfInfos.extend(callFeatures)\n",
    "dfInfoDefault = pd.read_csv(\"data/rawruntimes/additional_information_metalearners_default.csv\", delimiter=\";\")[relevantColsOfInfos]\n",
    "dfInfoParametrized = pd.read_csv(\"data/rawruntimes/additional_information_metalearners_parametrized.csv\", delimiter=\";\")[relevantColsOfInfos]\n",
    "dfRuntimesDefault = pd.read_csv(\"data/rawruntimes/runtimes_metalearners_default.csv\", delimiter=\";\")\n",
    "dfRuntimesParametrized = pd.read_csv(\"data/rawruntimes/runtimes_metalearners_parametrized.csv\", delimiter=\";\")\n",
    "\n",
    "# merge the frames with the information of the parametrized meta-learner \n",
    "dfParametrized = dfInfoParametrized.merge(dfRuntimesParametrized, on=[\"algorithm\", \"experiment_id\"])\n",
    "dfParametrized = dfParametrized.merge(dfDatasets, on=[\"openmlid\"])\n",
    "\n",
    "# create a clean new dataframe that only contains those entries where the number of runs is as expected\n",
    "cleanDF = dfParametrized.drop(dfParametrized.index)\n",
    "for i, group in tqdm(dfParametrized.groupby([\"algorithm\", \"baselearner\", \"experiment_id\"])):\n",
    "    k = np.sum(group[\"numberOfBuildClassifierCalls_training\"])\n",
    "    options = str(pd.unique(group[\"algorithmoptions\"])[0])\n",
    "    expectedK = int(options.split(\" \")[options.split(\" \").index(\"-I\") + 1])\n",
    "    if k == expectedK:\n",
    "        callInfos = group.drop_duplicates().copy()\n",
    "        callInfos[\"k\"] = k\n",
    "        if len(callInfos) == 1:\n",
    "            cleanDF = pd.concat([cleanDF, callInfos], sort=False)\n",
    "cleanDF[\"predictioncalls_training\"] = np.max([cleanDF[\"numberOfClassifyInstanceCalls_training\"], cleanDF[\"numberOfDistributionCalls_training\"]], axis=0)\n",
    "cleanDF[\"predictioncalls_prediction\"] = np.max([cleanDF[\"numberOfClassifyInstanceCalls_prediction\"], cleanDF[\"numberOfDistributionCalls_prediction\"]], axis=0)\n",
    "cleanDF[\"numinstances_sub\"] = [map2dict(x)[\"numinstances\"] for x in cleanDF[\"datasetMetafeatures\"]]\n",
    "cleanDF[\"numattributes_sub\"] = [map2dict(x)[\"numattributes\"] for x in cleanDF[\"datasetMetafeatures\"]]\n",
    "cleanDF.astype({\"k\": int}).rename(columns={\"k\": \"builds\"})[['openmlid', 'algorithm', 'algorithmoptions', 'numinstances', 'numattributes', \n",
    "       'numattributesafterbinarization', 'trainpoints', 'numinstances_sub', 'numattributes_sub', 'builds', 'predictioncalls_training', 'predictioncalls_prediction']].drop_duplicates().to_csv(\"data/metalearner_parametereffects.csv\", index=False)"
   ]
  },
  {
   "cell_type": "code",
   "execution_count": 8,
   "metadata": {
    "scrolled": true
   },
   "outputs": [
    {
     "data": {
      "application/vnd.jupyter.widget-view+json": {
       "model_id": "c58ed97de5644073b8b9e0036a9f4135",
       "version_major": 2,
       "version_minor": 0
      },
      "text/plain": [
       "HBox(children=(IntProgress(value=0, max=5), HTML(value='')))"
      ]
     },
     "metadata": {},
     "output_type": "display_data"
    },
    {
     "name": "stdout",
     "output_type": "stream",
     "text": [
      "\n"
     ]
    },
    {
     "data": {
      "image/png": "[encoded data removed]",
      "text/plain": [
       "<Figure size 504x432 with 1 Axes>"
      ]
     },
     "metadata": {
      "needs_background": "light"
     },
     "output_type": "display_data"
    },
    {
     "data": {
      "application/vnd.jupyter.widget-view+json": {
       "model_id": "262a89219e604719ac3209a69df9c420",
       "version_major": 2,
       "version_minor": 0
      },
      "text/plain": [
       "HBox(children=(IntProgress(value=0, max=5), HTML(value='')))"
      ]
     },
     "metadata": {},
     "output_type": "display_data"
    },
    {
     "name": "stdout",
     "output_type": "stream",
     "text": [
      "\n"
     ]
    },
    {
     "data": {
      "image/png": "[encoded data removed]",
      "text/plain": [
       "<Figure size 504x432 with 1 Axes>"
      ]
     },
     "metadata": {
      "needs_background": "light"
     },
     "output_type": "display_data"
    },
    {
     "data": {
      "application/vnd.jupyter.widget-view+json": {
       "model_id": "c256cc7635fb4652bc1894c7d5daa8d2",
       "version_major": 2,
       "version_minor": 0
      },
      "text/plain": [
       "HBox(children=(IntProgress(value=0, max=5), HTML(value='')))"
      ]
     },
     "metadata": {},
     "output_type": "display_data"
    },
    {
     "name": "stdout",
     "output_type": "stream",
     "text": [
      "\n"
     ]
    },
    {
     "data": {
      "image/png": "[encoded data removed]",
      "text/plain": [
       "<Figure size 504x432 with 1 Axes>"
      ]
     },
     "metadata": {
      "needs_background": "light"
     },
     "output_type": "display_data"
    }
   ],
   "source": [
    "# This is just to check that the parameter effects are deterministic (there should be no red bars)\n",
    "nextDF = pd.read_csv(\"data/metalearner_parametereffects.csv\")\n",
    "for att in [\"builds\", \"predictioncalls_training\", \"predictioncalls_prediction\"]:\n",
    "    plotDispersion(nextDF, \"algorithm\", [\"algorithmoptions\", \"numinstances\", \"trainpoints\"], att)\n",
    "    plt.show()"
   ]
  },
  {
   "cell_type": "markdown",
   "metadata": {},
   "source": [
    "## Create own model for each META Learner with the parameters"
   ]
  },
  {
   "cell_type": "code",
   "execution_count": 2,
   "metadata": {},
   "outputs": [],
   "source": [
    "dfMeta = pd.read_csv(\"data/metalearner_parametereffects.csv\")"
   ]
  },
  {
   "cell_type": "code",
   "execution_count": 15,
   "metadata": {},
   "outputs": [
    {
     "data": {
      "text/html": [
       "<div>\n",
       "<style scoped>\n",
       "    .dataframe tbody tr th:only-of-type {\n",
       "        vertical-align: middle;\n",
       "    }\n",
       "\n",
       "    .dataframe tbody tr th {\n",
       "        vertical-align: top;\n",
       "    }\n",
       "\n",
       "    .dataframe thead th {\n",
       "        text-align: right;\n",
       "    }\n",
       "</style>\n",
       "<table border=\"1\" class=\"dataframe\">\n",
       "  <thead>\n",
       "    <tr style=\"text-align: right;\">\n",
       "      <th></th>\n",
       "      <th>openmlid</th>\n",
       "      <th>algorithm</th>\n",
       "      <th>algorithmoptions</th>\n",
       "      <th>numinstances</th>\n",
       "      <th>numattributes</th>\n",
       "      <th>numattributesafterbinarization</th>\n",
       "      <th>trainpoints</th>\n",
       "      <th>numinstances_sub</th>\n",
       "      <th>numattributes_sub</th>\n",
       "      <th>builds</th>\n",
       "      <th>predictioncalls_training</th>\n",
       "      <th>predictioncalls_prediction</th>\n",
       "    </tr>\n",
       "  </thead>\n",
       "  <tbody>\n",
       "    <tr>\n",
       "      <td>0</td>\n",
       "      <td>6</td>\n",
       "      <td>adaboostm1</td>\n",
       "      <td>-P 70 -I 5</td>\n",
       "      <td>20000</td>\n",
       "      <td>16</td>\n",
       "      <td>16</td>\n",
       "      <td>10000</td>\n",
       "      <td>10000</td>\n",
       "      <td>16</td>\n",
       "      <td>5</td>\n",
       "      <td>10000</td>\n",
       "      <td>10000</td>\n",
       "    </tr>\n",
       "    <tr>\n",
       "      <td>1</td>\n",
       "      <td>6</td>\n",
       "      <td>adaboostm1</td>\n",
       "      <td>-P 90 -I 5</td>\n",
       "      <td>20000</td>\n",
       "      <td>16</td>\n",
       "      <td>16</td>\n",
       "      <td>10000</td>\n",
       "      <td>10000</td>\n",
       "      <td>16</td>\n",
       "      <td>5</td>\n",
       "      <td>10000</td>\n",
       "      <td>10000</td>\n",
       "    </tr>\n",
       "    <tr>\n",
       "      <td>2</td>\n",
       "      <td>6</td>\n",
       "      <td>adaboostm1</td>\n",
       "      <td>-P 80 -I 5</td>\n",
       "      <td>20000</td>\n",
       "      <td>16</td>\n",
       "      <td>16</td>\n",
       "      <td>10000</td>\n",
       "      <td>10000</td>\n",
       "      <td>16</td>\n",
       "      <td>5</td>\n",
       "      <td>10000</td>\n",
       "      <td>10000</td>\n",
       "    </tr>\n",
       "    <tr>\n",
       "      <td>3</td>\n",
       "      <td>21</td>\n",
       "      <td>adaboostm1</td>\n",
       "      <td>-P 90 -I 5</td>\n",
       "      <td>1728</td>\n",
       "      <td>6</td>\n",
       "      <td>21</td>\n",
       "      <td>1000</td>\n",
       "      <td>1000</td>\n",
       "      <td>6</td>\n",
       "      <td>5</td>\n",
       "      <td>1000</td>\n",
       "      <td>728</td>\n",
       "    </tr>\n",
       "    <tr>\n",
       "      <td>4</td>\n",
       "      <td>18</td>\n",
       "      <td>adaboostm1</td>\n",
       "      <td>-P 90 -I 5</td>\n",
       "      <td>2000</td>\n",
       "      <td>6</td>\n",
       "      <td>6</td>\n",
       "      <td>1000</td>\n",
       "      <td>1000</td>\n",
       "      <td>6</td>\n",
       "      <td>5</td>\n",
       "      <td>1000</td>\n",
       "      <td>1000</td>\n",
       "    </tr>\n",
       "    <tr>\n",
       "      <td>...</td>\n",
       "      <td>...</td>\n",
       "      <td>...</td>\n",
       "      <td>...</td>\n",
       "      <td>...</td>\n",
       "      <td>...</td>\n",
       "      <td>...</td>\n",
       "      <td>...</td>\n",
       "      <td>...</td>\n",
       "      <td>...</td>\n",
       "      <td>...</td>\n",
       "      <td>...</td>\n",
       "      <td>...</td>\n",
       "    </tr>\n",
       "    <tr>\n",
       "      <td>715</td>\n",
       "      <td>24</td>\n",
       "      <td>randomsubspace</td>\n",
       "      <td>-P 70 -I 5</td>\n",
       "      <td>8124</td>\n",
       "      <td>22</td>\n",
       "      <td>121</td>\n",
       "      <td>1000</td>\n",
       "      <td>1000</td>\n",
       "      <td>22</td>\n",
       "      <td>5</td>\n",
       "      <td>0</td>\n",
       "      <td>7124</td>\n",
       "    </tr>\n",
       "    <tr>\n",
       "      <td>716</td>\n",
       "      <td>22</td>\n",
       "      <td>randomsubspace</td>\n",
       "      <td>-P 90 -I 5</td>\n",
       "      <td>2000</td>\n",
       "      <td>47</td>\n",
       "      <td>47</td>\n",
       "      <td>1000</td>\n",
       "      <td>1000</td>\n",
       "      <td>47</td>\n",
       "      <td>5</td>\n",
       "      <td>0</td>\n",
       "      <td>1000</td>\n",
       "    </tr>\n",
       "    <tr>\n",
       "      <td>717</td>\n",
       "      <td>23</td>\n",
       "      <td>randomsubspace</td>\n",
       "      <td>-P 90 -I 5</td>\n",
       "      <td>1473</td>\n",
       "      <td>9</td>\n",
       "      <td>21</td>\n",
       "      <td>1000</td>\n",
       "      <td>1000</td>\n",
       "      <td>9</td>\n",
       "      <td>5</td>\n",
       "      <td>0</td>\n",
       "      <td>473</td>\n",
       "    </tr>\n",
       "    <tr>\n",
       "      <td>718</td>\n",
       "      <td>24</td>\n",
       "      <td>randomsubspace</td>\n",
       "      <td>-P 80 -I 5</td>\n",
       "      <td>8124</td>\n",
       "      <td>22</td>\n",
       "      <td>121</td>\n",
       "      <td>1000</td>\n",
       "      <td>1000</td>\n",
       "      <td>22</td>\n",
       "      <td>5</td>\n",
       "      <td>0</td>\n",
       "      <td>7124</td>\n",
       "    </tr>\n",
       "    <tr>\n",
       "      <td>719</td>\n",
       "      <td>24</td>\n",
       "      <td>randomsubspace</td>\n",
       "      <td>-P 90 -I 5</td>\n",
       "      <td>8124</td>\n",
       "      <td>22</td>\n",
       "      <td>121</td>\n",
       "      <td>1000</td>\n",
       "      <td>1000</td>\n",
       "      <td>22</td>\n",
       "      <td>5</td>\n",
       "      <td>0</td>\n",
       "      <td>7124</td>\n",
       "    </tr>\n",
       "  </tbody>\n",
       "</table>\n",
       "<p>720 rows × 12 columns</p>\n",
       "</div>"
      ],
      "text/plain": [
       "     openmlid       algorithm algorithmoptions  numinstances  numattributes  \\\n",
       "0           6      adaboostm1       -P 70 -I 5         20000             16   \n",
       "1           6      adaboostm1       -P 90 -I 5         20000             16   \n",
       "2           6      adaboostm1       -P 80 -I 5         20000             16   \n",
       "3          21      adaboostm1       -P 90 -I 5          1728              6   \n",
       "4          18      adaboostm1       -P 90 -I 5          2000              6   \n",
       "..        ...             ...              ...           ...            ...   \n",
       "715        24  randomsubspace       -P 70 -I 5          8124             22   \n",
       "716        22  randomsubspace       -P 90 -I 5          2000             47   \n",
       "717        23  randomsubspace       -P 90 -I 5          1473              9   \n",
       "718        24  randomsubspace       -P 80 -I 5          8124             22   \n",
       "719        24  randomsubspace       -P 90 -I 5          8124             22   \n",
       "\n",
       "     numattributesafterbinarization  trainpoints  numinstances_sub  \\\n",
       "0                                16        10000             10000   \n",
       "1                                16        10000             10000   \n",
       "2                                16        10000             10000   \n",
       "3                                21         1000              1000   \n",
       "4                                 6         1000              1000   \n",
       "..                              ...          ...               ...   \n",
       "715                             121         1000              1000   \n",
       "716                              47         1000              1000   \n",
       "717                              21         1000              1000   \n",
       "718                             121         1000              1000   \n",
       "719                             121         1000              1000   \n",
       "\n",
       "     numattributes_sub  builds  predictioncalls_training  \\\n",
       "0                   16       5                     10000   \n",
       "1                   16       5                     10000   \n",
       "2                   16       5                     10000   \n",
       "3                    6       5                      1000   \n",
       "4                    6       5                      1000   \n",
       "..                 ...     ...                       ...   \n",
       "715                 22       5                         0   \n",
       "716                 47       5                         0   \n",
       "717                  9       5                         0   \n",
       "718                 22       5                         0   \n",
       "719                 22       5                         0   \n",
       "\n",
       "     predictioncalls_prediction  \n",
       "0                         10000  \n",
       "1                         10000  \n",
       "2                         10000  \n",
       "3                           728  \n",
       "4                          1000  \n",
       "..                          ...  \n",
       "715                        7124  \n",
       "716                        1000  \n",
       "717                         473  \n",
       "718                        7124  \n",
       "719                        7124  \n",
       "\n",
       "[720 rows x 12 columns]"
      ]
     },
     "execution_count": 15,
     "metadata": {},
     "output_type": "execute_result"
    }
   ],
   "source": [
    "dfMeta"
   ]
  },
  {
   "cell_type": "code",
   "execution_count": 14,
   "metadata": {},
   "outputs": [
    {
     "name": "stdout",
     "output_type": "stream",
     "text": [
      "\n"
     ]
    },
    {
     "data": {
      "application/vnd.jupyter.widget-view+json": {
       "model_id": "42d0fb277010406ab7addd8e89c475ef",
       "version_major": 2,
       "version_minor": 0
      },
      "text/plain": [
       "HBox(children=(IntProgress(value=0, max=5), HTML(value='')))"
      ]
     },
     "metadata": {},
     "output_type": "display_data"
    },
    {
     "name": "stdout",
     "output_type": "stream",
     "text": [
      "\n"
     ]
    }
   ],
   "source": [
    "for algo in tqdm(pd.unique(dfMeta[\"algorithm\"])):\n",
    "    dfML = dfMeta[dfMeta[\"algorithm\"] == algo].copy()\n",
    "    if algo != \"randomcommittee\":\n",
    "        dfML[\"P\"] = [int(readNumericParameterFromOptionString(x, \"P\", 100)) for x in dfML[\"algorithmoptions\"]]\n",
    "    dfML[\"I\"] = [int(readNumericParameterFromOptionString(x, \"I\", 10)) for x in dfML[\"algorithmoptions\"]]\n",
    "    if algo == \"adaboostm1\":\n",
    "        dfML[\"Q\"] = [readBinaryParameterFromOptionString(s, \"Q\") for s in dfML[\"algorithmoptions\"]]\n",
    "    if algo == \"logitboost\":\n",
    "        dfML[\"L\"] = [readNumericParameterFromOptionString(s, \"L\", -1) for s in dfML[\"algorithmoptions\"]]\n",
    "        dfML[\"H\"] = [readNumericParameterFromOptionString(s, \"H\", -1) for s in dfML[\"algorithmoptions\"]]\n",
    "        dfML[\"Z\"] = [int(readNumericParameterFromOptionString(s, \"Z\", -1)) for s in dfML[\"algorithmoptions\"]]\n",
    "    dfML.to_csv(\"data/metalearner_parametereffects_\" + algo + \".csv\", index=False)"
   ]
  },
  {
   "cell_type": "markdown",
   "metadata": {},
   "source": [
    "# Experimental Stuff"
   ]
  },
  {
   "cell_type": "code",
   "execution_count": 30,
   "metadata": {},
   "outputs": [
    {
     "name": "stdout",
     "output_type": "stream",
     "text": [
      "2148\n",
      "1944\n",
      "1721\n"
     ]
    },
    {
     "data": {
      "image/png": "[encoded data removed]",
      "text/plain": [
       "<Figure size 432x288 with 1 Axes>"
      ]
     },
     "metadata": {
      "needs_background": "light"
     },
     "output_type": "display_data"
    }
   ],
   "source": [
    "reg = sk.ensemble.RandomForestRegressor(n_estimators = 20)\n",
    "algo = \"ann\"\n",
    "data = []\n",
    "for (label, myDF) in [(\"complete\", df), (\"no outliers\", dfNoOutliers), (\"really no outliers\", dfReallyNoOutliers)]:\n",
    "    dfFocus = myDF.query(\"algorithm == '\" + algo + \"'\").dropna()\n",
    "    datasets = [41066, 3, 60, 718, 881, 930, 1069, 1067, 1120]\n",
    "    dfTrain = dfFocus[~dfFocus[\"openmlid\"].isin(datasets)]\n",
    "    features = [\"fitsize\", \"fitattributes\"]\n",
    "    X = dfTrain[features]\n",
    "    Y = dfTrain[\"applicationtimeperunit\"] * 1000\n",
    "    reg.fit(X, Y)\n",
    "    dfPredict = dfFocus[dfFocus[\"openmlid\"].isin(datasets)]\n",
    "    errors = []\n",
    "    for i, row in dfPredict.iterrows():\n",
    "        p = reg.predict([row[features].values])\n",
    "        error = np.abs(p-row[\"applicationtimeperunit\"]  * 1000)\n",
    "        errors.append(error[0])\n",
    "        #print(str(p) + \"/\" + str(row[\"applicationtimeperunit\"]  * 1000))\n",
    "    #print(errors)\n",
    "    print(len(errors))\n",
    "    data.append(errors)\n",
    "\n",
    "    "
   ]
  }
 ],
 "metadata": {
  "kernelspec": {
   "display_name": "Python 3",
   "language": "python",
   "name": "python3"
  },
  "language_info": {
   "codemirror_mode": {
    "name": "ipython",
    "version": 3
   },
   "file_extension": ".py",
   "mimetype": "text/x-python",
   "name": "python",
   "nbconvert_exporter": "python",
   "pygments_lexer": "ipython3",
   "version": "3.7.7"
  }
 },
 "nbformat": 4,
 "nbformat_minor": 2
}
