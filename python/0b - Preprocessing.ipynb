{
 "cells": [
  {
   "cell_type": "code",
   "execution_count": 28,
   "metadata": {},
   "outputs": [],
   "source": [
    "from commons import *"
   ]
  },
  {
   "cell_type": "code",
   "execution_count": 42,
   "metadata": {},
   "outputs": [],
   "source": [
    "FILE_CLASSIFIERS_DEFAULT = \"data/rawruntimes/classifierresults-default.csv\"\n",
    "FILE_CLASSIFIERS_PARAMETRIZED = \"data/rawruntimes/classifierresults-parametrized.csv\"\n",
    "FILE_PREPROCESSORS_DEFAULT = \"data/rawruntimes/preprocessorresults-default.csv\"\n",
    "FILE_PREPROCESSORS_PARAMETRIZED = \"data/rawruntimes/preprocessorresults-parametrized.csv\"\n",
    "FILE_METAFEATURES = \"data/metafeatures.csv\"\n",
    "FILE_DATASETS = \"data/datasets.csv\""
   ]
  },
  {
   "cell_type": "markdown",
   "metadata": {},
   "source": [
    "# Read the Data Source Files"
   ]
  },
  {
   "cell_type": "code",
   "execution_count": 43,
   "metadata": {},
   "outputs": [],
   "source": [
    "dfDatasets = pd.read_csv(FILE_DATASETS)\n",
    "dfMetafeatures = pd.read_csv(FILE_METAFEATURES, delimiter=\";\")\n",
    "datasets = list(dfDatasets[\"openmlid\"].values)"
   ]
  },
  {
   "cell_type": "code",
   "execution_count": 44,
   "metadata": {},
   "outputs": [],
   "source": [
    "dfDefaultClassifiers = pd.read_csv(FILE_CLASSIFIERS_DEFAULT, delimiter=\";\")\n",
    "dfDefaultPreprocessors = pd.DataFrame([], columns=dfDefaultClassifiers.columns)#pd.read_csv(FILE_PREPROCESSORS_DEFAULT, delimiter=\";\")\n",
    "dfConfiguredClassifiers = pd.DataFrame([], columns=dfDefaultClassifiers.columns)#pd.read_csv(FILE_CLASSIFIERS_PARAMETRIZED, delimiter=\";\")\n",
    "dfConfiguredPreprocessors = pd.DataFrame([], columns=dfDefaultClassifiers.columns)#pd.read_csv(FILE_PREPROCESSORS_PARAMETRIZED, delimiter=\";\")"
   ]
  },
  {
   "cell_type": "code",
   "execution_count": 45,
   "metadata": {},
   "outputs": [
    {
     "data": {
      "text/html": [
       "<div>\n",
       "<style scoped>\n",
       "    .dataframe tbody tr th:only-of-type {\n",
       "        vertical-align: middle;\n",
       "    }\n",
       "\n",
       "    .dataframe tbody tr th {\n",
       "        vertical-align: top;\n",
       "    }\n",
       "\n",
       "    .dataframe thead th {\n",
       "        text-align: right;\n",
       "    }\n",
       "</style>\n",
       "<table border=\"1\" class=\"dataframe\">\n",
       "  <thead>\n",
       "    <tr style=\"text-align: right;\">\n",
       "      <th></th>\n",
       "      <th>openmlid</th>\n",
       "      <th>totalsize</th>\n",
       "      <th>fitsize</th>\n",
       "      <th>applicationsize</th>\n",
       "      <th>seed</th>\n",
       "      <th>algorithm</th>\n",
       "      <th>algorithmoptions</th>\n",
       "      <th>numattributes</th>\n",
       "      <th>numberofcategories</th>\n",
       "      <th>numericattributesafterbinarization</th>\n",
       "      <th>...</th>\n",
       "      <th>numsymbolicattributes</th>\n",
       "      <th>attributestocover50pctvariance</th>\n",
       "      <th>attributestocover90pctvariance</th>\n",
       "      <th>attributestocover95pctvariance</th>\n",
       "      <th>attributestocover99pctvariance</th>\n",
       "      <th>totalvariance</th>\n",
       "      <th>fittime</th>\n",
       "      <th>applicationtime</th>\n",
       "      <th>stdinpredictiontimeminms</th>\n",
       "      <th>exception</th>\n",
       "    </tr>\n",
       "  </thead>\n",
       "  <tbody>\n",
       "    <tr>\n",
       "      <th>0</th>\n",
       "      <td>3</td>\n",
       "      <td>1600.0</td>\n",
       "      <td>100</td>\n",
       "      <td>1500.0</td>\n",
       "      <td>0</td>\n",
       "      <td>bayesnet</td>\n",
       "      <td>NaN</td>\n",
       "      <td>100.0</td>\n",
       "      <td>74.0</td>\n",
       "      <td>104.0</td>\n",
       "      <td>...</td>\n",
       "      <td>36.0</td>\n",
       "      <td>31.0</td>\n",
       "      <td>69.0</td>\n",
       "      <td>75.0</td>\n",
       "      <td>79.0</td>\n",
       "      <td>8.029755e+00</td>\n",
       "      <td>55.0</td>\n",
       "      <td>275.0</td>\n",
       "      <td>0.0</td>\n",
       "      <td>NaN</td>\n",
       "    </tr>\n",
       "    <tr>\n",
       "      <th>1</th>\n",
       "      <td>3</td>\n",
       "      <td>1600.0</td>\n",
       "      <td>100</td>\n",
       "      <td>1500.0</td>\n",
       "      <td>1</td>\n",
       "      <td>bayesnet</td>\n",
       "      <td>NaN</td>\n",
       "      <td>100.0</td>\n",
       "      <td>74.0</td>\n",
       "      <td>104.0</td>\n",
       "      <td>...</td>\n",
       "      <td>36.0</td>\n",
       "      <td>31.0</td>\n",
       "      <td>69.0</td>\n",
       "      <td>75.0</td>\n",
       "      <td>79.0</td>\n",
       "      <td>8.035284e+00</td>\n",
       "      <td>56.0</td>\n",
       "      <td>273.0</td>\n",
       "      <td>0.0</td>\n",
       "      <td>NaN</td>\n",
       "    </tr>\n",
       "    <tr>\n",
       "      <th>2</th>\n",
       "      <td>3</td>\n",
       "      <td>1600.0</td>\n",
       "      <td>100</td>\n",
       "      <td>1500.0</td>\n",
       "      <td>0</td>\n",
       "      <td>bayesnet</td>\n",
       "      <td>NaN</td>\n",
       "      <td>1000.0</td>\n",
       "      <td>74.0</td>\n",
       "      <td>1004.0</td>\n",
       "      <td>...</td>\n",
       "      <td>36.0</td>\n",
       "      <td>447.0</td>\n",
       "      <td>864.0</td>\n",
       "      <td>920.0</td>\n",
       "      <td>968.0</td>\n",
       "      <td>8.322528e+01</td>\n",
       "      <td>235.0</td>\n",
       "      <td>3625.0</td>\n",
       "      <td>2.0</td>\n",
       "      <td>NaN</td>\n",
       "    </tr>\n",
       "    <tr>\n",
       "      <th>3</th>\n",
       "      <td>3</td>\n",
       "      <td>2000.0</td>\n",
       "      <td>500</td>\n",
       "      <td>1500.0</td>\n",
       "      <td>0</td>\n",
       "      <td>bayesnet</td>\n",
       "      <td>NaN</td>\n",
       "      <td>100.0</td>\n",
       "      <td>74.0</td>\n",
       "      <td>104.0</td>\n",
       "      <td>...</td>\n",
       "      <td>36.0</td>\n",
       "      <td>32.0</td>\n",
       "      <td>75.0</td>\n",
       "      <td>81.0</td>\n",
       "      <td>86.0</td>\n",
       "      <td>8.953533e+00</td>\n",
       "      <td>157.0</td>\n",
       "      <td>307.0</td>\n",
       "      <td>0.0</td>\n",
       "      <td>NaN</td>\n",
       "    </tr>\n",
       "    <tr>\n",
       "      <th>4</th>\n",
       "      <td>6</td>\n",
       "      <td>1600.0</td>\n",
       "      <td>100</td>\n",
       "      <td>1500.0</td>\n",
       "      <td>0</td>\n",
       "      <td>bayesnet</td>\n",
       "      <td>NaN</td>\n",
       "      <td>100.0</td>\n",
       "      <td>0.0</td>\n",
       "      <td>100.0</td>\n",
       "      <td>...</td>\n",
       "      <td>0.0</td>\n",
       "      <td>7.0</td>\n",
       "      <td>16.0</td>\n",
       "      <td>45.0</td>\n",
       "      <td>88.0</td>\n",
       "      <td>8.749769e+01</td>\n",
       "      <td>73.0</td>\n",
       "      <td>441.0</td>\n",
       "      <td>0.0</td>\n",
       "      <td>NaN</td>\n",
       "    </tr>\n",
       "    <tr>\n",
       "      <th>...</th>\n",
       "      <td>...</td>\n",
       "      <td>...</td>\n",
       "      <td>...</td>\n",
       "      <td>...</td>\n",
       "      <td>...</td>\n",
       "      <td>...</td>\n",
       "      <td>...</td>\n",
       "      <td>...</td>\n",
       "      <td>...</td>\n",
       "      <td>...</td>\n",
       "      <td>...</td>\n",
       "      <td>...</td>\n",
       "      <td>...</td>\n",
       "      <td>...</td>\n",
       "      <td>...</td>\n",
       "      <td>...</td>\n",
       "      <td>...</td>\n",
       "      <td>...</td>\n",
       "      <td>...</td>\n",
       "      <td>...</td>\n",
       "      <td>...</td>\n",
       "    </tr>\n",
       "    <tr>\n",
       "      <th>43246</th>\n",
       "      <td>41991</td>\n",
       "      <td>NaN</td>\n",
       "      <td>4000</td>\n",
       "      <td>NaN</td>\n",
       "      <td>0</td>\n",
       "      <td>bayesnet</td>\n",
       "      <td>NaN</td>\n",
       "      <td>NaN</td>\n",
       "      <td>NaN</td>\n",
       "      <td>NaN</td>\n",
       "      <td>...</td>\n",
       "      <td>NaN</td>\n",
       "      <td>NaN</td>\n",
       "      <td>NaN</td>\n",
       "      <td>NaN</td>\n",
       "      <td>NaN</td>\n",
       "      <td>NaN</td>\n",
       "      <td>NaN</td>\n",
       "      <td>NaN</td>\n",
       "      <td>NaN</td>\n",
       "      <td>\\\\n\\tError class: java.lang.OutOfMemoryError\\\\...</td>\n",
       "    </tr>\n",
       "    <tr>\n",
       "      <th>43247</th>\n",
       "      <td>41946</td>\n",
       "      <td>NaN</td>\n",
       "      <td>2000</td>\n",
       "      <td>NaN</td>\n",
       "      <td>0</td>\n",
       "      <td>bayesnet</td>\n",
       "      <td>NaN</td>\n",
       "      <td>100000.0</td>\n",
       "      <td>0.0</td>\n",
       "      <td>100000.0</td>\n",
       "      <td>...</td>\n",
       "      <td>0.0</td>\n",
       "      <td>2.0</td>\n",
       "      <td>55411.0</td>\n",
       "      <td>77498.0</td>\n",
       "      <td>95419.0</td>\n",
       "      <td>3.648968e+04</td>\n",
       "      <td>NaN</td>\n",
       "      <td>NaN</td>\n",
       "      <td>NaN</td>\n",
       "      <td>\\\\n\\tError class: java.lang.OutOfMemoryError\\\\...</td>\n",
       "    </tr>\n",
       "    <tr>\n",
       "      <th>43248</th>\n",
       "      <td>41991</td>\n",
       "      <td>NaN</td>\n",
       "      <td>2000</td>\n",
       "      <td>NaN</td>\n",
       "      <td>0</td>\n",
       "      <td>bayesnet</td>\n",
       "      <td>NaN</td>\n",
       "      <td>90000.0</td>\n",
       "      <td>0.0</td>\n",
       "      <td>90000.0</td>\n",
       "      <td>...</td>\n",
       "      <td>0.0</td>\n",
       "      <td>256.0</td>\n",
       "      <td>543.0</td>\n",
       "      <td>606.0</td>\n",
       "      <td>702.0</td>\n",
       "      <td>5.400067e+06</td>\n",
       "      <td>NaN</td>\n",
       "      <td>NaN</td>\n",
       "      <td>NaN</td>\n",
       "      <td>\\\\n\\tError class: java.lang.OutOfMemoryError\\\\...</td>\n",
       "    </tr>\n",
       "    <tr>\n",
       "      <th>43249</th>\n",
       "      <td>41991</td>\n",
       "      <td>NaN</td>\n",
       "      <td>1000</td>\n",
       "      <td>NaN</td>\n",
       "      <td>0</td>\n",
       "      <td>bayesnet</td>\n",
       "      <td>NaN</td>\n",
       "      <td>100000.0</td>\n",
       "      <td>0.0</td>\n",
       "      <td>100000.0</td>\n",
       "      <td>...</td>\n",
       "      <td>0.0</td>\n",
       "      <td>256.0</td>\n",
       "      <td>542.0</td>\n",
       "      <td>605.0</td>\n",
       "      <td>703.0</td>\n",
       "      <td>5.433890e+06</td>\n",
       "      <td>NaN</td>\n",
       "      <td>NaN</td>\n",
       "      <td>NaN</td>\n",
       "      <td>\\\\n\\tError class: java.lang.OutOfMemoryError\\\\...</td>\n",
       "    </tr>\n",
       "    <tr>\n",
       "      <th>43250</th>\n",
       "      <td>41991</td>\n",
       "      <td>NaN</td>\n",
       "      <td>2000</td>\n",
       "      <td>NaN</td>\n",
       "      <td>0</td>\n",
       "      <td>bayesnet</td>\n",
       "      <td>NaN</td>\n",
       "      <td>NaN</td>\n",
       "      <td>NaN</td>\n",
       "      <td>NaN</td>\n",
       "      <td>...</td>\n",
       "      <td>NaN</td>\n",
       "      <td>NaN</td>\n",
       "      <td>NaN</td>\n",
       "      <td>NaN</td>\n",
       "      <td>NaN</td>\n",
       "      <td>NaN</td>\n",
       "      <td>NaN</td>\n",
       "      <td>NaN</td>\n",
       "      <td>NaN</td>\n",
       "      <td>\\\\n\\tError class: java.lang.OutOfMemoryError\\\\...</td>\n",
       "    </tr>\n",
       "  </tbody>\n",
       "</table>\n",
       "<p>43251 rows × 22 columns</p>\n",
       "</div>"
      ],
      "text/plain": [
       "       openmlid  totalsize  fitsize  applicationsize  seed algorithm  \\\n",
       "0             3     1600.0      100           1500.0     0  bayesnet   \n",
       "1             3     1600.0      100           1500.0     1  bayesnet   \n",
       "2             3     1600.0      100           1500.0     0  bayesnet   \n",
       "3             3     2000.0      500           1500.0     0  bayesnet   \n",
       "4             6     1600.0      100           1500.0     0  bayesnet   \n",
       "...         ...        ...      ...              ...   ...       ...   \n",
       "43246     41991        NaN     4000              NaN     0  bayesnet   \n",
       "43247     41946        NaN     2000              NaN     0  bayesnet   \n",
       "43248     41991        NaN     2000              NaN     0  bayesnet   \n",
       "43249     41991        NaN     1000              NaN     0  bayesnet   \n",
       "43250     41991        NaN     2000              NaN     0  bayesnet   \n",
       "\n",
       "       algorithmoptions  numattributes  numberofcategories  \\\n",
       "0                   NaN          100.0                74.0   \n",
       "1                   NaN          100.0                74.0   \n",
       "2                   NaN         1000.0                74.0   \n",
       "3                   NaN          100.0                74.0   \n",
       "4                   NaN          100.0                 0.0   \n",
       "...                 ...            ...                 ...   \n",
       "43246               NaN            NaN                 NaN   \n",
       "43247               NaN       100000.0                 0.0   \n",
       "43248               NaN        90000.0                 0.0   \n",
       "43249               NaN       100000.0                 0.0   \n",
       "43250               NaN            NaN                 NaN   \n",
       "\n",
       "       numericattributesafterbinarization  ...  numsymbolicattributes  \\\n",
       "0                                   104.0  ...                   36.0   \n",
       "1                                   104.0  ...                   36.0   \n",
       "2                                  1004.0  ...                   36.0   \n",
       "3                                   104.0  ...                   36.0   \n",
       "4                                   100.0  ...                    0.0   \n",
       "...                                   ...  ...                    ...   \n",
       "43246                                 NaN  ...                    NaN   \n",
       "43247                            100000.0  ...                    0.0   \n",
       "43248                             90000.0  ...                    0.0   \n",
       "43249                            100000.0  ...                    0.0   \n",
       "43250                                 NaN  ...                    NaN   \n",
       "\n",
       "       attributestocover50pctvariance  attributestocover90pctvariance  \\\n",
       "0                                31.0                            69.0   \n",
       "1                                31.0                            69.0   \n",
       "2                               447.0                           864.0   \n",
       "3                                32.0                            75.0   \n",
       "4                                 7.0                            16.0   \n",
       "...                               ...                             ...   \n",
       "43246                             NaN                             NaN   \n",
       "43247                             2.0                         55411.0   \n",
       "43248                           256.0                           543.0   \n",
       "43249                           256.0                           542.0   \n",
       "43250                             NaN                             NaN   \n",
       "\n",
       "       attributestocover95pctvariance  attributestocover99pctvariance  \\\n",
       "0                                75.0                            79.0   \n",
       "1                                75.0                            79.0   \n",
       "2                               920.0                           968.0   \n",
       "3                                81.0                            86.0   \n",
       "4                                45.0                            88.0   \n",
       "...                               ...                             ...   \n",
       "43246                             NaN                             NaN   \n",
       "43247                         77498.0                         95419.0   \n",
       "43248                           606.0                           702.0   \n",
       "43249                           605.0                           703.0   \n",
       "43250                             NaN                             NaN   \n",
       "\n",
       "       totalvariance  fittime  applicationtime  stdinpredictiontimeminms  \\\n",
       "0       8.029755e+00     55.0            275.0                       0.0   \n",
       "1       8.035284e+00     56.0            273.0                       0.0   \n",
       "2       8.322528e+01    235.0           3625.0                       2.0   \n",
       "3       8.953533e+00    157.0            307.0                       0.0   \n",
       "4       8.749769e+01     73.0            441.0                       0.0   \n",
       "...              ...      ...              ...                       ...   \n",
       "43246            NaN      NaN              NaN                       NaN   \n",
       "43247   3.648968e+04      NaN              NaN                       NaN   \n",
       "43248   5.400067e+06      NaN              NaN                       NaN   \n",
       "43249   5.433890e+06      NaN              NaN                       NaN   \n",
       "43250            NaN      NaN              NaN                       NaN   \n",
       "\n",
       "                                               exception  \n",
       "0                                                    NaN  \n",
       "1                                                    NaN  \n",
       "2                                                    NaN  \n",
       "3                                                    NaN  \n",
       "4                                                    NaN  \n",
       "...                                                  ...  \n",
       "43246  \\\\n\\tError class: java.lang.OutOfMemoryError\\\\...  \n",
       "43247  \\\\n\\tError class: java.lang.OutOfMemoryError\\\\...  \n",
       "43248  \\\\n\\tError class: java.lang.OutOfMemoryError\\\\...  \n",
       "43249  \\\\n\\tError class: java.lang.OutOfMemoryError\\\\...  \n",
       "43250  \\\\n\\tError class: java.lang.OutOfMemoryError\\\\...  \n",
       "\n",
       "[43251 rows x 22 columns]"
      ]
     },
     "execution_count": 45,
     "metadata": {},
     "output_type": "execute_result"
    }
   ],
   "source": [
    "dfDefaultClassifiers.query(\"algorithm == 'bayesnet'\")"
   ]
  },
  {
   "cell_type": "markdown",
   "metadata": {},
   "source": [
    "# Check Data Availability"
   ]
  },
  {
   "cell_type": "markdown",
   "metadata": {},
   "source": [
    "## Availability of Atomic Algorithm Default Runs "
   ]
  },
  {
   "cell_type": "code",
   "execution_count": 51,
   "metadata": {
    "scrolled": true
   },
   "outputs": [
    {
     "name": "stderr",
     "output_type": "stream",
     "text": [
      "/home/felix/anaconda3/lib/python3.7/site-packages/ipykernel_launcher.py:6: TqdmDeprecationWarning: This function will be removed in tqdm==5.0.0\n",
      "Please use `tqdm.notebook.tqdm` instead of `tqdm.tqdm_notebook`\n",
      "  \n"
     ]
    },
    {
     "data": {
      "application/vnd.jupyter.widget-view+json": {
       "model_id": "52b04ef36c9740cf999afcb736d9818d",
       "version_major": 2,
       "version_minor": 0
      },
      "text/plain": [
       "HBox(children=(FloatProgress(value=0.0, max=5220.0), HTML(value='')))"
      ]
     },
     "metadata": {},
     "output_type": "display_data"
    },
    {
     "name": "stdout",
     "output_type": "stream",
     "text": [
      "\n"
     ]
    },
    {
     "data": {
      "image/png": "[encoded data removed]",
      "text/plain": [
       "<Figure size 2160x1152 with 2 Axes>"
      ]
     },
     "metadata": {
      "needs_background": "light"
     },
     "output_type": "display_data"
    },
    {
     "name": "stdout",
     "output_type": "stream",
     "text": [
      "decisionstump: [3, 6, 12, 14, 16, 18, 21, 22, 23, 24, 26, 28, 30, 31, 32, 36, 38, 44, 46, 57, 60, 179, 180, 181, 182, 183, 184, 185, 273, 293, 300, 351, 354, 357, 389, 390, 391, 392, 393, 395, 396, 398, 399, 401, 554, 679, 715, 718, 720, 722, 723, 727, 728, 734, 735, 737, 740, 741, 743, 751, 752, 761, 772, 797, 799, 803, 806, 807, 813, 816, 819, 821, 822, 823, 833, 837, 843, 845, 846, 847, 849, 866, 871, 881, 897, 901, 903, 904, 910, 912, 913, 914, 917, 923, 930, 934, 953, 958, 959, 962, 966, 971, 976, 977, 978, 979, 980, 991, 993, 995, 1000, 1002, 1018, 1019, 1020, 1021, 1036, 1037, 1039, 1040, 1041, 1042, 1049, 1050, 1053, 1059, 1067, 1068, 1069, 1111, 1112, 1114, 1116, 1119, 1120, 1128, 1130, 1134, 1138, 1139, 1142, 1146, 1161, 1166, 1216, 1242, 1457, 1485, 1486, 1501, 1569, 4136, 4137, 4541, 4552, 23380, 23512, 40497, 40685, 40691, 40900, 40926, 40927, 40971, 40975, 41026, 41064, 41065, 41066, 41143, 41146, 41164, 41946, 41991]\n",
      "decisiontable: [3, 6, 12, 14, 16, 18, 21, 22, 23, 24, 26, 28, 30, 31, 32, 36, 38, 44, 46, 57, 60, 179, 180, 181, 182, 183, 184, 185, 273, 293, 300, 351, 354, 357, 389, 390, 391, 392, 393, 395, 396, 398, 399, 401, 554, 679, 715, 718, 720, 722, 723, 727, 728, 734, 735, 737, 740, 741, 743, 751, 752, 761, 772, 797, 799, 803, 806, 807, 813, 816, 819, 821, 822, 823, 833, 837, 843, 845, 846, 847, 849, 866, 871, 881, 897, 901, 903, 904, 910, 912, 913, 914, 917, 923, 930, 934, 953, 958, 959, 962, 966, 971, 976, 977, 978, 979, 980, 991, 993, 995, 1000, 1002, 1018, 1019, 1020, 1021, 1036, 1037, 1039, 1040, 1041, 1042, 1049, 1050, 1053, 1059, 1067, 1068, 1069, 1111, 1112, 1114, 1116, 1119, 1120, 1128, 1130, 1134, 1138, 1139, 1142, 1146, 1161, 1166, 1216, 1242, 1457, 1485, 1486, 1501, 1569, 4136, 4137, 4541, 4552, 23380, 23512, 40497, 40685, 40691, 40900, 40926, 40927, 40971, 40975, 41026, 41064, 41065, 41066, 41143, 41146, 41164, 41946, 41991]\n",
      "jrip: [3, 6, 12, 14, 16, 18, 21, 22, 23, 24, 26, 28, 30, 31, 32, 36, 38, 44, 46, 57, 60, 179, 180, 181, 182, 183, 184, 185, 273, 293, 300, 351, 354, 357, 389, 390, 391, 392, 393, 395, 396, 398, 399, 401, 554, 679, 715, 718, 720, 722, 723, 727, 728, 734, 735, 737, 740, 741, 743, 751, 752, 761, 772, 797, 799, 803, 806, 807, 813, 816, 819, 821, 822, 823, 833, 837, 843, 845, 846, 847, 849, 866, 871, 881, 897, 901, 903, 904, 910, 912, 913, 914, 917, 923, 930, 934, 953, 958, 959, 962, 966, 971, 976, 977, 978, 979, 980, 991, 993, 995, 1000, 1002, 1018, 1019, 1020, 1021, 1036, 1037, 1039, 1040, 1041, 1042, 1049, 1050, 1053, 1059, 1067, 1068, 1069, 1111, 1112, 1114, 1116, 1119, 1120, 1128, 1130, 1134, 1138, 1139, 1142, 1146, 1161, 1166, 1216, 1242, 1457, 1485, 1486, 1501, 1569, 4136, 4137, 4541, 4552, 23380, 23512, 40497, 40685, 40691, 40900, 40926, 40927, 40971, 40975, 41026, 41064, 41065, 41066, 41143, 41146, 41164, 41946, 41991]\n",
      "lmt: [3, 6, 12, 14, 16, 18, 21, 22, 23, 24, 26, 28, 30, 31, 32, 36, 38, 44, 46, 57, 60, 179, 180, 181, 182, 183, 184, 185, 273, 293, 300, 351, 354, 357, 389, 390, 391, 392, 393, 395, 396, 398, 399, 401, 554, 679, 715, 718, 720, 722, 723, 727, 728, 734, 735, 737, 740, 741, 743, 751, 752, 761, 772, 797, 799, 803, 806, 807, 813, 816, 819, 821, 822, 823, 833, 837, 843, 845, 846, 847, 849, 866, 871, 881, 897, 901, 903, 904, 910, 912, 913, 914, 917, 923, 930, 934, 953, 958, 959, 962, 966, 971, 976, 977, 978, 979, 980, 991, 993, 995, 1000, 1002, 1018, 1019, 1020, 1021, 1036, 1037, 1039, 1040, 1041, 1042, 1049, 1050, 1053, 1059, 1067, 1068, 1069, 1111, 1112, 1114, 1116, 1119, 1120, 1128, 1130, 1134, 1138, 1139, 1142, 1146, 1161, 1166, 1216, 1242, 1457, 1485, 1486, 1501, 1569, 4136, 4137, 4541, 4552, 23380, 23512, 40497, 40685, 40691, 40900, 40926, 40927, 40971, 40975, 41026, 41064, 41065, 41066, 41143, 41146, 41164, 41946, 41991]\n",
      "logistic: [3, 6, 12, 14, 16, 18, 21, 22, 23, 24, 26, 28, 30, 31, 32, 36, 38, 44, 46, 57, 60, 179, 180, 181, 182, 183, 184, 185, 273, 293, 300, 351, 354, 357, 389, 390, 391, 392, 393, 395, 396, 398, 399, 401, 554, 679, 715, 718, 720, 722, 723, 727, 728, 734, 735, 737, 740, 741, 743, 751, 752, 761, 772, 797, 799, 803, 806, 807, 813, 816, 819, 821, 822, 823, 833, 837, 843, 845, 846, 847, 849, 866, 871, 881, 897, 901, 903, 904, 910, 912, 913, 914, 917, 923, 930, 934, 953, 958, 959, 962, 966, 971, 976, 977, 978, 979, 980, 991, 993, 995, 1000, 1002, 1018, 1019, 1020, 1021, 1036, 1037, 1039, 1040, 1041, 1042, 1049, 1050, 1053, 1059, 1067, 1068, 1069, 1111, 1112, 1114, 1116, 1119, 1120, 1128, 1130, 1134, 1138, 1139, 1142, 1146, 1161, 1166, 1216, 1242, 1457, 1485, 1486, 1501, 1569, 4136, 4137, 4541, 4552, 23380, 23512, 40497, 40685, 40691, 40900, 40926, 40927, 40971, 40975, 41026, 41064, 41065, 41066, 41143, 41146, 41164, 41946, 41991]\n",
      "multilayerperceptron: [3, 6, 12, 14, 16, 18, 21, 22, 23, 24, 26, 28, 30, 31, 32, 36, 38, 44, 46, 57, 60, 179, 180, 181, 182, 183, 184, 185, 273, 293, 300, 351, 354, 357, 389, 390, 391, 392, 393, 395, 396, 398, 399, 401, 554, 679, 715, 718, 720, 722, 723, 727, 728, 734, 735, 737, 740, 741, 743, 751, 752, 761, 772, 797, 799, 803, 806, 807, 813, 816, 819, 821, 822, 823, 833, 837, 843, 845, 846, 847, 849, 866, 871, 881, 897, 901, 903, 904, 910, 912, 913, 914, 917, 923, 930, 934, 953, 958, 959, 962, 966, 971, 976, 977, 978, 979, 980, 991, 993, 995, 1000, 1002, 1018, 1019, 1020, 1021, 1036, 1037, 1039, 1040, 1041, 1042, 1049, 1050, 1053, 1059, 1067, 1068, 1069, 1111, 1112, 1114, 1116, 1119, 1120, 1128, 1130, 1134, 1138, 1139, 1142, 1146, 1161, 1166, 1216, 1242, 1457, 1485, 1486, 1501, 1569, 4136, 4137, 4541, 4552, 23380, 23512, 40497, 40685, 40691, 40900, 40926, 40927, 40971, 40975, 41026, 41064, 41065, 41066, 41143, 41146, 41164, 41946, 41991]\n",
      "naivebayes: [3, 6, 12, 14, 16, 18, 21, 22, 23, 24, 26, 28, 30, 31, 32, 36, 38, 44, 46, 57, 60, 179, 180, 181, 182, 183, 184, 185, 273, 293, 300, 351, 354, 357, 389, 390, 391, 392, 393, 395, 396, 398, 399, 401, 554, 679, 715, 718, 720, 722, 723, 727, 728, 734, 735, 737, 740, 741, 743, 751, 752, 761, 772, 797, 799, 803, 806, 807, 813, 816, 819, 821, 822, 823, 833, 837, 843, 845, 846, 847, 849, 866, 871, 881, 897, 901, 903, 904, 910, 912, 913, 914, 917, 923, 930, 934, 953, 958, 959, 962, 966, 971, 976, 977, 978, 979, 980, 991, 993, 995, 1000, 1002, 1018, 1019, 1020, 1021, 1036, 1037, 1039, 1040, 1041, 1042, 1049, 1050, 1053, 1059, 1067, 1068, 1069, 1111, 1112, 1114, 1116, 1119, 1120, 1128, 1130, 1134, 1138, 1139, 1142, 1146, 1161, 1166, 1216, 1242, 1457, 1485, 1486, 1501, 1569, 4136, 4137, 4541, 4552, 23380, 23512, 40497, 40685, 40691, 40900, 40926, 40927, 40971, 40975, 41026, 41064, 41065, 41066, 41143, 41146, 41164, 41946, 41991]\n",
      "naivebayesmultinomial: [3, 6, 12, 14, 16, 18, 21, 22, 23, 24, 26, 28, 30, 31, 32, 36, 38, 44, 46, 57, 60, 179, 180, 181, 182, 183, 184, 185, 273, 293, 300, 351, 354, 357, 389, 390, 391, 392, 393, 395, 396, 398, 399, 401, 554, 679, 715, 718, 720, 722, 723, 727, 728, 734, 735, 737, 740, 741, 743, 751, 752, 761, 772, 797, 799, 803, 806, 807, 813, 816, 819, 821, 822, 823, 833, 837, 843, 845, 846, 847, 849, 866, 871, 881, 897, 901, 903, 904, 910, 912, 913, 914, 917, 923, 930, 934, 953, 958, 959, 962, 966, 971, 976, 977, 978, 979, 980, 991, 993, 995, 1000, 1002, 1018, 1019, 1020, 1021, 1036, 1037, 1039, 1040, 1041, 1042, 1049, 1050, 1053, 1059, 1067, 1068, 1069, 1111, 1112, 1114, 1116, 1119, 1120, 1128, 1130, 1134, 1138, 1139, 1142, 1146, 1161, 1166, 1216, 1242, 1457, 1485, 1486, 1501, 1569, 4136, 4137, 4541, 4552, 23380, 23512, 40497, 40685, 40691, 40900, 40926, 40927, 40971, 40975, 41026, 41064, 41065, 41066, 41143, 41146, 41164, 41946, 41991]\n",
      "oner: [3, 6, 12, 14, 16, 18, 21, 22, 23, 24, 26, 28, 30, 31, 32, 36, 38, 44, 46, 57, 60, 179, 180, 181, 182, 183, 184, 185, 273, 293, 300, 351, 354, 357, 389, 390, 391, 392, 393, 395, 396, 398, 399, 401, 554, 679, 715, 718, 720, 722, 723, 727, 728, 734, 735, 737, 740, 741, 743, 751, 752, 761, 772, 797, 799, 803, 806, 807, 813, 816, 819, 821, 822, 823, 833, 837, 843, 845, 846, 847, 849, 866, 871, 881, 897, 901, 903, 904, 910, 912, 913, 914, 917, 923, 930, 934, 953, 958, 959, 962, 966, 971, 976, 977, 978, 979, 980, 991, 993, 995, 1000, 1002, 1018, 1019, 1020, 1021, 1036, 1037, 1039, 1040, 1041, 1042, 1049, 1050, 1053, 1059, 1067, 1068, 1069, 1111, 1112, 1114, 1116, 1119, 1120, 1128, 1130, 1134, 1138, 1139, 1142, 1146, 1161, 1166, 1216, 1242, 1457, 1485, 1486, 1501, 1569, 4136, 4137, 4541, 4552, 23380, 23512, 40497, 40685, 40691, 40900, 40926, 40927, 40971, 40975, 41026, 41064, 41065, 41066, 41143, 41146, 41164, 41946, 41991]\n",
      "part: [3, 6, 12, 14, 16, 18, 21, 22, 23, 24, 26, 28, 30, 31, 32, 36, 38, 44, 46, 57, 60, 179, 180, 181, 182, 183, 184, 185, 273, 293, 300, 351, 354, 357, 389, 390, 391, 392, 393, 395, 396, 398, 399, 401, 554, 679, 715, 718, 720, 722, 723, 727, 728, 734, 735, 737, 740, 741, 743, 751, 752, 761, 772, 797, 799, 803, 806, 807, 813, 816, 819, 821, 822, 823, 833, 837, 843, 845, 846, 847, 849, 866, 871, 881, 897, 901, 903, 904, 910, 912, 913, 914, 917, 923, 930, 934, 953, 958, 959, 962, 966, 971, 976, 977, 978, 979, 980, 991, 993, 995, 1000, 1002, 1018, 1019, 1020, 1021, 1036, 1037, 1039, 1040, 1041, 1042, 1049, 1050, 1053, 1059, 1067, 1068, 1069, 1111, 1112, 1114, 1116, 1119, 1120, 1128, 1130, 1134, 1138, 1139, 1142, 1146, 1161, 1166, 1216, 1242, 1457, 1485, 1486, 1501, 1569, 4136, 4137, 4541, 4552, 23380, 23512, 40497, 40685, 40691, 40900, 40926, 40927, 40971, 40975, 41026, 41064, 41065, 41066, 41143, 41146, 41164, 41946, 41991]\n",
      "reptree: [3, 6, 12, 14, 16, 18, 21, 22, 23, 24, 26, 28, 30, 31, 32, 36, 38, 44, 46, 57, 60, 179, 180, 181, 182, 183, 184, 185, 273, 293, 300, 351, 354, 357, 389, 390, 391, 392, 393, 395, 396, 398, 399, 401, 554, 679, 715, 718, 720, 722, 723, 727, 728, 734, 735, 737, 740, 741, 743, 751, 752, 761, 772, 797, 799, 803, 806, 807, 813, 816, 819, 821, 822, 823, 833, 837, 843, 845, 846, 847, 849, 866, 871, 881, 897, 901, 903, 904, 910, 912, 913, 914, 917, 923, 930, 934, 953, 958, 959, 962, 966, 971, 976, 977, 978, 979, 980, 991, 993, 995, 1000, 1002, 1018, 1019, 1020, 1021, 1036, 1037, 1039, 1040, 1041, 1042, 1049, 1050, 1053, 1059, 1067, 1068, 1069, 1111, 1112, 1114, 1116, 1119, 1120, 1128, 1130, 1134, 1138, 1139, 1142, 1146, 1161, 1166, 1216, 1242, 1457, 1485, 1486, 1501, 1569, 4136, 4137, 4541, 4552, 23380, 23512, 40497, 40685, 40691, 40900, 40926, 40927, 40971, 40975, 41026, 41064, 41065, 41066, 41143, 41146, 41164, 41946, 41991]\n",
      "randomforest: [3, 6, 12, 14, 16, 18, 21, 22, 23, 24, 26, 28, 30, 31, 32, 36, 38, 44, 46, 57, 60, 179, 180, 181, 182, 183, 184, 185, 273, 293, 300, 351, 354, 357, 389, 390, 391, 392, 393, 395, 396, 398, 399, 401, 554, 679, 715, 718, 720, 722, 723, 727, 728, 734, 735, 737, 740, 741, 743, 751, 752, 761, 772, 797, 799, 803, 806, 807, 813, 816, 819, 821, 822, 823, 833, 837, 843, 845, 846, 847, 849, 866, 871, 881, 897, 901, 903, 904, 910, 912, 913, 914, 917, 923, 930, 934, 953, 958, 959, 962, 966, 971, 976, 977, 978, 979, 980, 991, 993, 995, 1000, 1002, 1018, 1019, 1020, 1021, 1036, 1037, 1039, 1040, 1041, 1042, 1049, 1050, 1053, 1059, 1067, 1068, 1069, 1111, 1112, 1114, 1116, 1119, 1120, 1128, 1130, 1134, 1138, 1139, 1142, 1146, 1161, 1166, 1216, 1242, 1457, 1485, 1486, 1501, 1569, 4136, 4137, 4541, 4552, 23380, 23512, 40497, 40685, 40691, 40900, 40926, 40927, 40971, 40975, 41026, 41064, 41065, 41066, 41143, 41146, 41164, 41946, 41991]\n",
      "randomtree: [3, 6, 12, 14, 16, 18, 21, 22, 23, 24, 26, 28, 30, 31, 32, 36, 38, 44, 46, 57, 60, 179, 180, 181, 182, 183, 184, 185, 273, 293, 300, 351, 354, 357, 389, 390, 391, 392, 393, 395, 396, 398, 399, 401, 554, 679, 715, 718, 720, 722, 723, 727, 728, 734, 735, 737, 740, 741, 743, 751, 752, 761, 772, 797, 799, 803, 806, 807, 813, 816, 819, 821, 822, 823, 833, 837, 843, 845, 846, 847, 849, 866, 871, 881, 897, 901, 903, 904, 910, 912, 913, 914, 917, 923, 930, 934, 953, 958, 959, 962, 966, 971, 976, 977, 978, 979, 980, 991, 993, 995, 1000, 1002, 1018, 1019, 1020, 1021, 1036, 1037, 1039, 1040, 1041, 1042, 1049, 1050, 1053, 1059, 1067, 1068, 1069, 1111, 1112, 1114, 1116, 1119, 1120, 1128, 1130, 1134, 1138, 1139, 1142, 1146, 1161, 1166, 1216, 1242, 1457, 1485, 1486, 1501, 1569, 4136, 4137, 4541, 4552, 23380, 23512, 40497, 40685, 40691, 40900, 40926, 40927, 40971, 40975, 41026, 41064, 41065, 41066, 41143, 41146, 41164, 41946, 41991]\n",
      "simplelogistic: [3, 6, 12, 14, 16, 18, 21, 22, 23, 24, 26, 28, 30, 31, 32, 36, 38, 44, 46, 57, 60, 179, 180, 181, 182, 183, 184, 185, 273, 293, 300, 351, 354, 357, 389, 390, 391, 392, 393, 395, 396, 398, 399, 401, 554, 679, 715, 718, 720, 722, 723, 727, 728, 734, 735, 737, 740, 741, 743, 751, 752, 761, 772, 797, 799, 803, 806, 807, 813, 816, 819, 821, 822, 823, 833, 837, 843, 845, 846, 847, 849, 866, 871, 881, 897, 901, 903, 904, 910, 912, 913, 914, 917, 923, 930, 934, 953, 958, 959, 962, 966, 971, 976, 977, 978, 979, 980, 991, 993, 995, 1000, 1002, 1018, 1019, 1020, 1021, 1036, 1037, 1039, 1040, 1041, 1042, 1049, 1050, 1053, 1059, 1067, 1068, 1069, 1111, 1112, 1114, 1116, 1119, 1120, 1128, 1130, 1134, 1138, 1139, 1142, 1146, 1161, 1166, 1216, 1242, 1457, 1485, 1486, 1501, 1569, 4136, 4137, 4541, 4552, 23380, 23512, 40497, 40685, 40691, 40900, 40926, 40927, 40971, 40975, 41026, 41064, 41065, 41066, 41143, 41146, 41164, 41946, 41991]\n",
      "smo: [3, 6, 12, 14, 16, 18, 21, 22, 23, 24, 26, 28, 30, 31, 32, 36, 38, 44, 46, 57, 60, 179, 180, 181, 182, 183, 184, 185, 273, 293, 300, 351, 354, 357, 389, 390, 391, 392, 393, 395, 396, 398, 399, 401, 554, 679, 715, 718, 720, 722, 723, 727, 728, 734, 735, 737, 740, 741, 743, 751, 752, 761, 772, 797, 799, 803, 806, 807, 813, 816, 819, 821, 822, 823, 833, 837, 843, 845, 846, 847, 849, 866, 871, 881, 897, 901, 903, 904, 910, 912, 913, 914, 917, 923, 930, 934, 953, 958, 959, 962, 966, 971, 976, 977, 978, 979, 980, 991, 993, 995, 1000, 1002, 1018, 1019, 1020, 1021, 1036, 1037, 1039, 1040, 1041, 1042, 1049, 1050, 1053, 1059, 1067, 1068, 1069, 1111, 1112, 1114, 1116, 1119, 1120, 1128, 1130, 1134, 1138, 1139, 1142, 1146, 1161, 1166, 1216, 1242, 1457, 1485, 1486, 1501, 1569, 4136, 4137, 4541, 4552, 23380, 23512, 40497, 40685, 40691, 40900, 40926, 40927, 40971, 40975, 41026, 41064, 41065, 41066, 41143, 41146, 41164, 41946, 41991]\n",
      "votedperceptron: [3, 6, 12, 14, 16, 18, 21, 22, 23, 24, 26, 28, 30, 31, 32, 36, 38, 44, 46, 57, 60, 179, 180, 181, 182, 183, 184, 185, 273, 293, 300, 351, 354, 357, 389, 390, 391, 392, 393, 395, 396, 398, 399, 401, 554, 679, 715, 718, 720, 722, 723, 727, 728, 734, 735, 737, 740, 741, 743, 751, 752, 761, 772, 797, 799, 803, 806, 807, 813, 816, 819, 821, 822, 823, 833, 837, 843, 845, 846, 847, 849, 866, 871, 881, 897, 901, 903, 904, 910, 912, 913, 914, 917, 923, 930, 934, 953, 958, 959, 962, 966, 971, 976, 977, 978, 979, 980, 991, 993, 995, 1000, 1002, 1018, 1019, 1020, 1021, 1036, 1037, 1039, 1040, 1041, 1042, 1049, 1050, 1053, 1059, 1067, 1068, 1069, 1111, 1112, 1114, 1116, 1119, 1120, 1128, 1130, 1134, 1138, 1139, 1142, 1146, 1161, 1166, 1216, 1242, 1457, 1485, 1486, 1501, 1569, 4136, 4137, 4541, 4552, 23380, 23512, 40497, 40685, 40691, 40900, 40926, 40927, 40971, 40975, 41026, 41064, 41065, 41066, 41143, 41146, 41164, 41946, 41991]\n",
      "zeror: [3, 6, 12, 14, 16, 18, 21, 22, 23, 24, 26, 28, 30, 31, 32, 36, 38, 44, 46, 57, 60, 179, 180, 181, 182, 183, 184, 185, 273, 293, 300, 351, 354, 357, 389, 390, 391, 392, 393, 395, 396, 398, 399, 401, 554, 679, 715, 718, 720, 722, 723, 727, 728, 734, 735, 737, 740, 741, 743, 751, 752, 761, 772, 797, 799, 803, 806, 807, 813, 816, 819, 821, 822, 823, 833, 837, 843, 845, 846, 847, 849, 866, 871, 881, 897, 901, 903, 904, 910, 912, 913, 914, 917, 923, 930, 934, 953, 958, 959, 962, 966, 971, 976, 977, 978, 979, 980, 991, 993, 995, 1000, 1002, 1018, 1019, 1020, 1021, 1036, 1037, 1039, 1040, 1041, 1042, 1049, 1050, 1053, 1059, 1067, 1068, 1069, 1111, 1112, 1114, 1116, 1119, 1120, 1128, 1130, 1134, 1138, 1139, 1142, 1146, 1161, 1166, 1216, 1242, 1457, 1485, 1486, 1501, 1569, 4136, 4137, 4541, 4552, 23380, 23512, 40497, 40685, 40691, 40900, 40926, 40927, 40971, 40975, 41026, 41064, 41065, 41066, 41143, 41146, 41164, 41946, 41991]\n",
      "bestfirst_cfssubseteval: [3, 6, 12, 14, 16, 18, 21, 22, 23, 24, 26, 28, 30, 31, 32, 36, 38, 44, 46, 57, 60, 179, 180, 181, 182, 183, 184, 185, 273, 293, 300, 351, 354, 357, 389, 390, 391, 392, 393, 395, 396, 398, 399, 401, 554, 679, 715, 718, 720, 722, 723, 727, 728, 734, 735, 737, 740, 741, 743, 751, 752, 761, 772, 797, 799, 803, 806, 807, 813, 816, 819, 821, 822, 823, 833, 837, 843, 845, 846, 847, 849, 866, 871, 881, 897, 901, 903, 904, 910, 912, 913, 914, 917, 923, 930, 934, 953, 958, 959, 962, 966, 971, 976, 977, 978, 979, 980, 991, 993, 995, 1000, 1002, 1018, 1019, 1020, 1021, 1036, 1037, 1039, 1040, 1041, 1042, 1049, 1050, 1053, 1059, 1067, 1068, 1069, 1111, 1112, 1114, 1116, 1119, 1120, 1128, 1130, 1134, 1138, 1139, 1142, 1146, 1161, 1166, 1216, 1242, 1457, 1485, 1486, 1501, 1569, 4136, 4137, 4541, 4552, 23380, 23512, 40497, 40685, 40691, 40900, 40926, 40927, 40971, 40975, 41026, 41064, 41065, 41066, 41143, 41146, 41164, 41946, 41991]\n",
      "greedystepwise_cfssubseteval: [3, 6, 12, 14, 16, 18, 21, 22, 23, 24, 26, 28, 30, 31, 32, 36, 38, 44, 46, 57, 60, 179, 180, 181, 182, 183, 184, 185, 273, 293, 300, 351, 354, 357, 389, 390, 391, 392, 393, 395, 396, 398, 399, 401, 554, 679, 715, 718, 720, 722, 723, 727, 728, 734, 735, 737, 740, 741, 743, 751, 752, 761, 772, 797, 799, 803, 806, 807, 813, 816, 819, 821, 822, 823, 833, 837, 843, 845, 846, 847, 849, 866, 871, 881, 897, 901, 903, 904, 910, 912, 913, 914, 917, 923, 930, 934, 953, 958, 959, 962, 966, 971, 976, 977, 978, 979, 980, 991, 993, 995, 1000, 1002, 1018, 1019, 1020, 1021, 1036, 1037, 1039, 1040, 1041, 1042, 1049, 1050, 1053, 1059, 1067, 1068, 1069, 1111, 1112, 1114, 1116, 1119, 1120, 1128, 1130, 1134, 1138, 1139, 1142, 1146, 1161, 1166, 1216, 1242, 1457, 1485, 1486, 1501, 1569, 4136, 4137, 4541, 4552, 23380, 23512, 40497, 40685, 40691, 40900, 40926, 40927, 40971, 40975, 41026, 41064, 41065, 41066, 41143, 41146, 41164, 41946, 41991]\n",
      "ranker_correlationattributeeval: [3, 6, 12, 14, 16, 18, 21, 22, 23, 24, 26, 28, 30, 31, 32, 36, 38, 44, 46, 57, 60, 179, 180, 181, 182, 183, 184, 185, 273, 293, 300, 351, 354, 357, 389, 390, 391, 392, 393, 395, 396, 398, 399, 401, 554, 679, 715, 718, 720, 722, 723, 727, 728, 734, 735, 737, 740, 741, 743, 751, 752, 761, 772, 797, 799, 803, 806, 807, 813, 816, 819, 821, 822, 823, 833, 837, 843, 845, 846, 847, 849, 866, 871, 881, 897, 901, 903, 904, 910, 912, 913, 914, 917, 923, 930, 934, 953, 958, 959, 962, 966, 971, 976, 977, 978, 979, 980, 991, 993, 995, 1000, 1002, 1018, 1019, 1020, 1021, 1036, 1037, 1039, 1040, 1041, 1042, 1049, 1050, 1053, 1059, 1067, 1068, 1069, 1111, 1112, 1114, 1116, 1119, 1120, 1128, 1130, 1134, 1138, 1139, 1142, 1146, 1161, 1166, 1216, 1242, 1457, 1485, 1486, 1501, 1569, 4136, 4137, 4541, 4552, 23380, 23512, 40497, 40685, 40691, 40900, 40926, 40927, 40971, 40975, 41026, 41064, 41065, 41066, 41143, 41146, 41164, 41946, 41991]\n",
      "ranker_gainratioattributeeval: [3, 6, 12, 14, 16, 18, 21, 22, 23, 24, 26, 28, 30, 31, 32, 36, 38, 44, 46, 57, 60, 179, 180, 181, 182, 183, 184, 185, 273, 293, 300, 351, 354, 357, 389, 390, 391, 392, 393, 395, 396, 398, 399, 401, 554, 679, 715, 718, 720, 722, 723, 727, 728, 734, 735, 737, 740, 741, 743, 751, 752, 761, 772, 797, 799, 803, 806, 807, 813, 816, 819, 821, 822, 823, 833, 837, 843, 845, 846, 847, 849, 866, 871, 881, 897, 901, 903, 904, 910, 912, 913, 914, 917, 923, 930, 934, 953, 958, 959, 962, 966, 971, 976, 977, 978, 979, 980, 991, 993, 995, 1000, 1002, 1018, 1019, 1020, 1021, 1036, 1037, 1039, 1040, 1041, 1042, 1049, 1050, 1053, 1059, 1067, 1068, 1069, 1111, 1112, 1114, 1116, 1119, 1120, 1128, 1130, 1134, 1138, 1139, 1142, 1146, 1161, 1166, 1216, 1242, 1457, 1485, 1486, 1501, 1569, 4136, 4137, 4541, 4552, 23380, 23512, 40497, 40685, 40691, 40900, 40926, 40927, 40971, 40975, 41026, 41064, 41065, 41066, 41143, 41146, 41164, 41946, 41991]\n",
      "ranker_infogainattributeeval: [3, 6, 12, 14, 16, 18, 21, 22, 23, 24, 26, 28, 30, 31, 32, 36, 38, 44, 46, 57, 60, 179, 180, 181, 182, 183, 184, 185, 273, 293, 300, 351, 354, 357, 389, 390, 391, 392, 393, 395, 396, 398, 399, 401, 554, 679, 715, 718, 720, 722, 723, 727, 728, 734, 735, 737, 740, 741, 743, 751, 752, 761, 772, 797, 799, 803, 806, 807, 813, 816, 819, 821, 822, 823, 833, 837, 843, 845, 846, 847, 849, 866, 871, 881, 897, 901, 903, 904, 910, 912, 913, 914, 917, 923, 930, 934, 953, 958, 959, 962, 966, 971, 976, 977, 978, 979, 980, 991, 993, 995, 1000, 1002, 1018, 1019, 1020, 1021, 1036, 1037, 1039, 1040, 1041, 1042, 1049, 1050, 1053, 1059, 1067, 1068, 1069, 1111, 1112, 1114, 1116, 1119, 1120, 1128, 1130, 1134, 1138, 1139, 1142, 1146, 1161, 1166, 1216, 1242, 1457, 1485, 1486, 1501, 1569, 4136, 4137, 4541, 4552, 23380, 23512, 40497, 40685, 40691, 40900, 40926, 40927, 40971, 40975, 41026, 41064, 41065, 41066, 41143, 41146, 41164, 41946, 41991]\n",
      "ranker_onerattributeeval: [3, 6, 12, 14, 16, 18, 21, 22, 23, 24, 26, 28, 30, 31, 32, 36, 38, 44, 46, 57, 60, 179, 180, 181, 182, 183, 184, 185, 273, 293, 300, 351, 354, 357, 389, 390, 391, 392, 393, 395, 396, 398, 399, 401, 554, 679, 715, 718, 720, 722, 723, 727, 728, 734, 735, 737, 740, 741, 743, 751, 752, 761, 772, 797, 799, 803, 806, 807, 813, 816, 819, 821, 822, 823, 833, 837, 843, 845, 846, 847, 849, 866, 871, 881, 897, 901, 903, 904, 910, 912, 913, 914, 917, 923, 930, 934, 953, 958, 959, 962, 966, 971, 976, 977, 978, 979, 980, 991, 993, 995, 1000, 1002, 1018, 1019, 1020, 1021, 1036, 1037, 1039, 1040, 1041, 1042, 1049, 1050, 1053, 1059, 1067, 1068, 1069, 1111, 1112, 1114, 1116, 1119, 1120, 1128, 1130, 1134, 1138, 1139, 1142, 1146, 1161, 1166, 1216, 1242, 1457, 1485, 1486, 1501, 1569, 4136, 4137, 4541, 4552, 23380, 23512, 40497, 40685, 40691, 40900, 40926, 40927, 40971, 40975, 41026, 41064, 41065, 41066, 41143, 41146, 41164, 41946, 41991]\n",
      "ranker_principalcomponents: [3, 6, 12, 14, 16, 18, 21, 22, 23, 24, 26, 28, 30, 31, 32, 36, 38, 44, 46, 57, 60, 179, 180, 181, 182, 183, 184, 185, 273, 293, 300, 351, 354, 357, 389, 390, 391, 392, 393, 395, 396, 398, 399, 401, 554, 679, 715, 718, 720, 722, 723, 727, 728, 734, 735, 737, 740, 741, 743, 751, 752, 761, 772, 797, 799, 803, 806, 807, 813, 816, 819, 821, 822, 823, 833, 837, 843, 845, 846, 847, 849, 866, 871, 881, 897, 901, 903, 904, 910, 912, 913, 914, 917, 923, 930, 934, 953, 958, 959, 962, 966, 971, 976, 977, 978, 979, 980, 991, 993, 995, 1000, 1002, 1018, 1019, 1020, 1021, 1036, 1037, 1039, 1040, 1041, 1042, 1049, 1050, 1053, 1059, 1067, 1068, 1069, 1111, 1112, 1114, 1116, 1119, 1120, 1128, 1130, 1134, 1138, 1139, 1142, 1146, 1161, 1166, 1216, 1242, 1457, 1485, 1486, 1501, 1569, 4136, 4137, 4541, 4552, 23380, 23512, 40497, 40685, 40691, 40900, 40926, 40927, 40971, 40975, 41026, 41064, 41065, 41066, 41143, 41146, 41164, 41946, 41991]\n",
      "ranker_relieffattributeeval: [3, 6, 12, 14, 16, 18, 21, 22, 23, 24, 26, 28, 30, 31, 32, 36, 38, 44, 46, 57, 60, 179, 180, 181, 182, 183, 184, 185, 273, 293, 300, 351, 354, 357, 389, 390, 391, 392, 393, 395, 396, 398, 399, 401, 554, 679, 715, 718, 720, 722, 723, 727, 728, 734, 735, 737, 740, 741, 743, 751, 752, 761, 772, 797, 799, 803, 806, 807, 813, 816, 819, 821, 822, 823, 833, 837, 843, 845, 846, 847, 849, 866, 871, 881, 897, 901, 903, 904, 910, 912, 913, 914, 917, 923, 930, 934, 953, 958, 959, 962, 966, 971, 976, 977, 978, 979, 980, 991, 993, 995, 1000, 1002, 1018, 1019, 1020, 1021, 1036, 1037, 1039, 1040, 1041, 1042, 1049, 1050, 1053, 1059, 1067, 1068, 1069, 1111, 1112, 1114, 1116, 1119, 1120, 1128, 1130, 1134, 1138, 1139, 1142, 1146, 1161, 1166, 1216, 1242, 1457, 1485, 1486, 1501, 1569, 4136, 4137, 4541, 4552, 23380, 23512, 40497, 40685, 40691, 40900, 40926, 40927, 40971, 40975, 41026, 41064, 41065, 41066, 41143, 41146, 41164, 41946, 41991]\n",
      "ranker_symmetricaluncertattributeeval: [3, 6, 12, 14, 16, 18, 21, 22, 23, 24, 26, 28, 30, 31, 32, 36, 38, 44, 46, 57, 60, 179, 180, 181, 182, 183, 184, 185, 273, 293, 300, 351, 354, 357, 389, 390, 391, 392, 393, 395, 396, 398, 399, 401, 554, 679, 715, 718, 720, 722, 723, 727, 728, 734, 735, 737, 740, 741, 743, 751, 752, 761, 772, 797, 799, 803, 806, 807, 813, 816, 819, 821, 822, 823, 833, 837, 843, 845, 846, 847, 849, 866, 871, 881, 897, 901, 903, 904, 910, 912, 913, 914, 917, 923, 930, 934, 953, 958, 959, 962, 966, 971, 976, 977, 978, 979, 980, 991, 993, 995, 1000, 1002, 1018, 1019, 1020, 1021, 1036, 1037, 1039, 1040, 1041, 1042, 1049, 1050, 1053, 1059, 1067, 1068, 1069, 1111, 1112, 1114, 1116, 1119, 1120, 1128, 1130, 1134, 1138, 1139, 1142, 1146, 1161, 1166, 1216, 1242, 1457, 1485, 1486, 1501, 1569, 4136, 4137, 4541, 4552, 23380, 23512, 40497, 40685, 40691, 40900, 40926, 40927, 40971, 40975, 41026, 41064, 41065, 41066, 41143, 41146, 41164, 41946, 41991]\n",
      "j48: [723, 727, 728, 734, 735, 737, 740, 741, 743, 751, 752, 761, 772, 797, 799, 803, 806, 807, 813, 816, 819, 821, 822, 823, 833, 837, 843, 845, 846, 847, 849, 866, 871, 881, 897, 901, 903, 904, 910, 912, 913, 914, 917, 923, 930, 934, 953, 958, 959, 962, 966, 971, 976, 977, 978, 979, 980, 991, 993, 995, 1000, 1002, 1018, 1019, 1020, 1021, 1036, 1037, 1039, 1040, 1041, 1042, 1049, 1050, 1053, 1059, 1067, 1068, 1069, 1111, 1112, 1114, 1116, 1119, 1120, 1128, 1130, 1134, 1138, 1139, 1142, 1146, 1161, 1166, 1216, 1242, 1457, 1485, 1486, 1501, 1569, 4136, 4137, 4541, 4552, 23380, 23512, 40497, 40685, 40691, 40900, 40926, 40927, 40971, 40975, 41026, 41064, 41065, 41066, 41143, 41146, 41164, 41946, 41991]\n"
     ]
    }
   ],
   "source": [
    "dfDefault = pd.concat([dfDefaultClassifiers[['openmlid', 'algorithm', 'fittime', 'exception']], dfDefaultPreprocessors[['openmlid', 'algorithm', 'fittime', 'exception']]])\n",
    "datasets = pd.unique(dfDefault[\"openmlid\"])\n",
    "algorithms = classifiers + preprocessors\n",
    "T = np.zeros((len(datasets), len(algorithms)))\n",
    "S = np.zeros((len(datasets), len(algorithms)))\n",
    "pbar = tqdm(total = T.size)\n",
    "missingReport = {}\n",
    "for i,d in enumerate(datasets):\n",
    "    dsDF = dfDefault[dfDefault[\"openmlid\"] == d]\n",
    "    for j, a in enumerate(algorithms):\n",
    "        isClassifier = a in classifiers\n",
    "        if isClassifier:\n",
    "            expectedT = 181 * 1 # 181 legal fit sizes (inst-attribute-combos <= threshold) * 1 seed\n",
    "        else:\n",
    "            expectedT = np.inf # 340 * 10 seeds\n",
    "        expectedS = expectedT - len(dsDF[(dsDF[\"algorithm\"] == a) & (dsDF[\"exception\"].notnull())])\n",
    "            \n",
    "        seenT = len(dsDF[dsDF[\"algorithm\"] == a])\n",
    "        seenS = len(dsDF[(dsDF[\"algorithm\"] == a) & (dsDF[\"exception\"].isnull()) & (dsDF[\"fittime\"].notnull())])\n",
    "        T[i,j] = seenT / expectedT\n",
    "        S[i,j] = seenS / expectedS if expectedS > 0 else 1\n",
    "        if seenT == 0:\n",
    "            if not a in missingReport:\n",
    "                missingReport[a] = []\n",
    "            missingReport[a].append(d)\n",
    "        pbar.update(1)\n",
    "pbar.close()\n",
    "fig, ax = plt.subplots(2, 1, figsize=(30,16), sharex=True)\n",
    "a = ax[0]\n",
    "a.imshow((1 - T).T, cmap='seismic', vmin=0, vmax=1, aspect=\"auto\")\n",
    "a.set_yticks(np.arange(len(algorithms) - 1))\n",
    "a.set_yticklabels(algorithms)\n",
    "a = ax[1]\n",
    "a.imshow((1 - S).T, cmap='seismic', vmin=0, vmax=1, aspect=\"auto\")\n",
    "a.set_yticks(np.arange(len(algorithms) - 1))\n",
    "a.set_yticklabels(algorithms)\n",
    "a.set_xticks(np.arange(len(datasets)))\n",
    "a.set_xticklabels(datasets, rotation=90)\n",
    "plt.show()\n",
    "\n",
    "for a in missingReport:\n",
    "    print(a + \": \" + str(missingReport[a]))"
   ]
  },
  {
   "cell_type": "markdown",
   "metadata": {},
   "source": [
    "## Availability of data for PARAMETRIZED atomic algorithms"
   ]
  },
  {
   "cell_type": "code",
   "execution_count": 14,
   "metadata": {},
   "outputs": [
    {
     "data": {
      "application/vnd.jupyter.widget-view+json": {
       "model_id": "3a2084ccc2fd4677bcfb489ab763d485",
       "version_major": 2,
       "version_minor": 0
      },
      "text/plain": [
       "HBox(children=(IntProgress(value=0, max=4524), HTML(value='')))"
      ]
     },
     "metadata": {},
     "output_type": "display_data"
    },
    {
     "name": "stdout",
     "output_type": "stream",
     "text": [
      "18\n",
      "4\n",
      "3\n",
      "4\n",
      "3\n",
      "4\n",
      "4\n",
      "5\n",
      "4\n",
      "4\n",
      "4\n",
      "4\n",
      "4\n",
      "4\n",
      "4\n",
      "4\n",
      "4\n",
      "5\n",
      "5\n",
      "5\n",
      "5\n",
      "5\n",
      "5\n",
      "5\n",
      "5\n",
      "5\n",
      "\n"
     ]
    },
    {
     "data": {
      "image/png": "[encoded data removed]",
      "text/plain": [
       "<Figure size 2160x1152 with 2 Axes>"
      ]
     },
     "metadata": {
      "needs_background": "light"
     },
     "output_type": "display_data"
    },
    {
     "name": "stdout",
     "output_type": "stream",
     "text": [
      "decisiontable: [4552, 23380, 23512, 40497, 40685, 40691, 40900, 40926, 40927, 40971, 40975, 41026, 41064, 41065, 41066, 41143, 41146, 41164, 41946, 41991]\n",
      "part: [41065, 41066, 41143, 41146, 41164, 41946, 41991]\n",
      "randomtree: [901, 903, 904, 910, 912, 913, 914, 917, 923, 930, 934, 953, 958, 959, 962, 971, 966, 976, 977, 978, 979, 980, 991, 993, 995, 1000, 1002, 1018, 1019, 1020, 1021, 1036, 1037, 1039, 1040, 1041, 1042, 1049, 1050, 1053, 1059, 1067, 1068, 1069, 1111, 1112, 1114, 1116, 1119, 1120, 1128, 1130, 1134, 1138, 1139, 1142, 1146, 1161, 1166, 1216, 1242, 1457, 1485, 1486, 1501, 1569, 4136, 4137, 4541, 4552, 23380, 23512, 40497, 40685, 40691, 40900, 40926, 40927, 40971, 40975, 41026, 41064, 41065, 41066, 41143, 41146, 41164, 41946, 41991]\n",
      "reptree: [1485, 1486, 1501, 1569, 4136, 4137, 4541, 4552, 23380, 23512, 40497, 40685, 40691, 40900, 40926, 40927, 40971, 40975, 41026, 41064, 41065, 41066, 41143, 41146, 41164, 41946, 41991]\n",
      "simplelogistic: [813, 816, 819, 821, 822, 823, 833, 837, 843, 845, 846, 847, 849, 866, 871, 881, 897, 901, 903, 904, 910, 912, 913, 914, 917, 923, 930, 934, 953, 958, 959, 962, 971, 966, 976, 977, 978, 979, 980, 991, 993, 995, 1000, 1002, 1018, 1019, 1020, 1021, 1036, 1037, 1039, 1040, 1041, 1042, 1049, 1050, 1053, 1059, 1067, 1068, 1069, 1111, 1112, 1114, 1116, 1119, 1120, 1128, 1130, 1134, 1138, 1139, 1142, 1146, 1161, 1166, 1216, 1242, 1457, 1485, 1486, 1501, 1569, 4136, 4137, 4541, 4552, 23380, 23512, 40497, 40685, 40691, 40900, 40926, 40927, 40971, 40975, 41026, 41064, 41065, 41066, 41143, 41146, 41164, 41946, 41991]\n",
      "smo: [849, 866, 871, 881, 897, 901, 903, 904, 910, 912, 913, 914, 917, 923, 930, 934, 953, 958, 959, 962, 971, 966, 976, 977, 978, 979, 980, 991, 993, 995, 1000, 1002, 1018, 1019, 1020, 1021, 1036, 1037, 1039, 1040, 1041, 1042, 1049, 1050, 1053, 1059, 1067, 1068, 1069, 1111, 1112, 1114, 1116, 1119, 1120, 1128, 1130, 1134, 1138, 1139, 1142, 1146, 1161, 1166, 1216, 1242, 1457, 1485, 1486, 1501, 1569, 4136, 4137, 4541, 4552, 23380, 23512, 40497, 40685, 40691, 40900, 40926, 40927, 40971, 40975, 41026, 41064, 41065, 41066, 41143, 41146, 41164, 41946, 41991]\n",
      "votedperceptron: [1486, 1501, 1569, 4136, 4137, 4541, 4552, 23380, 23512, 40497, 40685, 40691, 40900, 40926, 40927, 40971, 40975, 41026, 41064, 41065, 41066, 41143, 41146, 41164, 41946, 41991]\n",
      "bestfirst_cfssubseteval: [401, 554, 679, 715, 718, 720, 722, 723, 727, 728, 734, 735, 737, 740, 741, 743, 751, 752, 761, 772, 797, 799, 803, 806, 807, 813, 816, 819, 821, 822, 823, 833, 837, 843, 845, 846, 847, 849, 866, 871, 881, 897, 901, 903, 904, 910, 912, 913, 914, 917, 923, 930, 934, 953, 958, 959, 962, 971, 966, 976, 977, 978, 979, 980, 991, 993, 995, 1000, 1002, 1018, 1019, 1020, 1021, 1036, 1037, 1039, 1040, 1041, 1042, 1049, 1050, 1053, 1059, 1067, 1068, 1069, 1111, 1112, 1114, 1116, 1119, 1120, 1128, 1130, 1134, 1138, 1139, 1142, 1146, 1161, 1166, 1216, 1242, 1457, 1485, 1486, 1501, 1569, 4136, 4137, 4541, 4552, 23380, 23512, 40497, 40685, 40691, 40900, 40926, 40927, 40971, 40975, 41026, 41064, 41065, 41066, 41143, 41146, 41164, 41946, 41991]\n",
      "greedystepwise_cfssubseteval: [715, 718, 720, 722, 723, 727, 728, 734, 735, 737, 740, 741, 743, 751, 752, 761, 772, 797, 799, 803, 806, 807, 813, 816, 819, 821, 822, 823, 833, 837, 843, 845, 846, 847, 849, 866, 871, 881, 897, 901, 903, 904, 910, 912, 913, 914, 917, 923, 930, 934, 953, 958, 959, 962, 971, 966, 976, 977, 978, 979, 980, 991, 993, 995, 1000, 1002, 1018, 1019, 1020, 1021, 1036, 1037, 1039, 1040, 1041, 1042, 1049, 1050, 1053, 1059, 1067, 1068, 1069, 1111, 1112, 1114, 1116, 1119, 1120, 1128, 1130, 1134, 1138, 1139, 1142, 1146, 1161, 1166, 1216, 1242, 1457, 1485, 1486, 1501, 1569, 4136, 4137, 4541, 4552, 23380, 23512, 40497, 40685, 40691, 40900, 40926, 40927, 40971, 40975, 41026, 41064, 41065, 41066, 41143, 41146, 41164, 41946, 41991]\n",
      "ranker_gainratioattributeeval: [40927]\n",
      "ranker_infogainattributeeval: [40927]\n",
      "ranker_onerattributeeval: [1036, 1037, 1039, 1040, 1041, 1042, 1049, 1050, 1053, 1059, 1067, 1068, 1069, 1111, 1112, 1114, 1116, 1119, 1120, 1128, 1130, 1134, 1138, 1139, 1142, 1146, 1161, 1166, 1216, 1242, 1457, 1485, 1486, 1501, 1569, 4136, 4137, 4541, 4552, 23380, 23512, 40497, 40685, 40691, 40900, 40926, 40927, 40971, 40975, 41026, 41064, 41065, 41066, 41143, 41146, 41164, 41946, 41991]\n",
      "ranker_principalcomponents: [995, 1000, 1002, 1018, 1019, 1020, 1021, 1036, 1037, 1039, 1040, 1041, 1042, 1049, 1050, 1053, 1059, 1067, 1068, 1069, 1111, 1112, 1114, 1116, 1119, 1120, 1128, 1130, 1134, 1138, 1139, 1142, 1146, 1161, 1166, 1216, 1242, 1457, 1485, 1486, 1501, 1569, 4136, 4137, 4541, 4552, 23380, 23512, 40497, 40685, 40691, 40900, 40926, 40927, 40971, 40975, 41026, 41064, 41065, 41066, 41143, 41146, 41164, 41946, 41991]\n",
      "ranker_relieffattributeeval: [723, 727, 728, 734, 735, 737, 740, 741, 743, 751, 752, 761, 772, 797, 799, 803, 806, 807, 813, 816, 819, 821, 822, 823, 833, 837, 843, 845, 846, 847, 849, 866, 871, 881, 897, 901, 903, 904, 910, 912, 913, 914, 917, 923, 930, 934, 953, 958, 959, 962, 971, 966, 976, 977, 978, 979, 980, 991, 993, 995, 1000, 1002, 1018, 1019, 1020, 1021, 1036, 1037, 1039, 1040, 1041, 1042, 1049, 1050, 1053, 1059, 1067, 1068, 1069, 1111, 1112, 1114, 1116, 1119, 1120, 1128, 1130, 1134, 1138, 1139, 1142, 1146, 1161, 1166, 1216, 1242, 1457, 1485, 1486, 1501, 1569, 4136, 4137, 4541, 4552, 23380, 23512, 40497, 40685, 40691, 40900, 40926, 40927, 40971, 40975, 41026, 41064, 41065, 41066, 41143, 41146, 41164, 41946, 41991]\n",
      "ranker_symmetricaluncertattributeeval: [40927]\n"
     ]
    }
   ],
   "source": [
    "dfConfigured = pd.concat([dfConfiguredClassifiers[['openmlid', 'algorithm', 'algorithmoptions', 'fitsize', 'fittime', 'exception']], dfConfiguredPreprocessors[['openmlid', 'algorithm', 'algorithmoptions', 'fitsize', 'fittime', 'exception']]])\n",
    "datasets = pd.unique(dfConfigured[\"openmlid\"])\n",
    "algorithms = pd.unique(dfConfigured[\"algorithm\"])\n",
    "T = np.zeros((len(datasets), len(algorithms)))\n",
    "S = np.zeros((len(datasets), len(algorithms)))\n",
    "pbar = tqdm(total = T.size)\n",
    "missingReport = {}\n",
    "for j, a in enumerate(algorithms):\n",
    "    dfAlgo = dfConfigured[dfConfigured[\"algorithm\"] == a]\n",
    "    parametrizations = len(pd.unique(dfAlgo[\"algorithmoptions\"]))\n",
    "    fitsizes = len(pd.unique(dfConfigured[dfConfigured[\"algorithm\"] == a][\"fitsize\"]))\n",
    "    print(fitsizes)\n",
    "    for i,d in enumerate(datasets):\n",
    "        dsDF = dfAlgo[dfAlgo[\"openmlid\"] == d]\n",
    "        expectedT = parametrizations * fitsizes * 10  # 45 fit sizes * 10 seeds\n",
    "        expectedS = expectedT - len(dsDF[(dsDF[\"algorithm\"] == a) & (dsDF[\"exception\"].notnull())])\n",
    "            \n",
    "        seenT = len(dsDF[dsDF[\"algorithm\"] == a])\n",
    "        seenS = len(dsDF[(dsDF[\"algorithm\"] == a) & (dsDF[\"exception\"].isnull()) & (dsDF[\"fittime\"].notnull())])\n",
    "        T[i,j] = seenT / expectedT\n",
    "        S[i,j] = seenS / expectedS if expectedS > 0 else 1\n",
    "        if seenT == 0:\n",
    "            if not a in missingReport:\n",
    "                missingReport[a] = []\n",
    "            missingReport[a].append(d)\n",
    "        pbar.update(1)\n",
    "pbar.close()\n",
    "fig, ax = plt.subplots(2, 1, figsize=(30,16), sharex=True)\n",
    "a = ax[0]\n",
    "a.imshow((1 - T).T, cmap='seismic', vmin=0, vmax=1, aspect=\"auto\")\n",
    "a.set_yticks(np.arange(len(algorithms) - 1))\n",
    "a.set_yticklabels(algorithms)\n",
    "a = ax[1]\n",
    "a.imshow((1 - S).T, cmap='seismic', vmin=0, vmax=1, aspect=\"auto\")\n",
    "a.set_yticks(np.arange(len(algorithms) - 1))\n",
    "a.set_yticklabels(algorithms)\n",
    "a.set_xticks(np.arange(len(datasets)))\n",
    "a.set_xticklabels(datasets, rotation=90)\n",
    "plt.show()\n",
    "\n",
    "for a in missingReport:\n",
    "    print(a + \": \" + str(missingReport[a]))"
   ]
  },
  {
   "cell_type": "markdown",
   "metadata": {},
   "source": [
    "## Availability of Meta-Features for the Observations "
   ]
  },
  {
   "cell_type": "code",
   "execution_count": 20,
   "metadata": {
    "scrolled": true
   },
   "outputs": [
    {
     "name": "stderr",
     "output_type": "stream",
     "text": [
      "/home/felix/anaconda3/lib/python3.7/site-packages/ipykernel_launcher.py:7: TqdmDeprecationWarning: This function will be removed in tqdm==5.0.0\n",
      "Please use `tqdm.notebook.tqdm` instead of `tqdm.tqdm_notebook`\n",
      "  import sys\n"
     ]
    },
    {
     "data": {
      "application/vnd.jupyter.widget-view+json": {
       "model_id": "1bb7dcf6346b41ab86a30ccbb46fa776",
       "version_major": 2,
       "version_minor": 0
      },
      "text/plain": [
       "HBox(children=(FloatProgress(value=0.0, max=7161.0), HTML(value='')))"
      ]
     },
     "metadata": {},
     "output_type": "display_data"
    },
    {
     "ename": "KeyboardInterrupt",
     "evalue": "",
     "output_type": "error",
     "traceback": [
      "\u001b[0;31m---------------------------------------------------------------------------\u001b[0m",
      "\u001b[0;31mKeyboardInterrupt\u001b[0m                         Traceback (most recent call last)",
      "\u001b[0;32m<ipython-input-20-eeae894b685e>\u001b[0m in \u001b[0;36m<module>\u001b[0;34m\u001b[0m\n\u001b[1;32m     12\u001b[0m     \u001b[0mpbar\u001b[0m\u001b[0;34m.\u001b[0m\u001b[0mclose\u001b[0m\u001b[0;34m(\u001b[0m\u001b[0;34m)\u001b[0m\u001b[0;34m\u001b[0m\u001b[0;34m\u001b[0m\u001b[0m\n\u001b[1;32m     13\u001b[0m     \u001b[0;32mreturn\u001b[0m \u001b[0mmDF\u001b[0m\u001b[0;34m\u001b[0m\u001b[0;34m\u001b[0m\u001b[0m\n\u001b[0;32m---> 14\u001b[0;31m \u001b[0mmDF\u001b[0m \u001b[0;34m=\u001b[0m \u001b[0mgetRuntimesObservationsForWhichNoMetaFeaturesAreKnown\u001b[0m\u001b[0;34m(\u001b[0m\u001b[0mdfDefaultClassifiers\u001b[0m\u001b[0;34m,\u001b[0m \u001b[0mdfMetafeatures\u001b[0m\u001b[0;34m)\u001b[0m\u001b[0;34m\u001b[0m\u001b[0;34m\u001b[0m\u001b[0m\n\u001b[0m",
      "\u001b[0;32m<ipython-input-20-eeae894b685e>\u001b[0m in \u001b[0;36mgetRuntimesObservationsForWhichNoMetaFeaturesAreKnown\u001b[0;34m(dfClassifiers, dfMetafeatures)\u001b[0m\n\u001b[1;32m      9\u001b[0m         \u001b[0mpbar\u001b[0m\u001b[0;34m.\u001b[0m\u001b[0mupdate\u001b[0m\u001b[0;34m(\u001b[0m\u001b[0;36m1\u001b[0m\u001b[0;34m)\u001b[0m\u001b[0;34m\u001b[0m\u001b[0;34m\u001b[0m\u001b[0m\n\u001b[1;32m     10\u001b[0m         \u001b[0;32mif\u001b[0m \u001b[0mlen\u001b[0m\u001b[0;34m(\u001b[0m\u001b[0mdfMetafeatures\u001b[0m\u001b[0;34m.\u001b[0m\u001b[0mquery\u001b[0m\u001b[0;34m(\u001b[0m\u001b[0;34m\"openmlid == \"\u001b[0m \u001b[0;34m+\u001b[0m \u001b[0mstr\u001b[0m\u001b[0;34m(\u001b[0m\u001b[0mobs\u001b[0m\u001b[0;34m[\u001b[0m\u001b[0;34m\"openmlid\"\u001b[0m\u001b[0;34m]\u001b[0m\u001b[0;34m)\u001b[0m \u001b[0;34m+\u001b[0m \u001b[0;34m\" and datapoints_fold1 == \"\u001b[0m \u001b[0;34m+\u001b[0m \u001b[0mstr\u001b[0m\u001b[0;34m(\u001b[0m\u001b[0mobs\u001b[0m\u001b[0;34m[\u001b[0m\u001b[0;34m\"fitsize\"\u001b[0m\u001b[0;34m]\u001b[0m\u001b[0;34m)\u001b[0m \u001b[0;34m+\u001b[0m \u001b[0;34m\" and seed == \"\u001b[0m \u001b[0;34m+\u001b[0m \u001b[0mstr\u001b[0m\u001b[0;34m(\u001b[0m\u001b[0mobs\u001b[0m\u001b[0;34m[\u001b[0m\u001b[0;34m\"seed\"\u001b[0m\u001b[0;34m]\u001b[0m\u001b[0;34m)\u001b[0m\u001b[0;34m)\u001b[0m\u001b[0;34m)\u001b[0m \u001b[0;34m==\u001b[0m \u001b[0;36m0\u001b[0m\u001b[0;34m:\u001b[0m\u001b[0;34m\u001b[0m\u001b[0;34m\u001b[0m\u001b[0m\n\u001b[0;32m---> 11\u001b[0;31m             \u001b[0mmDF\u001b[0m\u001b[0;34m.\u001b[0m\u001b[0mloc\u001b[0m\u001b[0;34m[\u001b[0m\u001b[0mlen\u001b[0m\u001b[0;34m(\u001b[0m\u001b[0mmDF\u001b[0m\u001b[0;34m)\u001b[0m\u001b[0;34m]\u001b[0m \u001b[0;34m=\u001b[0m \u001b[0mobs\u001b[0m\u001b[0;34m[\u001b[0m\u001b[0mrAtts\u001b[0m\u001b[0;34m]\u001b[0m\u001b[0;34m\u001b[0m\u001b[0;34m\u001b[0m\u001b[0m\n\u001b[0m\u001b[1;32m     12\u001b[0m     \u001b[0mpbar\u001b[0m\u001b[0;34m.\u001b[0m\u001b[0mclose\u001b[0m\u001b[0;34m(\u001b[0m\u001b[0;34m)\u001b[0m\u001b[0;34m\u001b[0m\u001b[0;34m\u001b[0m\u001b[0m\n\u001b[1;32m     13\u001b[0m     \u001b[0;32mreturn\u001b[0m \u001b[0mmDF\u001b[0m\u001b[0;34m\u001b[0m\u001b[0;34m\u001b[0m\u001b[0m\n",
      "\u001b[0;32m~/anaconda3/lib/python3.7/site-packages/pandas/core/indexing.py\u001b[0m in \u001b[0;36m__setitem__\u001b[0;34m(self, key, value)\u001b[0m\n\u001b[1;32m    669\u001b[0m             \u001b[0mkey\u001b[0m \u001b[0;34m=\u001b[0m \u001b[0mcom\u001b[0m\u001b[0;34m.\u001b[0m\u001b[0mapply_if_callable\u001b[0m\u001b[0;34m(\u001b[0m\u001b[0mkey\u001b[0m\u001b[0;34m,\u001b[0m \u001b[0mself\u001b[0m\u001b[0;34m.\u001b[0m\u001b[0mobj\u001b[0m\u001b[0;34m)\u001b[0m\u001b[0;34m\u001b[0m\u001b[0;34m\u001b[0m\u001b[0m\n\u001b[1;32m    670\u001b[0m         \u001b[0mindexer\u001b[0m \u001b[0;34m=\u001b[0m \u001b[0mself\u001b[0m\u001b[0;34m.\u001b[0m\u001b[0m_get_setitem_indexer\u001b[0m\u001b[0;34m(\u001b[0m\u001b[0mkey\u001b[0m\u001b[0;34m)\u001b[0m\u001b[0;34m\u001b[0m\u001b[0;34m\u001b[0m\u001b[0m\n\u001b[0;32m--> 671\u001b[0;31m         \u001b[0mself\u001b[0m\u001b[0;34m.\u001b[0m\u001b[0m_setitem_with_indexer\u001b[0m\u001b[0;34m(\u001b[0m\u001b[0mindexer\u001b[0m\u001b[0;34m,\u001b[0m \u001b[0mvalue\u001b[0m\u001b[0;34m)\u001b[0m\u001b[0;34m\u001b[0m\u001b[0;34m\u001b[0m\u001b[0m\n\u001b[0m\u001b[1;32m    672\u001b[0m \u001b[0;34m\u001b[0m\u001b[0m\n\u001b[1;32m    673\u001b[0m     \u001b[0;32mdef\u001b[0m \u001b[0m_validate_key\u001b[0m\u001b[0;34m(\u001b[0m\u001b[0mself\u001b[0m\u001b[0;34m,\u001b[0m \u001b[0mkey\u001b[0m\u001b[0;34m,\u001b[0m \u001b[0maxis\u001b[0m\u001b[0;34m:\u001b[0m \u001b[0mint\u001b[0m\u001b[0;34m)\u001b[0m\u001b[0;34m:\u001b[0m\u001b[0;34m\u001b[0m\u001b[0;34m\u001b[0m\u001b[0m\n",
      "\u001b[0;32m~/anaconda3/lib/python3.7/site-packages/pandas/core/indexing.py\u001b[0m in \u001b[0;36m_setitem_with_indexer\u001b[0;34m(self, indexer, value)\u001b[0m\n\u001b[1;32m    873\u001b[0m \u001b[0;34m\u001b[0m\u001b[0m\n\u001b[1;32m    874\u001b[0m             \u001b[0;32mif\u001b[0m \u001b[0mmissing\u001b[0m\u001b[0;34m:\u001b[0m\u001b[0;34m\u001b[0m\u001b[0;34m\u001b[0m\u001b[0m\n\u001b[0;32m--> 875\u001b[0;31m                 \u001b[0;32mreturn\u001b[0m \u001b[0mself\u001b[0m\u001b[0;34m.\u001b[0m\u001b[0m_setitem_with_indexer_missing\u001b[0m\u001b[0;34m(\u001b[0m\u001b[0mindexer\u001b[0m\u001b[0;34m,\u001b[0m \u001b[0mvalue\u001b[0m\u001b[0;34m)\u001b[0m\u001b[0;34m\u001b[0m\u001b[0;34m\u001b[0m\u001b[0m\n\u001b[0m\u001b[1;32m    876\u001b[0m \u001b[0;34m\u001b[0m\u001b[0m\n\u001b[1;32m    877\u001b[0m         \u001b[0;31m# set\u001b[0m\u001b[0;34m\u001b[0m\u001b[0;34m\u001b[0m\u001b[0;34m\u001b[0m\u001b[0m\n",
      "\u001b[0;32m~/anaconda3/lib/python3.7/site-packages/pandas/core/indexing.py\u001b[0m in \u001b[0;36m_setitem_with_indexer_missing\u001b[0;34m(self, indexer, value)\u001b[0m\n\u001b[1;32m   1121\u001b[0m                 \u001b[0mvalue\u001b[0m \u001b[0;34m=\u001b[0m \u001b[0mSeries\u001b[0m\u001b[0;34m(\u001b[0m\u001b[0mvalue\u001b[0m\u001b[0;34m,\u001b[0m \u001b[0mindex\u001b[0m\u001b[0;34m=\u001b[0m\u001b[0mself\u001b[0m\u001b[0;34m.\u001b[0m\u001b[0mobj\u001b[0m\u001b[0;34m.\u001b[0m\u001b[0mcolumns\u001b[0m\u001b[0;34m,\u001b[0m \u001b[0mname\u001b[0m\u001b[0;34m=\u001b[0m\u001b[0mindexer\u001b[0m\u001b[0;34m)\u001b[0m\u001b[0;34m\u001b[0m\u001b[0;34m\u001b[0m\u001b[0m\n\u001b[1;32m   1122\u001b[0m \u001b[0;34m\u001b[0m\u001b[0m\n\u001b[0;32m-> 1123\u001b[0;31m             \u001b[0mself\u001b[0m\u001b[0;34m.\u001b[0m\u001b[0mobj\u001b[0m\u001b[0;34m.\u001b[0m\u001b[0m_data\u001b[0m \u001b[0;34m=\u001b[0m \u001b[0mself\u001b[0m\u001b[0;34m.\u001b[0m\u001b[0mobj\u001b[0m\u001b[0;34m.\u001b[0m\u001b[0mappend\u001b[0m\u001b[0;34m(\u001b[0m\u001b[0mvalue\u001b[0m\u001b[0;34m)\u001b[0m\u001b[0;34m.\u001b[0m\u001b[0m_data\u001b[0m\u001b[0;34m\u001b[0m\u001b[0;34m\u001b[0m\u001b[0m\n\u001b[0m\u001b[1;32m   1124\u001b[0m             \u001b[0mself\u001b[0m\u001b[0;34m.\u001b[0m\u001b[0mobj\u001b[0m\u001b[0;34m.\u001b[0m\u001b[0m_maybe_update_cacher\u001b[0m\u001b[0;34m(\u001b[0m\u001b[0mclear\u001b[0m\u001b[0;34m=\u001b[0m\u001b[0;32mTrue\u001b[0m\u001b[0;34m)\u001b[0m\u001b[0;34m\u001b[0m\u001b[0;34m\u001b[0m\u001b[0m\n\u001b[1;32m   1125\u001b[0m             \u001b[0;32mreturn\u001b[0m \u001b[0mself\u001b[0m\u001b[0;34m.\u001b[0m\u001b[0mobj\u001b[0m\u001b[0;34m\u001b[0m\u001b[0;34m\u001b[0m\u001b[0m\n",
      "\u001b[0;32m~/anaconda3/lib/python3.7/site-packages/pandas/core/frame.py\u001b[0m in \u001b[0;36mappend\u001b[0;34m(self, other, ignore_index, verify_integrity, sort)\u001b[0m\n\u001b[1;32m   7058\u001b[0m                 \u001b[0mcombined_columns\u001b[0m \u001b[0;34m=\u001b[0m \u001b[0mself\u001b[0m\u001b[0;34m.\u001b[0m\u001b[0mcolumns\u001b[0m\u001b[0;34m.\u001b[0m\u001b[0mastype\u001b[0m\u001b[0;34m(\u001b[0m\u001b[0mobject\u001b[0m\u001b[0;34m)\u001b[0m\u001b[0;34m.\u001b[0m\u001b[0mappend\u001b[0m\u001b[0;34m(\u001b[0m\u001b[0midx_diff\u001b[0m\u001b[0;34m)\u001b[0m\u001b[0;34m\u001b[0m\u001b[0;34m\u001b[0m\u001b[0m\n\u001b[1;32m   7059\u001b[0m             other = (\n\u001b[0;32m-> 7060\u001b[0;31m                 \u001b[0mother\u001b[0m\u001b[0;34m.\u001b[0m\u001b[0mreindex\u001b[0m\u001b[0;34m(\u001b[0m\u001b[0mcombined_columns\u001b[0m\u001b[0;34m,\u001b[0m \u001b[0mcopy\u001b[0m\u001b[0;34m=\u001b[0m\u001b[0;32mFalse\u001b[0m\u001b[0;34m)\u001b[0m\u001b[0;34m\u001b[0m\u001b[0;34m\u001b[0m\u001b[0m\n\u001b[0m\u001b[1;32m   7061\u001b[0m                 \u001b[0;34m.\u001b[0m\u001b[0mto_frame\u001b[0m\u001b[0;34m(\u001b[0m\u001b[0;34m)\u001b[0m\u001b[0;34m\u001b[0m\u001b[0;34m\u001b[0m\u001b[0m\n\u001b[1;32m   7062\u001b[0m                 \u001b[0;34m.\u001b[0m\u001b[0mT\u001b[0m\u001b[0;34m.\u001b[0m\u001b[0minfer_objects\u001b[0m\u001b[0;34m(\u001b[0m\u001b[0;34m)\u001b[0m\u001b[0;34m\u001b[0m\u001b[0;34m\u001b[0m\u001b[0m\n",
      "\u001b[0;32m~/anaconda3/lib/python3.7/site-packages/pandas/core/series.py\u001b[0m in \u001b[0;36mto_frame\u001b[0;34m(self, name)\u001b[0m\n\u001b[1;32m   1584\u001b[0m         \"\"\"\n\u001b[1;32m   1585\u001b[0m         \u001b[0;32mif\u001b[0m \u001b[0mname\u001b[0m \u001b[0;32mis\u001b[0m \u001b[0;32mNone\u001b[0m\u001b[0;34m:\u001b[0m\u001b[0;34m\u001b[0m\u001b[0;34m\u001b[0m\u001b[0m\n\u001b[0;32m-> 1586\u001b[0;31m             \u001b[0mdf\u001b[0m \u001b[0;34m=\u001b[0m \u001b[0mself\u001b[0m\u001b[0;34m.\u001b[0m\u001b[0m_constructor_expanddim\u001b[0m\u001b[0;34m(\u001b[0m\u001b[0mself\u001b[0m\u001b[0;34m)\u001b[0m\u001b[0;34m\u001b[0m\u001b[0;34m\u001b[0m\u001b[0m\n\u001b[0m\u001b[1;32m   1587\u001b[0m         \u001b[0;32melse\u001b[0m\u001b[0;34m:\u001b[0m\u001b[0;34m\u001b[0m\u001b[0;34m\u001b[0m\u001b[0m\n\u001b[1;32m   1588\u001b[0m             \u001b[0mdf\u001b[0m \u001b[0;34m=\u001b[0m \u001b[0mself\u001b[0m\u001b[0;34m.\u001b[0m\u001b[0m_constructor_expanddim\u001b[0m\u001b[0;34m(\u001b[0m\u001b[0;34m{\u001b[0m\u001b[0mname\u001b[0m\u001b[0;34m:\u001b[0m \u001b[0mself\u001b[0m\u001b[0;34m}\u001b[0m\u001b[0;34m)\u001b[0m\u001b[0;34m\u001b[0m\u001b[0;34m\u001b[0m\u001b[0m\n",
      "\u001b[0;32m~/anaconda3/lib/python3.7/site-packages/pandas/core/frame.py\u001b[0m in \u001b[0;36m__init__\u001b[0;34m(self, data, index, columns, dtype, copy)\u001b[0m\n\u001b[1;32m    460\u001b[0m                 \u001b[0mmgr\u001b[0m \u001b[0;34m=\u001b[0m \u001b[0minit_dict\u001b[0m\u001b[0;34m(\u001b[0m\u001b[0mdata\u001b[0m\u001b[0;34m,\u001b[0m \u001b[0mindex\u001b[0m\u001b[0;34m,\u001b[0m \u001b[0mcolumns\u001b[0m\u001b[0;34m,\u001b[0m \u001b[0mdtype\u001b[0m\u001b[0;34m=\u001b[0m\u001b[0mdtype\u001b[0m\u001b[0;34m)\u001b[0m\u001b[0;34m\u001b[0m\u001b[0;34m\u001b[0m\u001b[0m\n\u001b[1;32m    461\u001b[0m             \u001b[0;32melif\u001b[0m \u001b[0mgetattr\u001b[0m\u001b[0;34m(\u001b[0m\u001b[0mdata\u001b[0m\u001b[0;34m,\u001b[0m \u001b[0;34m\"name\"\u001b[0m\u001b[0;34m,\u001b[0m \u001b[0;32mNone\u001b[0m\u001b[0;34m)\u001b[0m \u001b[0;32mis\u001b[0m \u001b[0;32mnot\u001b[0m \u001b[0;32mNone\u001b[0m\u001b[0;34m:\u001b[0m\u001b[0;34m\u001b[0m\u001b[0;34m\u001b[0m\u001b[0m\n\u001b[0;32m--> 462\u001b[0;31m                 \u001b[0mmgr\u001b[0m \u001b[0;34m=\u001b[0m \u001b[0minit_dict\u001b[0m\u001b[0;34m(\u001b[0m\u001b[0;34m{\u001b[0m\u001b[0mdata\u001b[0m\u001b[0;34m.\u001b[0m\u001b[0mname\u001b[0m\u001b[0;34m:\u001b[0m \u001b[0mdata\u001b[0m\u001b[0;34m}\u001b[0m\u001b[0;34m,\u001b[0m \u001b[0mindex\u001b[0m\u001b[0;34m,\u001b[0m \u001b[0mcolumns\u001b[0m\u001b[0;34m,\u001b[0m \u001b[0mdtype\u001b[0m\u001b[0;34m=\u001b[0m\u001b[0mdtype\u001b[0m\u001b[0;34m)\u001b[0m\u001b[0;34m\u001b[0m\u001b[0;34m\u001b[0m\u001b[0m\n\u001b[0m\u001b[1;32m    463\u001b[0m             \u001b[0;32melse\u001b[0m\u001b[0;34m:\u001b[0m\u001b[0;34m\u001b[0m\u001b[0;34m\u001b[0m\u001b[0m\n\u001b[1;32m    464\u001b[0m                 \u001b[0mmgr\u001b[0m \u001b[0;34m=\u001b[0m \u001b[0minit_ndarray\u001b[0m\u001b[0;34m(\u001b[0m\u001b[0mdata\u001b[0m\u001b[0;34m,\u001b[0m \u001b[0mindex\u001b[0m\u001b[0;34m,\u001b[0m \u001b[0mcolumns\u001b[0m\u001b[0;34m,\u001b[0m \u001b[0mdtype\u001b[0m\u001b[0;34m=\u001b[0m\u001b[0mdtype\u001b[0m\u001b[0;34m,\u001b[0m \u001b[0mcopy\u001b[0m\u001b[0;34m=\u001b[0m\u001b[0mcopy\u001b[0m\u001b[0;34m)\u001b[0m\u001b[0;34m\u001b[0m\u001b[0;34m\u001b[0m\u001b[0m\n",
      "\u001b[0;32m~/anaconda3/lib/python3.7/site-packages/pandas/core/internals/construction.py\u001b[0m in \u001b[0;36minit_dict\u001b[0;34m(data, index, columns, dtype)\u001b[0m\n\u001b[1;32m    252\u001b[0m             \u001b[0marr\u001b[0m \u001b[0;32mif\u001b[0m \u001b[0;32mnot\u001b[0m \u001b[0mis_datetime64tz_dtype\u001b[0m\u001b[0;34m(\u001b[0m\u001b[0marr\u001b[0m\u001b[0;34m)\u001b[0m \u001b[0;32melse\u001b[0m \u001b[0marr\u001b[0m\u001b[0;34m.\u001b[0m\u001b[0mcopy\u001b[0m\u001b[0;34m(\u001b[0m\u001b[0;34m)\u001b[0m \u001b[0;32mfor\u001b[0m \u001b[0marr\u001b[0m \u001b[0;32min\u001b[0m \u001b[0marrays\u001b[0m\u001b[0;34m\u001b[0m\u001b[0;34m\u001b[0m\u001b[0m\n\u001b[1;32m    253\u001b[0m         ]\n\u001b[0;32m--> 254\u001b[0;31m     \u001b[0;32mreturn\u001b[0m \u001b[0marrays_to_mgr\u001b[0m\u001b[0;34m(\u001b[0m\u001b[0marrays\u001b[0m\u001b[0;34m,\u001b[0m \u001b[0mdata_names\u001b[0m\u001b[0;34m,\u001b[0m \u001b[0mindex\u001b[0m\u001b[0;34m,\u001b[0m \u001b[0mcolumns\u001b[0m\u001b[0;34m,\u001b[0m \u001b[0mdtype\u001b[0m\u001b[0;34m=\u001b[0m\u001b[0mdtype\u001b[0m\u001b[0;34m)\u001b[0m\u001b[0;34m\u001b[0m\u001b[0;34m\u001b[0m\u001b[0m\n\u001b[0m\u001b[1;32m    255\u001b[0m \u001b[0;34m\u001b[0m\u001b[0m\n\u001b[1;32m    256\u001b[0m \u001b[0;34m\u001b[0m\u001b[0m\n",
      "\u001b[0;32m~/anaconda3/lib/python3.7/site-packages/pandas/core/internals/construction.py\u001b[0m in \u001b[0;36marrays_to_mgr\u001b[0;34m(arrays, arr_names, index, columns, dtype)\u001b[0m\n\u001b[1;32m     72\u001b[0m     \u001b[0maxes\u001b[0m \u001b[0;34m=\u001b[0m \u001b[0;34m[\u001b[0m\u001b[0mensure_index\u001b[0m\u001b[0;34m(\u001b[0m\u001b[0mcolumns\u001b[0m\u001b[0;34m)\u001b[0m\u001b[0;34m,\u001b[0m \u001b[0mindex\u001b[0m\u001b[0;34m]\u001b[0m\u001b[0;34m\u001b[0m\u001b[0;34m\u001b[0m\u001b[0m\n\u001b[1;32m     73\u001b[0m \u001b[0;34m\u001b[0m\u001b[0m\n\u001b[0;32m---> 74\u001b[0;31m     \u001b[0;32mreturn\u001b[0m \u001b[0mcreate_block_manager_from_arrays\u001b[0m\u001b[0;34m(\u001b[0m\u001b[0marrays\u001b[0m\u001b[0;34m,\u001b[0m \u001b[0marr_names\u001b[0m\u001b[0;34m,\u001b[0m \u001b[0maxes\u001b[0m\u001b[0;34m)\u001b[0m\u001b[0;34m\u001b[0m\u001b[0;34m\u001b[0m\u001b[0m\n\u001b[0m\u001b[1;32m     75\u001b[0m \u001b[0;34m\u001b[0m\u001b[0m\n\u001b[1;32m     76\u001b[0m \u001b[0;34m\u001b[0m\u001b[0m\n",
      "\u001b[0;32m~/anaconda3/lib/python3.7/site-packages/pandas/core/internals/managers.py\u001b[0m in \u001b[0;36mcreate_block_manager_from_arrays\u001b[0;34m(arrays, names, axes)\u001b[0m\n\u001b[1;32m   1668\u001b[0m \u001b[0;34m\u001b[0m\u001b[0m\n\u001b[1;32m   1669\u001b[0m     \u001b[0;32mtry\u001b[0m\u001b[0;34m:\u001b[0m\u001b[0;34m\u001b[0m\u001b[0;34m\u001b[0m\u001b[0m\n\u001b[0;32m-> 1670\u001b[0;31m         \u001b[0mblocks\u001b[0m \u001b[0;34m=\u001b[0m \u001b[0mform_blocks\u001b[0m\u001b[0;34m(\u001b[0m\u001b[0marrays\u001b[0m\u001b[0;34m,\u001b[0m \u001b[0mnames\u001b[0m\u001b[0;34m,\u001b[0m \u001b[0maxes\u001b[0m\u001b[0;34m)\u001b[0m\u001b[0;34m\u001b[0m\u001b[0;34m\u001b[0m\u001b[0m\n\u001b[0m\u001b[1;32m   1671\u001b[0m         \u001b[0mmgr\u001b[0m \u001b[0;34m=\u001b[0m \u001b[0mBlockManager\u001b[0m\u001b[0;34m(\u001b[0m\u001b[0mblocks\u001b[0m\u001b[0;34m,\u001b[0m \u001b[0maxes\u001b[0m\u001b[0;34m)\u001b[0m\u001b[0;34m\u001b[0m\u001b[0;34m\u001b[0m\u001b[0m\n\u001b[1;32m   1672\u001b[0m         \u001b[0mmgr\u001b[0m\u001b[0;34m.\u001b[0m\u001b[0m_consolidate_inplace\u001b[0m\u001b[0;34m(\u001b[0m\u001b[0;34m)\u001b[0m\u001b[0;34m\u001b[0m\u001b[0;34m\u001b[0m\u001b[0m\n",
      "\u001b[0;32m~/anaconda3/lib/python3.7/site-packages/pandas/core/internals/managers.py\u001b[0m in \u001b[0;36mform_blocks\u001b[0;34m(arrays, names, axes)\u001b[0m\n\u001b[1;32m   1758\u001b[0m         \u001b[0mblocks\u001b[0m\u001b[0;34m.\u001b[0m\u001b[0mextend\u001b[0m\u001b[0;34m(\u001b[0m\u001b[0mobject_blocks\u001b[0m\u001b[0;34m)\u001b[0m\u001b[0;34m\u001b[0m\u001b[0;34m\u001b[0m\u001b[0m\n\u001b[1;32m   1759\u001b[0m \u001b[0;34m\u001b[0m\u001b[0m\n\u001b[0;32m-> 1760\u001b[0;31m     \u001b[0;32mif\u001b[0m \u001b[0mlen\u001b[0m\u001b[0;34m(\u001b[0m\u001b[0mitems_dict\u001b[0m\u001b[0;34m[\u001b[0m\u001b[0;34m\"CategoricalBlock\"\u001b[0m\u001b[0;34m]\u001b[0m\u001b[0;34m)\u001b[0m \u001b[0;34m>\u001b[0m \u001b[0;36m0\u001b[0m\u001b[0;34m:\u001b[0m\u001b[0;34m\u001b[0m\u001b[0;34m\u001b[0m\u001b[0m\n\u001b[0m\u001b[1;32m   1761\u001b[0m         cat_blocks = [\n\u001b[1;32m   1762\u001b[0m             \u001b[0mmake_block\u001b[0m\u001b[0;34m(\u001b[0m\u001b[0marray\u001b[0m\u001b[0;34m,\u001b[0m \u001b[0mklass\u001b[0m\u001b[0;34m=\u001b[0m\u001b[0mCategoricalBlock\u001b[0m\u001b[0;34m,\u001b[0m \u001b[0mplacement\u001b[0m\u001b[0;34m=\u001b[0m\u001b[0;34m[\u001b[0m\u001b[0mi\u001b[0m\u001b[0;34m]\u001b[0m\u001b[0;34m)\u001b[0m\u001b[0;34m\u001b[0m\u001b[0;34m\u001b[0m\u001b[0m\n",
      "\u001b[0;31mKeyboardInterrupt\u001b[0m: "
     ]
    }
   ],
   "source": [
    "def getRuntimesObservationsForWhichNoMetaFeaturesAreKnown(dfClassifiers, dfMetafeatures):\n",
    "    rAtts = [\"openmlid\", \"fitsize\", \"seed\"]\n",
    "    mDF = pd.DataFrame([], columns=rAtts)\n",
    "    dfClassifiers = dfClassifiers[dfClassifiers[\"exception\"].isnull()][rAtts].drop_duplicates()\n",
    "    datasets = pd.unique(dfClassifiers[\"openmlid\"])\n",
    "\n",
    "    pbar = tqdm(total=len(dfClassifiers))\n",
    "    for index, obs in dfClassifiers.iterrows():\n",
    "        pbar.update(1)\n",
    "        if len(dfMetafeatures.query(\"openmlid == \" + str(obs[\"openmlid\"]) + \" and datapoints_fold1 == \" + str(obs[\"fitsize\"]) + \" and seed == \" + str(obs[\"seed\"]))) == 0:\n",
    "            mDF.loc[len(mDF)] = obs[rAtts]\n",
    "    pbar.close()\n",
    "    return mDF\n",
    "mDF = getRuntimesObservationsForWhichNoMetaFeaturesAreKnown(dfDefaultClassifiers, dfMetafeatures)"
   ]
  },
  {
   "cell_type": "code",
   "execution_count": 16,
   "metadata": {},
   "outputs": [
    {
     "name": "stdout",
     "output_type": "stream",
     "text": [
      "Format: <openmlid>: [(<fitsize>,<seed>)...]\n",
      "3: [(1, 0), (1, 1), (1, 2), (1, 3), (1, 4), (1, 5), (1, 6), (1, 7), (1, 8), (1, 9)]\n",
      "31: [(1, 0), (1, 1), (1, 2), (1, 3), (1, 4), (1, 5), (1, 6), (1, 7), (1, 8), (1, 9)]\n",
      "60: [(1, 0), (1, 1), (1, 2), (1, 3), (1, 4), (1, 5), (1, 6), (1, 7), (1, 8), (1, 9)]\n",
      "181: [(1, 0), (1, 1), (1, 2), (1, 3), (1, 4), (1, 5), (1, 6), (1, 7), (1, 8), (1, 9)]\n",
      "183: [(1, 0), (1, 1), (1, 2), (1, 3), (1, 4), (1, 5), (1, 6), (1, 7), (1, 8), (1, 9)]\n",
      "273: [(1, 1), (1, 2), (1, 3), (1, 4), (1, 5), (1, 6), (1, 7), (1, 8), (1, 9), (1, 0)]\n",
      "554: [(1, 0), (1, 1), (1, 2), (1, 3), (1, 4), (1, 5), (1, 6), (1, 7), (1, 8), (1, 9)]\n",
      "1037: [(1, 1), (1, 3), (1, 4), (1, 7), (1, 9), (1, 6), (1, 0), (1, 2), (1, 5), (1, 8)]\n",
      "1039: [(1, 0), (1, 1), (1, 2), (1, 3), (1, 4), (1, 5), (1, 6), (1, 7), (1, 8), (1, 9)]\n",
      "1042: [(1, 0), (1, 1), (1, 2), (1, 3), (1, 4), (1, 5), (1, 6), (1, 8), (1, 9), (1, 7)]\n",
      "1111: [(2, 0), (4, 0), (2, 1), (2, 2), (4, 1), (8, 0), (16, 0), (2, 3), (4, 2), (8, 1), (2, 4), (16, 1), (50, 0), (4, 3), (8, 2), (4, 4), (75, 0), (16, 2), (50, 1), (16, 3), (4, 5), (50, 2), (100, 0), (8, 4), (4, 6), (2, 7), (16, 4), (75, 2), (50, 3), (125, 0), (100, 1), (8, 5), (4, 7), (2, 8), (75, 3), (125, 1), (50, 4), (8, 6), (100, 2), (16, 6), (4, 8), (75, 4), (50, 5), (2, 9), (125, 2), (150, 1), (8, 7), (100, 3), (50, 6), (16, 7), (75, 5), (250, 0), (4, 9), (200, 1), (150, 2), (125, 3), (8, 8), (100, 4), (16, 8), (75, 6), (250, 1), (200, 2), (8, 9), (125, 4), (50, 7), (300, 0), (100, 5), (16, 9), (75, 7), (250, 2), (200, 3), (400, 0), (125, 5), (50, 8), (150, 4), (100, 6), (300, 1), (150, 5), (75, 8), (50, 9), (400, 1), (500, 0), (200, 4), (300, 2), (200, 5), (75, 9), (250, 4), (500, 1), (150, 6), (125, 7), (400, 2), (300, 3), (600, 0), (100, 9), (250, 5), (500, 2), (600, 1), (700, 0), (125, 8), (150, 7), (400, 3), (200, 6), (300, 4), (200, 7), (250, 6), (500, 3), (700, 1), (800, 0), (600, 2), (125, 9), (150, 8), (400, 4), (300, 5), (200, 8), (500, 4), (600, 3), (800, 1), (150, 9), (900, 0), (400, 5), (300, 6), (900, 1), (600, 4), (250, 8), (200, 9), (700, 3), (800, 2), (400, 6), (300, 7), (600, 5), (250, 9), (800, 3), (1000, 1), (700, 4), (1500, 0), (900, 2), (400, 7), (500, 6), (300, 8), (2000, 0), (600, 6), (800, 4), (700, 5), (300, 9), (900, 3), (1000, 2), (400, 8), (500, 7), (400, 9), (1000, 3), (2000, 1), (600, 7), (800, 5), (700, 6), (2500, 0), (1500, 2), (900, 4), (500, 8), (500, 9), (1000, 4), (900, 5), (1500, 3), (2500, 1), (600, 8), (800, 6), (700, 7), (3000, 0), (1000, 5), (2000, 3), (1500, 4), (2500, 2), (700, 8), (800, 7), (3000, 1), (600, 9), (900, 6), (1000, 6), (2500, 3), (2000, 4), (700, 9), (800, 8), (4000, 0), (900, 7), (3000, 2), (1500, 5), (1000, 7), (2000, 5), (2500, 4), (800, 9), (4500, 0), (1500, 6), (3500, 2), (3000, 3), (4000, 1), (3000, 4), (2000, 6), (2500, 5), (900, 9), (4500, 1), (4000, 2), (5000, 0), (3500, 3), (1000, 8), (1500, 7), (2000, 7), (3500, 4), (4500, 2), (5000, 1), (4000, 3), (1000, 9), (2000, 8), (2500, 7), (1500, 9), (4500, 3), (7000, 0), (4000, 4), (6000, 1), (5000, 2), (3000, 7), (2000, 9), (6000, 2), (4500, 4), (8000, 0), (4000, 5), (7000, 1), (5000, 3), (3000, 8), (2500, 9), (3500, 7), (6000, 3), (5000, 4), (4000, 6), (4500, 5), (7000, 2), (8000, 1), (9000, 0), (3500, 8), (4000, 7), (5000, 5), (4500, 6), (7000, 3), (8000, 2), (9000, 1), (10000, 0), (5000, 6), (3500, 9), (6000, 5), (4000, 8), (7000, 4), (8000, 3), (9000, 2), (15000, 0), (10000, 1), (4000, 9), (5000, 7), (6000, 6), (4500, 8), (7000, 5), (8000, 4), (9000, 3), (10000, 2), (20000, 0), (15000, 1), (10000, 3), (6000, 7), (5000, 8), (8000, 5), (7000, 6), (15000, 2), (9000, 4), (20000, 1), (6000, 8), (8000, 6), (5000, 9), (7000, 7), (9000, 5), (25000, 1), (20000, 2), (30000, 0), (10000, 4), (20000, 3), (6000, 9), (8000, 7), (7000, 8), (35000, 0), (25000, 2), (30000, 1), (10000, 5), (15000, 4), (20000, 4), (7000, 9), (40000, 0), (9000, 7), (35000, 1), (25000, 3), (30000, 2), (10000, 6), (15000, 5), (30000, 3), (20000, 5), (8000, 9), (9000, 8), (40000, 1), (10000, 7), (35000, 2), (15000, 6), (45000, 0), (20000, 6), (10000, 8), (9000, 9), (15000, 7), (40000, 2), (30000, 4), (25000, 5), (35000, 3), (45000, 1), (30000, 5), (15000, 8), (10000, 9), (40000, 3), (25000, 6), (45000, 2), (35000, 4), (20000, 7), (30000, 6), (15000, 9), (20000, 8), (40000, 4), (45000, 3), (35000, 5), (25000, 7), (25000, 8), (30000, 7), (20000, 9), (40000, 5), (45000, 4), (35000, 6), (30000, 8), (25000, 9), (40000, 6), (35000, 7), (45000, 5), (35000, 8), (30000, 9), (40000, 7), (45000, 6), (35000, 9), (45000, 7), (40000, 8), (45000, 8), (40000, 9), (45000, 9), (2, 5), (2, 6), (75, 1), (16, 5), (150, 0), (200, 0), (150, 3), (100, 7), (100, 8), (1000, 0), (1500, 1), (2000, 2), (3500, 0), (2500, 6), (3000, 5), (6000, 0), (3000, 6), (2500, 8), (3500, 6), (3000, 9), (6000, 4), (4500, 9), (25000, 0), (15000, 3), (8000, 8), (8, 3), (250, 3), (125, 6), (250, 7), (700, 2), (500, 5), (3500, 1), (900, 8), (1500, 8), (3500, 5), (4500, 7), (9000, 6), (25000, 4)]\n",
      "1112: [(2, 1), (4, 0), (4, 1), (2, 3), (4, 2), (50, 0), (1, 5), (2, 5), (16, 2), (50, 1), (75, 0), (8, 4), (16, 3), (1, 7), (2, 7), (125, 0), (75, 2), (1, 8), (75, 3), (16, 5), (100, 2), (50, 4), (150, 0), (75, 4), (200, 0), (250, 0), (75, 5), (150, 2), (50, 7), (75, 6), (250, 1), (200, 2), (50, 8), (300, 1), (250, 3), (150, 5), (100, 7), (75, 8), (500, 1), (75, 9), (200, 6), (125, 8), (600, 1), (700, 0), (250, 6), (125, 9), (150, 8), (150, 9), (900, 0), (300, 6), (600, 3), (900, 1), (400, 6), (500, 5), (500, 6), (400, 8), (700, 5), (300, 9), (900, 3), (400, 9), (500, 8), (2000, 1), (1000, 4), (2000, 2), (800, 7), (2000, 3), (1500, 5), (1000, 7), (900, 8), (4000, 1), (2500, 4), (1500, 6), (4000, 2), (2000, 7), (2000, 8), (3500, 5), (5000, 2), (4000, 4), (2000, 9), (8000, 0), (4000, 6), (5000, 4), (2500, 9), (3000, 9), (8000, 2), (3500, 9), (8000, 3), (5000, 6), (5000, 7), (20000, 0), (4500, 9), (15000, 2), (7000, 6), (10000, 4), (25000, 1), (15000, 3), (8000, 6), (30000, 0), (10000, 5), (6000, 9), (9000, 6), (35000, 0), (25000, 3), (15000, 5), (9000, 7), (30000, 2), (30000, 3), (9000, 8), (25000, 5), (35000, 3), (15000, 7), (25000, 6), (35000, 4), (45000, 3), (35000, 5), (35000, 6), (35000, 7), (40000, 6), (40000, 7), (40000, 9), (8, 5), (1, 9), (8, 7), (125, 5), (50, 9), (300, 4), (800, 1), (1000, 1), (300, 8), (600, 8), (800, 8), (2000, 5), (900, 9), (1500, 7), (2500, 6), (3000, 7), (9000, 3), (20000, 2), (8000, 8), (25000, 7), (15000, 9), (45000, 5), (30000, 9), (45000, 9), (1, 1), (1, 3), (16, 0), (1, 4), (100, 0), (100, 1), (4, 7), (8, 8), (100, 5), (8, 9), (400, 0), (150, 4), (400, 1), (100, 9), (800, 0), (400, 4), (250, 8), (700, 3), (250, 9), (1500, 0), (1000, 2), (600, 6), (1500, 2), (900, 4), (800, 5), (2500, 0), (2500, 1), (500, 9), (2500, 3), (2500, 5), (3000, 4), (4500, 2), (1500, 8), (5000, 1), (6000, 1), (4000, 5), (7000, 1), (7000, 2), (9000, 0), (3500, 8), (10000, 0), (5000, 5), (10000, 1), (15000, 1), (7000, 5), (10000, 3), (7000, 9), (25000, 4), (45000, 0), (10000, 7), (10000, 9), (40000, 4), (40000, 8), (45000, 7), (8, 0), (8, 1), (8, 2), (16, 1), (4, 3), (8, 3), (4, 4), (4, 5), (16, 4), (50, 3), (4, 6), (125, 1), (150, 1), (16, 6), (50, 5), (125, 2), (4, 9), (50, 6), (200, 1), (125, 3), (150, 3), (300, 0), (250, 2), (75, 7), (100, 6), (200, 3), (16, 9), (500, 0), (300, 2), (200, 4), (400, 2), (300, 3), (100, 8), (250, 4), (200, 5), (250, 5), (150, 7), (500, 2), (400, 3), (300, 5), (500, 3), (600, 2), (700, 1), (200, 7), (250, 7), (400, 5), (500, 4), (700, 2), (200, 8), (200, 9), (300, 7), (800, 2), (600, 4), (1000, 0), (700, 4), (900, 2), (600, 5), (500, 7), (1500, 1), (2000, 0), (800, 4), (700, 6), (600, 7), (1000, 3), (3000, 0), (900, 5), (800, 6), (700, 7), (1500, 3), (3000, 1), (600, 9), (3500, 0), (700, 8), (1500, 4), (1000, 5), (2500, 2), (3000, 2), (4000, 0), (700, 9), (1000, 6), (3000, 3), (800, 9), (4500, 0), (2000, 6), (5000, 0), (4500, 1), (3000, 5), (3500, 4), (1000, 9), (3000, 6), (4500, 3), (7000, 0), (1500, 9), (3500, 6), (4500, 4), (2500, 8), (5000, 3), (3500, 7), (8000, 1), (4500, 5), (6000, 3), (4000, 7), (4500, 6), (9000, 1), (6000, 4), (4500, 7), (9000, 2), (6000, 5), (7000, 4), (4000, 8), (4000, 9), (4500, 8), (8000, 4), (6000, 6), (10000, 2), (9000, 4), (5000, 8), (20000, 1), (25000, 0), (6000, 7), (8000, 5), (9000, 5), (5000, 9), (7000, 7), (7000, 8), (20000, 3), (15000, 4), (25000, 2), (20000, 4), (10000, 6), (35000, 1), (40000, 0), (15000, 6), (20000, 5), (8000, 9), (35000, 2), (40000, 1), (20000, 6), (9000, 9), (30000, 4), (40000, 2), (45000, 1), (15000, 8), (20000, 7), (30000, 5), (45000, 2), (40000, 3), (20000, 8), (30000, 6), (20000, 9), (30000, 7), (40000, 5), (45000, 4), (25000, 8), (25000, 9), (30000, 8), (35000, 8), (45000, 6), (35000, 9), (45000, 8), (2, 0), (2, 6), (125, 7), (1000, 8), (3500, 3), (6000, 0), (6000, 2), (15000, 0), (1, 0), (2, 2), (4, 8), (100, 3), (16, 7), (100, 4), (125, 4), (125, 6), (600, 0), (400, 7), (900, 6), (3500, 1), (900, 7), (3500, 2), (3000, 8), (8000, 7), (30000, 1), (10000, 8), (50, 2), (75, 1), (8, 6), (16, 8), (150, 6), (800, 3), (2000, 4), (4000, 3), (2500, 7), (7000, 3), (6000, 8), (2, 8), (2, 9), (2, 4)]\n",
      "1114: [(1, 2), (2, 1), (16, 0), (8, 1), (2, 3), (50, 0), (8, 3), (16, 3), (75, 1), (1, 7), (16, 4), (100, 1), (150, 0), (4, 7), (50, 4), (8, 7), (200, 0), (50, 5), (50, 6), (150, 2), (100, 4), (200, 2), (75, 6), (100, 5), (16, 9), (400, 0), (250, 2), (75, 8), (500, 0), (150, 5), (150, 6), (200, 5), (400, 2), (75, 9), (100, 8), (300, 4), (400, 4), (300, 5), (250, 6), (125, 9), (600, 3), (400, 5), (900, 0), (600, 4), (300, 7), (900, 1), (400, 7), (800, 3), (500, 6), (900, 2), (1500, 0), (1500, 1), (1000, 2), (600, 7), (400, 9), (2000, 3), (3500, 1), (700, 9), (800, 8), (2500, 3), (1500, 6), (1000, 7), (4500, 0), (2000, 6), (5000, 0), (5000, 1), (4500, 2), (3500, 5), (4500, 3), (4000, 5), (3500, 6), (8000, 0), (4500, 4), (5000, 3), (2500, 9), (7000, 2), (9000, 0), (4500, 6), (3000, 9), (10000, 0), (4000, 7), (3500, 9), (10000, 1), (5000, 7), (20000, 1), (15000, 2), (8000, 5), (6000, 7), (9000, 4), (4500, 9), (15000, 3), (7000, 7), (9000, 5), (8000, 6), (15000, 4), (8000, 7), (15000, 5), (8000, 8), (7000, 9), (9000, 7), (25000, 4), (8000, 9), (40000, 1), (20000, 6), (15000, 7), (35000, 4), (10000, 9), (15000, 8), (30000, 5), (25000, 8), (25000, 9), (30000, 9), (40000, 7), (35000, 8), (45000, 6), (40000, 8), (45000, 9), (4, 5), (75, 2), (125, 1), (2, 9), (125, 2), (700, 0), (500, 4), (1000, 0), (800, 2), (900, 6), (1000, 6), (3500, 7), (4000, 6), (6000, 3), (4500, 5), (4500, 7), (6000, 6), (25000, 2), (30000, 3), (4, 0), (2, 2), (8, 0), (2, 4), (8, 2), (4, 3), (1, 6), (4, 6), (125, 0), (16, 5), (4, 8), (75, 4), (8, 8), (125, 3), (200, 3), (300, 3), (250, 4), (200, 6), (100, 9), (600, 2), (700, 1), (150, 9), (300, 9), (700, 5), (1500, 2), (500, 8), (2500, 0), (600, 8), (3000, 1), (800, 9), (3500, 2), (2500, 5), (900, 9), (2000, 7), (6000, 0), (2500, 7), (3000, 7), (7000, 4), (9000, 3), (20000, 0), (4000, 9), (10000, 5), (7000, 8), (20000, 4), (35000, 2), (9000, 9), (25000, 6), (40000, 4), (15000, 9), (20000, 9), (40000, 5), (30000, 7), (35000, 7), (30000, 8), (35000, 9), (4, 1), (4, 2), (16, 1), (75, 0), (4, 4), (50, 1), (16, 2), (8, 4), (50, 2), (100, 0), (50, 3), (8, 5), (8, 6), (16, 6), (100, 3), (150, 1), (75, 5), (4, 9), (250, 0), (16, 7), (200, 1), (125, 4), (50, 7), (16, 8), (150, 3), (8, 9), (125, 5), (50, 8), (75, 7), (100, 6), (300, 1), (150, 4), (100, 7), (200, 4), (125, 6), (125, 7), (500, 1), (600, 0), (400, 3), (150, 7), (800, 0), (200, 7), (150, 8), (500, 3), (300, 6), (200, 8), (700, 2), (250, 8), (200, 9), (700, 3), (300, 8), (250, 9), (600, 5), (1000, 1), (700, 4), (500, 7), (2000, 0), (800, 4), (900, 3), (800, 5), (1000, 3), (900, 4), (700, 6), (500, 9), (3000, 0), (2500, 1), (700, 7), (900, 5), (1000, 4), (1500, 3), (3500, 0), (600, 9), (2500, 2), (800, 7), (1000, 5), (1500, 4), (4000, 0), (1500, 5), (3000, 2), (900, 8), (2500, 4), (2000, 5), (3000, 3), (3500, 3), (4500, 1), (1000, 8), (4000, 2), (3000, 4), (3500, 4), (2500, 6), (1500, 8), (1000, 9), (4000, 3), (3000, 5), (5000, 2), (7000, 0), (2000, 8), (2000, 9), (7000, 1), (3000, 8), (8000, 1), (5000, 4), (3500, 8), (6000, 4), (7000, 3), (9000, 1), (8000, 2), (5000, 5), (6000, 5), (9000, 2), (8000, 3), (5000, 6), (4000, 8), (15000, 0), (7000, 5), (10000, 2), (8000, 4), (15000, 1), (7000, 6), (5000, 8), (25000, 0), (6000, 8), (10000, 4), (5000, 9), (25000, 1), (30000, 0), (20000, 2), (6000, 9), (9000, 6), (30000, 1), (35000, 0), (20000, 3), (10000, 6), (30000, 2), (40000, 0), (35000, 1), (9000, 8), (15000, 6), (45000, 0), (20000, 5), (10000, 8), (30000, 4), (40000, 2), (45000, 1), (35000, 3), (25000, 5), (40000, 3), (45000, 2), (20000, 7), (25000, 7), (30000, 6), (35000, 5), (45000, 3), (35000, 6), (45000, 4), (45000, 5), (40000, 6), (45000, 7), (40000, 9), (45000, 8), (1, 0), (100, 2), (300, 0), (50, 9), (250, 3), (800, 1), (2000, 2), (700, 8), (1500, 9), (4500, 8), (10000, 3), (1, 3), (2, 5), (1, 9), (2, 8), (400, 1), (300, 2), (600, 1), (500, 2), (400, 6), (2000, 4), (4000, 1), (1500, 7), (2500, 8), (6000, 2), (25000, 3), (2, 6), (600, 6), (75, 3), (250, 1), (250, 5), (125, 8), (250, 7), (400, 8), (2000, 1), (800, 6), (900, 7), (3000, 6), (4000, 4), (6000, 1), (10000, 7), (20000, 8), (2, 0), (2, 7), (500, 5)]\n",
      "1128: [(1, 0), (1, 1), (1, 2), (1, 3), (1, 4), (1, 5), (1, 6), (1, 7), (1, 8), (1, 9)]\n",
      "1130: [(1, 0), (1, 1), (1, 2), (1, 3), (1, 4), (1, 5), (1, 6), (1, 7), (1, 8), (1, 9)]\n",
      "1134: [(1, 0), (1, 1), (1, 2), (1, 3), (1, 4), (1, 5), (1, 6), (1, 7), (1, 8), (1, 9)]\n",
      "1138: [(1, 0), (1, 1), (1, 2), (1, 3), (1, 4), (1, 5), (1, 6), (1, 7), (1, 8), (1, 9)]\n",
      "1139: [(1, 0), (1, 1), (1, 2), (1, 3), (1, 4), (1, 5), (1, 6), (1, 7), (1, 8), (1, 9)]\n",
      "1142: [(1, 0), (1, 1), (1, 2), (1, 3), (1, 4), (1, 5), (1, 6), (1, 7), (1, 8), (1, 9)]\n",
      "1146: [(1, 0), (1, 1), (1, 2), (1, 3), (1, 4), (1, 5), (1, 6), (1, 7), (1, 8), (1, 9)]\n",
      "1161: [(1, 0), (1, 1), (1, 2), (1, 3), (1, 4), (1, 5), (1, 6), (1, 7), (1, 8), (1, 9)]\n",
      "1166: [(1, 0), (1, 1), (1, 2), (1, 3), (1, 4), (1, 5), (1, 6), (1, 7), (1, 8), (1, 9)]\n",
      "1216: [(1, 0), (1, 1), (1, 2), (1, 3), (1, 4), (1, 7), (1, 8), (1, 5), (1, 9), (1, 6)]\n",
      "1242: [(1, 0), (1, 1), (1, 2), (1, 3), (1, 4), (1, 5), (1, 6), (1, 7), (1, 8), (1, 9)]\n",
      "1457: [(1, 0), (1, 1), (1, 2), (1, 3), (1, 4), (1, 5), (1, 6), (1, 7), (1, 8), (1, 9)]\n",
      "1485: [(1, 0), (1, 1), (1, 2), (1, 3), (1, 4), (1, 5), (1, 6), (1, 7), (1, 8), (1, 9)]\n",
      "1486: [(1, 0), (1, 1), (1, 2), (1, 3), (1, 4), (1, 5), (1, 6), (1, 7), (1, 8), (1, 9)]\n",
      "1501: [(1, 0), (1, 1), (1, 2), (1, 3), (1, 4), (1, 5), (1, 6), (1, 7), (1, 8), (1, 9)]\n",
      "1569: [(1, 0), (1, 1), (1, 3), (1, 4), (1, 5), (1, 6), (1, 7), (1, 8), (1, 2), (1, 9)]\n",
      "4136: [(1, 0), (1, 1), (1, 2), (1, 3), (1, 4), (1, 5), (1, 6), (1, 7), (1, 8), (1, 9)]\n",
      "4541: [(1, 0), (1, 1), (1, 3), (1, 4), (1, 5), (1, 6), (1, 7), (1, 8), (1, 2), (1, 9)]\n",
      "4552: [(1, 0), (1, 1), (1, 2), (1, 3), (1, 4), (1, 5), (1, 6), (1, 7), (1, 8), (1, 9)]\n",
      "23380: [(1, 2), (1, 8), (1, 9), (1, 4), (1, 6), (1, 0), (1, 1), (1, 7)]\n",
      "23512: [(1, 0), (1, 1), (1, 2), (1, 3), (1, 4), (1, 5), (1, 6), (1, 7), (1, 8), (1, 9)]\n",
      "40497: [(1, 0), (1, 1), (1, 2), (1, 3), (1, 4), (1, 5), (1, 6), (1, 7), (1, 8), (1, 9)]\n",
      "40685: [(1, 0), (1, 1), (1, 2), (1, 3), (1, 4), (1, 5), (1, 6), (1, 7), (1, 8), (1, 9)]\n",
      "40691: [(1, 0), (1, 1), (1, 2), (1, 3), (1, 4), (1, 5), (1, 6), (1, 7), (1, 8), (1, 9)]\n",
      "40900: [(1, 0), (1, 1), (1, 2), (1, 3), (1, 4), (1, 5), (1, 6), (1, 7), (1, 8), (1, 9)]\n",
      "40926: [(1, 0), (1, 1), (1, 2), (1, 3), (1, 4), (1, 5), (1, 6), (1, 7), (1, 8), (1, 9)]\n",
      "40927: [(1, 1), (1, 2), (1, 4), (1, 6), (1, 8), (1, 3), (1, 7), (1, 9), (1, 0), (1, 5)]\n",
      "40971: [(1, 0), (1, 1), (1, 2), (1, 3), (1, 4), (1, 5), (1, 6), (1, 7), (1, 8), (1, 9)]\n",
      "40975: [(1, 0), (1, 1), (1, 2), (1, 3), (1, 4), (1, 5), (1, 6), (1, 7), (1, 8), (1, 9)]\n",
      "41026: [(1, 0), (1, 1), (1, 2), (1, 3), (1, 4), (1, 5), (1, 6), (1, 7), (1, 8), (1, 9)]\n",
      "41064: [(1, 0), (1, 1), (1, 2), (1, 3), (1, 4), (1, 5), (1, 6), (1, 7), (1, 8), (1, 9)]\n",
      "41065: [(1, 0), (1, 2), (1, 3), (1, 4), (1, 6), (1, 7), (1, 8), (1, 9), (1, 5), (1, 1)]\n",
      "41066: [(1, 0), (1, 1), (1, 2), (1, 3), (1, 4), (1, 5), (1, 6), (1, 7), (1, 8), (1, 9)]\n",
      "41143: [(1, 0), (1, 1), (1, 2), (1, 3), (1, 4), (1, 5), (1, 6), (1, 7), (1, 8), (1, 9)]\n",
      "41146: [(1, 0), (1, 1), (1, 2), (1, 3), (1, 4), (1, 5), (1, 6), (1, 7), (1, 8), (1, 9)]\n",
      "41164: [(1, 0), (1, 1), (1, 2), (1, 3), (1, 4), (1, 5), (1, 6), (1, 7), (1, 8), (1, 9)]\n",
      "41946: [(1, 0), (1, 1), (1, 2), (1, 3), (1, 4), (1, 5), (1, 6), (1, 7), (1, 8), (1, 9)]\n",
      "41991: [(1, 0), (1, 1), (1, 4), (1, 5), (1, 7), (1, 8), (1, 9), (1, 2), (1, 6), (1, 3)]\n"
     ]
    }
   ],
   "source": [
    "print(\"Format: <openmlid>: [(<fitsize>,<seed>)...]\")\n",
    "for ds, group in mDF.groupby(\"openmlid\"):\n",
    "    print (str(ds) + \": \" + str([(r[\"fitsize\"], r[\"seed\"]) for i, r in group.iterrows()]))"
   ]
  },
  {
   "cell_type": "markdown",
   "metadata": {},
   "source": [
    "# Prepare Work Data"
   ]
  },
  {
   "cell_type": "markdown",
   "metadata": {},
   "source": [
    "# Create a Single Runtime CSV for Atomic Algorithms"
   ]
  },
  {
   "cell_type": "code",
   "execution_count": 52,
   "metadata": {
    "scrolled": false
   },
   "outputs": [],
   "source": [
    "def resolveExceptions(df):\n",
    "    # Set traintime to full traintime +1 (3601) if the exception is a timeout or is dominated by another one that timed out\n",
    "    print(\"Len of df is \" + str(len(df)))\n",
    "    timeouts = []\n",
    "    failedRuns = df[df[\"exception\"].notnull()]\n",
    "    failedRunsWithPositiveTime = failedRuns[failedRuns[\"fittime\"] > 0]\n",
    "    pbar = tqdm(total=len(failedRunsWithPositiveTime))\n",
    "    for i, row in failedRunsWithPositiveTime.iterrows():\n",
    "        pbar.update(1)\n",
    "        exception = str(row[\"exception\"])\n",
    "        if exception != df.at[i, \"exception\"]:\n",
    "            raise Exception(\"The access via at does not seem to work correctly at index \" + str(i) + \"! Expected \" + str(exception) + \" and found \" + str(df.at[i, \"exception\"])  + \"\\n\\n\" + str(row) + \"\\n\\n\" + str(df.loc[i]) + \"\\n\\nSize of df: \" + str(len(df)))\n",
    "        if \"Timeout\" in exception and row[\"fittime\"] >= 3600:\n",
    "            df.at[i, \"exception\"] = np.nan\n",
    "            timeouts.append((row[\"openmlid\"], row[\"algorithm\"], row[\"algorithmoptions\"], row[\"fitsize\"]))\n",
    "    pbar.close()\n",
    "    print(\"Found \" + str(len(timeouts)) + \" timeouts. Len of df is \" + str(len(df)))\n",
    "    \n",
    "    # now iterate over all still failed rows\n",
    "    failedRuns = df[df[\"exception\"].notna()]\n",
    "    pbar = tqdm(total=len(failedRuns))\n",
    "    for i, row in failedRuns.iterrows():\n",
    "        exception = str(row[\"exception\"])\n",
    "        if exception != df.at[i, \"exception\"]:\n",
    "            raise Exception(\"The access via at does not seem to work correctly at index \" + str(i) + \"! Expected \" + str(exception) + \" and found \" + str(df.at[i, \"exception\"]) + \"\\n\\n\" + str(row) + \"\\n\\n\" + str(df.loc[i]) + \"\\n\\nSize of df: \" + str(len(df)))\n",
    "        pbar.update(1)\n",
    "        if \"canceled due to\" in exception:\n",
    "            t = (row[\"openmlid\"], row[\"algorithm\"], row[\"algorithmoptions\"], int(row[\"fitsize\"]))\n",
    "            isDominatedDueToTimeout = False\n",
    "            for t2 in timeouts:\n",
    "                # if the datapoint is dominated by another one due to a timeout, set the traintime to that time\n",
    "                 if t2[0] == t[0] and t2[1] == t[1] and t2[2] == t[2] and t2[3] < t[3]:\n",
    "                    df.at[i, \"fittime\"] = 3601\n",
    "                    df.at[i, \"exception\"] = np.nan\n",
    "                    break\n",
    "    pbar.close()\n",
    "    \n",
    "    print(\"Removing lines with exceptions.\")\n",
    "    df = df[df[\"exception\"].isnull()]\n",
    "    df = df.drop(columns=[\"exception\"])\n",
    "    \n",
    "    print(\"Now removing lines where fittime is not available.\")\n",
    "    df = df[df[\"fittime\"].notnull()]\n",
    "    return df"
   ]
  },
  {
   "cell_type": "code",
   "execution_count": 53,
   "metadata": {},
   "outputs": [
    {
     "name": "stdout",
     "output_type": "stream",
     "text": [
      "Data frame for base learners ready. Stepping to pre-processors.\n"
     ]
    }
   ],
   "source": [
    "relevantTrainMetafeatures = ['fitsize', 'numattributes', 'numlabels', 'numnumericattributes', 'numsymbolicattributes', 'numberofcategories', 'numericattributesafterbinarization', 'totalvariance', 'attributestocover50pctvariance', 'attributestocover90pctvariance', 'attributestocover95pctvariance', 'attributestocover99pctvariance']\n",
    "\n",
    "# prepare classifier data frame\n",
    "dfClassifiers = pd.concat([dfDefaultClassifiers, dfConfiguredClassifiers], ignore_index = True, sort=False)\n",
    "allAttributes = ['openmlid', 'totalsize', 'algorithm', 'algorithmoptions', 'seed']\n",
    "allAttributes.extend([\"f1_\" + x for x in relevantTrainMetafeatures])\n",
    "allAttributes.extend(['applicationsize', 'fittime', 'applicationtime', 'exception'])\n",
    "renameDict = {}\n",
    "for a in relevantTrainMetafeatures:\n",
    "    if a != \"numattributes\":\n",
    "        renameDict[\"f1_\" + a] =  a\n",
    "dfClassifiersMod = dfClassifiers.rename(columns=renameDict)\n",
    "dfClassifiersMod = dfClassifiersMod[[x.replace(\"f1_\", \"\") for x in allAttributes]]\n",
    "print (\"Data frame for base learners ready. Stepping to pre-processors.\")\n",
    "\n",
    "# prepare pre-processor data frame\n",
    "#dfPreprocessors = pd.concat([dfDefaultPreprocessors, dfConfiguredPreprocessors], ignore_index = True, sort=False)\n",
    "#allAttributes = ['openmlid', 'totalsize', 'algorithm', 'algorithmoptions', 'seed']\n",
    "#allAttributes.extend([x + \"_before\" for x in relevantTrainMetafeatures])\n",
    "#allAttributes.extend(['applicationsize', 'fittime', 'applicationtime', 'exception'])\n",
    "#renameDict = {}\n",
    "#if len(dfPreprocessors.query(\"fitsize != numinstances_before\").dropna()) > 0:\n",
    "#    raise Exception(\"Number of instance before and number of instances of merge differ!\")\n",
    "#for a in relevantTrainMetafeatures:\n",
    "#    renameDict[a + \"_before\"] =  a\n",
    "#dfPreprocessorsMod = dfPreprocessors.rename(columns=renameDict)\n",
    "#dfPreprocessorsMod = dfPreprocessorsMod[[x.replace(\"_before\", \"\") for x in allAttributes]]\n",
    "#print (\"PP-Dateframe ready.\")"
   ]
  },
  {
   "cell_type": "code",
   "execution_count": 54,
   "metadata": {},
   "outputs": [],
   "source": [
    "# merge data frames\n",
    "#dfAtomic = pd.concat([dfClassifiersMod, dfPreprocessorsMod], sort=False, ignore_index = True)\n",
    "dfAtomic = dfClassifiersMod"
   ]
  },
  {
   "cell_type": "markdown",
   "metadata": {},
   "source": [
    "### Resolve Exceptions"
   ]
  },
  {
   "cell_type": "code",
   "execution_count": 55,
   "metadata": {},
   "outputs": [
    {
     "name": "stdout",
     "output_type": "stream",
     "text": [
      "Len of df is 150556\n"
     ]
    },
    {
     "name": "stderr",
     "output_type": "stream",
     "text": [
      "/home/felix/anaconda3/lib/python3.7/site-packages/ipykernel_launcher.py:7: TqdmDeprecationWarning: This function will be removed in tqdm==5.0.0\n",
      "Please use `tqdm.notebook.tqdm` instead of `tqdm.tqdm_notebook`\n",
      "  import sys\n"
     ]
    },
    {
     "data": {
      "application/vnd.jupyter.widget-view+json": {
       "model_id": "3355e2149de44d46b43658d186ecf6bc",
       "version_major": 2,
       "version_minor": 0
      },
      "text/plain": [
       "HBox(children=(FloatProgress(value=0.0, max=50.0), HTML(value='')))"
      ]
     },
     "metadata": {},
     "output_type": "display_data"
    },
    {
     "name": "stdout",
     "output_type": "stream",
     "text": [
      "\n",
      "Found 0 timeouts. Len of df is 150556\n"
     ]
    },
    {
     "name": "stderr",
     "output_type": "stream",
     "text": [
      "/home/felix/anaconda3/lib/python3.7/site-packages/ipykernel_launcher.py:21: TqdmDeprecationWarning: This function will be removed in tqdm==5.0.0\n",
      "Please use `tqdm.notebook.tqdm` instead of `tqdm.tqdm_notebook`\n"
     ]
    },
    {
     "data": {
      "application/vnd.jupyter.widget-view+json": {
       "model_id": "059646358f484b6e973193346953aca7",
       "version_major": 2,
       "version_minor": 0
      },
      "text/plain": [
       "HBox(children=(FloatProgress(value=0.0, max=13040.0), HTML(value='')))"
      ]
     },
     "metadata": {},
     "output_type": "display_data"
    },
    {
     "name": "stdout",
     "output_type": "stream",
     "text": [
      "\n",
      "Removing lines with exceptions.\n",
      "Now removing lines where fittime is not available.\n",
      "Now removing lines where fitattributes is not available.\n",
      "Ready. Prepared clean dataset.\n"
     ]
    }
   ],
   "source": [
    "dfAtomic = resolveExceptions(dfAtomic)\n",
    "print(\"Now removing lines where fitattributes is not available.\")\n",
    "dfAtomic = dfAtomic[(dfAtomic[\"numattributes\"].notnull()) & (dfAtomic[\"fittime\"].notnull())]\n",
    "print(\"Ready. Prepared clean dataset.\")\n",
    "dfAtomic = dfAtomic.astype({\"numattributes\": int, \"fittime\": int})"
   ]
  },
  {
   "cell_type": "markdown",
   "metadata": {},
   "source": [
    "### Write Runtime File"
   ]
  },
  {
   "cell_type": "code",
   "execution_count": 56,
   "metadata": {},
   "outputs": [],
   "source": [
    "dfAtomic.to_csv(\"data/runtimes/runtimes_atomic.csv\", index=False)"
   ]
  },
  {
   "cell_type": "markdown",
   "metadata": {},
   "source": [
    "## Without Outliers"
   ]
  },
  {
   "cell_type": "code",
   "execution_count": 57,
   "metadata": {
    "scrolled": false
   },
   "outputs": [],
   "source": [
    "def removeOutliersFromBatches(df, groupfeatures, targets, maxIQRFactor = 1.5, minRangeToDrop = 30):\n",
    "    groups = df.groupby(groupfeatures)\n",
    "    effectiveNumberOfGroups = 0\n",
    "    for gIndex, group in groups:\n",
    "        effectiveNumberOfGroups += 1\n",
    "    pbar = tqdm(total = effectiveNumberOfGroups)\n",
    "    sizeAtStart = len(df)\n",
    "    droppedIndices = []\n",
    "    for gIndex, group in groups:\n",
    "        bef = len(group) + 1\n",
    "        cur = len(group)\n",
    "        while len(group) > 0 and bef != cur:\n",
    "            #if len(group) < 4:\n",
    "            #    dropFromGroup = group.index\n",
    "            #else:\n",
    "            dropFromGroup = []\n",
    "            for target in targets:\n",
    "                col = group[target]\n",
    "                q1 = np.quantile(col, 0.25)\n",
    "                q3 = np.quantile(col, 0.75) \n",
    "                iqr = q3 - q1\n",
    "                if np.max(col) - np.min(col) > minRangeToDrop:\n",
    "                    dropFromGroup.extend(group[group[target] > q3 + np.max([1, iqr]) * maxIQRFactor].index)\n",
    "                    dropFromGroup.extend(group[group[target] < q1 - np.max([1, iqr]) * maxIQRFactor].index)\n",
    "            droppedIndices.extend(set(dropFromGroup))\n",
    "            group = group.drop(index = dropFromGroup)\n",
    "            bef = cur\n",
    "            cur = len(group)\n",
    "        pbar.update(1)\n",
    "    pbar.close()\n",
    "    df = df.drop(index = set(droppedIndices))\n",
    "    sizeAtEnd = len(df)\n",
    "    print(\"Size after outlier removal: \" + str(sizeAtEnd) + \". Removed: \" + str(sizeAtStart - sizeAtEnd))\n",
    "    return df\n",
    "\n",
    "def dropStronglyDivergingMaximaFromBatches(df):\n",
    "    toDrop = []\n",
    "    groups = df.groupby([\"openmlid\", \"algorithm\", \"algorithmoptions\", \"fitsize\", \"numattributes\"])\n",
    "    numberOfGroups = 0\n",
    "    for gIndex, g in groups:\n",
    "        numberOfGroups += 1\n",
    "    \n",
    "    pbar = tqdm(total = numberOfGroups)\n",
    "    for ig, group in groups:\n",
    "        col = group[\"applicationtime\"]\n",
    "        col = col[~np.isnan(col)]\n",
    "        if len(col) == 0:\n",
    "            continue\n",
    "\n",
    "        median = np.quantile(col, 0.5, interpolation=\"lower\")\n",
    "        while median - np.min(col) < 120 and np.max(col) - median > 100:\n",
    "            toDropHere = col[col == np.max(col)].index\n",
    "            toDrop.extend(toDropHere)\n",
    "            group = group.drop(index = toDropHere)\n",
    "            col = group[\"applicationtime\"]\n",
    "            col = col[~np.isnan(col)]\n",
    "            median = np.quantile(col, 0.5, interpolation=\"lower\")\n",
    "\n",
    "        while np.max(col) - median > 60:\n",
    "            toDropHere = col[col == np.max(col)].index\n",
    "            toDrop.extend(toDropHere)\n",
    "            group = group.drop(index = toDropHere)\n",
    "            col = group[\"applicationtime\"]\n",
    "            col = col[~np.isnan(col)]\n",
    "            median = np.quantile(col, 0.5, interpolation=\"lower\")\n",
    "        pbar.update(1)\n",
    "    pbar.close()\n",
    "    print(\"Removing \" + str(len(toDrop)) + \" entries\")\n",
    "    return df.drop(index = toDrop)\n",
    "\n",
    "#dfBAWithoutOutliers = removeOutliersFromBatches(dfBA, [\"openmlid\", \"algorithm\", \"algorithmoptions\", \"fitsize\", \"numattributes\"], [\"fittime\", \"applicationtime\"])\n",
    "#dfBAWithoutOutliers = dropStronglyDivergingMaximaFromBatches(dfBAWithoutOutliers)\n",
    "#dfBAWithoutOutliers.to_csv(\"data/runtimes/runtimes_atomic_nooutliers.csv\", index=False)"
   ]
  },
  {
   "cell_type": "code",
   "execution_count": 58,
   "metadata": {},
   "outputs": [
    {
     "name": "stderr",
     "output_type": "stream",
     "text": [
      "/home/felix/anaconda3/lib/python3.7/site-packages/ipykernel_launcher.py:6: TqdmDeprecationWarning: This function will be removed in tqdm==5.0.0\n",
      "Please use `tqdm.notebook.tqdm` instead of `tqdm.tqdm_notebook`\n",
      "  \n"
     ]
    },
    {
     "data": {
      "application/vnd.jupyter.widget-view+json": {
       "model_id": "c566adc181fb435fb361e4e4e97a525e",
       "version_major": 2,
       "version_minor": 0
      },
      "text/plain": [
       "HBox(children=(FloatProgress(value=0.0, max=43616.0), HTML(value='')))"
      ]
     },
     "metadata": {},
     "output_type": "display_data"
    },
    {
     "name": "stdout",
     "output_type": "stream",
     "text": [
      "\n",
      "Size after outlier removal: 73743. Removed: 63769\n"
     ]
    },
    {
     "name": "stderr",
     "output_type": "stream",
     "text": [
      "/home/felix/anaconda3/lib/python3.7/site-packages/ipykernel_launcher.py:43: TqdmDeprecationWarning: This function will be removed in tqdm==5.0.0\n",
      "Please use `tqdm.notebook.tqdm` instead of `tqdm.tqdm_notebook`\n"
     ]
    },
    {
     "data": {
      "application/vnd.jupyter.widget-view+json": {
       "model_id": "f3e75e4ba5384b1bb1f987a9fd8438d8",
       "version_major": 2,
       "version_minor": 0
      },
      "text/plain": [
       "HBox(children=(FloatProgress(value=1.0, bar_style='info', max=1.0), HTML(value='')))"
      ]
     },
     "metadata": {},
     "output_type": "display_data"
    },
    {
     "name": "stdout",
     "output_type": "stream",
     "text": [
      "\n",
      "Removing 0 entries\n"
     ]
    },
    {
     "data": {
      "application/vnd.jupyter.widget-view+json": {
       "model_id": "98dccea3af7342718bdea96b8f5e7d14",
       "version_major": 2,
       "version_minor": 0
      },
      "text/plain": [
       "HBox(children=(FloatProgress(value=1.0, bar_style='info', max=1.0), HTML(value='')))"
      ]
     },
     "metadata": {},
     "output_type": "display_data"
    },
    {
     "name": "stdout",
     "output_type": "stream",
     "text": [
      "\n",
      "Size after outlier removal: 0. Removed: 0\n"
     ]
    },
    {
     "data": {
      "application/vnd.jupyter.widget-view+json": {
       "model_id": "2e5368e7b67c492098e6a362f4020e48",
       "version_major": 2,
       "version_minor": 0
      },
      "text/plain": [
       "HBox(children=(FloatProgress(value=1.0, bar_style='info', max=1.0), HTML(value='')))"
      ]
     },
     "metadata": {},
     "output_type": "display_data"
    },
    {
     "name": "stdout",
     "output_type": "stream",
     "text": [
      "\n",
      "Removing 0 entries\n"
     ]
    }
   ],
   "source": [
    "dfBA = pd.read_csv(\"data/runtimes/runtimes_atomic.csv\")\n",
    "\n",
    "dfDefault = dfBA[dfBA[\"algorithmoptions\"].isnull()]\n",
    "dfConfigured = dfBA[dfBA[\"algorithmoptions\"].notnull()]\n",
    "\n",
    "bef = len(dfDefault)\n",
    "dfWOODefault = dfDefault\n",
    "while True:\n",
    "    dfWOODefault = removeOutliersFromBatches(dfWOODefault, [\"openmlid\", \"algorithm\", \"fitsize\", \"numattributes\"], [\"fittime\", \"applicationtime\"], maxIQRFactor = .5)\n",
    "    bef = len(dfWOODefault) # this outlier removal is idempotent\n",
    "    dfWOODefault = dropStronglyDivergingMaximaFromBatches(dfWOODefault)\n",
    "    if len(dfWOODefault) == bef:\n",
    "        break\n",
    "    bef = len(dfWOODefault)\n",
    "\n",
    "bef = len(dfConfigured)\n",
    "dfWOOConfigured = dfConfigured\n",
    "while True:\n",
    "    dfWOOConfigured = removeOutliersFromBatches(dfWOOConfigured, [\"openmlid\", \"algorithm\", \"algorithmoptions\", \"fitsize\", \"numattributes\"], [\"fittime\", \"applicationtime\"], maxIQRFactor = .5)\n",
    "    bef = len(dfWOOConfigured) # this outlier removal is idempotent\n",
    "    dfWOOConfigured = dropStronglyDivergingMaximaFromBatches(dfWOOConfigured)\n",
    "    if len(dfWOOConfigured) == bef:\n",
    "        break\n",
    "    bef = len(dfWOOConfigured)\n",
    "\n",
    "dfWOO = pd.concat([dfWOODefault, dfWOOConfigured], sort=False, ignore_index = True)\n",
    "dfWOO.to_csv(\"data/runtimes/runtimes_atomic_nooutliers.csv\", index=False)"
   ]
  },
  {
   "cell_type": "code",
   "execution_count": 59,
   "metadata": {
    "scrolled": true
   },
   "outputs": [
    {
     "name": "stdout",
     "output_type": "stream",
     "text": [
      "(3, 100, 100) - fittime (n=5)\n",
      "iqr = 7.0\n",
      "max = 31.5\n",
      "TRUE MAX: 41\n"
     ]
    },
    {
     "data": {
      "image/png": "[encoded data removed]",
      "text/plain": [
       "<Figure size 432x288 with 1 Axes>"
      ]
     },
     "metadata": {
      "needs_background": "light"
     },
     "output_type": "display_data"
    },
    {
     "name": "stdout",
     "output_type": "stream",
     "text": [
      "(300, 100, 80000) - fittime (n=4)\n",
      "iqr = 7.0\n",
      "max = 153.25\n",
      "TRUE MAX: 160\n"
     ]
    },
    {
     "data": {
      "image/png": "[encoded data removed]",
      "text/plain": [
       "<Figure size 432x288 with 1 Axes>"
      ]
     },
     "metadata": {
      "needs_background": "light"
     },
     "output_type": "display_data"
    },
    {
     "name": "stdout",
     "output_type": "stream",
     "text": [
      "(803, 10000, 100) - fittime (n=4)\n",
      "iqr = 9.0\n",
      "max = 45.0\n",
      "TRUE MAX: 51\n"
     ]
    },
    {
     "data": {
      "image/png": "[encoded data removed]",
      "text/plain": [
       "<Figure size 432x288 with 1 Axes>"
      ]
     },
     "metadata": {
      "needs_background": "light"
     },
     "output_type": "display_data"
    },
    {
     "name": "stdout",
     "output_type": "stream",
     "text": [
      "(976, 100, 60000) - fittime (n=5)\n",
      "iqr = 7.0\n",
      "max = 104.5\n",
      "TRUE MAX: 115\n"
     ]
    },
    {
     "data": {
      "image/png": "[encoded data removed]",
      "text/plain": [
       "<Figure size 432x288 with 1 Axes>"
      ]
     },
     "metadata": {
      "needs_background": "light"
     },
     "output_type": "display_data"
    },
    {
     "name": "stdout",
     "output_type": "stream",
     "text": [
      "12.687535324653616\n"
     ]
    }
   ],
   "source": [
    "def getBatchesWithHighVariance(df, batchAttributes, targets, threshold):\n",
    "    \n",
    "    if type(targets) != list:\n",
    "        targets = [targets]\n",
    "    \n",
    "    # First compute dispersions\n",
    "    groups = df.groupby(batchAttributes)\n",
    "    maxM = 10000000\n",
    "    M = 0\n",
    "    stds = []\n",
    "    for j, subGroup in groups:\n",
    "        for target in targets:\n",
    "            std = np.nanstd(subGroup[target])\n",
    "            stds.append(std)\n",
    "            if std >= threshold:\n",
    "                q1 = np.quantile(subGroup[target], 0.25)\n",
    "                q3 = np.quantile(subGroup[target], 0.75)\n",
    "                iqr = q3 - q1\n",
    "                supposedMax = q3 + 1.5 * iqr\n",
    "                trueMax = np.max(subGroup[target])\n",
    "                if trueMax > supposedMax:\n",
    "                    print(str(j) + \" - \" + target + \" (n=\" + str(len(subGroup)) + \")\")\n",
    "                    print(\"iqr = \" + str(iqr))\n",
    "                    print(\"max = \" + str(supposedMax))\n",
    "                    print(\"TRUE MAX: \" + str(trueMax))\n",
    "                    plt.figure()\n",
    "                    plt.boxplot(subGroup[target])\n",
    "                    plt.show()\n",
    "                M += 1\n",
    "                if M == maxM:\n",
    "                    return\n",
    "    print(sp.stats.trim_mean(stds, 0.1))\n",
    "getBatchesWithHighVariance(dfWOODefault[dfWOODefault[\"algorithm\"] == \"ibk\"], [\"openmlid\", \"fitsize\", \"numattributes\"], [\"fittime\"], 10)"
   ]
  },
  {
   "cell_type": "code",
   "execution_count": 38,
   "metadata": {},
   "outputs": [
    {
     "data": {
      "text/html": [
       "<div>\n",
       "<style scoped>\n",
       "    .dataframe tbody tr th:only-of-type {\n",
       "        vertical-align: middle;\n",
       "    }\n",
       "\n",
       "    .dataframe tbody tr th {\n",
       "        vertical-align: top;\n",
       "    }\n",
       "\n",
       "    .dataframe thead th {\n",
       "        text-align: right;\n",
       "    }\n",
       "</style>\n",
       "<table border=\"1\" class=\"dataframe\">\n",
       "  <thead>\n",
       "    <tr style=\"text-align: right;\">\n",
       "      <th></th>\n",
       "      <th>openmlid</th>\n",
       "      <th>totalsize</th>\n",
       "      <th>algorithm</th>\n",
       "      <th>algorithmoptions</th>\n",
       "      <th>seed</th>\n",
       "      <th>numattributes</th>\n",
       "      <th>numlabels</th>\n",
       "      <th>numnumericattributes</th>\n",
       "      <th>numsymbolicattributes</th>\n",
       "      <th>numberofcategories</th>\n",
       "      <th>numericattributesafterbinarization</th>\n",
       "      <th>totalvariance</th>\n",
       "      <th>attributestocover50pctvariance</th>\n",
       "      <th>attributestocover90pctvariance</th>\n",
       "      <th>attributestocover95pctvariance</th>\n",
       "      <th>attributestocover99pctvariance</th>\n",
       "      <th>fitsize</th>\n",
       "      <th>applicationsize</th>\n",
       "      <th>fittime</th>\n",
       "      <th>applicationtime</th>\n",
       "    </tr>\n",
       "  </thead>\n",
       "  <tbody>\n",
       "    <tr>\n",
       "      <td>506042</td>\n",
       "      <td>179</td>\n",
       "      <td>48842</td>\n",
       "      <td>logistic</td>\n",
       "      <td>-R 0.000001</td>\n",
       "      <td>0</td>\n",
       "      <td>14</td>\n",
       "      <td>2.0</td>\n",
       "      <td>2.0</td>\n",
       "      <td>12.0</td>\n",
       "      <td>119.0</td>\n",
       "      <td>120.0</td>\n",
       "      <td>1.204176e+10</td>\n",
       "      <td>1.0</td>\n",
       "      <td>1.0</td>\n",
       "      <td>1.0</td>\n",
       "      <td>1.0</td>\n",
       "      <td>1000.0</td>\n",
       "      <td>47842.0</td>\n",
       "      <td>2</td>\n",
       "      <td>6.0</td>\n",
       "    </tr>\n",
       "    <tr>\n",
       "      <td>506385</td>\n",
       "      <td>179</td>\n",
       "      <td>48842</td>\n",
       "      <td>logistic</td>\n",
       "      <td>-R 0.000001</td>\n",
       "      <td>1</td>\n",
       "      <td>14</td>\n",
       "      <td>2.0</td>\n",
       "      <td>2.0</td>\n",
       "      <td>12.0</td>\n",
       "      <td>119.0</td>\n",
       "      <td>120.0</td>\n",
       "      <td>1.204176e+10</td>\n",
       "      <td>1.0</td>\n",
       "      <td>1.0</td>\n",
       "      <td>1.0</td>\n",
       "      <td>1.0</td>\n",
       "      <td>1000.0</td>\n",
       "      <td>47842.0</td>\n",
       "      <td>1</td>\n",
       "      <td>10.0</td>\n",
       "    </tr>\n",
       "    <tr>\n",
       "      <td>506733</td>\n",
       "      <td>179</td>\n",
       "      <td>48842</td>\n",
       "      <td>logistic</td>\n",
       "      <td>-R 0.000001</td>\n",
       "      <td>2</td>\n",
       "      <td>14</td>\n",
       "      <td>2.0</td>\n",
       "      <td>2.0</td>\n",
       "      <td>12.0</td>\n",
       "      <td>119.0</td>\n",
       "      <td>120.0</td>\n",
       "      <td>1.204225e+10</td>\n",
       "      <td>1.0</td>\n",
       "      <td>1.0</td>\n",
       "      <td>1.0</td>\n",
       "      <td>1.0</td>\n",
       "      <td>1000.0</td>\n",
       "      <td>47842.0</td>\n",
       "      <td>1</td>\n",
       "      <td>9.0</td>\n",
       "    </tr>\n",
       "    <tr>\n",
       "      <td>509216</td>\n",
       "      <td>179</td>\n",
       "      <td>48842</td>\n",
       "      <td>logistic</td>\n",
       "      <td>-R 0.000001</td>\n",
       "      <td>9</td>\n",
       "      <td>14</td>\n",
       "      <td>2.0</td>\n",
       "      <td>2.0</td>\n",
       "      <td>12.0</td>\n",
       "      <td>119.0</td>\n",
       "      <td>120.0</td>\n",
       "      <td>NaN</td>\n",
       "      <td>NaN</td>\n",
       "      <td>NaN</td>\n",
       "      <td>NaN</td>\n",
       "      <td>NaN</td>\n",
       "      <td>1000.0</td>\n",
       "      <td>47842.0</td>\n",
       "      <td>1</td>\n",
       "      <td>66.0</td>\n",
       "    </tr>\n",
       "  </tbody>\n",
       "</table>\n",
       "</div>"
      ],
      "text/plain": [
       "        openmlid  totalsize algorithm algorithmoptions  seed  numattributes  \\\n",
       "506042       179      48842  logistic      -R 0.000001     0             14   \n",
       "506385       179      48842  logistic      -R 0.000001     1             14   \n",
       "506733       179      48842  logistic      -R 0.000001     2             14   \n",
       "509216       179      48842  logistic      -R 0.000001     9             14   \n",
       "\n",
       "        numlabels  numnumericattributes  numsymbolicattributes  \\\n",
       "506042        2.0                   2.0                   12.0   \n",
       "506385        2.0                   2.0                   12.0   \n",
       "506733        2.0                   2.0                   12.0   \n",
       "509216        2.0                   2.0                   12.0   \n",
       "\n",
       "        numberofcategories  numericattributesafterbinarization  totalvariance  \\\n",
       "506042               119.0                               120.0   1.204176e+10   \n",
       "506385               119.0                               120.0   1.204176e+10   \n",
       "506733               119.0                               120.0   1.204225e+10   \n",
       "509216               119.0                               120.0            NaN   \n",
       "\n",
       "        attributestocover50pctvariance  attributestocover90pctvariance  \\\n",
       "506042                             1.0                             1.0   \n",
       "506385                             1.0                             1.0   \n",
       "506733                             1.0                             1.0   \n",
       "509216                             NaN                             NaN   \n",
       "\n",
       "        attributestocover95pctvariance  attributestocover99pctvariance  \\\n",
       "506042                             1.0                             1.0   \n",
       "506385                             1.0                             1.0   \n",
       "506733                             1.0                             1.0   \n",
       "509216                             NaN                             NaN   \n",
       "\n",
       "        fitsize  applicationsize  fittime  applicationtime  \n",
       "506042   1000.0          47842.0        2              6.0  \n",
       "506385   1000.0          47842.0        1             10.0  \n",
       "506733   1000.0          47842.0        1              9.0  \n",
       "509216   1000.0          47842.0        1             66.0  "
      ]
     },
     "execution_count": 38,
     "metadata": {},
     "output_type": "execute_result"
    }
   ],
   "source": [
    "dfWOOConfigured2.query(\"algorithm == 'logistic' and algorithmoptions=='-R 0.000001' and openmlid == 179 and fitsize == 1000 and numattributes == 14\")"
   ]
  },
  {
   "cell_type": "markdown",
   "metadata": {},
   "source": [
    "# Files Relevant for Using the Approach in ML-Plan\n",
    "What follows after this is not relevant for the python-based analysis and can be skipped for the first phase."
   ]
  },
  {
   "cell_type": "markdown",
   "metadata": {},
   "source": [
    "## Create archive with all runtimes and the corresponding default runtimes"
   ]
  },
  {
   "cell_type": "code",
   "execution_count": 4,
   "metadata": {},
   "outputs": [],
   "source": [
    "dfBA = pd.read_csv(\"data/runtimes/runtimes_atomic_nooutliers.csv\")\n",
    "#dfBADefault = dfBA[dfBA[\"algorithmoptions\"].isnull()]\n",
    "#dfBACombined = dfBA.merge(dfBADefault, on=[\"openmlid\", \"algorithm\", \"seed\"], suffixes=(\"\", \"_def\"))"
   ]
  },
  {
   "cell_type": "code",
   "execution_count": null,
   "metadata": {},
   "outputs": [],
   "source": []
  },
  {
   "cell_type": "code",
   "execution_count": 5,
   "metadata": {},
   "outputs": [
    {
     "name": "stdout",
     "output_type": "stream",
     "text": [
      "2724011\n"
     ]
    }
   ],
   "source": [
    "print(len(dfBA))\n",
    "#print(len(dfBACombined))"
   ]
  },
  {
   "cell_type": "markdown",
   "metadata": {},
   "source": [
    "# Compile One CSV-File per Atomic Algorithm"
   ]
  },
  {
   "cell_type": "code",
   "execution_count": 4,
   "metadata": {},
   "outputs": [
    {
     "name": "stderr",
     "output_type": "stream",
     "text": [
      "/home/felix/anaconda3/lib/python3.7/site-packages/IPython/core/interactiveshell.py:3058: DtypeWarning: Columns (3) have mixed types. Specify dtype option on import or set low_memory=False.\n",
      "  interactivity=interactivity, compiler=compiler, result=result)\n"
     ]
    },
    {
     "data": {
      "application/vnd.jupyter.widget-view+json": {
       "model_id": "47c3def868ca4deba2bba26846824900",
       "version_major": 2,
       "version_minor": 0
      },
      "text/plain": [
       "HBox(children=(IntProgress(value=0, max=30), HTML(value='')))"
      ]
     },
     "metadata": {},
     "output_type": "display_data"
    },
    {
     "name": "stdout",
     "output_type": "stream",
     "text": [
      "bayesnet\n",
      "58105\n",
      "49883\n",
      "['openmlid', 'totalsize', 'fitsize', 'applicationsize', 'numattributes', 'seed', 'algorithm', 'algorithmoptions', 'fittime', 'applicationtime', 'fittime_def', 'applicationtime_def', 'D', 'Q']\n",
      "decisionstump\n",
      "decisiontable\n",
      "52556\n",
      "42030\n",
      "['openmlid', 'totalsize', 'fitsize', 'applicationsize', 'numattributes', 'seed', 'algorithm', 'algorithmoptions', 'fittime', 'applicationtime', 'fittime_def', 'applicationtime_def', 'I', 'X', 'E', 'S']\n",
      "ibk\n",
      "8865\n",
      "6511\n",
      "['openmlid', 'totalsize', 'fitsize', 'applicationsize', 'numattributes', 'seed', 'algorithm', 'algorithmoptions', 'fittime', 'applicationtime', 'fittime_def', 'applicationtime_def', 'I', 'F', 'E', 'X', 'K']\n",
      "kstar\n",
      "multilayerperceptron\n",
      "65849\n",
      "51025\n",
      "['openmlid', 'totalsize', 'fitsize', 'applicationsize', 'numattributes', 'seed', 'algorithm', 'algorithmoptions', 'fittime', 'applicationtime', 'fittime_def', 'applicationtime_def', 'B', 'R', 'C', 'D', 'L', 'M', 'H']\n",
      "naivebayes\n",
      "6003\n",
      "5102\n",
      "['openmlid', 'totalsize', 'fitsize', 'applicationsize', 'numattributes', 'seed', 'algorithm', 'algorithmoptions', 'fittime', 'applicationtime', 'fittime_def', 'applicationtime_def', 'K', 'D']\n",
      "oner\n",
      "21524\n",
      "18906\n",
      "['openmlid', 'totalsize', 'fitsize', 'applicationsize', 'numattributes', 'seed', 'algorithm', 'algorithmoptions', 'fittime', 'applicationtime', 'fittime_def', 'applicationtime_def', 'B']\n",
      "part\n",
      "7253\n",
      "5894\n",
      "['openmlid', 'totalsize', 'fitsize', 'applicationsize', 'numattributes', 'seed', 'algorithm', 'algorithmoptions', 'fittime', 'applicationtime', 'fittime_def', 'applicationtime_def', 'R', 'B', 'U', 'J', 'M', 'N']\n",
      "randomforest\n",
      "107229\n",
      "94563\n",
      "['openmlid', 'totalsize', 'fitsize', 'applicationsize', 'numattributes', 'seed', 'algorithm', 'algorithmoptions', 'fittime', 'applicationtime', 'fittime_def', 'applicationtime_def', 'B', 'I', 'K', 'M', 'V', 'N']\n",
      "randomtree\n",
      "11107\n",
      "9492\n",
      "['openmlid', 'totalsize', 'fitsize', 'applicationsize', 'numattributes', 'seed', 'algorithm', 'algorithmoptions', 'fittime', 'applicationtime', 'fittime_def', 'applicationtime_def', 'U', 'B', 'K', 'M', 'V', 'N']\n",
      "smo\n",
      "40074\n",
      "28060\n",
      "['openmlid', 'totalsize', 'fitsize', 'applicationsize', 'numattributes', 'seed', 'algorithm', 'algorithmoptions', 'fittime', 'applicationtime', 'fittime_def', 'applicationtime_def', 'C', 'N', 'L', 'P', 'V']\n",
      "votedperceptron\n",
      "2208\n",
      "1705\n",
      "['openmlid', 'totalsize', 'fitsize', 'applicationsize', 'numattributes', 'seed', 'algorithm', 'algorithmoptions', 'fittime', 'applicationtime', 'fittime_def', 'applicationtime_def', 'I', 'E', 'M']\n",
      "logistic\n",
      "20810\n",
      "11485\n",
      "['openmlid', 'totalsize', 'fitsize', 'applicationsize', 'numattributes', 'seed', 'algorithm', 'algorithmoptions', 'fittime', 'applicationtime', 'fittime_def', 'applicationtime_def', 'R']\n",
      "reptree\n",
      "12127\n",
      "10565\n",
      "['openmlid', 'totalsize', 'fitsize', 'applicationsize', 'numattributes', 'seed', 'algorithm', 'algorithmoptions', 'fittime', 'applicationtime', 'fittime_def', 'applicationtime_def', 'P', 'M', 'V', 'L', 'N']\n",
      "j48\n",
      "12510\n",
      "3728\n",
      "['openmlid', 'totalsize', 'fitsize', 'applicationsize', 'numattributes', 'seed', 'algorithm', 'algorithmoptions', 'fittime', 'applicationtime', 'fittime_def', 'applicationtime_def', 'O', 'U', 'B', 'S', 'A', 'C', 'M']\n",
      "lmt\n",
      "15527\n",
      "7339\n",
      "['openmlid', 'totalsize', 'fitsize', 'applicationsize', 'numattributes', 'seed', 'algorithm', 'algorithmoptions', 'fittime', 'applicationtime', 'fittime_def', 'applicationtime_def', 'B', 'R', 'C', 'P', 'A', 'M', 'W']\n",
      "jrip\n",
      "13376\n",
      "2088\n",
      "['openmlid', 'totalsize', 'fitsize', 'applicationsize', 'numattributes', 'seed', 'algorithm', 'algorithmoptions', 'fittime', 'applicationtime', 'fittime_def', 'applicationtime_def', 'E', 'P', 'F', 'N', 'O']\n",
      "simplelogistic\n",
      "13533\n",
      "10594\n",
      "['openmlid', 'totalsize', 'fitsize', 'applicationsize', 'numattributes', 'seed', 'algorithm', 'algorithmoptions', 'fittime', 'applicationtime', 'fittime_def', 'applicationtime_def', 'S', 'A', 'P', 'W', 'H', 'I', 'M']\n",
      "naivebayesmultinomial\n",
      "zeror\n",
      "bestfirst_cfssubseteval\n",
      "297041\n",
      "1957985\n",
      "['openmlid', 'totalsize', 'fitsize', 'applicationsize', 'numattributes', 'seed', 'algorithm', 'algorithmoptions', 'fittime', 'applicationtime', 'fittime_def', 'applicationtime_def', 'D', 'N', 'S', 'L', 'M', 'Z']\n",
      "greedystepwise_cfssubseteval\n",
      "76777\n",
      "387747\n",
      "['openmlid', 'totalsize', 'fitsize', 'applicationsize', 'numattributes', 'seed', 'algorithm', 'algorithmoptions', 'fittime', 'applicationtime', 'fittime_def', 'applicationtime_def', 'C', 'B', 'N', 'L', 'M', 'Z']\n",
      "ranker_correlationattributeeval\n",
      "31496\n",
      "157602\n",
      "['openmlid', 'totalsize', 'fitsize', 'applicationsize', 'numattributes', 'seed', 'algorithm', 'algorithmoptions', 'fittime', 'applicationtime', 'fittime_def', 'applicationtime_def', 'N']\n",
      "ranker_principalcomponents\n",
      "354111\n",
      "807762\n",
      "['openmlid', 'totalsize', 'fitsize', 'applicationsize', 'numattributes', 'seed', 'algorithm', 'algorithmoptions', 'fittime', 'applicationtime', 'fittime_def', 'applicationtime_def', 'N', 'A', 'R', 'C', 'O']\n",
      "ranker_relieffattributeeval\n",
      "93131\n",
      "505870\n",
      "['openmlid', 'totalsize', 'fitsize', 'applicationsize', 'numattributes', 'seed', 'algorithm', 'algorithmoptions', 'fittime', 'applicationtime', 'fittime_def', 'applicationtime_def', 'N', 'K', 'M', 'A', 'W']\n",
      "ranker_gainratioattributeeval\n",
      "31492\n",
      "133216\n",
      "['openmlid', 'totalsize', 'fitsize', 'applicationsize', 'numattributes', 'seed', 'algorithm', 'algorithmoptions', 'fittime', 'applicationtime', 'fittime_def', 'applicationtime_def', 'N']\n",
      "ranker_infogainattributeeval\n",
      "125860\n",
      "643916\n",
      "['openmlid', 'totalsize', 'fitsize', 'applicationsize', 'numattributes', 'seed', 'algorithm', 'algorithmoptions', 'fittime', 'applicationtime', 'fittime_def', 'applicationtime_def', 'N', 'M', 'B']\n",
      "ranker_symmetricaluncertattributeeval\n",
      "62946\n",
      "322290\n",
      "['openmlid', 'totalsize', 'fitsize', 'applicationsize', 'numattributes', 'seed', 'algorithm', 'algorithmoptions', 'fittime', 'applicationtime', 'fittime_def', 'applicationtime_def', 'N', 'M']\n",
      "ranker_onerattributeeval\n",
      "538647\n",
      "190\n",
      "['openmlid', 'totalsize', 'fitsize', 'applicationsize', 'numattributes', 'seed', 'algorithm', 'algorithmoptions', 'fittime', 'applicationtime', 'fittime_def', 'applicationtime_def', 'N', 'D', 'F', 'B']\n",
      "\n"
     ]
    }
   ],
   "source": [
    "df = pd.read_csv(\"data/runtimes/runtimes_atomic_nooutliers.csv\")\n",
    "algorithms = pd.unique(df[\"algorithm\"])\n",
    "for a in tqdm(algorithms):\n",
    "    print(a)\n",
    "    dfAlg = df[df[\"algorithm\"] == a]\n",
    "    dfAlgDefaults = dfAlg[dfAlg[\"algorithmoptions\"].isnull()]\n",
    "    dfAlgParametrized = dfAlg[dfAlg[\"algorithmoptions\"].notnull()]\n",
    "    if len(dfAlgParametrized) > 0:\n",
    "        print(len(dfAlgParametrized))\n",
    "        columns = [\"openmlid\", \"totalsize\", \"fitsize\", \"applicationsize\", \"numattributes\", \"seed\", \"algorithm\", \"algorithmoptions\", \"fittime\", \"applicationtime\"]\n",
    "        dfAlgParametrized = dfAlgParametrized.merge(dfAlgDefaults, on=[\"openmlid\", \"algorithm\", \"seed\", \"fitsize\"], suffixes=(\"\", \"_def\"))\n",
    "        print(len(dfAlgParametrized))\n",
    "        columns.append(\"fittime_def\")\n",
    "        columns.append(\"applicationtime_def\")\n",
    "        columnsbeforeExplosion = list(dfAlgParametrized.columns)\n",
    "        dfAlgParametrized = explodeAlgorithmOptions(dfAlgParametrized, False)\n",
    "        algoParams = [x for x in dfAlgParametrized.columns if not x in columnsbeforeExplosion]\n",
    "        for x in [\"searcheroptions\", \"evaloptions\"]:\n",
    "            if x in algoParams:\n",
    "                algoParams.remove(x)\n",
    "        columns.extend(algoParams)\n",
    "        print(columns)\n",
    "        dfAlgParametrized[columns].to_csv(\"data/runtimes/atomic/runtimes_\" + a + \"_parametrized.csv\", index=False)\n",
    "    if len(dfAlgDefaults) > 0:\n",
    "        dfAlgDefaults.to_csv(\"data/runtimes/atomic/runtimes_\" + a + \"_default.csv\", index=False)"
   ]
  },
  {
   "cell_type": "code",
   "execution_count": 9,
   "metadata": {},
   "outputs": [
    {
     "name": "stdout",
     "output_type": "stream",
     "text": [
      "Read in data\n",
      "Len of df is 45742\n"
     ]
    },
    {
     "data": {
      "application/vnd.jupyter.widget-view+json": {
       "model_id": "ebed436696804c0ea75d1876a05d2b0c",
       "version_major": 2,
       "version_minor": 0
      },
      "text/plain": [
       "HBox(children=(IntProgress(value=0, max=4240), HTML(value='')))"
      ]
     },
     "metadata": {},
     "output_type": "display_data"
    },
    {
     "name": "stdout",
     "output_type": "stream",
     "text": [
      "\n",
      "Found 1139 timeouts. Len of df is 45742\n"
     ]
    },
    {
     "data": {
      "application/vnd.jupyter.widget-view+json": {
       "model_id": "8768164ed6cf470e9cc1372d2ad30db6",
       "version_major": 2,
       "version_minor": 0
      },
      "text/plain": [
       "HBox(children=(IntProgress(value=0, max=3101), HTML(value='')))"
      ]
     },
     "metadata": {},
     "output_type": "display_data"
    },
    {
     "name": "stdout",
     "output_type": "stream",
     "text": [
      "\n",
      "Removing lines with exceptions.\n",
      "Now removing lines where fittime is not available.\n",
      "Now removing lines where fitattributes is not available.\n",
      "Ready. Prepared clean dataset.\n"
     ]
    }
   ],
   "source": [
    "def getAllMetalearnerRuntimesWithMetafeaturesForDefault():\n",
    "    \n",
    "    # read in basic datasets\n",
    "    print(\"Read in data\")\n",
    "    dfDatasets = pd.read_csv(\"data/datasets.csv\").rename(columns={\"numinstances\": \"totalsize\"})\n",
    "    dfMetafeatures = pd.read_csv(\"data/metafeatures.csv\", delimiter=\";\")\n",
    "    dfClassifiers = pd.read_csv(\"data/rawruntimes/runtimes_metalearners_default.csv\", delimiter=\";\")\n",
    "    dfClassifiers = dfClassifiers[~dfClassifiers[\"fittime\"].isnull()]\n",
    "    df = dfClassifiers.merge(dfMetafeatures, left_on=[\"openmlid\", \"fitsize\", \"seed\"], right_on=[\"openmlid\", \"datapoints_fold1\", \"seed\"])\n",
    "    df = df.merge(dfDatasets, on=[\"openmlid\"])\n",
    "    df[\"applicationsize\"] = df[\"totalsize\"] - df[\"fitsize\"]\n",
    "    df = df.rename(columns={\"f1_numericattributesafterbinarization\": \"fitattributes\"})\n",
    "    df = df[~df[\"fitattributes\"].isnull()]\n",
    "    df = df[['experiment_id', 'openmlid', 'totalsize', 'fitsize', 'applicationsize', 'fitattributes', 'seed', 'algorithm', 'baselearner', 'fittime', 'applicationtime', 'exception']]\n",
    "    \n",
    "    df = resolveExceptions(df)\n",
    "\n",
    "    print(\"Now removing lines where fitattributes is not available.\")\n",
    "    df = df[df[\"fitattributes\"].notnull()]\n",
    "    print(\"Ready. Prepared clean dataset.\")\n",
    "    return df.astype({\"fitattributes\": int, \"fittime\": int}).copy()\n",
    "\n",
    "df = getAllMetalearnerRuntimesWithMetafeaturesForDefault()\n",
    "df.to_csv(\"data/runtimes/runtimes_meta_default.csv\", index=False)"
   ]
  },
  {
   "cell_type": "markdown",
   "metadata": {},
   "source": [
    "# Create Complete META FEATURE TRANSFORMATION CSV"
   ]
  },
  {
   "cell_type": "code",
   "execution_count": 11,
   "metadata": {},
   "outputs": [],
   "source": [
    "# read in data\n",
    "df = pd.read_csv(FILE_PREPROCESSORS_PARAMETRIZED, delimiter=\";\").merge(dfDatasets, on='openmlid')\n",
    "df[['openmlid', 'algorithm', 'algorithmoptions',\n",
    "       'numinstances_before', 'numattributes_before',\n",
    "       'numlabels_before', 'numnumericattributes_before',\n",
    "       'numsymbolicattributes_before', 'numberofcategories_before',\n",
    "       'numericattributesafterbinarization_before',\n",
    "       'attributestocover50pctvariance_before',\n",
    "       'attributestocover90pctvariance_before',\n",
    "       'attributestocover95pctvariance_before',\n",
    "       'attributestocover99pctvariance_before', 'totalvariance_before', 'numinstances_after',\n",
    "       'numattributes_after', 'numlabels_after', 'numnumericattributes_after',\n",
    "       'numsymbolicattributes_after', 'numberofcategories_after',\n",
    "       'numericattributesafterbinarization_after',\n",
    "       'attributestocover50pctvariance_after',\n",
    "       'attributestocover90pctvariance_after',\n",
    "       'attributestocover95pctvariance_after',\n",
    "       'attributestocover99pctvariance_after', 'totalvariance_after']].dropna().to_csv(\"data/metafeaturetransformations.csv\", index=False)"
   ]
  },
  {
   "cell_type": "markdown",
   "metadata": {},
   "source": [
    "# Compose Meta-Learner Runtime Parameters From Observations"
   ]
  },
  {
   "cell_type": "code",
   "execution_count": 7,
   "metadata": {},
   "outputs": [
    {
     "data": {
      "application/vnd.jupyter.widget-view+json": {
       "model_id": "49062626a295490c96e5bfcf73231e6d",
       "version_major": 2,
       "version_minor": 0
      },
      "text/plain": [
       "HBox(children=(IntProgress(value=0, max=36420), HTML(value='')))"
      ]
     },
     "metadata": {},
     "output_type": "display_data"
    },
    {
     "name": "stdout",
     "output_type": "stream",
     "text": [
      "\n"
     ]
    }
   ],
   "source": [
    "bareCallFeatures = ['numberOfDistributionCalls', 'numberOfDistributionSCalls', 'numberOfClassifyInstanceCalls', 'numberOfBuildClassifierCalls']\n",
    "callFeatures = []\n",
    "callFeatures.extend([f + \"_training\" for f in bareCallFeatures])\n",
    "callFeatures.extend([f + \"_prediction\" for f in bareCallFeatures])\n",
    "relevantColsOfInfos = ['algorithm', 'experiment_id', 'datasetMetafeatures']\n",
    "relevantColsOfInfos.extend(callFeatures)\n",
    "dfInfoDefault = pd.read_csv(\"data/rawruntimes/additional_information_metalearners_default.csv\", delimiter=\";\")[relevantColsOfInfos]\n",
    "dfInfoParametrized = pd.read_csv(\"data/rawruntimes/additional_information_metalearners_parametrized.csv\", delimiter=\";\")[relevantColsOfInfos]\n",
    "dfRuntimesDefault = pd.read_csv(\"data/rawruntimes/runtimes_metalearners_default.csv\", delimiter=\";\")\n",
    "dfRuntimesParametrized = pd.read_csv(\"data/rawruntimes/runtimes_metalearners_parametrized.csv\", delimiter=\";\")\n",
    "\n",
    "# merge the frames with the information of the parametrized meta-learner \n",
    "dfParametrized = dfInfoParametrized.merge(dfRuntimesParametrized, on=[\"algorithm\", \"experiment_id\"])\n",
    "dfParametrized = dfParametrized.merge(dfDatasets, on=[\"openmlid\"])\n",
    "\n",
    "# create a clean new dataframe that only contains those entries where the number of runs is as expected\n",
    "cleanDF = dfParametrized.drop(dfParametrized.index)\n",
    "for i, group in tqdm(dfParametrized.groupby([\"algorithm\", \"baselearner\", \"experiment_id\"])):\n",
    "    k = np.sum(group[\"numberOfBuildClassifierCalls_training\"])\n",
    "    options = str(pd.unique(group[\"algorithmoptions\"])[0])\n",
    "    expectedK = int(options.split(\" \")[options.split(\" \").index(\"-I\") + 1])\n",
    "    if k == expectedK:\n",
    "        callInfos = group.drop_duplicates().copy()\n",
    "        callInfos[\"k\"] = k\n",
    "        if len(callInfos) == 1:\n",
    "            cleanDF = pd.concat([cleanDF, callInfos], sort=False)\n",
    "cleanDF[\"predictioncalls_training\"] = np.max([cleanDF[\"numberOfClassifyInstanceCalls_training\"], cleanDF[\"numberOfDistributionCalls_training\"]], axis=0)\n",
    "cleanDF[\"predictioncalls_prediction\"] = np.max([cleanDF[\"numberOfClassifyInstanceCalls_prediction\"], cleanDF[\"numberOfDistributionCalls_prediction\"]], axis=0)\n",
    "cleanDF[\"numinstances_sub\"] = [map2dict(x)[\"numinstances\"] for x in cleanDF[\"datasetMetafeatures\"]]\n",
    "cleanDF[\"numattributes_sub\"] = [map2dict(x)[\"numattributes\"] for x in cleanDF[\"datasetMetafeatures\"]]\n",
    "cleanDF.astype({\"k\": int}).rename(columns={\"k\": \"builds\"})[['openmlid', 'algorithm', 'algorithmoptions', 'numinstances', 'numattributes', \n",
    "       'numattributesafterbinarization', 'trainpoints', 'numinstances_sub', 'numattributes_sub', 'builds', 'predictioncalls_training', 'predictioncalls_prediction']].drop_duplicates().to_csv(\"data/metalearner_parametereffects.csv\", index=False)"
   ]
  },
  {
   "cell_type": "code",
   "execution_count": 8,
   "metadata": {
    "scrolled": true
   },
   "outputs": [
    {
     "data": {
      "application/vnd.jupyter.widget-view+json": {
       "model_id": "c58ed97de5644073b8b9e0036a9f4135",
       "version_major": 2,
       "version_minor": 0
      },
      "text/plain": [
       "HBox(children=(IntProgress(value=0, max=5), HTML(value='')))"
      ]
     },
     "metadata": {},
     "output_type": "display_data"
    },
    {
     "name": "stdout",
     "output_type": "stream",
     "text": [
      "\n"
     ]
    },
    {
     "data": {
      "image/png": "[encoded data removed]",
      "text/plain": [
       "<Figure size 504x432 with 1 Axes>"
      ]
     },
     "metadata": {
      "needs_background": "light"
     },
     "output_type": "display_data"
    },
    {
     "data": {
      "application/vnd.jupyter.widget-view+json": {
       "model_id": "262a89219e604719ac3209a69df9c420",
       "version_major": 2,
       "version_minor": 0
      },
      "text/plain": [
       "HBox(children=(IntProgress(value=0, max=5), HTML(value='')))"
      ]
     },
     "metadata": {},
     "output_type": "display_data"
    },
    {
     "name": "stdout",
     "output_type": "stream",
     "text": [
      "\n"
     ]
    },
    {
     "data": {
      "image/png": "[encoded data removed]",
      "text/plain": [
       "<Figure size 504x432 with 1 Axes>"
      ]
     },
     "metadata": {
      "needs_background": "light"
     },
     "output_type": "display_data"
    },
    {
     "data": {
      "application/vnd.jupyter.widget-view+json": {
       "model_id": "c256cc7635fb4652bc1894c7d5daa8d2",
       "version_major": 2,
       "version_minor": 0
      },
      "text/plain": [
       "HBox(children=(IntProgress(value=0, max=5), HTML(value='')))"
      ]
     },
     "metadata": {},
     "output_type": "display_data"
    },
    {
     "name": "stdout",
     "output_type": "stream",
     "text": [
      "\n"
     ]
    },
    {
     "data": {
      "image/png": "[encoded data removed]",
      "text/plain": [
       "<Figure size 504x432 with 1 Axes>"
      ]
     },
     "metadata": {
      "needs_background": "light"
     },
     "output_type": "display_data"
    }
   ],
   "source": [
    "# This is just to check that the parameter effects are deterministic (there should be no red bars)\n",
    "nextDF = pd.read_csv(\"data/metalearner_parametereffects.csv\")\n",
    "for att in [\"builds\", \"predictioncalls_training\", \"predictioncalls_prediction\"]:\n",
    "    plotDispersion(nextDF, \"algorithm\", [\"algorithmoptions\", \"numinstances\", \"trainpoints\"], att)\n",
    "    plt.show()"
   ]
  },
  {
   "cell_type": "markdown",
   "metadata": {},
   "source": [
    "## Create own model for each META Learner with the parameters"
   ]
  },
  {
   "cell_type": "code",
   "execution_count": 2,
   "metadata": {},
   "outputs": [],
   "source": [
    "dfMeta = pd.read_csv(\"data/metalearner_parametereffects.csv\")"
   ]
  },
  {
   "cell_type": "code",
   "execution_count": 15,
   "metadata": {},
   "outputs": [
    {
     "data": {
      "text/html": [
       "<div>\n",
       "<style scoped>\n",
       "    .dataframe tbody tr th:only-of-type {\n",
       "        vertical-align: middle;\n",
       "    }\n",
       "\n",
       "    .dataframe tbody tr th {\n",
       "        vertical-align: top;\n",
       "    }\n",
       "\n",
       "    .dataframe thead th {\n",
       "        text-align: right;\n",
       "    }\n",
       "</style>\n",
       "<table border=\"1\" class=\"dataframe\">\n",
       "  <thead>\n",
       "    <tr style=\"text-align: right;\">\n",
       "      <th></th>\n",
       "      <th>openmlid</th>\n",
       "      <th>algorithm</th>\n",
       "      <th>algorithmoptions</th>\n",
       "      <th>numinstances</th>\n",
       "      <th>numattributes</th>\n",
       "      <th>numattributesafterbinarization</th>\n",
       "      <th>trainpoints</th>\n",
       "      <th>numinstances_sub</th>\n",
       "      <th>numattributes_sub</th>\n",
       "      <th>builds</th>\n",
       "      <th>predictioncalls_training</th>\n",
       "      <th>predictioncalls_prediction</th>\n",
       "    </tr>\n",
       "  </thead>\n",
       "  <tbody>\n",
       "    <tr>\n",
       "      <td>0</td>\n",
       "      <td>6</td>\n",
       "      <td>adaboostm1</td>\n",
       "      <td>-P 70 -I 5</td>\n",
       "      <td>20000</td>\n",
       "      <td>16</td>\n",
       "      <td>16</td>\n",
       "      <td>10000</td>\n",
       "      <td>10000</td>\n",
       "      <td>16</td>\n",
       "      <td>5</td>\n",
       "      <td>10000</td>\n",
       "      <td>10000</td>\n",
       "    </tr>\n",
       "    <tr>\n",
       "      <td>1</td>\n",
       "      <td>6</td>\n",
       "      <td>adaboostm1</td>\n",
       "      <td>-P 90 -I 5</td>\n",
       "      <td>20000</td>\n",
       "      <td>16</td>\n",
       "      <td>16</td>\n",
       "      <td>10000</td>\n",
       "      <td>10000</td>\n",
       "      <td>16</td>\n",
       "      <td>5</td>\n",
       "      <td>10000</td>\n",
       "      <td>10000</td>\n",
       "    </tr>\n",
       "    <tr>\n",
       "      <td>2</td>\n",
       "      <td>6</td>\n",
       "      <td>adaboostm1</td>\n",
       "      <td>-P 80 -I 5</td>\n",
       "      <td>20000</td>\n",
       "      <td>16</td>\n",
       "      <td>16</td>\n",
       "      <td>10000</td>\n",
       "      <td>10000</td>\n",
       "      <td>16</td>\n",
       "      <td>5</td>\n",
       "      <td>10000</td>\n",
       "      <td>10000</td>\n",
       "    </tr>\n",
       "    <tr>\n",
       "      <td>3</td>\n",
       "      <td>21</td>\n",
       "      <td>adaboostm1</td>\n",
       "      <td>-P 90 -I 5</td>\n",
       "      <td>1728</td>\n",
       "      <td>6</td>\n",
       "      <td>21</td>\n",
       "      <td>1000</td>\n",
       "      <td>1000</td>\n",
       "      <td>6</td>\n",
       "      <td>5</td>\n",
       "      <td>1000</td>\n",
       "      <td>728</td>\n",
       "    </tr>\n",
       "    <tr>\n",
       "      <td>4</td>\n",
       "      <td>18</td>\n",
       "      <td>adaboostm1</td>\n",
       "      <td>-P 90 -I 5</td>\n",
       "      <td>2000</td>\n",
       "      <td>6</td>\n",
       "      <td>6</td>\n",
       "      <td>1000</td>\n",
       "      <td>1000</td>\n",
       "      <td>6</td>\n",
       "      <td>5</td>\n",
       "      <td>1000</td>\n",
       "      <td>1000</td>\n",
       "    </tr>\n",
       "    <tr>\n",
       "      <td>...</td>\n",
       "      <td>...</td>\n",
       "      <td>...</td>\n",
       "      <td>...</td>\n",
       "      <td>...</td>\n",
       "      <td>...</td>\n",
       "      <td>...</td>\n",
       "      <td>...</td>\n",
       "      <td>...</td>\n",
       "      <td>...</td>\n",
       "      <td>...</td>\n",
       "      <td>...</td>\n",
       "      <td>...</td>\n",
       "    </tr>\n",
       "    <tr>\n",
       "      <td>715</td>\n",
       "      <td>24</td>\n",
       "      <td>randomsubspace</td>\n",
       "      <td>-P 70 -I 5</td>\n",
       "      <td>8124</td>\n",
       "      <td>22</td>\n",
       "      <td>121</td>\n",
       "      <td>1000</td>\n",
       "      <td>1000</td>\n",
       "      <td>22</td>\n",
       "      <td>5</td>\n",
       "      <td>0</td>\n",
       "      <td>7124</td>\n",
       "    </tr>\n",
       "    <tr>\n",
       "      <td>716</td>\n",
       "      <td>22</td>\n",
       "      <td>randomsubspace</td>\n",
       "      <td>-P 90 -I 5</td>\n",
       "      <td>2000</td>\n",
       "      <td>47</td>\n",
       "      <td>47</td>\n",
       "      <td>1000</td>\n",
       "      <td>1000</td>\n",
       "      <td>47</td>\n",
       "      <td>5</td>\n",
       "      <td>0</td>\n",
       "      <td>1000</td>\n",
       "    </tr>\n",
       "    <tr>\n",
       "      <td>717</td>\n",
       "      <td>23</td>\n",
       "      <td>randomsubspace</td>\n",
       "      <td>-P 90 -I 5</td>\n",
       "      <td>1473</td>\n",
       "      <td>9</td>\n",
       "      <td>21</td>\n",
       "      <td>1000</td>\n",
       "      <td>1000</td>\n",
       "      <td>9</td>\n",
       "      <td>5</td>\n",
       "      <td>0</td>\n",
       "      <td>473</td>\n",
       "    </tr>\n",
       "    <tr>\n",
       "      <td>718</td>\n",
       "      <td>24</td>\n",
       "      <td>randomsubspace</td>\n",
       "      <td>-P 80 -I 5</td>\n",
       "      <td>8124</td>\n",
       "      <td>22</td>\n",
       "      <td>121</td>\n",
       "      <td>1000</td>\n",
       "      <td>1000</td>\n",
       "      <td>22</td>\n",
       "      <td>5</td>\n",
       "      <td>0</td>\n",
       "      <td>7124</td>\n",
       "    </tr>\n",
       "    <tr>\n",
       "      <td>719</td>\n",
       "      <td>24</td>\n",
       "      <td>randomsubspace</td>\n",
       "      <td>-P 90 -I 5</td>\n",
       "      <td>8124</td>\n",
       "      <td>22</td>\n",
       "      <td>121</td>\n",
       "      <td>1000</td>\n",
       "      <td>1000</td>\n",
       "      <td>22</td>\n",
       "      <td>5</td>\n",
       "      <td>0</td>\n",
       "      <td>7124</td>\n",
       "    </tr>\n",
       "  </tbody>\n",
       "</table>\n",
       "<p>720 rows × 12 columns</p>\n",
       "</div>"
      ],
      "text/plain": [
       "     openmlid       algorithm algorithmoptions  numinstances  numattributes  \\\n",
       "0           6      adaboostm1       -P 70 -I 5         20000             16   \n",
       "1           6      adaboostm1       -P 90 -I 5         20000             16   \n",
       "2           6      adaboostm1       -P 80 -I 5         20000             16   \n",
       "3          21      adaboostm1       -P 90 -I 5          1728              6   \n",
       "4          18      adaboostm1       -P 90 -I 5          2000              6   \n",
       "..        ...             ...              ...           ...            ...   \n",
       "715        24  randomsubspace       -P 70 -I 5          8124             22   \n",
       "716        22  randomsubspace       -P 90 -I 5          2000             47   \n",
       "717        23  randomsubspace       -P 90 -I 5          1473              9   \n",
       "718        24  randomsubspace       -P 80 -I 5          8124             22   \n",
       "719        24  randomsubspace       -P 90 -I 5          8124             22   \n",
       "\n",
       "     numattributesafterbinarization  trainpoints  numinstances_sub  \\\n",
       "0                                16        10000             10000   \n",
       "1                                16        10000             10000   \n",
       "2                                16        10000             10000   \n",
       "3                                21         1000              1000   \n",
       "4                                 6         1000              1000   \n",
       "..                              ...          ...               ...   \n",
       "715                             121         1000              1000   \n",
       "716                              47         1000              1000   \n",
       "717                              21         1000              1000   \n",
       "718                             121         1000              1000   \n",
       "719                             121         1000              1000   \n",
       "\n",
       "     numattributes_sub  builds  predictioncalls_training  \\\n",
       "0                   16       5                     10000   \n",
       "1                   16       5                     10000   \n",
       "2                   16       5                     10000   \n",
       "3                    6       5                      1000   \n",
       "4                    6       5                      1000   \n",
       "..                 ...     ...                       ...   \n",
       "715                 22       5                         0   \n",
       "716                 47       5                         0   \n",
       "717                  9       5                         0   \n",
       "718                 22       5                         0   \n",
       "719                 22       5                         0   \n",
       "\n",
       "     predictioncalls_prediction  \n",
       "0                         10000  \n",
       "1                         10000  \n",
       "2                         10000  \n",
       "3                           728  \n",
       "4                          1000  \n",
       "..                          ...  \n",
       "715                        7124  \n",
       "716                        1000  \n",
       "717                         473  \n",
       "718                        7124  \n",
       "719                        7124  \n",
       "\n",
       "[720 rows x 12 columns]"
      ]
     },
     "execution_count": 15,
     "metadata": {},
     "output_type": "execute_result"
    }
   ],
   "source": [
    "dfMeta"
   ]
  },
  {
   "cell_type": "code",
   "execution_count": 14,
   "metadata": {},
   "outputs": [
    {
     "name": "stdout",
     "output_type": "stream",
     "text": [
      "\n"
     ]
    },
    {
     "data": {
      "application/vnd.jupyter.widget-view+json": {
       "model_id": "42d0fb277010406ab7addd8e89c475ef",
       "version_major": 2,
       "version_minor": 0
      },
      "text/plain": [
       "HBox(children=(IntProgress(value=0, max=5), HTML(value='')))"
      ]
     },
     "metadata": {},
     "output_type": "display_data"
    },
    {
     "name": "stdout",
     "output_type": "stream",
     "text": [
      "\n"
     ]
    }
   ],
   "source": [
    "for algo in tqdm(pd.unique(dfMeta[\"algorithm\"])):\n",
    "    dfML = dfMeta[dfMeta[\"algorithm\"] == algo].copy()\n",
    "    if algo != \"randomcommittee\":\n",
    "        dfML[\"P\"] = [int(readNumericParameterFromOptionString(x, \"P\", 100)) for x in dfML[\"algorithmoptions\"]]\n",
    "    dfML[\"I\"] = [int(readNumericParameterFromOptionString(x, \"I\", 10)) for x in dfML[\"algorithmoptions\"]]\n",
    "    if algo == \"adaboostm1\":\n",
    "        dfML[\"Q\"] = [readBinaryParameterFromOptionString(s, \"Q\") for s in dfML[\"algorithmoptions\"]]\n",
    "    if algo == \"logitboost\":\n",
    "        dfML[\"L\"] = [readNumericParameterFromOptionString(s, \"L\", -1) for s in dfML[\"algorithmoptions\"]]\n",
    "        dfML[\"H\"] = [readNumericParameterFromOptionString(s, \"H\", -1) for s in dfML[\"algorithmoptions\"]]\n",
    "        dfML[\"Z\"] = [int(readNumericParameterFromOptionString(s, \"Z\", -1)) for s in dfML[\"algorithmoptions\"]]\n",
    "    dfML.to_csv(\"data/metalearner_parametereffects_\" + algo + \".csv\", index=False)"
   ]
  },
  {
   "cell_type": "markdown",
   "metadata": {},
   "source": [
    "# Experimental Stuff"
   ]
  },
  {
   "cell_type": "code",
   "execution_count": 30,
   "metadata": {},
   "outputs": [
    {
     "name": "stdout",
     "output_type": "stream",
     "text": [
      "2148\n",
      "1944\n",
      "1721\n"
     ]
    },
    {
     "data": {
      "image/png": "[encoded data removed]",
      "text/plain": [
       "<Figure size 432x288 with 1 Axes>"
      ]
     },
     "metadata": {
      "needs_background": "light"
     },
     "output_type": "display_data"
    }
   ],
   "source": [
    "reg = sk.ensemble.RandomForestRegressor(n_estimators = 20)\n",
    "algo = \"ann\"\n",
    "data = []\n",
    "for (label, myDF) in [(\"complete\", df), (\"no outliers\", dfNoOutliers), (\"really no outliers\", dfReallyNoOutliers)]:\n",
    "    dfFocus = myDF.query(\"algorithm == '\" + algo + \"'\").dropna()\n",
    "    datasets = [41066, 3, 60, 718, 881, 930, 1069, 1067, 1120]\n",
    "    dfTrain = dfFocus[~dfFocus[\"openmlid\"].isin(datasets)]\n",
    "    features = [\"fitsize\", \"fitattributes\"]\n",
    "    X = dfTrain[features]\n",
    "    Y = dfTrain[\"applicationtimeperunit\"] * 1000\n",
    "    reg.fit(X, Y)\n",
    "    dfPredict = dfFocus[dfFocus[\"openmlid\"].isin(datasets)]\n",
    "    errors = []\n",
    "    for i, row in dfPredict.iterrows():\n",
    "        p = reg.predict([row[features].values])\n",
    "        error = np.abs(p-row[\"applicationtimeperunit\"]  * 1000)\n",
    "        errors.append(error[0])\n",
    "        #print(str(p) + \"/\" + str(row[\"applicationtimeperunit\"]  * 1000))\n",
    "    #print(errors)\n",
    "    print(len(errors))\n",
    "    data.append(errors)\n",
    "\n",
    "    "
   ]
  }
 ],
 "metadata": {
  "kernelspec": {
   "display_name": "Python 3",
   "language": "python",
   "name": "python3"
  },
  "language_info": {
   "codemirror_mode": {
    "name": "ipython",
    "version": 3
   },
   "file_extension": ".py",
   "mimetype": "text/x-python",
   "name": "python",
   "nbconvert_exporter": "python",
   "pygments_lexer": "ipython3",
   "version": "3.7.7"
  }
 },
 "nbformat": 4,
 "nbformat_minor": 2
}
