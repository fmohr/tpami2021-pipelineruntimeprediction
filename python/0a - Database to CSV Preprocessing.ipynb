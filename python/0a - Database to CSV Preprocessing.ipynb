{
 "cells": [
  {
   "cell_type": "code",
   "execution_count": 3,
   "metadata": {},
   "outputs": [],
   "source": [
    "import pandas as pd"
   ]
  },
  {
   "cell_type": "code",
   "execution_count": 6,
   "metadata": {},
   "outputs": [],
   "source": [
    "df = pd.read_csv(\"data/rawruntimes/classifierresults-default.csv\", delimiter=\";\", names=[\"openmlid\", \"fitsize\", \"seed\", \"algorithm\", \"fittime\", \"applicationtime\", \"exception\"])\n",
    "df[\"algorithmoptions\"] = \"\"\n",
    "df.replace(\"\\\\N\", \"\").to_csv(\"data/rawruntimes/classifierresults-default.csv\", sep=\";\", index=False)"
   ]
  },
  {
   "cell_type": "code",
   "execution_count": 4,
   "metadata": {},
   "outputs": [],
   "source": [
    "df = pd.read_csv(\"data/rawruntimes/classifierresults-parametrized.csv\", delimiter=\";\", names=[\"openmlid\", \"fitsize\", \"seed\", \"algorithm\", \"algorithmoptions\", \"fittime\", \"applicationtime\", \"exception\"])\n",
    "df.replace(\"\\\\N\", \"\").to_csv(\"data/rawruntimes/classifierresults-parametrized.csv\", sep=\";\", index=False)"
   ]
  },
  {
   "cell_type": "code",
   "execution_count": 8,
   "metadata": {},
   "outputs": [],
   "source": [
    "df = pd.read_csv(\"data/rawruntimes/preprocessorresults-default.csv\", delimiter=\";\", names=[\"openmlid\", \"fitsize\", \"numattributes\", \"seed\", \"algorithm\", \"fittime\", \"applicationtime\", \"numinstances_before\", \"numattributes_before\", \"numlabels_before\", \"numnumericattributes_before\", \"numsymbolicattributes_before\", \"numberofcategories_before\", \"numericattributesafterbinarization_before\", \"attributestocover50pctvariance_before\", \"attributestocover90pctvariance_before\", \"attributestocover95pctvariance_before\", \"attributestocover99pctvariance_before\", \"totalvariance_before\", \"numinstances_after\", \"numattributes_after\", \"numlabels_after\", \"numnumericattributes_after\", \"numsymbolicattributes_after\", \"numberofcategories_after\",  \"numericattributesafterbinarization_after\", \"attributestocover50pctvariance_after\", \"attributestocover90pctvariance_after\", \"attributestocover95pctvariance_after\", \"attributestocover99pctvariance_after\", \"totalvariance_after\", \"exception\"])\n",
    "df[\"algorithmoptions\"] = \"\"\n",
    "df.replace(\"\\\\N\", \"\").to_csv(\"data/rawruntimes/preprocessorresults-default.csv\", sep=\";\", index=False)"
   ]
  },
  {
   "cell_type": "code",
   "execution_count": null,
   "metadata": {},
   "outputs": [],
   "source": [
    "df = pd.read_csv(\"data/rawruntimes/preprocessorresults-parametrized.csv\", delimiter=\";\", names=[\"openmlid\", \"fitsize\", \"numattributes\", \"seed\", \"algorithm\", \"searchoptions\", \"evaloptions\", \"fittime\", \"applicationtime\", \"numinstances_before\", \"numattributes_before\", \"numlabels_before\", \"numnumericattributes_before\", \"numsymbolicattributes_before\", \"numberofcategories_before\", \"numericattributesafterbinarization_before\", \"attributestocover50pctvariance_before\", \"attributestocover90pctvariance_before\", \"attributestocover95pctvariance_before\", \"attributestocover99pctvariance_before\", \"totalvariance_before\", \"numinstances_after\", \"numattributes_after\", \"numlabels_after\", \"numnumericattributes_after\", \"numsymbolicattributes_after\", \"numberofcategories_after\",  \"numericattributesafterbinarization_after\", \"attributestocover50pctvariance_after\", \"attributestocover90pctvariance_after\", \"attributestocover95pctvariance_after\", \"attributestocover99pctvariance_after\", \"totalvariance_after\", \"exception\"])\n",
    "df[\"algorithmoptions\"] = df[\"searchoptions\"].fillna('') + \";\" + df[\"evaloptions\"].fillna('')\n",
    "df = df.drop(columns=[\"searchoptions\", \"evaloptions\"])\n",
    "df.replace(\"\\\\N\", \"\").to_csv(\"data/rawruntimes/preprocessorresults-parametrized.csv\", sep=\";\", index=False)"
   ]
  },
  {
   "cell_type": "code",
   "execution_count": null,
   "metadata": {},
   "outputs": [],
   "source": []
  }
 ],
 "metadata": {
  "kernelspec": {
   "display_name": "Python 3",
   "language": "python",
   "name": "python3"
  },
  "language_info": {
   "codemirror_mode": {
    "name": "ipython",
    "version": 3
   },
   "file_extension": ".py",
   "mimetype": "text/x-python",
   "name": "python",
   "nbconvert_exporter": "python",
   "pygments_lexer": "ipython3",
   "version": "3.7.4"
  }
 },
 "nbformat": 4,
 "nbformat_minor": 2
}
