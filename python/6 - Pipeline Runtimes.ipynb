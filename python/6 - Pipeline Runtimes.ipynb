{
 "cells": [
  {
   "cell_type": "code",
   "execution_count": 76,
   "metadata": {},
   "outputs": [],
   "source": [
    "from commons import *"
   ]
  },
  {
   "cell_type": "markdown",
   "metadata": {},
   "source": [
    "# 1. Additivity Assumption\n",
    "Is it true that we can just add up pre-processor runtime and classifier runtime?"
   ]
  },
  {
   "cell_type": "code",
   "execution_count": 305,
   "metadata": {},
   "outputs": [],
   "source": [
    "plDF = pd.read_csv(\"data/rawruntimes/runtimes_pipelines.csv\", delimiter=\";\")\n",
    "mlDF = pd.read_csv(\"data/runtimes_meta_default.csv\")\n",
    "baDF = pd.read_csv(\"data/runtimes_all_default_nooutliers.csv\")\n",
    "mfDF = pd.read_csv(\"data/metafeaturetransformations.csv\")\n",
    "meDF = pd.read_csv(\"data/metalearner_parametereffects.csv\")"
   ]
  },
  {
   "cell_type": "code",
   "execution_count": 78,
   "metadata": {},
   "outputs": [],
   "source": [
    "preprocessors = pd.unique(plDF[\"preprocessor\"])"
   ]
  },
  {
   "cell_type": "code",
   "execution_count": 79,
   "metadata": {},
   "outputs": [],
   "source": [
    "basealgorithms = pd.unique(baDF[\"algorithm\"])"
   ]
  },
  {
   "cell_type": "code",
   "execution_count": 5,
   "metadata": {},
   "outputs": [
    {
     "data": {
      "application/vnd.jupyter.widget-view+json": {
       "model_id": "0357b6c07ce1418e954df7de5ac3461e",
       "version_major": 2,
       "version_minor": 0
      },
      "text/plain": [
       "HBox(children=(IntProgress(value=0, max=1537), HTML(value='')))"
      ]
     },
     "metadata": {},
     "output_type": "display_data"
    },
    {
     "name": "stdout",
     "output_type": "stream",
     "text": [
      "/adaboostm1/weka.classifiers.rules.DecisionTable on openmlid 1242 and seed 0 and 10000 trainpoints. Composed gives 272.0 where true is 205.0\n",
      "/adaboostm1/weka.classifiers.rules.DecisionTable on openmlid 4541 and seed 0 and 50000 trainpoints. Composed gives 110.0 where true is 520.0\n",
      "/adaboostm1/weka.classifiers.lazy.IBk on openmlid 4541 and seed 0 and 10000 trainpoints. Composed gives 320.0 where true is 18.0\n",
      "/adaboostm1/weka.classifiers.trees.LMT on openmlid 4541 and seed 0 and 1000 trainpoints. Composed gives 1221.0 where true is 1144.0\n",
      "/adaboostm1/weka.classifiers.rules.DecisionTable on openmlid 4541 and seed 1 and 50000 trainpoints. Composed gives 504.0 where true is 346.0\n",
      "/adaboostm1/weka.classifiers.functions.Logistic on openmlid 4541 and seed 0 and 100 trainpoints. Composed gives 181.0 where true is 36.0\n",
      "/adaboostm1/weka.classifiers.rules.DecisionTable on openmlid 273 and seed 0 and 1000 trainpoints. Composed gives 487.0 where true is 121.0\n",
      "/adaboostm1/weka.classifiers.rules.DecisionTable on openmlid 1242 and seed 0 and 50000 trainpoints. Composed gives 3443.0 where true is 3335.0\n",
      "/adaboostm1/weka.classifiers.lazy.IBk on openmlid 1242 and seed 0 and 10000 trainpoints. Composed gives 771.0 where true is 354.0\n",
      "/adaboostm1/weka.classifiers.lazy.IBk on openmlid 4541 and seed 1 and 10000 trainpoints. Composed gives 329.0 where true is 14.0\n",
      "/adaboostm1/weka.classifiers.lazy.IBk on openmlid 4541 and seed 0 and 50000 trainpoints. Composed gives 3600.0 where true is 452.0\n",
      "/adaboostm1/logistic on openmlid 4541 and seed 0 and 1000 trainpoints. Composed gives 538 where true is 423.0\n",
      "/bagging/weka.classifiers.rules.DecisionTable on openmlid 273 and seed 0 and 1000 trainpoints. Composed gives 357.0 where true is 420.0\n",
      "/adaboostm1/weka.classifiers.functions.Logistic on openmlid 4541 and seed 0 and 1000 trainpoints. Composed gives 905.0 where true is 3600.0\n",
      "/randomsubspace/dt on openmlid 41065 and seed 0 and 50000 trainpoints. Composed gives 974 where true is 1333.0\n",
      "/adaboostm1/weka.classifiers.rules.DecisionTable on openmlid 273 and seed 1 and 1000 trainpoints. Composed gives 504.0 where true is 121.0\n",
      "/adaboostm1/weka.classifiers.lazy.IBk on openmlid 23512 and seed 0 and 10000 trainpoints. Composed gives 272.0 where true is 12.0\n",
      "/adaboostm1/weka.classifiers.rules.DecisionTable on openmlid 23512 and seed 0 and 50000 trainpoints. Composed gives 485.0 where true is 112.0\n",
      "/adaboostm1/weka.classifiers.rules.DecisionTable on openmlid 273 and seed 0 and 2000 trainpoints. Composed gives 1180.0 where true is 226.0\n",
      "/adaboostm1/weka.classifiers.rules.DecisionTable on openmlid 1242 and seed 1 and 50000 trainpoints. Composed gives 2803.0 where true is 2009.0\n",
      "/adaboostm1/weka.classifiers.rules.JRip on openmlid 1242 and seed 0 and 5000 trainpoints. Composed gives 128.0 where true is 18.0\n",
      "/adaboostm1/weka.classifiers.functions.Logistic on openmlid 4541 and seed 1 and 100 trainpoints. Composed gives 211.0 where true is 41.0\n",
      "/adaboostm1/weka.classifiers.trees.LMT on openmlid 4541 and seed 0 and 2000 trainpoints. Composed gives 2417.0 where true is 2714.0\n",
      "/adaboostm1/logistic on openmlid 4541 and seed 0 and 5000 trainpoints. Composed gives 3601 where true is 1334.0\n",
      "/adaboostm1/dt on openmlid 41991 and seed 2 and 5000 trainpoints. Composed gives 280 where true is 772.0\n",
      "/adaboostm1/dt on openmlid 41991 and seed 4 and 1000 trainpoints. Composed gives 38 where true is 133.0\n",
      "/adaboostm1/weka.classifiers.lazy.IBk on openmlid 23512 and seed 1 and 10000 trainpoints. Composed gives 244.0 where true is 12.0\n",
      "/bagging/dt on openmlid 41065 and seed 1 and 50000 trainpoints. Composed gives 1239 where true is 1382.0\n",
      "/adaboostm1/weka.classifiers.trees.J48 on openmlid 1242 and seed 0 and 50000 trainpoints. Composed gives 1373.0 where true is 860.0\n",
      "/adaboostm1/weka.classifiers.lazy.IBk on openmlid 23512 and seed 0 and 50000 trainpoints. Composed gives 3600.0 where true is 252.0\n",
      "/bagging/weka.classifiers.rules.DecisionTable on openmlid 1242 and seed 1 and 50000 trainpoints. Composed gives 1748.0 where true is 1429.0\n",
      "/adaboostm1/weka.classifiers.functions.Logistic on openmlid 4541 and seed 1 and 1000 trainpoints. Composed gives 852.0 where true is 3600.0\n",
      "/adaboostm1/weka.classifiers.rules.JRip on openmlid 1242 and seed 0 and 10000 trainpoints. Composed gives 445.0 where true is 64.0\n",
      "/adaboostm1/weka.classifiers.lazy.IBk on openmlid 273 and seed 0 and 2000 trainpoints. Composed gives 558.0 where true is 19.0\n",
      "/adaboostm1/weka.classifiers.trees.LMT on openmlid 4541 and seed 0 and 5000 trainpoints. Composed gives 913.0 where true is 539.0\n",
      "/adaboostm1/weka.classifiers.rules.JRip on openmlid 1242 and seed 1 and 5000 trainpoints. Composed gives 129.0 where true is 26.0\n",
      "/adaboostm1/weka.classifiers.rules.DecisionTable on openmlid 23512 and seed 1 and 50000 trainpoints. Composed gives 592.0 where true is 125.0\n",
      "/adaboostm1/weka.classifiers.bayes.BayesNet on openmlid 273 and seed 0 and 50000 trainpoints. Composed gives 234.0 where true is 308.0\n",
      "/adaboostm1/weka.classifiers.trees.LMT on openmlid 4541 and seed 1 and 2000 trainpoints. Composed gives 2414.0 where true is 2791.0\n",
      "/adaboostm1/weka.classifiers.rules.DecisionTable on openmlid 273 and seed 0 and 5000 trainpoints. Composed gives 3600.0 where true is 509.0\n",
      "/bagging/weka.classifiers.functions.Logistic on openmlid 4541 and seed 0 and 1000 trainpoints. Composed gives 793.0 where true is 1084.0\n",
      "/bagging/logistic on openmlid 4541 and seed 2 and 2000 trainpoints. Composed gives 3601 where true is 3043.0\n",
      "/adaboostm1/weka.classifiers.rules.DecisionTable on openmlid 273 and seed 0 and 10000 trainpoints. Composed gives 3600.0 where true is 1609.0\n",
      "/bagging/logistic on openmlid 41065 and seed 1 and 100 trainpoints. Composed gives 345 where true is 178.0\n",
      "/randomsubspace/dt on openmlid 273 and seed 1 and 10000 trainpoints. Composed gives 295 where true is 368.0\n",
      "/bagging/dt on openmlid 41991 and seed 5 and 1000 trainpoints. Composed gives 36 where true is 142.0\n",
      "/bagging/dt on openmlid 41065 and seed 2 and 50000 trainpoints. Composed gives 1080 where true is 1308.0\n",
      "/adaboostm1/weka.classifiers.rules.JRip on openmlid 23512 and seed 0 and 10000 trainpoints. Composed gives 211.0 where true is 24.0\n",
      "/adaboostm1/weka.classifiers.rules.JRip on openmlid 1242 and seed 1 and 10000 trainpoints. Composed gives 433.0 where true is 70.0\n",
      "/adaboostm1/logistic on openmlid 4541 and seed 0 and 10000 trainpoints. Composed gives 3601 where true is 2278.0\n",
      "/adaboostm1/weka.classifiers.rules.JRip on openmlid 1242 and seed 0 and 50000 trainpoints. Composed gives 3600.0 where true is 858.0\n",
      "/adaboostm1/logistic on openmlid 41065 and seed 0 and 1000 trainpoints. Composed gives 490 where true is 271.0\n",
      "/adaboostm1/dt on openmlid 41991 and seed 3 and 5000 trainpoints. Composed gives 304 where true is 635.0\n",
      "/randomsubspace/logistic on openmlid 4541 and seed 3 and 1000 trainpoints. Composed gives 606 where true is 433.0\n",
      "/adaboostm1/weka.classifiers.trees.J48 on openmlid 1242 and seed 1 and 50000 trainpoints. Composed gives 1188.0 where true is 648.0\n",
      "/bagging/dt on openmlid 273 and seed 0 and 50000 trainpoints. Composed gives 1233 where true is 1595.0\n",
      "/adaboostm1/weka.classifiers.functions.Logistic on openmlid 4541 and seed 0 and 5000 trainpoints. Composed gives 3600.0 where true is 3312.0\n",
      "/bagging/weka.classifiers.trees.LMT on openmlid 4541 and seed 1 and 2000 trainpoints. Composed gives 2595.0 where true is 2669.0\n",
      "/adaboostm1/weka.classifiers.trees.LMT on openmlid 4541 and seed 0 and 10000 trainpoints. Composed gives 449.0 where true is 515.0\n",
      "/bagging/weka.classifiers.functions.Logistic on openmlid 4541 and seed 1 and 1000 trainpoints. Composed gives 945.0 where true is 1037.0\n",
      "\n"
     ]
    }
   ],
   "source": [
    "deviationsWithPP = []\n",
    "deviationsWithoutPP = []\n",
    "plDF = plDF[pd.notnull(plDF[\"traintime\"])]\n",
    "plDF = plDF.query(\"traintime >= 10\")\n",
    "pbar = tqdm(total=len(plDF))\n",
    "for i, row in plDF.iterrows():\n",
    "    pbar.update(1)\n",
    "    ml = row[\"metalearner\"]\n",
    "    bl = row[\"baselearner\"]\n",
    "    if pd.notnull(ml):\n",
    "        mlName = ml.split(\".\")[-1].lower()\n",
    "        lRuntime = mlDF.query(\"openmlid == \" + str(row[\"openmlid\"]) + \" and seed == \" + str(row[\"seed\"]) + \" and fitsize == \" + str(row[\"datapoints\"]) + \" and algorithm == '\" + mlName + \"' and baselearner == '\" + bl + \"'\")\n",
    "        blName = bl\n",
    "    else:\n",
    "        blName = bl.split(\".\")[-1].lower()\n",
    "        if blName == \"decisionstump\":\n",
    "            blName = \"ds\"\n",
    "        if blName == \"decisiontable\":\n",
    "            blName = \"dt\"\n",
    "        if blName == \"multilayerperceptron\":\n",
    "            blName = \"ann\"\n",
    "        if blName == \"naivebayes\":\n",
    "            blName = \"nb\"\n",
    "        if blName == \"naivebayesmultinomial\":\n",
    "            blName = \"nbm\"\n",
    "        lRuntime = baDF.query(\"openmlid == \" + str(row[\"openmlid\"]) + \" and seed == \" + str(row[\"seed\"]) + \" and fitsize == \" + str(row[\"datapoints\"]) + \" and algorithm == '\" + blName + \"'\")\n",
    "\n",
    "    if len (lRuntime) > 0:\n",
    "        lTraintime = lRuntime[\"fittime\"].values[0]\n",
    "        lApplicationtime = lRuntime[\"applicationtime\"].values[0]\n",
    "        \n",
    "        pp = row[\"preprocessor\"]\n",
    "        if pd.notnull(pp):\n",
    "            if pp == \"CfsSubsetEval/bfs\":\n",
    "                ppName = \"bf/cfssubseteval\"\n",
    "            if pp == \"CfsSubsetEval/gsw\":\n",
    "                ppName = \"gsw/cfssubseteval\"\n",
    "            if pp == \"CorrelationAttributeEval\":\n",
    "                ppName = \"correlationAS\"\n",
    "            if pp == \"GainRatioAttributeEval\":\n",
    "                ppName = \"GainRatioAS\"\n",
    "            if pp == \"InfoGainAttributeEval\":\n",
    "                ppName = \"InfoGainAS\"\n",
    "            if pp == \"OneRAttributeEval\":\n",
    "                ppName = \"OneRAS\"\n",
    "            if pp == \"PrincipalComponents\":\n",
    "                ppName = \"PCAAS\"\n",
    "            if pp == \"ReliefFAttributeEval\":\n",
    "                ppName = \"ReliefFAS\"\n",
    "            if pp == \"SymmetricalUncertAttributeEval\":\n",
    "                ppName = \"SymmetricalUncertAS\"\n",
    "            if ppName == None:\n",
    "                raise Exception()\n",
    "            ppRuntime = baDF.query(\"openmlid == \" + str(row[\"openmlid\"]) + \" and seed == \" + str(row[\"seed\"]) + \" and fitsize == \" + str(row[\"datapoints\"]) + \" and algorithm == '\" + ppName + \"'\")\n",
    "            if len(ppRuntime) > 0:\n",
    "                maxAtts = np.max(ppRuntime[\"fitattributes\"].values)\n",
    "                ppRuntime = ppRuntime[ppRuntime[\"fitattributes\"] == maxAtts]\n",
    "                ppTraintime = ppRuntime[\"fittime\"].values[0]\n",
    "                ppApplicationtime = ppRuntime[\"applicationtime\"].values[0]\n",
    "        else:\n",
    "            ppTraintime = 0\n",
    "            ppApplicationtime = 0\n",
    "            ppName = \"\"\n",
    "        \n",
    "        totalTraintime = lTraintime + ppTraintime\n",
    "        totalApplicationtime = lApplicationtime + ppApplicationtime\n",
    "        totalComposedRuntime = totalTraintime# + totalApplicationtime\n",
    "        totalTrueRuntime = row[\"traintime\"]# + row[\"testtime\"]\n",
    "        plDesc = ppName + \"/\" + mlName + \"/\" + blName\n",
    "        if pd.isnull(pp):\n",
    "            dev = totalTrueRuntime-totalComposedRuntime\n",
    "            deviationsWithoutPP.append(dev)\n",
    "            if np.abs(dev) > 60:\n",
    "                print(plDesc + \" on openmlid \" + str(row[\"openmlid\"]) + \" and seed \" + str(row[\"seed\"]) + \" and \" + str(row[\"datapoints\"]) + \" trainpoints. Composed gives \" + str(totalComposedRuntime) + \" where true is \" + str(totalTrueRuntime))\n",
    "        else:\n",
    "            deviationsWithPP.append(totalTrueRuntime-totalComposedRuntime)\n",
    "           # print(str(row[\"openmlid\"]) + \"/\" + plDesc + \": \"+ str(totalComposedRuntime) + \"/\" + str(totalTrueRuntime))\n",
    "pbar.close()"
   ]
  },
  {
   "cell_type": "code",
   "execution_count": 143,
   "metadata": {},
   "outputs": [
    {
     "data": {
      "image/png": "[encoded data removed]",
      "text/plain": [
       "<Figure size 432x288 with 1 Axes>"
      ]
     },
     "metadata": {
      "needs_background": "light"
     },
     "output_type": "display_data"
    }
   ],
   "source": [
    "plt.boxplot([np.abs(deviationsWithPP), np.abs(deviationsWithoutPP)], 0, \"\")\n",
    "pass"
   ]
  },
  {
   "cell_type": "code",
   "execution_count": 117,
   "metadata": {},
   "outputs": [
    {
     "data": {
      "image/png": "[encoded data removed]",
      "text/plain": [
       "<Figure size 432x288 with 1 Axes>"
      ]
     },
     "metadata": {
      "needs_background": "light"
     },
     "output_type": "display_data"
    }
   ],
   "source": [
    "plt.hist(deviationsWithPP, bins=20, weights=np.ones(len(deviationsWithPP)) / len(deviationsWithPP))\n",
    "pass"
   ]
  },
  {
   "cell_type": "code",
   "execution_count": 116,
   "metadata": {},
   "outputs": [
    {
     "data": {
      "image/png": "[encoded data removed]",
      "text/plain": [
       "<Figure size 432x288 with 1 Axes>"
      ]
     },
     "metadata": {
      "needs_background": "light"
     },
     "output_type": "display_data"
    }
   ],
   "source": [
    "plt.hist(deviationsWithoutPP, bins=10, weights=np.ones(len(deviationsWithoutPP)) / len(deviationsWithoutPP))\n",
    "pass"
   ]
  },
  {
   "cell_type": "markdown",
   "metadata": {},
   "source": [
    "# 2. Predictions"
   ]
  },
  {
   "cell_type": "code",
   "execution_count": 417,
   "metadata": {},
   "outputs": [],
   "source": [
    "import time\n",
    "class PLPredictor:\n",
    "    \n",
    "    def __init__(self, numtrees = 100):\n",
    "        self.numtrees = numtrees\n",
    "        self.trueRuntimes = pd.DataFrame([], columns=[\"openmlid\", \"algorithm\", \"algorithmoptions\", \"fitsize\", \"fitattributes\", \"fittime\", \"applicationtimeperinstance\"])\n",
    "    \n",
    "    def tellRuntime(self, openmlid, basealgorithm, options, fitsize, fitattributes, fittime, applicationtimeperinstance):\n",
    "        self.trueRuntimes.loc[len(self.trueRuntimes)] = [openmlid, basealgorithm, options, fitsize, fitattributes, fittime, applicationtimeperinstance]\n",
    "    \n",
    "    def build(self, badataDefault, badataParametrized, mfdata, mldata):\n",
    "        models = {}\n",
    "        self.models = models\n",
    "        models[\"ba\"] = {}\n",
    "        self.datasets = list(pd.unique(badataDefault[\"openmlid\"]))\n",
    "        self.datasets.extend(pd.unique(badataParametrized[\"openmlid\"]))\n",
    "        self.datasets.extend(pd.unique(mfdata[\"openmlid\"]))\n",
    "        self.datasets.extend(pd.unique(mldata[\"openmlid\"]))\n",
    "        \n",
    "        \n",
    "        ###\n",
    "        ### Build models for meta-learner parameters\n",
    "        ###\n",
    "        metalearners = pd.unique(mldata[\"algorithm\"])\n",
    "        models[\"ml\"] = {}\n",
    "        for ml in metalearners:\n",
    "            models[\"ml\"][ml] = {}\n",
    "            trainDF = mldata[mldata[\"algorithm\"] ==  ml].copy()\n",
    "            trainDF[\"testpoints\"] = trainDF[\"numinstances\"] - trainDF[\"trainpoints\"]\n",
    "            trainDF[\"I\"] = [int(x.split(\" \")[x.split(\" \").index(\"-I\") + 1]) for x in trainDF[\"algorithmoptions\"]]\n",
    "            features = [\"trainpoints\", \"numattributes\", \"testpoints\", \"I\"]\n",
    "            \n",
    "            if ml in [\"adaboostm1\", \"bagging\", \"logitboost\", \"randomsubspace\"]:\n",
    "                trainDF[\"P\"] = [int(x.split(\" \")[x.split(\" \").index(\"-P\") + 1]) for x in trainDF[\"algorithmoptions\"]]\n",
    "                trainDF[\"instportion\"] = trainDF[\"trainpoints\"] * trainDF[\"P\"] / 100\n",
    "                trainDF[\"attportion\"] = np.round(trainDF[\"numattributes\"] * trainDF[\"P\"] / 100)\n",
    "                features.extend([\"P\", \"instportion\", \"attportion\"])\n",
    "                \n",
    "            for param in [\"builds\", \"numinstances_sub\", \"numattributes_sub\", \"predictioncalls_training\", \"predictioncalls_prediction\"]:\n",
    "                lr = sk.linear_model.LinearRegression()\n",
    "                X = trainDF[features]\n",
    "                Y = trainDF[param] if param != \"numattributes_sub\" or ml != \"randomsubspace\" else X[\"attportion\"].values\n",
    "                Xtrain, Xtest, Ytrain, Ytest = sk.model_selection.train_test_split(X, Y)\n",
    "                lr.fit(Xtrain, Ytrain)\n",
    "                p = lr.predict(Xtest)\n",
    "                errors = np.round(np.abs(p - Ytest))\n",
    "                if len(errors[errors > 0]) > 0:\n",
    "                    raise Exception(\"Could not train precise model for \" + param + \" of \" + ml + \". Prediction errors:\\n\" + str(errors))\n",
    "                models[\"ml\"][ml][param] = lr\n",
    "        \n",
    "        ###\n",
    "        ### Build runtime models for base algorithms under DEFAULT parametrization\n",
    "        ###\n",
    "        basealgorithms = pd.unique(badataDefault[\"algorithm\"])\n",
    "        for ba in tqdm(basealgorithms):\n",
    "            models[\"ba\"][ba] = {}\n",
    "            trainDF = badataDefault[badataDefault[\"algorithm\"] == ba]\n",
    "            \n",
    "            # model for train time\n",
    "            rf = sk.ensemble.RandomForestRegressor(n_estimators=self.numtrees)\n",
    "            X = trainDF[[\"fitsize\", \"fitattributes\"]]\n",
    "            Y = trainDF[\"fittime\"]\n",
    "            rf.fit(X, Y)\n",
    "            models[\"ba\"][ba][\"fit\"] = rf\n",
    "           \n",
    "\n",
    "            # model for prediction time\n",
    "            rf = sk.ensemble.RandomForestRegressor(n_estimators=self.numtrees)\n",
    "            trainDF = trainDF[[\"fitsize\", \"fitattributes\", \"applicationtime\", \"applicationsize\"]].dropna()\n",
    "            X = trainDF[[\"fitsize\", \"fitattributes\"]]\n",
    "            Y = 10000 * trainDF[\"applicationtime\"] / trainDF[\"applicationsize\"]\n",
    "            rf.fit(X, Y)\n",
    "            models[\"ba\"][ba][\"predict\"] = rf\n",
    "            \n",
    "        ###\n",
    "        ### Build runtime models for base algorithms under CUSTOM parametrization\n",
    "        ###\n",
    "        basealgorithms = pd.unique(badataParametrized[\"algorithm\"])\n",
    "        for ba in tqdm(basealgorithms):\n",
    "            models[\"ba\"][ba] = {}\n",
    "            trainDF = badataParametrized[badataParametrized[\"algorithm\"] == ba]\n",
    "            \n",
    "            # model for train time\n",
    "            rf = sk.ensemble.RandomForestRegressor(n_estimators=self.numtrees)\n",
    "            X = trainDF[[\"fitsize\", \"fitattributes\", \"<specific options of this base algorithm>\", \"<default runtime of this learner>\"]]\n",
    "            Y = trainDF[\"fittime\"]\n",
    "            rf.fit(X, Y)\n",
    "            models[\"ba\"][ba][\"fit\"] = rf\n",
    "           \n",
    "\n",
    "            # model for prediction time\n",
    "            rf = sk.ensemble.RandomForestRegressor(n_estimators=self.numtrees)\n",
    "            trainDF = trainDF[[\"fitsize\", \"fitattributes\", \"applicationtime\", \"applicationsize\"]].dropna()\n",
    "            X = trainDF[[\"fitsize\", \"fitattributes\"]]\n",
    "            Y = 10000 * trainDF[\"applicationtime\"] / trainDF[\"applicationsize\"]\n",
    "            rf.fit(X, Y)\n",
    "            models[\"ba\"][ba][\"predict\"] = rf\n",
    "        \n",
    "        ###\n",
    "        ### Build meta-feature transformation models for pre-processors\n",
    "        ###\n",
    "        preprocessors = [x for x in basealgorithms if x in ['bf/cfssubseteval', 'gsw/cfssubseteval', 'correlationAS', 'GainRatioAS', 'InfoGainAS', 'PCAAS', 'ReliefFAS', 'SymmetricalUncertAS', 'OneRAS']]\n",
    "        models[\"mf\"] = {}\n",
    "        for pp in preprocessors:\n",
    "            trainDF = mfdata[mfdata[\"algorithm\"] == pp]\n",
    "            rf = sk.ensemble.RandomForestRegressor(n_estimators=self.numtrees)\n",
    "            X = trainDF[[\"numattributes_before\"]]\n",
    "            Y = trainDF[\"numattributes_after\"]\n",
    "            rf.fit(X, Y)\n",
    "            models[\"mf\"][pp] = rf\n",
    "\n",
    "            \n",
    "    def predictRuntime(self, componentInstance, openmlid, Dtrain, Deval):\n",
    "    \n",
    "        if openmlid in self.datasets:\n",
    "            raise Exception(\"Biased predictor, has seen values for this dataset before!\")\n",
    "    \n",
    "        # initial meta features\n",
    "        numInstancesTrain = Dtrain.shape[0]\n",
    "        numAttributes = Dtrain.shape[1]\n",
    "        numInstancesEval = Deval.shape[0]\n",
    "\n",
    "        # get pre-processor runtime and modified number of features for learner\n",
    "        if componentInstance['preprocessor'] != None:\n",
    "            pp = componentInstance['preprocessor']\n",
    "            ppTrainPrediction = self.models[\"ba\"][pp][\"fit\"].predict(np.array([[numInstancesTrain, numAttributes]]))\n",
    "            ppApplyPrediction = self.models[\"ba\"][pp][\"predict\"].predict(np.array([[numInstancesEval, numAttributes]]))\n",
    "            ppRuntime = ppTrainPrediction + ppApplyPrediction\n",
    "            numAttributes = int(np.round(self.models[\"mf\"][pp].predict(np.array([[numAttributes]]))[0]))\n",
    "        else:\n",
    "            ppRuntime = 0\n",
    "            \n",
    "        # meta features for base learner: if there is a meta learner, prepare meta features for base learner\n",
    "        ml = componentInstance['metalearner']\n",
    "        if ml != None:\n",
    "            if type(ml) == str: # default parametrization\n",
    "                mlName = ml.split(\".\")[-1].lower()\n",
    "                mlOptions = \"-I 10\"\n",
    "                if mlName in [\"adaboostm1\", \"bagging\", \"logitboost\", \"randomsubspace\"]:\n",
    "                    mlOptions += \" -P 100\"\n",
    "                \n",
    "            else: # parametrized variant\n",
    "                mlOptions = ml[1]\n",
    "                mlName = ml[0]\n",
    "            I = int(mlOptions.split(\" \")[mlOptions.split(\" \").index(\"-I\") + 1])\n",
    "            P = int(mlOptions.split(\" \")[mlOptions.split(\" \").index(\"-P\") + 1]) if \"-P\" in mlOptions else None\n",
    "            features = [numInstancesTrain, numAttributes, numInstancesEval, I]\n",
    "            if P != None:\n",
    "                features.extend([P, numInstancesTrain * P / 100, numAttributes * P / 100])\n",
    "            features = [features]\n",
    "            \n",
    "            # predict params\n",
    "            k = np.round(self.models[\"ml\"][mlName][\"builds\"].predict(features)[0])\n",
    "            predictionCallsInTrainPhase = np.round(self.models[\"ml\"][mlName][\"predictioncalls_training\"].predict(features)[0])\n",
    "            predictionCallsInPredictPhase = np.round(self.models[\"ml\"][mlName][\"predictioncalls_prediction\"].predict(features)[0])\n",
    "            numInstancesTrain = np.round(self.models[\"ml\"][mlName][\"numinstances_sub\"].predict(features)[0])\n",
    "            numAttributes = np.round(self.models[\"ml\"][mlName][\"numattributes_sub\"].predict(features)[0])\n",
    "        \n",
    "        \n",
    "        # get parametrization of base learner\n",
    "        bl = componentInstance[\"baselearner\"]\n",
    "        if type(bl) == str: # if the bl has default parametrization\n",
    "            blName = bl.split(\".\")[-1].lower()\n",
    "            blOptions = None\n",
    "        else:\n",
    "            blName = bl[0].split(\".\")[-1].lower()\n",
    "            blOptions = bl[1]\n",
    "        \n",
    "        # get runtime for base learner \n",
    "        blTrueRuntimes = self.trueRuntimes.query(\"openmlid == \" + str(openmlid) + \" and algorithm == '\" + blName + \"' and fitsize == \" + str(numInstancesTrain) + \" and algorithmoptions == '\" + str(blOptions) + \"' and fitattributes == \" + str(numAttributes)).head(1)\n",
    "        if len(blTrueRuntimes) > 0: # if we already know the true runtime of this base learner (in the requested configuration), directly use it\n",
    "            blTrainPrediction = blTrueRuntimes[\"fittime\"].values[0]\n",
    "            blPredictPrediction = blTrueRuntimes[\"applicationtimeperinstance\"].values[0] * numInstancesEval \n",
    "        else:\n",
    "            if blOptions == None: # if the learner is used with default parametrization\n",
    "                blTrainPrediction = self.models[\"ba\"][bl][\"fit\"].predict(np.array([[numInstancesTrain, numAttributes]]))[0]\n",
    "                blPredictPrediction = self.models[\"ba\"][bl][\"predict\"].predict(np.array([[numInstancesTrain, numAttributes]]))[0]\n",
    "            else: # if the bl is parametrized, use the runtime of the default parametrization to obtain a prediction\n",
    "                blTrueRuntimesDefault = self.trueRuntimes.query(\"openmlid == \" + str(openmlid) + \" and algorithm == '\" + blName + \"' and fitsize == \" + str(numInstancesTrain) + \" and algorithmoptions == '' and fitattributes == \" + str(numAttributes)).head(1)\n",
    "                if len(blTrueRuntimesDefault) == 0:\n",
    "                    raise Exception(\"Cannot make prediction for parametrized base learner without the true runtime of that learner under default parametrization!\")\n",
    "                blTrueDefaultTraintime = blTrueRuntimesDefault[\"fittime\"].values[0]\n",
    "                blTrueDefaultPredicttime = blTrueRuntimesDefault[\"applicationtimeperinstance\"].values[0] * numInstancesEval\n",
    "                blTrainPrediction = self.models[\"bap\"][bl][\"fit\"].predict(np.array([[numInstancesTrain, numAttributes, blTrueDefaultTraintime]]))[0]\n",
    "                blPredictPrediction = self.models[\"bap\"][bl][\"predict\"].predict(np.array([[numInstancesTrain, numAttributes, blTrueDefaultPredicttime]]))[0]\n",
    "                \n",
    "            \n",
    "                \n",
    "        # if there is a meta learner, derive the actual learner runtime via \"the formula\", retrieving the params from the description\n",
    "        if ml != None:\n",
    "            lRuntime = k * (blTrainPrediction + 0 * (predictionCallsInTrainPhase + predictionCallsInPredictPhase) / 10000 * blPredictPrediction)\n",
    "        else:\n",
    "            lRuntime = blTrainPrediction# + numInstancesEval / 10000 * blPredictPrediction\n",
    "\n",
    "        return ppRuntime + lRuntime"
   ]
  },
  {
   "cell_type": "code",
   "execution_count": 418,
   "metadata": {},
   "outputs": [
    {
     "data": {
      "application/vnd.jupyter.widget-view+json": {
       "model_id": "d19f1ede0eef45edba9563306b934097",
       "version_major": 2,
       "version_minor": 0
      },
      "text/plain": [
       "HBox(children=(IntProgress(value=0, max=29), HTML(value='')))"
      ]
     },
     "metadata": {},
     "output_type": "display_data"
    },
    {
     "name": "stdout",
     "output_type": "stream",
     "text": [
      "\n"
     ]
    }
   ],
   "source": [
    "learner = PLPredictor(1)\n",
    "\n",
    "datasets = [ 1242,  4541, 41065, 41991,   273, 23512,   554]\n",
    "learner.build(baDF[~baDF[\"openmlid\"].isin(datasets)], mfDF[~mfDF[\"openmlid\"].isin(datasets)], meDF[~meDF[\"openmlid\"].isin(datasets)])"
   ]
  },
  {
   "cell_type": "code",
   "execution_count": 420,
   "metadata": {
    "scrolled": true
   },
   "outputs": [
    {
     "name": "stdout",
     "output_type": "stream",
     "text": [
      "DS 1242\n"
     ]
    },
    {
     "ename": "KeyError",
     "evalue": "'bap'",
     "output_type": "error",
     "traceback": [
      "\u001b[0;31m---------------------------------------------------------------------------\u001b[0m",
      "\u001b[0;31mKeyError\u001b[0m                                  Traceback (most recent call last)",
      "\u001b[0;32m<ipython-input-420-bc0b1e51dc2a>\u001b[0m in \u001b[0;36m<module>\u001b[0;34m\u001b[0m\n\u001b[1;32m     71\u001b[0m             \u001b[0;31m#blRuntimes = np.mean(baDF.query(\"algorithm == '\" + blName + \"' and openmlid == \" + str(dataset) + \" and fitsize == \" + str(len(mfTrain)))[[\"fittime\", \"applicationtime\"]], axis=0).values\u001b[0m\u001b[0;34m\u001b[0m\u001b[0;34m\u001b[0m\u001b[0;34m\u001b[0m\u001b[0m\n\u001b[1;32m     72\u001b[0m             \u001b[0mlearner\u001b[0m\u001b[0;34m.\u001b[0m\u001b[0mtellRuntime\u001b[0m\u001b[0;34m(\u001b[0m\u001b[0mdataset\u001b[0m\u001b[0;34m,\u001b[0m \u001b[0mblName\u001b[0m\u001b[0;34m,\u001b[0m \u001b[0;34m\"\"\u001b[0m\u001b[0;34m,\u001b[0m \u001b[0mlen\u001b[0m\u001b[0;34m(\u001b[0m\u001b[0mmfTrain\u001b[0m\u001b[0;34m)\u001b[0m\u001b[0;34m,\u001b[0m \u001b[0mmfTrain\u001b[0m\u001b[0;34m.\u001b[0m\u001b[0mshape\u001b[0m\u001b[0;34m[\u001b[0m\u001b[0;36m1\u001b[0m\u001b[0;34m]\u001b[0m\u001b[0;34m,\u001b[0m \u001b[0mblRuntimes\u001b[0m\u001b[0;34m[\u001b[0m\u001b[0;36m0\u001b[0m\u001b[0;34m]\u001b[0m\u001b[0;34m,\u001b[0m \u001b[0mblRuntimes\u001b[0m\u001b[0;34m[\u001b[0m\u001b[0;36m1\u001b[0m\u001b[0;34m]\u001b[0m \u001b[0;34m/\u001b[0m \u001b[0mlen\u001b[0m\u001b[0;34m(\u001b[0m\u001b[0mmfEval\u001b[0m\u001b[0;34m)\u001b[0m\u001b[0;34m)\u001b[0m\u001b[0;34m\u001b[0m\u001b[0;34m\u001b[0m\u001b[0m\n\u001b[0;32m---> 73\u001b[0;31m             \u001b[0mprediction\u001b[0m \u001b[0;34m=\u001b[0m \u001b[0mlearner\u001b[0m\u001b[0;34m.\u001b[0m\u001b[0mpredictRuntime\u001b[0m\u001b[0;34m(\u001b[0m\u001b[0mpipeline\u001b[0m\u001b[0;34m,\u001b[0m \u001b[0mdataset\u001b[0m\u001b[0;34m,\u001b[0m \u001b[0mmfTrain\u001b[0m\u001b[0;34m,\u001b[0m \u001b[0mmfEval\u001b[0m\u001b[0;34m)\u001b[0m\u001b[0;34m\u001b[0m\u001b[0;34m\u001b[0m\u001b[0m\n\u001b[0m\u001b[1;32m     74\u001b[0m             \u001b[0mtruth\u001b[0m \u001b[0;34m=\u001b[0m \u001b[0mtrueTraintime\u001b[0m\u001b[0;31m# + trueApplicationtime\u001b[0m\u001b[0;34m\u001b[0m\u001b[0;34m\u001b[0m\u001b[0m\n\u001b[1;32m     75\u001b[0m             \u001b[0;32mif\u001b[0m \u001b[0;32mnot\u001b[0m \u001b[0mnp\u001b[0m\u001b[0;34m.\u001b[0m\u001b[0misnan\u001b[0m\u001b[0;34m(\u001b[0m\u001b[0mtruth\u001b[0m\u001b[0;34m)\u001b[0m\u001b[0;34m:\u001b[0m\u001b[0;34m\u001b[0m\u001b[0;34m\u001b[0m\u001b[0m\n",
      "\u001b[0;32m<ipython-input-417-bbdf18923ca0>\u001b[0m in \u001b[0;36mpredictRuntime\u001b[0;34m(self, componentInstance, openmlid, Dtrain, Deval)\u001b[0m\n\u001b[1;32m    157\u001b[0m                 \u001b[0mblTrueDefaultTraintime\u001b[0m \u001b[0;34m=\u001b[0m \u001b[0mblTrueRuntimesDefault\u001b[0m\u001b[0;34m[\u001b[0m\u001b[0;34m\"fittime\"\u001b[0m\u001b[0;34m]\u001b[0m\u001b[0;34m.\u001b[0m\u001b[0mvalues\u001b[0m\u001b[0;34m[\u001b[0m\u001b[0;36m0\u001b[0m\u001b[0;34m]\u001b[0m\u001b[0;34m\u001b[0m\u001b[0;34m\u001b[0m\u001b[0m\n\u001b[1;32m    158\u001b[0m                 \u001b[0mblTrueDefaultPredicttime\u001b[0m \u001b[0;34m=\u001b[0m \u001b[0mblTrueRuntimesDefault\u001b[0m\u001b[0;34m[\u001b[0m\u001b[0;34m\"applicationtimeperinstance\"\u001b[0m\u001b[0;34m]\u001b[0m\u001b[0;34m.\u001b[0m\u001b[0mvalues\u001b[0m\u001b[0;34m[\u001b[0m\u001b[0;36m0\u001b[0m\u001b[0;34m]\u001b[0m \u001b[0;34m*\u001b[0m \u001b[0mnumInstancesEval\u001b[0m\u001b[0;34m\u001b[0m\u001b[0;34m\u001b[0m\u001b[0m\n\u001b[0;32m--> 159\u001b[0;31m                 \u001b[0mblTrainPrediction\u001b[0m \u001b[0;34m=\u001b[0m \u001b[0mself\u001b[0m\u001b[0;34m.\u001b[0m\u001b[0mmodels\u001b[0m\u001b[0;34m[\u001b[0m\u001b[0;34m\"bap\"\u001b[0m\u001b[0;34m]\u001b[0m\u001b[0;34m[\u001b[0m\u001b[0mbl\u001b[0m\u001b[0;34m]\u001b[0m\u001b[0;34m[\u001b[0m\u001b[0;34m\"fit\"\u001b[0m\u001b[0;34m]\u001b[0m\u001b[0;34m.\u001b[0m\u001b[0mpredict\u001b[0m\u001b[0;34m(\u001b[0m\u001b[0mnp\u001b[0m\u001b[0;34m.\u001b[0m\u001b[0marray\u001b[0m\u001b[0;34m(\u001b[0m\u001b[0;34m[\u001b[0m\u001b[0;34m[\u001b[0m\u001b[0mnumInstancesTrain\u001b[0m\u001b[0;34m,\u001b[0m \u001b[0mnumAttributes\u001b[0m\u001b[0;34m,\u001b[0m \u001b[0mblTrueDefaultTraintime\u001b[0m\u001b[0;34m]\u001b[0m\u001b[0;34m]\u001b[0m\u001b[0;34m)\u001b[0m\u001b[0;34m)\u001b[0m\u001b[0;34m[\u001b[0m\u001b[0;36m0\u001b[0m\u001b[0;34m]\u001b[0m\u001b[0;34m\u001b[0m\u001b[0;34m\u001b[0m\u001b[0m\n\u001b[0m\u001b[1;32m    160\u001b[0m                 \u001b[0mblPredictPrediction\u001b[0m \u001b[0;34m=\u001b[0m \u001b[0mself\u001b[0m\u001b[0;34m.\u001b[0m\u001b[0mmodels\u001b[0m\u001b[0;34m[\u001b[0m\u001b[0;34m\"bap\"\u001b[0m\u001b[0;34m]\u001b[0m\u001b[0;34m[\u001b[0m\u001b[0mbl\u001b[0m\u001b[0;34m]\u001b[0m\u001b[0;34m[\u001b[0m\u001b[0;34m\"predict\"\u001b[0m\u001b[0;34m]\u001b[0m\u001b[0;34m.\u001b[0m\u001b[0mpredict\u001b[0m\u001b[0;34m(\u001b[0m\u001b[0mnp\u001b[0m\u001b[0;34m.\u001b[0m\u001b[0marray\u001b[0m\u001b[0;34m(\u001b[0m\u001b[0;34m[\u001b[0m\u001b[0;34m[\u001b[0m\u001b[0mnumInstancesTrain\u001b[0m\u001b[0;34m,\u001b[0m \u001b[0mnumAttributes\u001b[0m\u001b[0;34m,\u001b[0m \u001b[0mblTrueDefaultPredicttime\u001b[0m\u001b[0;34m]\u001b[0m\u001b[0;34m]\u001b[0m\u001b[0;34m)\u001b[0m\u001b[0;34m)\u001b[0m\u001b[0;34m[\u001b[0m\u001b[0;36m0\u001b[0m\u001b[0;34m]\u001b[0m\u001b[0;34m\u001b[0m\u001b[0;34m\u001b[0m\u001b[0m\n\u001b[1;32m    161\u001b[0m \u001b[0;34m\u001b[0m\u001b[0m\n",
      "\u001b[0;31mKeyError\u001b[0m: 'bap'"
     ]
    }
   ],
   "source": [
    "# print ground truth\n",
    "errors = {}\n",
    "for dataset in datasets:\n",
    "    print(\"DS \" + str(dataset))\n",
    "    errors[dataset] = []\n",
    "    dsmf = pd.read_csv(\"data/metafeatures.csv\", delimiter=\";\").query(\"openmlid == \" + str(dataset))\n",
    "    numInstances = pd.unique(dsmf[\"datapoints_fold1\"] + dsmf[\"datapoints_fold2\"])[0]\n",
    "\n",
    "    for i, row in plDF.query(\"openmlid == \" + str(dataset)).iterrows():\n",
    "        if not pd.isna(row[\"preprocessor\"]):\n",
    "            continue\n",
    "        if pd.isna(row[\"metalearner\"]):\n",
    "            continue\n",
    "        \n",
    "\n",
    "        algorithm = row[\"baselearner\"]\n",
    "        numTrainInstances = row[\"datapoints\"]\n",
    "        numTestInstances = numInstances - numTrainInstances\n",
    "        trueTraintime = row[\"traintime\"]\n",
    "        trueApplicationtime = row[\"testtime\"]\n",
    "        numAttributes = int(pd.unique(dsmf[\"f1_numericattributesafterbinarization\"])[0])\n",
    "        \n",
    "        if not np.isnan(trueTraintime):\n",
    "            mfTrain = np.zeros((numTrainInstances, numAttributes))\n",
    "            mfEval = np.zeros((numInstances - numTrainInstances, numAttributes))\n",
    "            blName = algorithm.split(\".\")[-1].lower()\n",
    "            if blName == \"decisionstump\":\n",
    "                blName = \"ds\"\n",
    "            if blName == \"decisiontable\":\n",
    "                blName = \"dt\"\n",
    "            if blName == \"multilayerperceptron\":\n",
    "                blName = \"ann\"\n",
    "            if blName == \"naivebayes\":\n",
    "                blName = \"nb\"\n",
    "            if blName == \"naivebayesmultinomial\":\n",
    "                blName = \"nbm\"\n",
    "            pp = row[\"preprocessor\"]\n",
    "            if pd.isna(pp):\n",
    "                ppName = None\n",
    "            if pp == \"CfsSubsetEval/bfs\":\n",
    "                ppName = \"bf/cfssubseteval\"\n",
    "            if pp == \"CfsSubsetEval/gsw\":\n",
    "                ppName = \"gsw/cfssubseteval\"\n",
    "            if pp == \"CorrelationAttributeEval\":\n",
    "                ppName = \"correlationAS\"\n",
    "            if pp == \"GainRatioAttributeEval\":\n",
    "                ppName = \"GainRatioAS\"\n",
    "            if pp == \"InfoGainAttributeEval\":\n",
    "                ppName = \"InfoGainAS\"\n",
    "            if pp == \"OneRAttributeEval\":\n",
    "                ppName = \"OneRAS\"\n",
    "            if pp == \"PrincipalComponents\":\n",
    "                ppName = \"PCAAS\"\n",
    "            if pp == \"ReliefFAttributeEval\":\n",
    "                ppName = \"ReliefFAS\"\n",
    "            if pp == \"SymmetricalUncertAttributeEval\":\n",
    "                ppName = \"SymmetricalUncertAS\"\n",
    "                \n",
    "            \n",
    "            if pd.isna(row[\"metalearner\"]):\n",
    "                mlName = None\n",
    "            else:\n",
    "                mlName = row[\"metalearner\"]\n",
    "            pipeline = {\n",
    "                \"preprocessor\": ppName,\n",
    "                \"metalearner\": mlName,\n",
    "                \"baselearner\": (blName, \"-I 10\")\n",
    "            }\n",
    "            if ppName == \"OneRAS\":\n",
    "                continue\n",
    "            #blRuntimes = np.mean(baDF.query(\"algorithm == '\" + blName + \"' and openmlid == \" + str(dataset) + \" and fitsize == \" + str(len(mfTrain)))[[\"fittime\", \"applicationtime\"]], axis=0).values\n",
    "            learner.tellRuntime(dataset, blName, \"\", len(mfTrain), mfTrain.shape[1], blRuntimes[0], blRuntimes[1] / len(mfEval))\n",
    "            prediction = learner.predictRuntime(pipeline, dataset, mfTrain, mfEval)\n",
    "            truth = trueTraintime# + trueApplicationtime\n",
    "            if not np.isnan(truth):\n",
    "                error = np.abs(prediction - truth)\n",
    "                errors[dataset].append(error)\n",
    "                #if truth > 100 and error < 100:\n",
    "                #if np.max([truth, prediction]) > 15:\n",
    "                if not np.isnan(prediction):\n",
    "                    print(str(int(prediction)) + \"/\" + str(int(truth)) + \": \" + str(int(np.abs(truth - prediction))))"
   ]
  },
  {
   "cell_type": "code",
   "execution_count": 50,
   "metadata": {},
   "outputs": [
    {
     "data": {
      "text/plain": [
       "21129     1.0\n",
       "21968     1.0\n",
       "22239    17.0\n",
       "22818     1.0\n",
       "23075    29.0\n",
       "         ... \n",
       "31858    37.0\n",
       "32014    36.0\n",
       "32088    37.0\n",
       "32695    35.0\n",
       "32890    37.0\n",
       "Name: numattributes_after, Length: 80, dtype: float64"
      ]
     },
     "execution_count": 50,
     "metadata": {},
     "output_type": "execute_result"
    }
   ],
   "source": [
    "mfDF.query(\"openmlid == 1242 and algorithm == 'bf/cfssubseteval' and numattributes_before == 100\")[\"numattributes_after\"]"
   ]
  },
  {
   "cell_type": "code",
   "execution_count": 406,
   "metadata": {},
   "outputs": [
    {
     "name": "stdout",
     "output_type": "stream",
     "text": [
      "['1242: 628', '4541: 771', '41065: 377', '41991: 161', '273: 169', '23512: 506', '554: 13']\n"
     ]
    }
   ],
   "source": [
    "print([str(x) + \": \" + str(len(errors[x])) for x in errors])\n",
    "M = []\n",
    "for ds in errors:\n",
    "    N = []\n",
    "    for x in errors[ds]:\n",
    "        if not np.isnan(x):\n",
    "            N.append(x)\n",
    "    M.append(N)"
   ]
  },
  {
   "cell_type": "code",
   "execution_count": 407,
   "metadata": {},
   "outputs": [],
   "source": [
    "errorsWithoutKnowledge = M"
   ]
  },
  {
   "cell_type": "code",
   "execution_count": 408,
   "metadata": {},
   "outputs": [
    {
     "name": "stdout",
     "output_type": "stream",
     "text": [
      "False\n"
     ]
    },
    {
     "data": {
      "image/png": "[encoded data removed]",
      "text/plain": [
       "<Figure size 1440x720 with 2 Axes>"
      ]
     },
     "metadata": {
      "needs_background": "light"
     },
     "output_type": "display_data"
    }
   ],
   "source": [
    "print(errorsWithoutKnowledge == errorsWithKnowledge)\n",
    "fig, ax = plt.subplots(1,2, figsize=(20, 10))\n",
    "ax[0].boxplot(errorsWithoutKnowledge, 0)\n",
    "ax[0].set_ylim([0, 300])\n",
    "ax[1].boxplot(errorsWithKnowledge, 0)\n",
    "ax[1].set_ylim([0, 300])\n",
    "pass"
   ]
  },
  {
   "cell_type": "code",
   "execution_count": null,
   "metadata": {},
   "outputs": [],
   "source": []
  }
 ],
 "metadata": {
  "kernelspec": {
   "display_name": "Python 3",
   "language": "python",
   "name": "python3"
  },
  "language_info": {
   "codemirror_mode": {
    "name": "ipython",
    "version": 3
   },
   "file_extension": ".py",
   "mimetype": "text/x-python",
   "name": "python",
   "nbconvert_exporter": "python",
   "pygments_lexer": "ipython3",
   "version": "3.7.4"
  }
 },
 "nbformat": 4,
 "nbformat_minor": 2
}
